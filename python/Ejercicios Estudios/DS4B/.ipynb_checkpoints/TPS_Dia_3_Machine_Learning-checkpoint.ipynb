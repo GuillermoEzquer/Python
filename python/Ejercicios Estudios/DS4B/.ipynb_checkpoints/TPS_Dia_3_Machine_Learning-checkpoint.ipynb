{
 "cells": [
  {
   "cell_type": "markdown",
   "metadata": {
    "id": "ng-TR6qGrO13"
   },
   "source": [
    "# TU PRIMERA SEMANA COMO DATA SCIENTIST (POR DS4B)"
   ]
  },
  {
   "cell_type": "markdown",
   "metadata": {
    "id": "bOpscQ6drkRi"
   },
   "source": [
    "## DIA 1: ARRANQUE DEL PROYECTO"
   ]
  },
  {
   "cell_type": "markdown",
   "metadata": {
    "id": "MKUOBPsiKK1w"
   },
   "source": [
    "### CARGA DE LIBRERIAS"
   ]
  },
  {
   "cell_type": "code",
   "execution_count": null,
   "metadata": {
    "id": "mU92c65BKN-D"
   },
   "outputs": [],
   "source": [
    "import numpy as np\n",
    "import pandas as pd\n",
    "import matplotlib.pyplot as plt\n",
    "%matplotlib inline"
   ]
  },
  {
   "cell_type": "markdown",
   "metadata": {
    "id": "ANoZnP39rr1r"
   },
   "source": [
    "### CARGA DE LOS DATOS"
   ]
  },
  {
   "cell_type": "markdown",
   "metadata": {
    "id": "ejI_fsyyr_Nb"
   },
   "source": [
    "Antes de continuar deberás:\n",
    "\n",
    "* Haber descargado los datos de la plataforma\n",
    "\n",
    "* Haberlos descomprimido en alguna carpeta de tu disco duro\n",
    "\n",
    "* Haberlos subido a Colab mediante el explorador de archivos (icono de carpeta - icono de subir archivo)"
   ]
  },
  {
   "cell_type": "code",
   "execution_count": null,
   "metadata": {
    "id": "8g62zRfkx_qR"
   },
   "outputs": [],
   "source": [
    "df = pd.read_csv('Dataset/AbandonoEmpleados.csv', sep = ';', index_col= 'id', na_values='#N/D')"
   ]
  },
  {
   "cell_type": "code",
   "execution_count": null,
   "metadata": {
    "colab": {
     "base_uri": "https://localhost:8080/",
     "height": 675
    },
    "id": "SoGMoIJ9yD5H",
    "outputId": "3d96ece3-cdf6-4d9c-8597-c8309c10289f"
   },
   "outputs": [],
   "source": [
    "df"
   ]
  },
  {
   "cell_type": "markdown",
   "metadata": {
    "id": "_n5W761tzqL6"
   },
   "source": [
    "## DIA 2: BUSINESS ANALYTICS"
   ]
  },
  {
   "cell_type": "code",
   "execution_count": null,
   "metadata": {
    "colab": {
     "base_uri": "https://localhost:8080/"
    },
    "id": "UrGcBIadyE7u",
    "outputId": "e76ad99b-48d5-4139-c740-868eaf5f8eab"
   },
   "outputs": [],
   "source": [
    "df.info()"
   ]
  },
  {
   "cell_type": "markdown",
   "metadata": {
    "id": "vGiowxrFAISz"
   },
   "source": [
    "#### ANÁLISIS DE NULOS"
   ]
  },
  {
   "cell_type": "code",
   "execution_count": null,
   "metadata": {
    "colab": {
     "base_uri": "https://localhost:8080/"
    },
    "id": "fwC8vuktAsTg",
    "outputId": "789da5c1-f7af-4e8c-9796-aa64b427f9ee"
   },
   "outputs": [],
   "source": [
    "df.isna().sum().sort_values(ascending = False)"
   ]
  },
  {
   "cell_type": "markdown",
   "metadata": {
    "id": "DdU8ENJRBpRV"
   },
   "source": [
    "Conclusiones:\n",
    "\n",
    "* anos_en_puesto y conciliacion tienen demasiados nulos --> eliminar Variables\n",
    "* sexo, educacion, satisfaccion_trabajo e implicacion --> imputarlos tras EDA\n"
   ]
  },
  {
   "cell_type": "code",
   "execution_count": null,
   "metadata": {
    "colab": {
     "base_uri": "https://localhost:8080/",
     "height": 675
    },
    "id": "HO9wHZvHBk71",
    "outputId": "b0c779fe-ecf9-4151-c0ad-77a8883eabdd"
   },
   "outputs": [],
   "source": [
    "df.drop(columns = ['anos_en_puesto','conciliacion'], inplace = True)\n",
    "df"
   ]
  },
  {
   "cell_type": "markdown",
   "metadata": {
    "id": "3kbJJ0PTAoVz"
   },
   "source": [
    "#### EDA VARIABLES CATEGÓRICAS"
   ]
  },
  {
   "cell_type": "code",
   "execution_count": null,
   "metadata": {
    "id": "QGhuSREs0vJu"
   },
   "outputs": [],
   "source": [
    "def graficos_eda_categoricos(cat):\n",
    "    \n",
    "    #Calculamos el número de filas que necesitamos\n",
    "    from math import ceil\n",
    "    filas = ceil(cat.shape[1] / 2)\n",
    "\n",
    "    #Definimos el gráfico\n",
    "    f, ax = plt.subplots(nrows = filas, ncols = 2, figsize = (16, filas * 6))\n",
    "\n",
    "    #Aplanamos para iterar por el gráfico como si fuera de 1 dimensión en lugar de 2\n",
    "    ax = ax.flat \n",
    "\n",
    "    #Creamos el bucle que va añadiendo gráficos\n",
    "    for cada, variable in enumerate(cat):\n",
    "        cat[variable].value_counts().plot.barh(ax = ax[cada])\n",
    "        ax[cada].set_title(variable, fontsize = 12, fontweight = \"bold\")\n",
    "        ax[cada].tick_params(labelsize = 12)"
   ]
  },
  {
   "cell_type": "code",
   "execution_count": null,
   "metadata": {
    "colab": {
     "base_uri": "https://localhost:8080/",
     "height": 1000
    },
    "id": "ClVuJy0lJ8sW",
    "outputId": "969c9a01-d31a-4e08-bf45-ac3c98247031"
   },
   "outputs": [],
   "source": [
    "graficos_eda_categoricos(df.select_dtypes('O'))"
   ]
  },
  {
   "cell_type": "markdown",
   "metadata": {
    "id": "Kg_f76CjLN6e"
   },
   "source": [
    "Conclusiones:\n",
    "\n",
    "* mayor_edad solo tiene un valor --> eliminarla\n",
    "* Sobre las imputaciones pendientes de variables categóricas:\n",
    "  * educacion: imputar por 'Universitaria'\n",
    "  * satisfaccion_trabajo: imputar por 'Alta'\n",
    "  * implicacion: imputar por 'Alta'"
   ]
  },
  {
   "cell_type": "code",
   "execution_count": null,
   "metadata": {
    "id": "E_ZboNmON_ap"
   },
   "outputs": [],
   "source": [
    "df.drop(columns = 'mayor_edad', inplace = True)\n",
    "\n",
    "df['educacion'] = df['educacion'].fillna('Universitaria')\n",
    "\n",
    "df['satisfaccion_trabajo'] = df['satisfaccion_trabajo'].fillna('Alta')\n",
    "\n",
    "df['implicacion'] = df['implicacion'].fillna('Alta')"
   ]
  },
  {
   "cell_type": "markdown",
   "metadata": {
    "id": "nEskNMxCIdPf"
   },
   "source": [
    "#### EDA VARIABLES NUMÉRICAS"
   ]
  },
  {
   "cell_type": "code",
   "execution_count": null,
   "metadata": {
    "id": "IPhUIx26LwZ6"
   },
   "outputs": [],
   "source": [
    "def estadisticos_cont(num):\n",
    "    #Calculamos describe\n",
    "    estadisticos = num.describe().T\n",
    "    #Añadimos la mediana\n",
    "    estadisticos['median'] = num.median()\n",
    "    #Reordenamos para que la mediana esté al lado de la media\n",
    "    estadisticos = estadisticos.iloc[:,[0,1,8,2,3,4,5,6,7]]\n",
    "    #Lo devolvemos\n",
    "    return(estadisticos)"
   ]
  },
  {
   "cell_type": "code",
   "execution_count": null,
   "metadata": {
    "colab": {
     "base_uri": "https://localhost:8080/",
     "height": 520
    },
    "id": "qgaJY4NpLxgs",
    "outputId": "90cc363a-c84b-44d3-979f-d503af32f931"
   },
   "outputs": [],
   "source": [
    "estadisticos_cont(df.select_dtypes('number'))"
   ]
  },
  {
   "cell_type": "markdown",
   "metadata": {
    "id": "NloQ_DSDM1Hq"
   },
   "source": [
    "Conclusiones:\n",
    "\n",
    "* Empleados solo tiene un valor --> Eliminarla\n",
    "* Sexo tiene 4 valores --> Eliminarla\n",
    "* Horas quincena solo tiene una valor --> Eliminarla\n",
    "* De los nulos pendientes de imputación que sean numéricas solo está el sexo, pero como la vamos a eliminar ya no hay que imputar nada\n"
   ]
  },
  {
   "cell_type": "code",
   "execution_count": null,
   "metadata": {
    "colab": {
     "base_uri": "https://localhost:8080/",
     "height": 675
    },
    "id": "jqe97nOdAaZQ",
    "outputId": "01ab57a1-41ef-4adf-d215-ec65105e93d6"
   },
   "outputs": [],
   "source": [
    "df.drop(columns = ['empleados','sexo','horas_quincena'], inplace = True)\n",
    "df"
   ]
  },
  {
   "cell_type": "markdown",
   "metadata": {
    "id": "meBeR5CfirSz"
   },
   "source": [
    "### GENERACIÓN DE INSIGHTS"
   ]
  },
  {
   "cell_type": "markdown",
   "metadata": {
    "id": "0CrxNdimdwIq"
   },
   "source": [
    "### Cuantificación del problema: ¿Cual es la tasa de abandono?"
   ]
  },
  {
   "cell_type": "code",
   "execution_count": null,
   "metadata": {
    "colab": {
     "base_uri": "https://localhost:8080/"
    },
    "id": "YZl7o9Emeczy",
    "outputId": "fb0631d8-81b1-4b95-eec7-3ef9919c7639"
   },
   "outputs": [],
   "source": [
    "df.abandono.value_counts(normalize = True) * 100"
   ]
  },
  {
   "cell_type": "markdown",
   "metadata": {
    "id": "jexyQTrGFQN7"
   },
   "source": [
    "---\n",
    "<br/><br/>"
   ]
  },
  {
   "cell_type": "markdown",
   "metadata": {
    "id": "wyZxLjMceE6J"
   },
   "source": [
    "### ¿Hay un perfil tipo de empleado que deja la empresa?"
   ]
  },
  {
   "cell_type": "code",
   "execution_count": null,
   "metadata": {
    "id": "C48hLR5XtkAt"
   },
   "outputs": [],
   "source": [
    "# Transformar abandono a numérica\n",
    "df['abandono'] = df.abandono.map({'No':0, 'Yes':1})"
   ]
  },
  {
   "cell_type": "code",
   "execution_count": null,
   "metadata": {
    "colab": {
     "base_uri": "https://localhost:8080/",
     "height": 333
    },
    "id": "o-xjTS8tt7Zd",
    "outputId": "389d94cd-a630-4cd0-b1cb-397a500c475a"
   },
   "outputs": [],
   "source": [
    "# Analisis por educación\n",
    "temp = df.groupby('educacion').abandono.mean().sort_values(ascending = False) * 100\n",
    "temp.plot.bar();"
   ]
  },
  {
   "cell_type": "code",
   "execution_count": null,
   "metadata": {
    "colab": {
     "base_uri": "https://localhost:8080/",
     "height": 315
    },
    "id": "9TjTaF5XfFSk",
    "outputId": "243db760-6110-4f25-9811-50aeec334777"
   },
   "outputs": [],
   "source": [
    "# Analisis por estado civil\n",
    "temp = df.groupby('estado_civil').abandono.mean().sort_values(ascending = False) * 100\n",
    "temp.plot.bar();"
   ]
  },
  {
   "cell_type": "code",
   "execution_count": null,
   "metadata": {
    "colab": {
     "base_uri": "https://localhost:8080/",
     "height": 286
    },
    "id": "d5D_22uOfFnP",
    "outputId": "77c7f10c-76be-4af9-d21f-ed77d2dd2d2b"
   },
   "outputs": [],
   "source": [
    "# Analisis por horas extras\n",
    "temp = df.groupby('horas_extra').abandono.mean().sort_values(ascending = False) * 100\n",
    "temp.plot.bar();"
   ]
  },
  {
   "cell_type": "code",
   "execution_count": null,
   "metadata": {
    "colab": {
     "base_uri": "https://localhost:8080/",
     "height": 402
    },
    "id": "rasYrIusfS-S",
    "outputId": "bb3ae168-7146-41c7-d045-1ad90094e574"
   },
   "outputs": [],
   "source": [
    "# Analisis por puesto\n",
    "temp = df.groupby('puesto').abandono.mean().sort_values(ascending = False) * 100\n",
    "temp.plot.bar();"
   ]
  },
  {
   "cell_type": "code",
   "execution_count": null,
   "metadata": {
    "colab": {
     "base_uri": "https://localhost:8080/",
     "height": 276
    },
    "id": "okX00hnOy5P7",
    "outputId": "be50dedd-04dd-4d25-c428-e5403ba69803"
   },
   "outputs": [],
   "source": [
    "temp = df.groupby('abandono').salario_mes.mean()\n",
    "temp.plot.bar();"
   ]
  },
  {
   "cell_type": "markdown",
   "metadata": {
    "id": "te97fWZmz0LA"
   },
   "source": [
    "Conclusiones:\n",
    "\n",
    "El perfil medio del empleado que deja la empresa es:\n",
    "\n",
    "* Bajo nivel educativo\n",
    "* Soltero\n",
    "* Trabaja en ventas\n",
    "* Bajo salario\n",
    "* Alta carga de horas extras"
   ]
  },
  {
   "cell_type": "markdown",
   "metadata": {
    "id": "Rk9-IZqlFW9F"
   },
   "source": [
    "---\n",
    "<br/><br/>"
   ]
  },
  {
   "cell_type": "markdown",
   "metadata": {
    "id": "5s6QfEl2eE8n"
   },
   "source": [
    "### ¿Cual es el impacto económico de este problema?"
   ]
  },
  {
   "cell_type": "markdown",
   "metadata": {
    "id": "PJt5o41Vz4_Q"
   },
   "source": [
    "Según el estudio \"Cost of Turnover\" del Center for American Progress:\n",
    "\n",
    "* El coste de la fuga de los empleados que ganan menos de 30000 es del 16,1% de su salario\n",
    "\n",
    "* El coste de la fuga de los empleados que ganan entre 30000-50000 es del 19,7% de su salario\n",
    "\n",
    "* El coste de la fuga de los empleados que ganan entre 50000-75000 es del 20,4% de su salario\n",
    "\n",
    "* El coste de la fuga de los empleados que ganan más de 75000 es del 21% de su salario"
   ]
  },
  {
   "cell_type": "code",
   "execution_count": null,
   "metadata": {
    "colab": {
     "base_uri": "https://localhost:8080/",
     "height": 455
    },
    "id": "AmhtoZpded1F",
    "outputId": "4017d7c0-f6c4-4783-9e84-11768e6c1005"
   },
   "outputs": [],
   "source": [
    "# Creamos una nueva variable salario_ano del empleado\n",
    "df['salario_ano'] = df.salario_mes.transform(lambda x: x*12)\n",
    "df[['salario_mes','salario_ano']]"
   ]
  },
  {
   "cell_type": "code",
   "execution_count": null,
   "metadata": {
    "colab": {
     "base_uri": "https://localhost:8080/",
     "height": 675
    },
    "id": "wVE_YIi21Qab",
    "outputId": "b34df8e3-19fa-461e-c6c0-f181b5f2b671"
   },
   "outputs": [],
   "source": [
    "# Calculamos el impacto económico de cada empleado si deja la empresa\n",
    "\n",
    "#Lista de condiciones\n",
    "condiciones = [(df['salario_ano'] <= 30000),\n",
    "               (df['salario_ano'] > 30000) & (df['salario_ano'] <= 50000),\n",
    "               (df['salario_ano'] > 50000) & (df['salario_ano'] <= 75000),\n",
    "               (df['salario_ano'] > 75000)]\n",
    "\n",
    "#Lista de resultados\n",
    "resultados = [df.salario_ano * 0.161, df.salario_ano * 0.197, df.salario_ano * 0.204, df.salario_ano * 0.21]\n",
    "                \n",
    "#Aplicamos select\n",
    "df['impacto_abandono'] = np.select(condiciones,resultados, default = -999)\n",
    "\n",
    "df"
   ]
  },
  {
   "cell_type": "markdown",
   "metadata": {
    "id": "vNPXEKZaFY_B"
   },
   "source": [
    "---\n",
    "<br/><br/>"
   ]
  },
  {
   "cell_type": "markdown",
   "metadata": {
    "id": "075S55sF9opB"
   },
   "source": [
    "### ¿Cúanto nos ha costado este problema en el último año?"
   ]
  },
  {
   "cell_type": "code",
   "execution_count": null,
   "metadata": {
    "colab": {
     "base_uri": "https://localhost:8080/"
    },
    "id": "hSrt-HzC9mv-",
    "outputId": "a553c70f-c010-4691-d98c-6a016f847a4e"
   },
   "outputs": [],
   "source": [
    "coste_total =  df.loc[df.abandono == 1].impacto_abandono.sum()\n",
    "coste_total"
   ]
  },
  {
   "cell_type": "markdown",
   "metadata": {
    "id": "qeTgiZa4FaL7"
   },
   "source": [
    "---\n",
    "<br/><br/>"
   ]
  },
  {
   "cell_type": "markdown",
   "metadata": {
    "id": "a8IsGDAi-Hyz"
   },
   "source": [
    "### ¿Cuanto nos cuesta que los empleados no estén motivados? (pérdidas en implicación == Baja)"
   ]
  },
  {
   "cell_type": "code",
   "execution_count": null,
   "metadata": {
    "colab": {
     "base_uri": "https://localhost:8080/"
    },
    "id": "EXjbHHX_-Mfa",
    "outputId": "4c99cd80-2002-41f0-c145-444ee33960d2"
   },
   "outputs": [],
   "source": [
    "df.loc[(df.abandono == 1) & (df.implicacion == 'Baja')].impacto_abandono.sum()"
   ]
  },
  {
   "cell_type": "markdown",
   "metadata": {
    "id": "wBkLgTnLFb8D"
   },
   "source": [
    "---\n",
    "<br/><br/>"
   ]
  },
  {
   "cell_type": "markdown",
   "metadata": {
    "id": "Q7zYdeqjeFxZ"
   },
   "source": [
    "### ¿Cuanto dinero podríamos ahorrar fidelizando mejor a nuestros empleados?"
   ]
  },
  {
   "cell_type": "code",
   "execution_count": null,
   "metadata": {
    "colab": {
     "base_uri": "https://localhost:8080/"
    },
    "id": "Hh7mTitd1PeO",
    "outputId": "70ddd3db-ae16-4131-b764-cd924d4d7bc6"
   },
   "outputs": [],
   "source": [
    "print(f\"Reducir un 10% la fuga de empleados nos ahorraría {int(coste_total * 0.1)}$ cada año.\")\n",
    "\n",
    "print(f\"Reducir un 20% la fuga de empleados nos ahorraría {int(coste_total * 0.2)}$ cada año.\")\n",
    "\n",
    "print(f\"Reducir un 30% la fuga de empleados nos ahorraría {int(coste_total * 0.3)}$ cada año.\")"
   ]
  },
  {
   "cell_type": "markdown",
   "metadata": {
    "id": "XHJuqYi3EfAF"
   },
   "source": [
    "---\n",
    "<br/><br/>"
   ]
  },
  {
   "cell_type": "markdown",
   "metadata": {
    "id": "MEq1AklDAIkb"
   },
   "source": [
    "### Y podemos seguir trazando estrategias asociadas a los insights de abandono:\n",
    "\n",
    "Habíamos visto que los representantes de ventas son el puesto que más se van. ¿Tendría sentido hacer un plan específico para ellos? ¿Cual sería el coste ahorrado si disminuimos la fuga un 30%?\n",
    "\n",
    "Primero vamos a calcular el % de representantes de ventas que se han ido el año pasado"
   ]
  },
  {
   "cell_type": "code",
   "execution_count": null,
   "metadata": {
    "colab": {
     "base_uri": "https://localhost:8080/"
    },
    "id": "g2r6zMP-ivi6",
    "outputId": "3dd881ed-fdb8-4e14-d873-e2e12ec02c64"
   },
   "outputs": [],
   "source": [
    "total_repre_pasado = len(df.loc[df.puesto == 'Sales Representative'])\n",
    "abandonos_repre_pasado = len(df.loc[(df.puesto == 'Sales Representative') & (df.abandono == 1)])\n",
    "porc_pasado = abandonos_repre_pasado / total_repre_pasado\n",
    "\n",
    "porc_pasado"
   ]
  },
  {
   "cell_type": "markdown",
   "metadata": {
    "id": "rfhH4B8JBQE8"
   },
   "source": [
    "Ahora vamos a estimar cuántos se nos irán este año"
   ]
  },
  {
   "cell_type": "code",
   "execution_count": null,
   "metadata": {
    "colab": {
     "base_uri": "https://localhost:8080/"
    },
    "id": "jvq5UgbhAgzl",
    "outputId": "9bde0195-d741-45b3-ba4a-9207d0ae6c38"
   },
   "outputs": [],
   "source": [
    "total_repre_actual = len(df.loc[(df.puesto == 'Sales Representative') & (df.abandono == 0)])\n",
    "se_iran = int(total_repre_actual * porc_pasado)\n",
    "\n",
    "se_iran"
   ]
  },
  {
   "cell_type": "markdown",
   "metadata": {
    "id": "8smLxwFvBg-S"
   },
   "source": [
    "Sobre ellos cuantos podemos retener (hipótesis 30%) y cuanto dinero puede suponer"
   ]
  },
  {
   "cell_type": "code",
   "execution_count": null,
   "metadata": {
    "colab": {
     "base_uri": "https://localhost:8080/"
    },
    "id": "erIHye--Ah2r",
    "outputId": "5866ee98-b64c-4929-9034-9c5f2e581574"
   },
   "outputs": [],
   "source": [
    "retenemos = int(se_iran * 0.3)\n",
    "\n",
    "ahorramos = df.loc[(df.puesto == 'Sales Representative') & (df.abandono == 0),'impacto_abandono'].sum() * porc_pasado * 0.3\n",
    "\n",
    "print(f'Podemos retener {retenemos} representantes de ventas y ello supondría ahorrar {ahorramos}$.')"
   ]
  },
  {
   "cell_type": "markdown",
   "metadata": {
    "id": "ljSwS1GcDGJx"
   },
   "source": [
    "Este dato también es muy interesante porque nos permite determinar el presupuesto para acciones de retención por departamento o perfil.\n",
    "\n",
    "Ya que sabemos que podemos gastarnos hasta 37.000$ sólo en acciones específicas para retener a representantes de ventas y se estarían pagando sólas con la pérdida evitada"
   ]
  },
  {
   "cell_type": "markdown",
   "metadata": {
    "id": "FrM7XcL_FkJH"
   },
   "source": [
    "## DIA 3: MODELO DE MACHINE LEARNING"
   ]
  },
  {
   "cell_type": "code",
   "execution_count": null,
   "metadata": {
    "id": "bclYlbR-Um7F"
   },
   "outputs": [],
   "source": [
    "df_ml = df.copy()"
   ]
  },
  {
   "cell_type": "code",
   "execution_count": null,
   "metadata": {
    "colab": {
     "base_uri": "https://localhost:8080/"
    },
    "id": "xFsqMQETFomy",
    "outputId": "d602b847-909c-4924-b44e-98e460efc57a"
   },
   "outputs": [],
   "source": [
    "df_ml.info()"
   ]
  },
  {
   "cell_type": "markdown",
   "metadata": {
    "id": "axbTiVPqVVCi"
   },
   "source": [
    "### PREPARACIÓN DE LOS DATOS PARA LA MODELIZACIÓN"
   ]
  },
  {
   "cell_type": "markdown",
   "metadata": {
    "id": "8mYsL6d7Xm6M"
   },
   "source": [
    "#### Transformar todas las variables categóricas a númericas"
   ]
  },
  {
   "cell_type": "code",
   "execution_count": null,
   "metadata": {
    "id": "ZPcEKYukVRFh"
   },
   "outputs": [],
   "source": [
    "from sklearn.preprocessing import OneHotEncoder\n",
    "\n",
    "#Categóricas\n",
    "cat = df_ml.select_dtypes('O')\n",
    "\n",
    "#Instanciamos\n",
    "ohe = OneHotEncoder(sparse = False)\n",
    "\n",
    "#Entrenamos\n",
    "ohe.fit(cat)\n",
    "\n",
    "#Aplicamos\n",
    "cat_ohe = ohe.transform(cat)\n",
    "\n",
    "#Ponemos los nombres\n",
    "cat_ohe = pd.DataFrame(cat_ohe, columns = ohe.get_feature_names_out(input_features = cat.columns)).reset_index(drop = True)"
   ]
  },
  {
   "cell_type": "code",
   "execution_count": null,
   "metadata": {
    "colab": {
     "base_uri": "https://localhost:8080/",
     "height": 505
    },
    "id": "V1JEkTl1WDZ_",
    "outputId": "878e98e3-29b4-4d11-de23-1626d41d121d"
   },
   "outputs": [],
   "source": [
    "cat_ohe"
   ]
  },
  {
   "cell_type": "markdown",
   "metadata": {
    "id": "ubhpRMdsYWNu"
   },
   "source": [
    "#### Dataframe final"
   ]
  },
  {
   "cell_type": "markdown",
   "metadata": {
    "id": "nrvaJG3qe6yr"
   },
   "source": [
    "Seleccionamos las variables numéricas para poder juntarlas a las cat_hoe"
   ]
  },
  {
   "cell_type": "code",
   "execution_count": null,
   "metadata": {
    "id": "NZwC0Ezde5jo"
   },
   "outputs": [],
   "source": [
    "num = df.select_dtypes('number').reset_index(drop = True)"
   ]
  },
  {
   "cell_type": "markdown",
   "metadata": {
    "id": "xiJqVsr_fDws"
   },
   "source": [
    "Las juntamos todas en el dataframe final"
   ]
  },
  {
   "cell_type": "code",
   "execution_count": null,
   "metadata": {
    "colab": {
     "base_uri": "https://localhost:8080/",
     "height": 505
    },
    "id": "mpv3EUXrYYwn",
    "outputId": "44d6140d-eded-4ba1-e1b2-a07074dae866"
   },
   "outputs": [],
   "source": [
    "df_ml = pd.concat([cat_ohe,num], axis = 1)\n",
    "df_ml"
   ]
  },
  {
   "cell_type": "markdown",
   "metadata": {
    "id": "LLWZETF1YIBN"
   },
   "source": [
    "### DISEÑO DE LA MODELIZACIÓN"
   ]
  },
  {
   "cell_type": "markdown",
   "metadata": {
    "id": "vBBoayiUYJUL"
   },
   "source": [
    "#### Separación predictoras y target"
   ]
  },
  {
   "cell_type": "code",
   "execution_count": null,
   "metadata": {
    "id": "wWIJbGFgV-St"
   },
   "outputs": [],
   "source": [
    "x = df_ml.drop(columns='abandono')\n",
    "y = df_ml['abandono']"
   ]
  },
  {
   "cell_type": "markdown",
   "metadata": {
    "id": "eALiq4y7YNO2"
   },
   "source": [
    "#### Separación train y test"
   ]
  },
  {
   "cell_type": "code",
   "execution_count": null,
   "metadata": {
    "id": "2gQW8kUFYGi_"
   },
   "outputs": [],
   "source": [
    "from sklearn.model_selection import train_test_split\n",
    "\n",
    "train_x, test_x, train_y, test_y = train_test_split(x, y, test_size = 0.3) "
   ]
  },
  {
   "cell_type": "markdown",
   "metadata": {
    "id": "qhWL-YALZQCd"
   },
   "source": [
    "### ENTRENAMIENTO DEL MODELO SOBRE TRAIN"
   ]
  },
  {
   "cell_type": "code",
   "execution_count": null,
   "metadata": {
    "colab": {
     "base_uri": "https://localhost:8080/"
    },
    "id": "zVjoDDjiZRyi",
    "outputId": "eb83032f-e9a3-46ba-ffd3-ee87b409f134"
   },
   "outputs": [],
   "source": [
    "from sklearn.tree import DecisionTreeClassifier\n",
    "\n",
    "#Instanciar\n",
    "ac = DecisionTreeClassifier(max_depth=4)\n",
    "\n",
    "#Entrenar\n",
    "ac.fit(train_x,train_y)"
   ]
  },
  {
   "cell_type": "markdown",
   "metadata": {
    "id": "dWuWb35FZhtP"
   },
   "source": [
    "### PREDICCIÓN Y VALIDACIÓN SOBRE TEST"
   ]
  },
  {
   "cell_type": "code",
   "execution_count": null,
   "metadata": {
    "colab": {
     "base_uri": "https://localhost:8080/"
    },
    "id": "2G6CmymJZayz",
    "outputId": "e93c34e5-ced3-47d0-bd51-80ab75ec170b"
   },
   "outputs": [],
   "source": [
    "# Predicción\n",
    "pred = ac.predict_proba(test_x)[:, 1]\n",
    "pred[:20]"
   ]
  },
  {
   "cell_type": "code",
   "execution_count": null,
   "metadata": {
    "colab": {
     "base_uri": "https://localhost:8080/"
    },
    "id": "6XaPsY0hZpmZ",
    "outputId": "3985e54c-c0b8-4682-ac1b-67faf12bee4f"
   },
   "outputs": [],
   "source": [
    "# Evaluación\n",
    "from sklearn.metrics import roc_auc_score\n",
    "\n",
    "roc_auc_score(test_y,pred)"
   ]
  },
  {
   "cell_type": "markdown",
   "metadata": {
    "id": "L9soySd9fpjL"
   },
   "source": [
    "### INTERPRETACIÓN"
   ]
  },
  {
   "cell_type": "markdown",
   "metadata": {
    "id": "mVzh-EJ7ftwJ"
   },
   "source": [
    "#### Diagrama del árbol"
   ]
  },
  {
   "cell_type": "code",
   "execution_count": null,
   "metadata": {
    "colab": {
     "base_uri": "https://localhost:8080/",
     "height": 1000
    },
    "id": "q8ifmFHnZv4z",
    "outputId": "a9dd539f-2f36-4588-bf9f-64e1f2c55f1b"
   },
   "outputs": [],
   "source": [
    "from sklearn.tree import plot_tree\n",
    "\n",
    "plt.figure(figsize = (50,50))\n",
    "\n",
    "plot_tree(ac,\n",
    "          feature_names= test_x.columns,\n",
    "          impurity = False,\n",
    "          node_ids = True,\n",
    "          proportion = True,\n",
    "          rounded = True,\n",
    "          precision = 2);"
   ]
  },
  {
   "cell_type": "markdown",
   "metadata": {
    "id": "6jKG1jNKfypu"
   },
   "source": [
    "#### Importancia de las variables"
   ]
  },
  {
   "cell_type": "code",
   "execution_count": null,
   "metadata": {
    "colab": {
     "base_uri": "https://localhost:8080/",
     "height": 1000
    },
    "id": "UqPZ0tJVZ39D",
    "outputId": "349943e0-c666-4aba-e042-5a3e9cd93573"
   },
   "outputs": [],
   "source": [
    "pd.Series(ac.feature_importances_,index = test_x.columns).sort_values(ascending = False).plot(kind = 'bar', figsize = (30,20));"
   ]
  },
  {
   "cell_type": "markdown",
   "metadata": {
    "id": "gCitE353gxkt"
   },
   "source": [
    "### EXPLOTACIÓN"
   ]
  },
  {
   "cell_type": "markdown",
   "metadata": {
    "id": "J_N7aS2cg0nC"
   },
   "source": [
    "Incoporación del scoring al dataframe principal"
   ]
  },
  {
   "cell_type": "code",
   "execution_count": null,
   "metadata": {
    "colab": {
     "base_uri": "https://localhost:8080/",
     "height": 675
    },
    "id": "Lg5z1aiPfZky",
    "outputId": "79d437b5-d51e-48d4-ef71-c01001e00820"
   },
   "outputs": [],
   "source": [
    "df['scoring_abandono'] = ac.predict_proba(df_ml.drop(columns = 'abandono'))[:, 1]\n",
    "df"
   ]
  },
  {
   "cell_type": "markdown",
   "metadata": {
    "id": "-i-sLSBghxuK"
   },
   "source": [
    "Ejemplo de los 10 empleados con mayor probabilidad de dejar la empresa"
   ]
  },
  {
   "cell_type": "code",
   "execution_count": null,
   "metadata": {
    "colab": {
     "base_uri": "https://localhost:8080/",
     "height": 627
    },
    "id": "gMrkOv53g5CW",
    "outputId": "dfafdf8f-2785-483d-9c2d-bb8d9d01ab5a"
   },
   "outputs": [],
   "source": [
    "df.sort_values(by = 'scoring_abandono', ascending = False)[0:10]"
   ]
  },
  {
   "cell_type": "markdown",
   "metadata": {
    "id": "y5WG6HJviz9L"
   },
   "source": [
    "Ejemplo: riesgo de dejar la empresa por puesto de trabajo"
   ]
  },
  {
   "cell_type": "code",
   "execution_count": null,
   "metadata": {
    "colab": {
     "base_uri": "https://localhost:8080/",
     "height": 835
    },
    "id": "__iTU74ViGim",
    "outputId": "909d989b-5da9-48be-fe70-0c7278265a82"
   },
   "outputs": [],
   "source": [
    "df.boxplot(column='scoring_abandono', by='puesto', figsize = (20,12));"
   ]
  },
  {
   "cell_type": "markdown",
   "metadata": {
    "id": "u-lpP4Eu3TS0"
   },
   "source": [
    "### GUARDAR EL RESULTADO"
   ]
  },
  {
   "cell_type": "code",
   "execution_count": null,
   "metadata": {
    "colab": {
     "base_uri": "https://localhost:8080/",
     "height": 675
    },
    "id": "-qSRYdOK3eRU",
    "outputId": "95ca52fc-14b6-42ee-d782-50de1fd963d1"
   },
   "outputs": [],
   "source": [
    "df"
   ]
  },
  {
   "cell_type": "code",
   "execution_count": null,
   "metadata": {
    "colab": {
     "base_uri": "https://localhost:8080/",
     "height": 17
    },
    "id": "XrUfNyHRiq2X",
    "outputId": "29f3cb1b-fdab-46d2-aef6-051f0d0235ac"
   },
   "outputs": [],
   "source": [
    "from google.colab import files\n",
    "\n",
    "df.to_excel('abandono_con_scoring.xlsx') \n",
    "files.download('abandono_con_scoring.xlsx')"
   ]
  }
 ],
 "metadata": {
  "colab": {
   "collapsed_sections": [],
   "name": "TPS_Dia_2_Machine_Learning.ipynb",
   "provenance": [],
   "toc_visible": true
  },
  "kernelspec": {
   "display_name": "Python 3 (ipykernel)",
   "language": "python",
   "name": "python3"
  },
  "language_info": {
   "codemirror_mode": {
    "name": "ipython",
    "version": 3
   },
   "file_extension": ".py",
   "mimetype": "text/x-python",
   "name": "python",
   "nbconvert_exporter": "python",
   "pygments_lexer": "ipython3",
   "version": "3.9.7"
  }
 },
 "nbformat": 4,
 "nbformat_minor": 1
}
