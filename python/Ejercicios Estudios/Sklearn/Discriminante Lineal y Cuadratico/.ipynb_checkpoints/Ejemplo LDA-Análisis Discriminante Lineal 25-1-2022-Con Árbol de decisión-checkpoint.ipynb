{
 "cells": [
  {
   "cell_type": "markdown",
   "metadata": {},
   "source": [
    "class sklearn.discriminant_analysis.LinearDiscriminantAnalysis(solver='svd', shrinkage=None, priors=None, n_components=None, store_covariance=False, tol=0.0001, covariance_estimator=None)\n",
    "\n",
    "**Solver** {'svd', 'lsqr', 'eigen'}, predeterminado = 'svd'\n",
    "\"Svd\": descomposición de valores singulares (predeterminado). No calcula la matriz de covarianza, por lo tanto, este solucionador se recomienda para datos con una gran cantidad de características.\n",
    "\n",
    "\"Lsqr\": solución de mínimos cuadrados. Se puede combinar con un estimador de contracción o de covarianza personalizado.\n",
    "\n",
    "'Eigen': Descomposición de valores propios. Se puede combinar con un estimador de contracción o de covarianza personalizado.\n",
    "\n",
    "**shrinkage** encogimiento 'automático' o flotante, predeterminado = None\n",
    "Parámetro de contracción, valores posibles:\n",
    "None: sin contracción (predeterminado).\n",
    "\n",
    "\"Auto\": encogimiento automático usando el lema Ledoit-Wolf.\n",
    "\n",
    "flotar entre 0 y 1: parámetro de contracción fijo.\n",
    "\n",
    "Esto debe dejarse en None si se usa covariance_estimator. Tenga en cuenta que la contracción funciona solo con los solucionadores \"lsqr\" y \"eigen\".\n",
    "\n",
    "**Priors** array-like de forma (n_classes,), predeterminado = None\n",
    "La clase de probabilidades previas. De forma predeterminada, las proporciones de clase se infieren de los datos de entrenamiento.\n",
    "\n",
    "**n_components** int, predeterminado = None\n",
    "Número de componentes (<= min (n_classes - 1, n_features)) para la reducción de dimensionalidad. Si es None, se establecerá en min (n_classes - 1, n_features). Este parámetro solo afecta al método de transformación.\n",
    "\n",
    "**store_covariance** bool, predeterminado = False\n",
    "Si es True, calcule explícitamente la matriz de covarianza ponderada dentro de la clase cuando el solucionador sea \"svd\". La matriz siempre se calcula y almacena para los otros solucionadores.\n",
    "\n",
    "**tol** float, predeterminado = 1.0e-4\n",
    "Umbral absoluto para que un valor singular de X se considere significativo, utilizado para estimar el rango de X. Se descartan las dimensiones cuyos valores singulares no sean significativos. Solo se usa si el solucionador es \"svd\".\n",
    "\n",
    "**covariance_estimator** estimador de covarianza, predeterminado = None\n",
    "Si no es None, covariance_estimator se utiliza para estimar las matrices de covarianza en lugar de depender del estimador de covarianza empírico (con posible contracción). El objeto debe tener un método de ajuste y un atributo covariance_ como los estimadores en sklearn.covariance. si Ninguno, el parámetro de contracción impulsa la estimación.\n",
    "\n",
    "Debe dejarse en None si se utiliza la contracción. Tenga en cuenta que covariance_estimator solo funciona con los solucionadores \"lsqr\" y \"eigen\"."
   ]
  },
  {
   "cell_type": "markdown",
   "metadata": {},
   "source": [
    "El dataset que vamos a usar contiene información de vinos con características de cada clase como ser\n",
    "    \n",
    "    -Alcohol\n",
    "    -Ácido málico\n",
    "    -Ceniza\n",
    "    -Alcalinidad de ceniza\n",
    "    -Magnesio\n",
    "    -Fenoles totales\n",
    "    -Flavonoides\n",
    "    -Fenoles no flavonoides\n",
    "    -Proantocianinas\n",
    "    -Intensidad del color\n",
    "    -Matiz\n",
    "    -OD280 / OD315 de vinos diluidos\n",
    "    -Prolina"
   ]
  },
  {
   "cell_type": "code",
   "execution_count": 1,
   "metadata": {},
   "outputs": [],
   "source": [
    "from sklearn import datasets, metrics\n",
    "from sklearn.datasets import load_wine\n",
    "#https://scikit-learn.org/stable/datasets/index.html - Datasets disponibles en Python\n",
    "import pandas as pd\n",
    "import numpy as np\n",
    "#np.set_printoptions(precision=4)\n",
    "from matplotlib import pyplot as plt\n",
    "#import seaborn as sns\n",
    "#sns.set()\n",
    "#from sklearn.preprocessing import LabelEncoder\n",
    "from sklearn.tree import DecisionTreeClassifier\n",
    "from sklearn.model_selection import train_test_split\n",
    "from sklearn.metrics import confusion_matrix\n",
    "\n",
    "wine = datasets.load_wine()\n",
    "\n",
    "X_train, X_test, y_train, y_test = train_test_split(wine.data, wine.target, test_size=0.2, random_state=0)"
   ]
  },
  {
   "cell_type": "code",
   "execution_count": 2,
   "metadata": {},
   "outputs": [
    {
     "data": {
      "text/html": [
       "<div>\n",
       "<style scoped>\n",
       "    .dataframe tbody tr th:only-of-type {\n",
       "        vertical-align: middle;\n",
       "    }\n",
       "\n",
       "    .dataframe tbody tr th {\n",
       "        vertical-align: top;\n",
       "    }\n",
       "\n",
       "    .dataframe thead th {\n",
       "        text-align: right;\n",
       "    }\n",
       "</style>\n",
       "<table border=\"1\" class=\"dataframe\">\n",
       "  <thead>\n",
       "    <tr style=\"text-align: right;\">\n",
       "      <th></th>\n",
       "      <th>alcohol</th>\n",
       "      <th>malic_acid</th>\n",
       "      <th>ash</th>\n",
       "      <th>alcalinity_of_ash</th>\n",
       "      <th>magnesium</th>\n",
       "      <th>total_phenols</th>\n",
       "      <th>flavanoids</th>\n",
       "      <th>nonflavanoid_phenols</th>\n",
       "      <th>proanthocyanins</th>\n",
       "      <th>color_intensity</th>\n",
       "      <th>hue</th>\n",
       "      <th>od280/od315_of_diluted_wines</th>\n",
       "      <th>proline</th>\n",
       "    </tr>\n",
       "  </thead>\n",
       "  <tbody>\n",
       "    <tr>\n",
       "      <th>0</th>\n",
       "      <td>14.23</td>\n",
       "      <td>1.71</td>\n",
       "      <td>2.43</td>\n",
       "      <td>15.6</td>\n",
       "      <td>127.0</td>\n",
       "      <td>2.80</td>\n",
       "      <td>3.06</td>\n",
       "      <td>0.28</td>\n",
       "      <td>2.29</td>\n",
       "      <td>5.64</td>\n",
       "      <td>1.04</td>\n",
       "      <td>3.92</td>\n",
       "      <td>1065.0</td>\n",
       "    </tr>\n",
       "    <tr>\n",
       "      <th>1</th>\n",
       "      <td>13.20</td>\n",
       "      <td>1.78</td>\n",
       "      <td>2.14</td>\n",
       "      <td>11.2</td>\n",
       "      <td>100.0</td>\n",
       "      <td>2.65</td>\n",
       "      <td>2.76</td>\n",
       "      <td>0.26</td>\n",
       "      <td>1.28</td>\n",
       "      <td>4.38</td>\n",
       "      <td>1.05</td>\n",
       "      <td>3.40</td>\n",
       "      <td>1050.0</td>\n",
       "    </tr>\n",
       "    <tr>\n",
       "      <th>2</th>\n",
       "      <td>13.16</td>\n",
       "      <td>2.36</td>\n",
       "      <td>2.67</td>\n",
       "      <td>18.6</td>\n",
       "      <td>101.0</td>\n",
       "      <td>2.80</td>\n",
       "      <td>3.24</td>\n",
       "      <td>0.30</td>\n",
       "      <td>2.81</td>\n",
       "      <td>5.68</td>\n",
       "      <td>1.03</td>\n",
       "      <td>3.17</td>\n",
       "      <td>1185.0</td>\n",
       "    </tr>\n",
       "    <tr>\n",
       "      <th>3</th>\n",
       "      <td>14.37</td>\n",
       "      <td>1.95</td>\n",
       "      <td>2.50</td>\n",
       "      <td>16.8</td>\n",
       "      <td>113.0</td>\n",
       "      <td>3.85</td>\n",
       "      <td>3.49</td>\n",
       "      <td>0.24</td>\n",
       "      <td>2.18</td>\n",
       "      <td>7.80</td>\n",
       "      <td>0.86</td>\n",
       "      <td>3.45</td>\n",
       "      <td>1480.0</td>\n",
       "    </tr>\n",
       "    <tr>\n",
       "      <th>4</th>\n",
       "      <td>13.24</td>\n",
       "      <td>2.59</td>\n",
       "      <td>2.87</td>\n",
       "      <td>21.0</td>\n",
       "      <td>118.0</td>\n",
       "      <td>2.80</td>\n",
       "      <td>2.69</td>\n",
       "      <td>0.39</td>\n",
       "      <td>1.82</td>\n",
       "      <td>4.32</td>\n",
       "      <td>1.04</td>\n",
       "      <td>2.93</td>\n",
       "      <td>735.0</td>\n",
       "    </tr>\n",
       "  </tbody>\n",
       "</table>\n",
       "</div>"
      ],
      "text/plain": [
       "   alcohol  malic_acid   ash  alcalinity_of_ash  magnesium  total_phenols  \\\n",
       "0    14.23        1.71  2.43               15.6      127.0           2.80   \n",
       "1    13.20        1.78  2.14               11.2      100.0           2.65   \n",
       "2    13.16        2.36  2.67               18.6      101.0           2.80   \n",
       "3    14.37        1.95  2.50               16.8      113.0           3.85   \n",
       "4    13.24        2.59  2.87               21.0      118.0           2.80   \n",
       "\n",
       "   flavanoids  nonflavanoid_phenols  proanthocyanins  color_intensity   hue  \\\n",
       "0        3.06                  0.28             2.29             5.64  1.04   \n",
       "1        2.76                  0.26             1.28             4.38  1.05   \n",
       "2        3.24                  0.30             2.81             5.68  1.03   \n",
       "3        3.49                  0.24             2.18             7.80  0.86   \n",
       "4        2.69                  0.39             1.82             4.32  1.04   \n",
       "\n",
       "   od280/od315_of_diluted_wines  proline  \n",
       "0                          3.92   1065.0  \n",
       "1                          3.40   1050.0  \n",
       "2                          3.17   1185.0  \n",
       "3                          3.45   1480.0  \n",
       "4                          2.93    735.0  "
      ]
     },
     "execution_count": 2,
     "metadata": {},
     "output_type": "execute_result"
    }
   ],
   "source": [
    "X = pd.DataFrame(wine.data, columns=wine.feature_names)\n",
    "y = pd.Categorical.from_codes(wine.target, wine.target_names)\n",
    "\n",
    "X.shape\n",
    "X.head()\n"
   ]
  },
  {
   "cell_type": "code",
   "execution_count": 3,
   "metadata": {},
   "outputs": [
    {
     "name": "stdout",
     "output_type": "stream",
     "text": [
      "[class_0, class_0, class_0, class_0, class_0, ..., class_2, class_2, class_2, class_2, class_2]\n",
      "Length: 178\n",
      "Categories (3, object): [class_0, class_1, class_2]\n"
     ]
    }
   ],
   "source": [
    "print(y)"
   ]
  },
  {
   "cell_type": "markdown",
   "metadata": {},
   "source": [
    "Si exploramos un poquito el dataset vemos que tenemos diferentes atributos y 3 clases **(class_0, class_1, class_2)**"
   ]
  },
  {
   "cell_type": "markdown",
   "metadata": {},
   "source": [
    "El propósito del análisis discriminante lineal (LDA) es estimar la probabilidad de que una muestra pertenezca a una clase específica dada la muestra de datos en sí. Es decir, estimar Pr (C = c_ {i} | X = x), donde C = {c1, c2,cm} es el conjunto de identificadores de clase, X es el dominio y x es la muestra específica. La aplicación del teorema de Bayes da como resultado:"
   ]
  },
  {
   "attachments": {
    "image.png": {
     "image/png": "[encoded data removed]"
    }
   },
   "cell_type": "markdown",
   "metadata": {},
   "source": [
    "![image.png](attachment:image.png)"
   ]
  },
  {
   "attachments": {
    "image.png": {
     "image/png": "[encoded data removed]"
    }
   },
   "cell_type": "markdown",
   "metadata": {},
   "source": [
    "\n",
    "Pr (C = c_ {i}) se puede estimar mediante la frecuencia de la clase c_ {i} en los datos de entrenamiento. LDA asume que cada clase se puede modelar como una distribución gaussiana multivariante con cada clase compartiendo una matriz de covarianza común ![image.png](attachment:image.png)\n",
    "Es decir"
   ]
  },
  {
   "attachments": {
    "image.png": {
     "image/png": "[encoded data removed]"
    }
   },
   "cell_type": "markdown",
   "metadata": {},
   "source": [
    "![image.png](attachment:image.png)"
   ]
  },
  {
   "attachments": {
    "image.png": {
     "image/png": "[encoded data removed]"
    }
   },
   "cell_type": "markdown",
   "metadata": {},
   "source": [
    "donde mu{c{i}} y ![image.png](attachment:image.png) son el vector medio y la matriz de covarianza para la clase c{i} respectivamente. La matriz de covarianza compartida y los vectores medios se estiman a partir de los datos de entrenamiento."
   ]
  },
  {
   "cell_type": "markdown",
   "metadata": {},
   "source": [
    "Los centroides de las m clases se encuentran dentro de un subespacio afín de dimensión como máximo m-1. Los datos de entrada se pueden transformar en una dimensión inferior que sea óptima en términos de clasificación LDA. Un subespacio óptimo se define como aquel en el que la varianza entre clases se maximiza en relación con la varianza dentro de la clase. Es decir, la cantidad de superposición entre las clases se minimiza con respecto a la varianza de los centroides de clase y la matriz de covarianza compartida. Esto se puede representar maximizando el cociente de Rayleigh:"
   ]
  },
  {
   "attachments": {
    "image.png": {
     "image/png": "[encoded data removed]"
    }
   },
   "cell_type": "markdown",
   "metadata": {},
   "source": [
    "![image.png](attachment:image.png)"
   ]
  },
  {
   "cell_type": "markdown",
   "metadata": {},
   "source": [
    "Donde"
   ]
  },
  {
   "attachments": {
    "image.png": {
     "image/png": "[encoded data removed]"
    }
   },
   "cell_type": "markdown",
   "metadata": {},
   "source": [
    "![image.png](attachment:image.png)"
   ]
  },
  {
   "attachments": {
    "image.png": {
     "image/png": "[encoded data removed]"
    }
   },
   "cell_type": "markdown",
   "metadata": {},
   "source": [
    "es la matriz de dispersión dentro de la clase ![image.png](attachment:image.png)"
   ]
  },
  {
   "attachments": {
    "image.png": {
     "image/png": "[encoded data removed]"
    }
   },
   "cell_type": "markdown",
   "metadata": {},
   "source": [
    "s la matriz de dispersión entre clases, N{i} es el número de muestras que pertenecen a la clase c{i}, y {x} es el vector medio de todos los vectores de entrada. La solución a este problema de valores propios generalizados viene dada por el valor propio más grande de la matriz ![image.png](attachment:image.png); el vector propio correspondiente es el vector solución a"
   ]
  },
  {
   "cell_type": "code",
   "execution_count": 4,
   "metadata": {},
   "outputs": [
    {
     "name": "stdout",
     "output_type": "stream",
     "text": [
      "[[ 0.87668336  0.79842885  0.64412971 ...  0.0290166  -1.06412236\n",
      "  -0.2059076 ]\n",
      " [-0.36659076 -0.7581304  -0.39779858 ...  0.0290166  -0.73083231\n",
      "  -0.81704676]\n",
      " [-1.69689407 -0.34424759 -0.32337513 ...  0.90197362  0.51900537\n",
      "  -1.31256499]\n",
      " ...\n",
      " [-0.70227477 -0.68615078 -0.65828065 ...  0.46549511  0.51900537\n",
      "  -1.31256499]\n",
      " [ 1.13777093 -0.62316862 -0.91876272 ... -0.18922266  1.03282752\n",
      "   0.80164614]\n",
      " [ 1.4610222   0.12361993  0.42085937 ... -1.45501034 -1.2168803\n",
      "  -0.2719767 ]]\n"
     ]
    }
   ],
   "source": [
    "# Voy ajustar escalas\n",
    "from sklearn.preprocessing import StandardScaler\n",
    "sc = StandardScaler()\n",
    "X_train = sc.fit_transform(X_train)\n",
    "X_test = sc.transform(X_test)\n",
    "print(X_train)"
   ]
  },
  {
   "cell_type": "markdown",
   "metadata": {},
   "source": [
    "Reducción de dimencionalidad - LDA(n_components = 2)"
   ]
  },
  {
   "attachments": {
    "image.png": {
     "image/png": "[encoded data removed]"
    }
   },
   "cell_type": "markdown",
   "metadata": {},
   "source": [
    "Como hay m = 3 clases en este ejemplo, los datos se transforman de {R}^{13} a {R}^{2} conservando 2 componentes correspondientes a los 2 valores propios más grandes de ![image.png](attachment:image.png)."
   ]
  },
  {
   "cell_type": "code",
   "execution_count": 5,
   "metadata": {},
   "outputs": [],
   "source": [
    "# Voy a aplicar LDA\n",
    "from sklearn.discriminant_analysis import LinearDiscriminantAnalysis as LDA\n",
    "lda = LDA(n_components = 2)\n",
    "X_train = lda.fit_transform(X_train, y_train)\n",
    "X_test = lda.transform(X_test)"
   ]
  },
  {
   "cell_type": "code",
   "execution_count": 6,
   "metadata": {},
   "outputs": [
    {
     "name": "stdout",
     "output_type": "stream",
     "text": [
      "[[-3.57315552  1.94018924]\n",
      " [-0.85475898 -2.08182977]\n",
      " [-0.62173655 -3.06234453]\n",
      " [-4.80786412  2.00638739]\n",
      " [ 3.8579759   0.14987256]\n",
      " [ 3.59455458  1.24961706]\n",
      " [ 0.53772906 -3.0852704 ]\n",
      " [-0.04058577 -2.47312446]\n",
      " [-0.99835348 -3.36989668]\n",
      " [ 3.74095658  1.94844242]\n",
      " [-3.76035226  0.82126218]\n",
      " [ 0.15106412 -1.86820292]\n",
      " [-3.62762899  2.05460026]\n",
      " [ 3.94229781  2.80328429]\n",
      " [-3.33429017  0.73627798]\n",
      " [-3.90206871  1.03276135]\n",
      " [ 3.55835472  0.18783108]\n",
      " [-5.63175281  2.40524214]\n",
      " [ 5.56217254  0.85694946]\n",
      " [-0.23296188 -3.94615581]\n",
      " [-5.03141997  3.23313754]\n",
      " [-3.52861651  0.94605778]\n",
      " [ 1.17815662 -2.17294825]\n",
      " [-3.58320131  0.67947364]\n",
      " [-5.21649905  2.41090952]\n",
      " [ 3.01647841  1.24411621]\n",
      " [-1.86178658 -0.47484926]\n",
      " [-3.93816398 -0.2204059 ]\n",
      " [ 1.0836235  -3.32496762]\n",
      " [-1.8691488  -0.63362283]\n",
      " [-3.27717205  1.51263542]\n",
      " [ 0.47842302 -1.16766723]\n",
      " [ 4.14433134  1.37391708]\n",
      " [-2.45009727 -2.49336285]\n",
      " [ 1.20844631 -2.30679956]\n",
      " [-2.55631466 -0.98550214]\n",
      " [ 1.6091476   0.55066705]\n",
      " [ 5.52462148  2.19178828]\n",
      " [ 2.44685583 -2.28937848]\n",
      " [ 1.95474568 -2.02963924]\n",
      " [-5.54394234  1.5236766 ]\n",
      " [-5.74409562  1.85156779]\n",
      " [-1.13553056 -3.93865462]\n",
      " [ 1.2483554  -3.08106324]\n",
      " [ 0.00961488 -3.62708415]\n",
      " [-5.21418108  2.66981962]\n",
      " [-4.2290474   0.3886969 ]\n",
      " [ 3.94237521  0.76214343]\n",
      " [-5.30822458  2.18894363]\n",
      " [ 0.20862902 -3.05785486]\n",
      " [-0.47295413 -2.560251  ]\n",
      " [-0.46692465 -1.86886738]\n",
      " [ 1.05818513 -2.61576658]\n",
      " [-0.33551985 -3.26643922]\n",
      " [ 4.74777848  2.23081211]\n",
      " [ 2.80968166  1.32816126]\n",
      " [ 1.02804047 -2.60107642]\n",
      " [ 6.15432728  2.12945198]\n",
      " [-4.33944259  1.23494233]\n",
      " [ 3.63172128  0.54074799]\n",
      " [-4.79575236  1.25996976]\n",
      " [ 4.13914056  0.36020476]\n",
      " [ 3.94468876  3.0153646 ]\n",
      " [ 0.42472714 -2.30200526]\n",
      " [ 5.17777666  2.36899585]\n",
      " [ 1.3044572  -2.87041347]\n",
      " [-0.06991014 -2.78082083]\n",
      " [ 4.98245326  3.83183665]\n",
      " [-4.3064623   2.4129711 ]\n",
      " [-0.29208614 -2.06937039]\n",
      " [ 5.0934408   3.0899463 ]\n",
      " [-0.61101399  0.17866792]\n",
      " [-1.12081287 -2.87291369]\n",
      " [ 0.77339273 -2.03777551]\n",
      " [-2.57603424  0.08537633]\n",
      " [ 4.29104423  2.28661799]\n",
      " [-5.255722    0.61832811]\n",
      " [-5.7318737   0.19267558]\n",
      " [ 6.24884704  3.55128212]\n",
      " [ 5.38587866  1.77559442]\n",
      " [-1.31025756 -2.52845345]\n",
      " [-5.00526015  2.31115606]\n",
      " [ 4.31499585  1.99154644]\n",
      " [ 3.92894005  2.13127776]\n",
      " [ 0.05838671 -2.60549973]\n",
      " [ 0.42566332 -1.68426706]\n",
      " [ 3.5253992   0.16028802]\n",
      " [ 4.42913323  2.47869828]\n",
      " [ 2.85063973  1.1163819 ]\n",
      " [-4.46460374  3.55045935]\n",
      " [ 1.21751159 -1.31441447]\n",
      " [ 4.94290391  1.29321013]\n",
      " [ 1.70880192 -2.10638157]\n",
      " [-3.42314438  1.21989584]\n",
      " [ 5.58393165  2.49598525]\n",
      " [ 0.71859407 -2.67293812]\n",
      " [-4.01611408  0.13560479]\n",
      " [-4.64009352 -0.06178578]\n",
      " [ 3.85066489  1.66509736]\n",
      " [ 3.47123425 -0.07349273]\n",
      " [-4.17391188  0.51767626]\n",
      " [ 4.09941682  3.11353194]\n",
      " [-4.29592104  0.18486038]\n",
      " [ 0.15570245 -3.78905263]\n",
      " [ 3.29789207  1.48134709]\n",
      " [ 4.0655232   1.02548943]\n",
      " [ 0.63468603 -2.68007872]\n",
      " [ 4.4641561   2.38128912]\n",
      " [-4.52246935  1.96313747]\n",
      " [-0.79712615 -3.04743012]\n",
      " [-4.91056287  1.22473167]\n",
      " [ 3.77150311  0.30882908]\n",
      " [-3.5444653   1.05962644]\n",
      " [-4.36398757  1.78816415]\n",
      " [-4.86008035  2.32823762]\n",
      " [ 3.46481941  1.07890379]\n",
      " [ 1.65664035 -3.72251678]\n",
      " [-0.26593072 -2.87995582]\n",
      " [ 0.66345544 -2.36083579]\n",
      " [ 0.33965319 -5.76922451]\n",
      " [-5.14221842  1.93740967]\n",
      " [-5.75746454  2.94776345]\n",
      " [-0.42253477 -1.5887479 ]\n",
      " [-0.96267148 -1.57482982]\n",
      " [ 2.5640305   0.20647539]\n",
      " [ 2.30398129 -1.49865287]\n",
      " [-4.91741587  2.32620455]\n",
      " [-5.20879938  2.96660159]\n",
      " [ 3.60895143  2.468315  ]\n",
      " [ 4.58647662  2.42583146]\n",
      " [-2.89493473  1.15627605]\n",
      " [ 0.09551518 -1.90444969]\n",
      " [-1.30043304 -0.87538895]\n",
      " [-0.16805348 -3.21257614]\n",
      " [ 3.19016989  1.66680508]\n",
      " [ 2.08858151  0.83647089]\n",
      " [ 4.25960623  1.54637835]\n",
      " [-1.68647094 -3.83427605]\n",
      " [ 0.9020576  -2.62989337]\n",
      " [ 0.19105618 -3.66017053]\n",
      " [ 4.20632725  0.8310719 ]\n",
      " [-4.52910794  3.07839306]]\n"
     ]
    }
   ],
   "source": [
    "print(X_train)"
   ]
  },
  {
   "cell_type": "code",
   "execution_count": 7,
   "metadata": {},
   "outputs": [
    {
     "name": "stdout",
     "output_type": "stream",
     "text": [
      "[0 2 1 0 1 0 0 2 1 1 2 2 0 1 2 1 0 0 1 0 1 0 0 1 1 1 1 1 1 2 0 0 1 0 0 0]\n"
     ]
    }
   ],
   "source": [
    "#Hago la predicción con LDA\n",
    "from sklearn.discriminant_analysis import LinearDiscriminantAnalysis\n",
    "classifier = LinearDiscriminantAnalysis()\n",
    "classifier.fit(X_train, y_train)\n",
    "y_pred = classifier.predict(X_test)\n",
    "print(y_pred)"
   ]
  },
  {
   "cell_type": "code",
   "execution_count": 8,
   "metadata": {},
   "outputs": [
    {
     "name": "stdout",
     "output_type": "stream",
     "text": [
      "[[14  0  0]\n",
      " [ 1 15  0]\n",
      " [ 0  0  6]]\n"
     ]
    }
   ],
   "source": [
    "# Creo la matriz de Confusión\n",
    "from sklearn.metrics import confusion_matrix\n",
    "cm = confusion_matrix(y_test, y_pred)\n",
    "print(cm)"
   ]
  },
  {
   "cell_type": "code",
   "execution_count": 9,
   "metadata": {},
   "outputs": [
    {
     "data": {
      "image/png": "[encoded data removed]",
      "text/plain": [
       "<Figure size 432x288 with 2 Axes>"
      ]
     },
     "metadata": {
      "needs_background": "light"
     },
     "output_type": "display_data"
    }
   ],
   "source": [
    "#Ojo acá fijense que tengan scikit-learn-0.22 con versión inferior da error no está disponible este paquete. Para instalar\n",
    "#Desde Conda conda install scikit-learn==0.22 o pip install scikit-learn==0.22. Para python 3.6.3 o superior.-\n",
    "from sklearn.metrics import plot_confusion_matrix\n",
    "\n",
    "plot_confusion_matrix(classifier, X_test, y_test)\n",
    "plt.show()"
   ]
  },
  {
   "cell_type": "code",
   "execution_count": 10,
   "metadata": {},
   "outputs": [
    {
     "data": {
      "text/plain": [
       "array([0.93333333, 1.        , 1.        ])"
      ]
     },
     "execution_count": 10,
     "metadata": {},
     "output_type": "execute_result"
    }
   ],
   "source": [
    "#Cálculo de Precisión\n",
    "from sklearn.metrics import precision_score\n",
    "precision_score(y_test, y_pred, average=None)\n",
    "#Debo calcular las otras - "
   ]
  },
  {
   "cell_type": "code",
   "execution_count": 11,
   "metadata": {
    "scrolled": true
   },
   "outputs": [
    {
     "name": "stderr",
     "output_type": "stream",
     "text": [
      "*c* argument looks like a single numeric RGB or RGBA sequence, which should be avoided as value-mapping will have precedence in case its length matches with *x* & *y*.  Please use the *color* keyword-argument or provide a 2-D array with a single row if you intend to specify the same RGB or RGBA value for all points.\n",
      "*c* argument looks like a single numeric RGB or RGBA sequence, which should be avoided as value-mapping will have precedence in case its length matches with *x* & *y*.  Please use the *color* keyword-argument or provide a 2-D array with a single row if you intend to specify the same RGB or RGBA value for all points.\n",
      "*c* argument looks like a single numeric RGB or RGBA sequence, which should be avoided as value-mapping will have precedence in case its length matches with *x* & *y*.  Please use the *color* keyword-argument or provide a 2-D array with a single row if you intend to specify the same RGB or RGBA value for all points.\n"
     ]
    },
    {
     "data": {
      "image/png": "[encoded data removed]",
      "text/plain": [
       "<Figure size 432x288 with 1 Axes>"
      ]
     },
     "metadata": {
      "needs_background": "light"
     },
     "output_type": "display_data"
    }
   ],
   "source": [
    "# Visualización de los datos de entrenamiento\n",
    "from matplotlib.colors import ListedColormap\n",
    "X_set, y_set = X_train, y_train\n",
    "X1, X2 = np.meshgrid(np.arange(start = X_set[:, 0].min() - 1, stop = X_set[:, 0].max() + 1, step = 0.01),\n",
    "                     np.arange(start = X_set[:, 1].min() - 1, stop = X_set[:, 1].max() + 1, step = 0.01))\n",
    "plt.contourf(X1, X2, classifier.predict(np.array([X1.ravel(), X2.ravel()]).T).reshape(X1.shape),\n",
    "             alpha = 0.75, cmap = ListedColormap(('red', 'green', 'blue')))\n",
    "plt.xlim(X1.min(), X1.max())\n",
    "plt.ylim(X2.min(), X2.max())\n",
    "for i, j in enumerate(np.unique(y_set)):\n",
    "    plt.scatter(X_set[y_set == j, 0], X_set[y_set == j, 1],\n",
    "                c = ListedColormap(('red', 'green', 'blue'))(i), label = j)\n",
    "plt.title('(Conjunto de Entrenamiento)')\n",
    "plt.xlabel('LD1')\n",
    "plt.ylabel('LD2')\n",
    "plt.legend()\n",
    "plt.show()"
   ]
  },
  {
   "cell_type": "code",
   "execution_count": 12,
   "metadata": {},
   "outputs": [
    {
     "name": "stderr",
     "output_type": "stream",
     "text": [
      "*c* argument looks like a single numeric RGB or RGBA sequence, which should be avoided as value-mapping will have precedence in case its length matches with *x* & *y*.  Please use the *color* keyword-argument or provide a 2-D array with a single row if you intend to specify the same RGB or RGBA value for all points.\n",
      "*c* argument looks like a single numeric RGB or RGBA sequence, which should be avoided as value-mapping will have precedence in case its length matches with *x* & *y*.  Please use the *color* keyword-argument or provide a 2-D array with a single row if you intend to specify the same RGB or RGBA value for all points.\n",
      "*c* argument looks like a single numeric RGB or RGBA sequence, which should be avoided as value-mapping will have precedence in case its length matches with *x* & *y*.  Please use the *color* keyword-argument or provide a 2-D array with a single row if you intend to specify the same RGB or RGBA value for all points.\n"
     ]
    },
    {
     "data": {
      "image/png": "[encoded data removed]",
      "text/plain": [
       "<Figure size 432x288 with 1 Axes>"
      ]
     },
     "metadata": {
      "needs_background": "light"
     },
     "output_type": "display_data"
    }
   ],
   "source": [
    "# Visualización de los resultados de prueba\n",
    "from matplotlib.colors import ListedColormap\n",
    "X_set, y_set = X_test, y_test\n",
    "X1, X2 = np.meshgrid(np.arange(start = X_set[:, 0].min() - 1, stop = X_set[:, 0].max() + 1, step = 0.01),\n",
    "                     np.arange(start = X_set[:, 1].min() - 1, stop = X_set[:, 1].max() + 1, step = 0.01))\n",
    "plt.contourf(X1, X2, classifier.predict(np.array([X1.ravel(), X2.ravel()]).T).reshape(X1.shape),\n",
    "             alpha = 0.75, cmap = ListedColormap(('red', 'green', 'blue')))\n",
    "plt.xlim(X1.min(), X1.max())\n",
    "plt.ylim(X2.min(), X2.max())\n",
    "for i, j in enumerate(np.unique(y_set)):\n",
    "    plt.scatter(X_set[y_set == j, 0], X_set[y_set == j, 1],\n",
    "                c = ListedColormap(('red', 'green', 'blue'))(i), label = j)\n",
    "plt.title('(Conjunto de Prueba)')\n",
    "plt.xlabel('LD1')\n",
    "plt.ylabel('LD2')\n",
    "plt.legend()\n",
    "plt.show()"
   ]
  },
  {
   "cell_type": "code",
   "execution_count": 13,
   "metadata": {},
   "outputs": [
    {
     "name": "stdout",
     "output_type": "stream",
     "text": [
      "[0 2 1 0 1 1 0 2 1 1 2 2 0 1 2 1 0 0 1 0 1 0 0 1 1 1 1 1 1 2 0 0 1 0 0 1]\n"
     ]
    }
   ],
   "source": [
    "#Comparación de Predicción con Árbol de Decisión\n",
    "from sklearn.tree import DecisionTreeClassifier\n",
    "\n",
    "clasificacion_arbol = DecisionTreeClassifier()\n",
    "classifier.fit(X_train, y_train)\n",
    "y_pred = classifier.predict(X_test)\n",
    "print(y_pred)\n",
    "\n",
    "#Podemos luego hacer las visualicaciones para la predicción con el árbol de decisión"
   ]
  },
  {
   "cell_type": "code",
   "execution_count": 23,
   "metadata": {},
   "outputs": [
    {
     "data": {
      "image/png": "[encoded data removed]",
      "text/plain": [
       "<Figure size 432x288 with 2 Axes>"
      ]
     },
     "metadata": {
      "needs_background": "light"
     },
     "output_type": "display_data"
    }
   ],
   "source": [
    "plot_confusion_matrix(classifier, X_test, y_test)\n",
    "plt.show()"
   ]
  },
  {
   "cell_type": "code",
   "execution_count": 24,
   "metadata": {},
   "outputs": [
    {
     "data": {
      "text/plain": [
       "array([1.        , 0.94117647, 1.        ])"
      ]
     },
     "execution_count": 24,
     "metadata": {},
     "output_type": "execute_result"
    }
   ],
   "source": [
    "#Cálculo de Precisión\n",
    "from sklearn.metrics import precision_score\n",
    "precision_score(y_test, y_pred, average=None)"
   ]
  },
  {
   "cell_type": "code",
   "execution_count": 25,
   "metadata": {},
   "outputs": [
    {
     "data": {
      "text/plain": [
       "array([0.92857143, 1.        , 1.        ])"
      ]
     },
     "execution_count": 25,
     "metadata": {},
     "output_type": "execute_result"
    }
   ],
   "source": [
    "from sklearn.metrics import recall_score\n",
    "recall_score(y_test, y_pred, average=None)"
   ]
  },
  {
   "cell_type": "code",
   "execution_count": 26,
   "metadata": {},
   "outputs": [
    {
     "data": {
      "text/plain": [
       "0.9722222222222222"
      ]
     },
     "execution_count": 26,
     "metadata": {},
     "output_type": "execute_result"
    }
   ],
   "source": [
    "from sklearn.metrics import accuracy_score\n",
    "accuracy_score(y_test, y_pred)"
   ]
  },
  {
   "cell_type": "code",
   "execution_count": 27,
   "metadata": {},
   "outputs": [
    {
     "data": {
      "text/plain": [
       "array([0.96296296, 0.96969697, 1.        ])"
      ]
     },
     "execution_count": 27,
     "metadata": {},
     "output_type": "execute_result"
    }
   ],
   "source": [
    "from sklearn.metrics import f1_score\n",
    "f1_score(y_test, y_pred, average=None)"
   ]
  },
  {
   "cell_type": "code",
   "execution_count": 28,
   "metadata": {},
   "outputs": [
    {
     "name": "stdout",
     "output_type": "stream",
     "text": [
      "              precision    recall  f1-score   support\n",
      "\n",
      "     class_0       1.00      0.93      0.96        14\n",
      "     class_1       0.94      1.00      0.97        16\n",
      "     class_2       1.00      1.00      1.00         6\n",
      "\n",
      "    accuracy                           0.97        36\n",
      "   macro avg       0.98      0.98      0.98        36\n",
      "weighted avg       0.97      0.97      0.97        36\n",
      "\n"
     ]
    }
   ],
   "source": [
    "from sklearn.metrics import classification_report\n",
    "print(classification_report(y_test, y_pred, target_names=wine.target_names))"
   ]
  },
  {
   "cell_type": "code",
   "execution_count": null,
   "metadata": {},
   "outputs": [],
   "source": []
  }
 ],
 "metadata": {
  "kernelspec": {
   "display_name": "Python 3",
   "language": "python",
   "name": "python3"
  },
  "language_info": {
   "codemirror_mode": {
    "name": "ipython",
    "version": 3
   },
   "file_extension": ".py",
   "mimetype": "text/x-python",
   "name": "python",
   "nbconvert_exporter": "python",
   "pygments_lexer": "ipython3",
   "version": "3.8.8"
  }
 },
 "nbformat": 4,
 "nbformat_minor": 2
}
