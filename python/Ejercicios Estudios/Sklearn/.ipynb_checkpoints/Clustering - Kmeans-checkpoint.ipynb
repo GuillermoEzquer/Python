{
 "cells": [
  {
   "cell_type": "markdown",
   "metadata": {
    "slideshow": {
     "slide_type": "-"
    }
   },
   "source": [
    "**¿Qué librerías necesitamos?**\n",
    "\n",
    "* Pandas\n",
    "\n",
    "* Matplotlib\n",
    "\n",
    "* Thinker -  Interfaces gráficas de usuario con Tk . https://docs.python.org/es/3/library/tk.html\n",
    "\n",
    "Librería no vista hasta ahora - **Sklearn** dentro de la cual vamos a invocar a cluster KMeans\n",
    "\n",
    "pip install -U scikit-learn\n",
    "\n",
    "python -m pip show scikit-learn\n",
    "\n",
    "conda install scikit-learn\n",
    "\n",
    "conda list scikit-learn"
   ]
  },
  {
   "cell_type": "markdown",
   "metadata": {},
   "source": [
    "Link a Librería Python: https://scikit-learn.org/stable/modules/generated/sklearn.cluster.KMeans.html\n",
    "\n",
    "**Parámetros** - class sklearn.cluster.KMeans(n_clusters=8, *, init='k-means++', n_init=10, max_iter=300, tol=0.0001, precompute_distances='deprecated', verbose=0, random_state=None, copy_x=True, n_jobs='deprecated', algorithm='auto')"
   ]
  },
  {
   "cell_type": "markdown",
   "metadata": {},
   "source": [
    "* **n_clusters** : int, predeterminado = 8 . El número de clústeres que se formarán, así como el número de centroides que se generarán.\n",
    "\n",
    "* **init**: {'k-significa ++', 'aleatorio', ndarray, invocable}, predeterminado = 'k-significa ++'\n",
    "    Método de inicialización:\n",
    "\n",
    "    'K-means ++': selecciona los centros de clústeres iniciales para el clustering de k-mean de una manera inteligente para \n",
    "    acelerar la convergencia. Consulte la sección Notas en k_init para obtener más detalles.\n",
    "\n",
    "    \"Aleatorio\": elija n_clusters observaciones (filas) al azar de los datos para los centroides iniciales.\n",
    "\n",
    "    Si se pasa un ndarray, debería tener forma (n_clusters, n_features) y proporcionar los centros iniciales.\n",
    "\n",
    "    Si se pasa un invocable, debe tomar argumentos X, n_clusters y un estado aleatorio y devolver una inicialización\n",
    "\n",
    "* **n_init**: int predeterminado = 10\n",
    "     Número de veces que se ejecutará el algoritmo de k-medias con diferentes semillas de centroide. Los resultados finales\n",
    "     serán el mejor resultado de n_init corridas consecutivas en términos de inercia.\n",
    "\n",
    "* **max_iter**: int predeterminado = 300\n",
    "    Número máximo de iteraciones del algoritmo k-means para una sola ejecución.\n",
    "\n",
    "* **tol**: float, predeterminado = 1e-4\n",
    "    Tolerancia relativa con respecto a la norma de Frobenius de la diferencia en los centros de los conglomerados de dos \n",
    "    iteraciones consecutivas para declarar convergencia.\n",
    "\n",
    "* **precompute_distances**: {‘auto’, True, False}, default = ’auto’\n",
    "    Calcule previamente distancias (más rápido pero requiere más memoria).\n",
    "\n",
    "    \"Auto\": no precalcule distancias si n_samples * n_clusters> 12 millones. Esto corresponde a unos 100 MB de sobrecarga por \n",
    "    trabajo con doble precisión.\n",
    "\n",
    "    Verdadero: siempre precalcule las distancias.\n",
    "\n",
    "    Falso: nunca precalcule distancias.\n",
    "\n",
    "    En desuso desde la versión 0.23: \"precompute_distances\" quedó obsoleto en la versión 0.22 y se eliminará en la 0.25. No \n",
    "    tiene ningún efecto.\n",
    "\n",
    "* **verbose**: int, predeterminado = 0 Modo de verbosidad.\n",
    "\n",
    "* **random_state**: int, instancia de RandomState, predeterminado = Ninguno\n",
    "    Determina la generación de números aleatorios para la inicialización del centroide. Utilice un int para hacer que la \n",
    "    aleatoriedad sea determinista. Consulte el glosario.\n",
    "\n",
    "* **copy_xbool**: predeterminado = Verdadero\n",
    "    Cuando se calculan previamente las distancias, es más exacto numéricamente centrar los datos primero. Si copy_x es True \n",
    "    (predeterminado), los datos originales no se modifican. Si es False, los datos originales se modifican y se devuelven antes \n",
    "    de que vuelva la función, pero se pueden introducir pequeñas diferencias numéricas restando y luego sumando la media de los \n",
    "    datos. Tenga en cuenta que si los datos originales no son contiguos a C, se realizará una copia incluso si copy_x es False. \n",
    "    Si los datos originales son escasos, pero no en formato CSR, se realizará una copia incluso si copy_x es False.\n",
    "\n",
    "* **n_jobs**: int, predeterminado = Ninguno\n",
    "    El número de subprocesos OpenMP que se utilizarán para el cálculo. El paralelismo se realiza a modo de muestra en el ciclo \n",
    "    principal de cython, que asigna cada muestra a su centro más cercano.\n",
    "\n",
    "    Ninguno o -1 significa utilizar todos los procesadores.\n",
    "\n",
    "    En desuso desde la versión 0.23: n_jobs quedó obsoleto en la versión 0.23 y se eliminará en la 0.25.\n",
    "    algoritmo {\"auto\", \"completo\", \"elkan\"}, predeterminado = \"auto\"\n",
    "    Algoritmo K-means a utilizar. El algoritmo clásico de estilo EM es \"completo\". La variación \"elkan\" es más eficiente en \n",
    "    datos con grupos bien definidos, al usar la desigualdad del triángulo. Sin embargo, consume más memoria debido a la \n",
    "    asignación de una matriz adicional de formas (n_samples, n_clusters).\n",
    "\n",
    "    Por ahora, \"auto\" (mantenido para compatibilidad con versiones anteriores) elige \"elkan\", pero podría cambiar en el futuro \n",
    "    para una mejor heurística.\n"
   ]
  },
  {
   "cell_type": "code",
   "execution_count": null,
   "metadata": {},
   "outputs": [
    {
     "name": "stderr",
     "output_type": "stream",
     "text": [
      "C:\\ProgramData\\Anaconda3\\lib\\site-packages\\sklearn\\cluster\\_kmeans.py:1332: UserWarning: KMeans is known to have a memory leak on Windows with MKL, when there are less chunks than available threads. You can avoid it by setting the environment variable OMP_NUM_THREADS=1.\n",
      "  warnings.warn(\n"
     ]
    }
   ],
   "source": [
    "from pandas import DataFrame\n",
    "import matplotlib.pyplot as plt\n",
    "from sklearn.cluster import KMeans\n",
    "import tkinter as tk\n",
    "from matplotlib.backends.backend_tkagg import FigureCanvasTkAgg\n",
    "\n",
    "Data = {'x': [25,34,22,27,33,33,31,22,35,34,67,54,57,43,50,57,59,52,65,47,49,48,35,33,44,45,38,43,51,46],\n",
    "        'y': [79,51,53,78,59,74,73,57,69,75,51,32,40,47,53,36,35,58,59,50,25,20,14,12,20,5,29,27,8,7]\n",
    "       }\n",
    "  \n",
    "df = DataFrame(Data,columns=['x','y'])\n",
    "  \n",
    "kmeans = KMeans(n_clusters=4).fit(df)\n",
    "centroids = kmeans.cluster_centers_\n",
    "\n",
    "root= tk.Tk()\n",
    "\n",
    "canvas1 = tk.Canvas(root, width = 100, height = 100)\n",
    "canvas1.pack()\n",
    "\n",
    "label1 = tk.Label(root, text=centroids, justify = 'center')\n",
    "canvas1.create_window(70, 50, window=label1)\n",
    "\n",
    "figure1 = plt.Figure(figsize=(5,4), dpi=100)\n",
    "ax1 = figure1.add_subplot(111)\n",
    "ax1.scatter(df['x'], df['y'], c= kmeans.labels_.astype(float), s=50, alpha=0.5)\n",
    "ax1.scatter(centroids[:, 0], centroids[:, 1], c='red', s=50)\n",
    "scatter1 = FigureCanvasTkAgg(figure1, root) \n",
    "scatter1.get_tk_widget().pack(side=tk.LEFT, fill=tk.BOTH)\n",
    "\n",
    "root.mainloop()\n"
   ]
  },
  {
   "cell_type": "code",
   "execution_count": null,
   "metadata": {},
   "outputs": [],
   "source": []
  }
 ],
 "metadata": {
  "celltoolbar": "Raw Cell Format",
  "kernelspec": {
   "display_name": "Python 3 (ipykernel)",
   "language": "python",
   "name": "python3"
  },
  "language_info": {
   "codemirror_mode": {
    "name": "ipython",
    "version": 3
   },
   "file_extension": ".py",
   "mimetype": "text/x-python",
   "name": "python",
   "nbconvert_exporter": "python",
   "pygments_lexer": "ipython3",
   "version": "3.9.7"
  },
  "latex_envs": {
   "LaTeX_envs_menu_present": true,
   "autoclose": false,
   "autocomplete": true,
   "bibliofile": "biblio.bib",
   "cite_by": "apalike",
   "current_citInitial": 1,
   "eqLabelWithNumbers": true,
   "eqNumInitial": 1,
   "hotkeys": {
    "equation": "Ctrl-E",
    "itemize": "Ctrl-I"
   },
   "labels_anchors": false,
   "latex_user_defs": false,
   "report_style_numbering": false,
   "user_envs_cfg": false
  }
 },
 "nbformat": 4,
 "nbformat_minor": 4
}
