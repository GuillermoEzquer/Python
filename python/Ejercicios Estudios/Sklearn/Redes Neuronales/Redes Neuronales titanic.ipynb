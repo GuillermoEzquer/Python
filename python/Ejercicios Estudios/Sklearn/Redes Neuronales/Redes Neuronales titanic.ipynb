{
 "cells": [
  {
   "cell_type": "markdown",
   "id": "4500ebce-2f76-46f9-a94b-034bda6300e4",
   "metadata": {},
   "source": [
    "### Importamos las librerias necesarias"
   ]
  },
  {
   "cell_type": "code",
   "execution_count": 1,
   "id": "3c7b9cf0-f841-4726-bf65-9b6ec796053b",
   "metadata": {},
   "outputs": [],
   "source": [
    "import numpy as np\n",
    "import matplotlib.pyplot as plt\n",
    "import pandas as pd\n",
    "import seaborn as sn\n",
    "from sklearn.model_selection import train_test_split\n",
    "from sklearn.neural_network import MLPClassifier\n",
    "from sklearn.metrics import confusion_matrix\n",
    "from sklearn.metrics import accuracy_score\n",
    "from sklearn.metrics import recall_score\n",
    "from sklearn.metrics import precision_score\n",
    "from sklearn.metrics import f1_score \n",
    "from pydotplus import graph_from_dot_data"
   ]
  },
  {
   "cell_type": "markdown",
   "id": "71adb2be-283a-42e8-a9a7-9dd51842bdd4",
   "metadata": {},
   "source": [
    "### Importamos el dataset"
   ]
  },
  {
   "cell_type": "code",
   "execution_count": 2,
   "id": "394e76ea-3679-4fc4-ad29-9a3ebf15151c",
   "metadata": {},
   "outputs": [],
   "source": [
    "df = pd.read_csv('titanic_train_out.csv')"
   ]
  },
  {
   "cell_type": "markdown",
   "id": "40820209-32c5-4e39-ab68-d8529522e14f",
   "metadata": {},
   "source": [
    "### Seleccionamos las dimensiones para el entrenamiento"
   ]
  },
  {
   "cell_type": "code",
   "execution_count": 3,
   "id": "2461ae14-e72d-4387-b3ee-9149282142d6",
   "metadata": {},
   "outputs": [
    {
     "data": {
      "text/plain": [
       "Index(['Survived', 'Pclass', 'Sex', 'Age', 'Fare', 'Embarked', 'Title',\n",
       "       'IsAlone'],\n",
       "      dtype='object')"
      ]
     },
     "execution_count": 3,
     "metadata": {},
     "output_type": "execute_result"
    }
   ],
   "source": [
    "df.keys()"
   ]
  },
  {
   "cell_type": "code",
   "execution_count": 4,
   "id": "4dcb7e88-6ed9-44c1-a05b-28af0bb97986",
   "metadata": {},
   "outputs": [],
   "source": [
    "X = df.iloc[:, [1,2,3,4,5,6,7]].values\n",
    "y = df.Survived"
   ]
  },
  {
   "cell_type": "markdown",
   "id": "315bdcc1-522c-4b7d-a7b8-2d4c4a2bf95e",
   "metadata": {},
   "source": [
    "### Separamos y_train y_test x_train y x_test"
   ]
  },
  {
   "cell_type": "code",
   "execution_count": 5,
   "id": "9d816561-f64f-4055-9152-bafbbc3727cf",
   "metadata": {},
   "outputs": [],
   "source": [
    "X_train, X_test, y_train, y_test = train_test_split(X, y, test_size=0.2)"
   ]
  },
  {
   "cell_type": "markdown",
   "id": "8243a51b-6d8b-4b50-bc68-c1ae6302c524",
   "metadata": {},
   "source": [
    "### Usaremos primeramente MLPClassifier de sklearn"
   ]
  },
  {
   "cell_type": "code",
   "execution_count": 6,
   "id": "d1f1c07d-2742-4c27-b103-750d1c34c3ad",
   "metadata": {},
   "outputs": [],
   "source": [
    "classifier = MLPClassifier(hidden_layer_sizes=(150,100,50), max_iter=300,activation = 'relu',solver='adam',random_state=1)"
   ]
  },
  {
   "cell_type": "markdown",
   "id": "f276a7cd-0e82-4ecf-82d5-3295820cd0a3",
   "metadata": {},
   "source": [
    "### Hacemos el entrenamiento"
   ]
  },
  {
   "cell_type": "code",
   "execution_count": 7,
   "id": "960d5672-4738-4207-8566-44597d2a2729",
   "metadata": {},
   "outputs": [
    {
     "data": {
      "text/html": [
       "<style>#sk-container-id-1 {color: black;background-color: white;}#sk-container-id-1 pre{padding: 0;}#sk-container-id-1 div.sk-toggleable {background-color: white;}#sk-container-id-1 label.sk-toggleable__label {cursor: pointer;display: block;width: 100%;margin-bottom: 0;padding: 0.3em;box-sizing: border-box;text-align: center;}#sk-container-id-1 label.sk-toggleable__label-arrow:before {content: \"▸\";float: left;margin-right: 0.25em;color: #696969;}#sk-container-id-1 label.sk-toggleable__label-arrow:hover:before {color: black;}#sk-container-id-1 div.sk-estimator:hover label.sk-toggleable__label-arrow:before {color: black;}#sk-container-id-1 div.sk-toggleable__content {max-height: 0;max-width: 0;overflow: hidden;text-align: left;background-color: #f0f8ff;}#sk-container-id-1 div.sk-toggleable__content pre {margin: 0.2em;color: black;border-radius: 0.25em;background-color: #f0f8ff;}#sk-container-id-1 input.sk-toggleable__control:checked~div.sk-toggleable__content {max-height: 200px;max-width: 100%;overflow: auto;}#sk-container-id-1 input.sk-toggleable__control:checked~label.sk-toggleable__label-arrow:before {content: \"▾\";}#sk-container-id-1 div.sk-estimator input.sk-toggleable__control:checked~label.sk-toggleable__label {background-color: #d4ebff;}#sk-container-id-1 div.sk-label input.sk-toggleable__control:checked~label.sk-toggleable__label {background-color: #d4ebff;}#sk-container-id-1 input.sk-hidden--visually {border: 0;clip: rect(1px 1px 1px 1px);clip: rect(1px, 1px, 1px, 1px);height: 1px;margin: -1px;overflow: hidden;padding: 0;position: absolute;width: 1px;}#sk-container-id-1 div.sk-estimator {font-family: monospace;background-color: #f0f8ff;border: 1px dotted black;border-radius: 0.25em;box-sizing: border-box;margin-bottom: 0.5em;}#sk-container-id-1 div.sk-estimator:hover {background-color: #d4ebff;}#sk-container-id-1 div.sk-parallel-item::after {content: \"\";width: 100%;border-bottom: 1px solid gray;flex-grow: 1;}#sk-container-id-1 div.sk-label:hover label.sk-toggleable__label {background-color: #d4ebff;}#sk-container-id-1 div.sk-serial::before {content: \"\";position: absolute;border-left: 1px solid gray;box-sizing: border-box;top: 0;bottom: 0;left: 50%;z-index: 0;}#sk-container-id-1 div.sk-serial {display: flex;flex-direction: column;align-items: center;background-color: white;padding-right: 0.2em;padding-left: 0.2em;position: relative;}#sk-container-id-1 div.sk-item {position: relative;z-index: 1;}#sk-container-id-1 div.sk-parallel {display: flex;align-items: stretch;justify-content: center;background-color: white;position: relative;}#sk-container-id-1 div.sk-item::before, #sk-container-id-1 div.sk-parallel-item::before {content: \"\";position: absolute;border-left: 1px solid gray;box-sizing: border-box;top: 0;bottom: 0;left: 50%;z-index: -1;}#sk-container-id-1 div.sk-parallel-item {display: flex;flex-direction: column;z-index: 1;position: relative;background-color: white;}#sk-container-id-1 div.sk-parallel-item:first-child::after {align-self: flex-end;width: 50%;}#sk-container-id-1 div.sk-parallel-item:last-child::after {align-self: flex-start;width: 50%;}#sk-container-id-1 div.sk-parallel-item:only-child::after {width: 0;}#sk-container-id-1 div.sk-dashed-wrapped {border: 1px dashed gray;margin: 0 0.4em 0.5em 0.4em;box-sizing: border-box;padding-bottom: 0.4em;background-color: white;}#sk-container-id-1 div.sk-label label {font-family: monospace;font-weight: bold;display: inline-block;line-height: 1.2em;}#sk-container-id-1 div.sk-label-container {text-align: center;}#sk-container-id-1 div.sk-container {/* jupyter's `normalize.less` sets `[hidden] { display: none; }` but bootstrap.min.css set `[hidden] { display: none !important; }` so we also need the `!important` here to be able to override the default hidden behavior on the sphinx rendered scikit-learn.org. See: https://github.com/scikit-learn/scikit-learn/issues/21755 */display: inline-block !important;position: relative;}#sk-container-id-1 div.sk-text-repr-fallback {display: none;}</style><div id=\"sk-container-id-1\" class=\"sk-top-container\"><div class=\"sk-text-repr-fallback\"><pre>MLPClassifier(hidden_layer_sizes=(150, 100, 50), max_iter=300, random_state=1)</pre><b>In a Jupyter environment, please rerun this cell to show the HTML representation or trust the notebook. <br />On GitHub, the HTML representation is unable to render, please try loading this page with nbviewer.org.</b></div><div class=\"sk-container\" hidden><div class=\"sk-item\"><div class=\"sk-estimator sk-toggleable\"><input class=\"sk-toggleable__control sk-hidden--visually\" id=\"sk-estimator-id-1\" type=\"checkbox\" checked><label for=\"sk-estimator-id-1\" class=\"sk-toggleable__label sk-toggleable__label-arrow\">MLPClassifier</label><div class=\"sk-toggleable__content\"><pre>MLPClassifier(hidden_layer_sizes=(150, 100, 50), max_iter=300, random_state=1)</pre></div></div></div></div></div>"
      ],
      "text/plain": [
       "MLPClassifier(hidden_layer_sizes=(150, 100, 50), max_iter=300, random_state=1)"
      ]
     },
     "execution_count": 7,
     "metadata": {},
     "output_type": "execute_result"
    }
   ],
   "source": [
    "classifier.fit(X_train, y_train)"
   ]
  },
  {
   "cell_type": "markdown",
   "id": "73117782-4b30-449a-9325-01ec575a1205",
   "metadata": {},
   "source": [
    "### Realizamos la prediccion"
   ]
  },
  {
   "cell_type": "code",
   "execution_count": 8,
   "id": "8c9236e2-cd64-4753-87b3-4e5bfcf364ac",
   "metadata": {},
   "outputs": [],
   "source": [
    "y_pred = classifier.predict(X_test)"
   ]
  },
  {
   "cell_type": "markdown",
   "id": "0685a87a-cb3f-4315-bba4-0141d44aa4ba",
   "metadata": {},
   "source": [
    "### Verificamos la mtriz de confucion"
   ]
  },
  {
   "cell_type": "code",
   "execution_count": 9,
   "id": "9e3829bd-0aaf-49a1-9360-e9c0ba4c8cce",
   "metadata": {},
   "outputs": [
    {
     "data": {
      "image/png": "[encoded data removed]",
      "text/plain": [
       "<Figure size 432x288 with 2 Axes>"
      ]
     },
     "metadata": {
      "needs_background": "light"
     },
     "output_type": "display_data"
    }
   ],
   "source": [
    "matriz = confusion_matrix(y_test, y_pred)\n",
    "sn.heatmap(matriz, annot=True)\n",
    "plt.show()"
   ]
  },
  {
   "cell_type": "markdown",
   "id": "92cc8582-a3df-4255-b5d5-4dd50e816638",
   "metadata": {},
   "source": [
    "### Verificamos las metris de la matriz"
   ]
  },
  {
   "cell_type": "code",
   "execution_count": 11,
   "id": "0221d8dd-1f12-43dd-bf62-15546f56644b",
   "metadata": {},
   "outputs": [
    {
     "data": {
      "text/plain": [
       "0.776536312849162"
      ]
     },
     "execution_count": 11,
     "metadata": {},
     "output_type": "execute_result"
    }
   ],
   "source": [
    "accuracy_score(y_test, y_pred)"
   ]
  },
  {
   "cell_type": "code",
   "execution_count": 12,
   "id": "04262adb-71d7-441d-9c16-c535fda2bdb6",
   "metadata": {},
   "outputs": [
    {
     "data": {
      "text/plain": [
       "0.7575757575757576"
      ]
     },
     "execution_count": 12,
     "metadata": {},
     "output_type": "execute_result"
    }
   ],
   "source": [
    "precision_score(y_test, y_pred)"
   ]
  },
  {
   "cell_type": "code",
   "execution_count": 13,
   "id": "ebf91b9b-2be4-4e09-b61d-b1194bd3fd8a",
   "metadata": {},
   "outputs": [
    {
     "data": {
      "text/plain": [
       "0.6756756756756757"
      ]
     },
     "execution_count": 13,
     "metadata": {},
     "output_type": "execute_result"
    }
   ],
   "source": [
    "recall_score(y_test, y_pred)"
   ]
  },
  {
   "cell_type": "code",
   "execution_count": 14,
   "id": "db6e2c51-bfb8-4f5a-b0fe-75a167b2e1f6",
   "metadata": {},
   "outputs": [
    {
     "data": {
      "text/plain": [
       "0.7142857142857142"
      ]
     },
     "execution_count": 14,
     "metadata": {},
     "output_type": "execute_result"
    }
   ],
   "source": [
    "f1_score(y_test, y_pred)"
   ]
  },
  {
   "cell_type": "markdown",
   "id": "1f995e75-a824-458e-93af-0061e3911b2e",
   "metadata": {},
   "source": [
    "### Ahora haremos una red neuranal en numpy con la funcion sigmoid"
   ]
  },
  {
   "cell_type": "markdown",
   "id": "d2d0757e-94f5-4b1f-b390-282e5bff02e3",
   "metadata": {},
   "source": [
    "### volvemos a importar el dataset"
   ]
  },
  {
   "cell_type": "code",
   "execution_count": 29,
   "id": "2ffeb441-ee7b-4af6-8bf2-340ab257a8a5",
   "metadata": {},
   "outputs": [],
   "source": [
    "data = pd.read_csv('titanic_train_out.csv')"
   ]
  },
  {
   "cell_type": "markdown",
   "id": "35259ba4-86ab-424f-b061-49df1c605144",
   "metadata": {},
   "source": [
    "### Dividimos el dataset en 90% para entrenar y 10% para test"
   ]
  },
  {
   "cell_type": "code",
   "execution_count": 30,
   "id": "71ad72ca-e0bf-44c8-befc-226fb55f941d",
   "metadata": {},
   "outputs": [],
   "source": [
    "np.random.seed(21)\n",
    "sample = np.random.choice(data.index, size=int(len(data)*0.9), replace=False)\n",
    "data, test_data = data.iloc[sample], data.drop(sample)"
   ]
  },
  {
   "cell_type": "markdown",
   "id": "7e99471c-dc70-4ee8-b617-b39a707cd4e8",
   "metadata": {},
   "source": [
    "### Seleccionamos cuales son las columnas de entrenamiento y cual el target"
   ]
  },
  {
   "cell_type": "code",
   "execution_count": 31,
   "id": "37aec027-ff4b-4bde-972a-23b213afd654",
   "metadata": {},
   "outputs": [],
   "source": [
    "# Split into features and targets\n",
    "features, targets = data.drop('Survived', axis=1), data['Survived']\n",
    "features_test, targets_test = test_data.drop('Survived', axis=1), test_data['Survived']"
   ]
  },
  {
   "cell_type": "markdown",
   "id": "5c6a9147-61be-495b-b73d-882942f12e61",
   "metadata": {},
   "source": [
    "### Definimos la funcion sigmoid como nuestra funcion inicializadora"
   ]
  },
  {
   "cell_type": "code",
   "execution_count": 36,
   "id": "a324f0d1-919a-4693-afbe-b961a0e20b35",
   "metadata": {},
   "outputs": [],
   "source": [
    "def sigmoide(x):\n",
    "    return 1/(1 + np.exp(-x))"
   ]
  },
  {
   "cell_type": "markdown",
   "id": "8b21c0a1-ab0b-40ba-bf2b-04998d963c3e",
   "metadata": {},
   "source": [
    "### Definimos los hiperparametros"
   ]
  },
  {
   "cell_type": "code",
   "execution_count": 37,
   "id": "f02328a6-bcaf-4b88-85c7-32d69675428b",
   "metadata": {},
   "outputs": [],
   "source": [
    "n_hidden = 2 # Número de unidades en la capa escondida\n",
    "epochs = 1000 # Número de iteraciones sobre el conjunto de entrenamiento\n",
    "alpha = 0.01 # Taza de aprendizaje\n",
    "ult_costo = None \n",
    "m,k = features.shape # Número de ejemplos de entrenamiento, número de dimensiones en los datos "
   ]
  },
  {
   "cell_type": "markdown",
   "id": "9a457215-24ca-4ee1-9978-f02b005d1b0d",
   "metadata": {},
   "source": [
    "### Inicializamos los pesos"
   ]
  },
  {
   "cell_type": "code",
   "execution_count": 39,
   "id": "95d7d52a-566d-458f-ab94-24153a1aeb3c",
   "metadata": {},
   "outputs": [],
   "source": [
    "entrada_escondida = np.random.normal(scale = 1/k**0.5,\n",
    "                                     size = (k,n_hidden)\n",
    "                                     )\n",
    "escondida_salida = np.random.normal(scale = 1/k**0.5,\n",
    "                                    size = n_hidden\n",
    "                                    )"
   ]
  },
  {
   "cell_type": "markdown",
   "id": "42075af0-1b5c-4072-ae06-d7b470fa73a3",
   "metadata": {},
   "source": [
    "### Entrenamos el modelo"
   ]
  },
  {
   "cell_type": "code",
   "execution_count": 40,
   "id": "2fe1457b-6c57-40a2-ab29-9609ac6d8e43",
   "metadata": {},
   "outputs": [
    {
     "name": "stdout",
     "output_type": "stream",
     "text": [
      "Costo de entrenamiento:  0.22636974970982315\n",
      "Costo de entrenamiento:  0.22603511928674752\n",
      "Costo de entrenamiento:  0.22571526328938218\n",
      "Costo de entrenamiento:  0.22540911176502892\n",
      "Costo de entrenamiento:  0.22511566870485705\n",
      "Costo de entrenamiento:  0.22483400716040422\n",
      "Costo de entrenamiento:  0.22456326465392423\n",
      "Costo de entrenamiento:  0.2243026388687777\n",
      "Costo de entrenamiento:  0.22405138360624036\n",
      "Costo de entrenamiento:  0.22380880499527608\n"
     ]
    }
   ],
   "source": [
    "for e in range(epochs):\n",
    "    # Variables para el gradiente\n",
    "    gradiente_entrada_escondida = np.zeros(entrada_escondida.shape)\n",
    "    gradiente_escondida_salida =  np.zeros(escondida_salida.shape)\n",
    "    # Itera sobre el conjunto de entrenamiento\n",
    "    for x,y in zip(features.values,targets):\n",
    "        # Pasada hacia adelande (forward pass)\n",
    "        z = sigmoide(np.matmul(x, entrada_escondida))\n",
    "        y_ =sigmoide(np.matmul(escondida_salida,z)) # predicción \n",
    "        # Pasada hacia atrás (backward pass)\n",
    "        salida_error = (y - y_) * y_ *(1- y_)\n",
    "        escondida_error = np.dot(salida_error, escondida_salida) * z * (1 -z)\n",
    "        gradiente_entrada_escondida += escondida_error * x[:,None]\n",
    "        gradiente_escondida_salida += salida_error * z \n",
    "    # Actualiza los parámetros (pesos)\n",
    "    entrada_escondida += alpha * gradiente_entrada_escondida / m \n",
    "    escondida_salida +=  alpha * gradiente_escondida_salida / m \n",
    "    if e % (epochs / 10 ) == 0:\n",
    "        z = sigmoide(np.dot(features.values, entrada_escondida))\n",
    "        y_ = sigmoide(np.dot(z, escondida_salida))\n",
    "        # Función de costo\n",
    "        costo = np.mean(( y_ - targets)**2 )\n",
    "        if ult_costo  and ult_costo < costo:\n",
    "            print(\"Costo de  entrenamiento: \", costo, \" ADVERTENCIA -  Costo subiendo\")\n",
    "        else:\n",
    "            print(\"Costo de entrenamiento: \", costo )\n",
    "        ult_costo = costo"
   ]
  },
  {
   "cell_type": "markdown",
   "id": "27b2cc36-6f53-43d8-b81e-718ac0edd66f",
   "metadata": {},
   "source": [
    "### Hacemos la prediccion con los datos de prueba"
   ]
  },
  {
   "cell_type": "code",
   "execution_count": 42,
   "id": "bb5326ef-865a-4ab9-a78e-1237eec52711",
   "metadata": {},
   "outputs": [
    {
     "data": {
      "text/plain": [
       "array([False, False, False, False, False, False, False, False, False,\n",
       "       False, False, False, False, False, False, False, False, False,\n",
       "       False, False, False, False, False, False, False, False, False,\n",
       "       False, False, False, False, False, False, False, False, False,\n",
       "       False, False, False, False, False, False, False, False, False,\n",
       "       False, False, False, False, False, False, False, False, False,\n",
       "       False, False, False, False, False, False, False, False, False,\n",
       "       False, False, False, False, False, False, False, False, False,\n",
       "       False, False, False, False, False, False, False, False, False,\n",
       "       False, False, False, False, False, False, False, False, False])"
      ]
     },
     "execution_count": 42,
     "metadata": {},
     "output_type": "execute_result"
    }
   ],
   "source": [
    "z = sigmoide(np.dot(features_test, entrada_escondida))\n",
    "y_ = sigmoide(np.dot(z, escondida_salida))\n",
    "predicciones =  y_ > 0.5 \n",
    "predicciones"
   ]
  },
  {
   "cell_type": "markdown",
   "id": "cb093bd7-bc48-482b-b719-8c3d767cd20e",
   "metadata": {},
   "source": [
    "### Vemos cual es la precision de los resultados"
   ]
  },
  {
   "cell_type": "code",
   "execution_count": 44,
   "id": "88226d80-e17f-418f-a965-dc53e4eb4f2b",
   "metadata": {},
   "outputs": [
    {
     "name": "stdout",
     "output_type": "stream",
     "text": [
      "Precisión: 0.567\n"
     ]
    }
   ],
   "source": [
    "precision = np.mean(predicciones == targets_test)\n",
    "print(\"Precisión: {:.3f}\".format(precision))"
   ]
  },
  {
   "cell_type": "markdown",
   "id": "84d44a6d-cfdc-49c5-9456-08f78baaf2d7",
   "metadata": {},
   "source": [
    "### Al ver que tenemos mayor precision con sklearn realizamos la prediccion de nuestros datos de prediccion"
   ]
  },
  {
   "cell_type": "code",
   "execution_count": 45,
   "id": "f99776c8-7f16-4827-857e-b4afda594c51",
   "metadata": {},
   "outputs": [],
   "source": [
    "df_test = pd.read_csv('titanic_test_out.csv')"
   ]
  },
  {
   "cell_type": "code",
   "execution_count": 46,
   "id": "1ecb977a-6670-44b7-837d-3d71424040da",
   "metadata": {},
   "outputs": [
    {
     "data": {
      "text/html": [
       "<div><div id=af30645e-8e9e-44d6-9dce-de7cc05246bf style=\"display:none; background-color:#9D6CFF; color:white; width:200px; height:30px; padding-left:5px; border-radius:4px; flex-direction:row; justify-content:space-around; align-items:center;\" onmouseover=\"this.style.backgroundColor='#BA9BF8'\" onmouseout=\"this.style.backgroundColor='#9D6CFF'\" onclick=\"window.commands?.execute('create-mitosheet-from-dataframe-output');\">See Full Dataframe in Mito</div> <script> if (window.commands?.hasCommand('create-mitosheet-from-dataframe-output')) document.getElementById('af30645e-8e9e-44d6-9dce-de7cc05246bf').style.display = 'flex' </script> <table border=\"1\" class=\"dataframe\">\n",
       "  <thead>\n",
       "    <tr style=\"text-align: right;\">\n",
       "      <th></th>\n",
       "      <th>Pclass</th>\n",
       "      <th>Sex</th>\n",
       "      <th>Age</th>\n",
       "      <th>Fare</th>\n",
       "      <th>Embarked</th>\n",
       "      <th>Title</th>\n",
       "      <th>IsAlone</th>\n",
       "    </tr>\n",
       "  </thead>\n",
       "  <tbody>\n",
       "    <tr>\n",
       "      <th>0</th>\n",
       "      <td>1.0</td>\n",
       "      <td>0.0</td>\n",
       "      <td>0.447368</td>\n",
       "      <td>0.000000</td>\n",
       "      <td>1.0</td>\n",
       "      <td>0.00</td>\n",
       "      <td>1.0</td>\n",
       "    </tr>\n",
       "    <tr>\n",
       "      <th>1</th>\n",
       "      <td>1.0</td>\n",
       "      <td>1.0</td>\n",
       "      <td>0.618421</td>\n",
       "      <td>0.000000</td>\n",
       "      <td>0.0</td>\n",
       "      <td>0.50</td>\n",
       "      <td>0.0</td>\n",
       "    </tr>\n",
       "    <tr>\n",
       "      <th>2</th>\n",
       "      <td>0.5</td>\n",
       "      <td>0.0</td>\n",
       "      <td>0.815789</td>\n",
       "      <td>0.333333</td>\n",
       "      <td>1.0</td>\n",
       "      <td>0.00</td>\n",
       "      <td>1.0</td>\n",
       "    </tr>\n",
       "    <tr>\n",
       "      <th>3</th>\n",
       "      <td>1.0</td>\n",
       "      <td>0.0</td>\n",
       "      <td>0.355263</td>\n",
       "      <td>0.333333</td>\n",
       "      <td>0.0</td>\n",
       "      <td>0.00</td>\n",
       "      <td>1.0</td>\n",
       "    </tr>\n",
       "    <tr>\n",
       "      <th>4</th>\n",
       "      <td>1.0</td>\n",
       "      <td>1.0</td>\n",
       "      <td>0.289474</td>\n",
       "      <td>0.333333</td>\n",
       "      <td>0.0</td>\n",
       "      <td>0.50</td>\n",
       "      <td>0.0</td>\n",
       "    </tr>\n",
       "    <tr>\n",
       "      <th>...</th>\n",
       "      <td>...</td>\n",
       "      <td>...</td>\n",
       "      <td>...</td>\n",
       "      <td>...</td>\n",
       "      <td>...</td>\n",
       "      <td>...</td>\n",
       "      <td>...</td>\n",
       "    </tr>\n",
       "    <tr>\n",
       "      <th>413</th>\n",
       "      <td>1.0</td>\n",
       "      <td>0.0</td>\n",
       "      <td>0.315789</td>\n",
       "      <td>0.333333</td>\n",
       "      <td>0.0</td>\n",
       "      <td>0.00</td>\n",
       "      <td>1.0</td>\n",
       "    </tr>\n",
       "    <tr>\n",
       "      <th>414</th>\n",
       "      <td>0.0</td>\n",
       "      <td>1.0</td>\n",
       "      <td>0.513158</td>\n",
       "      <td>1.000000</td>\n",
       "      <td>0.5</td>\n",
       "      <td>1.00</td>\n",
       "      <td>1.0</td>\n",
       "    </tr>\n",
       "    <tr>\n",
       "      <th>415</th>\n",
       "      <td>1.0</td>\n",
       "      <td>0.0</td>\n",
       "      <td>0.500000</td>\n",
       "      <td>0.000000</td>\n",
       "      <td>0.0</td>\n",
       "      <td>0.00</td>\n",
       "      <td>1.0</td>\n",
       "    </tr>\n",
       "    <tr>\n",
       "      <th>416</th>\n",
       "      <td>1.0</td>\n",
       "      <td>0.0</td>\n",
       "      <td>0.315789</td>\n",
       "      <td>0.333333</td>\n",
       "      <td>0.0</td>\n",
       "      <td>0.00</td>\n",
       "      <td>1.0</td>\n",
       "    </tr>\n",
       "    <tr>\n",
       "      <th>417</th>\n",
       "      <td>1.0</td>\n",
       "      <td>0.0</td>\n",
       "      <td>0.315789</td>\n",
       "      <td>0.666667</td>\n",
       "      <td>0.5</td>\n",
       "      <td>0.75</td>\n",
       "      <td>0.0</td>\n",
       "    </tr>\n",
       "  </tbody>\n",
       "</table></div>"
      ],
      "text/plain": [
       "     Pclass  Sex       Age      Fare  Embarked  Title  IsAlone\n",
       "0       1.0  0.0  0.447368  0.000000       1.0   0.00      1.0\n",
       "1       1.0  1.0  0.618421  0.000000       0.0   0.50      0.0\n",
       "2       0.5  0.0  0.815789  0.333333       1.0   0.00      1.0\n",
       "3       1.0  0.0  0.355263  0.333333       0.0   0.00      1.0\n",
       "4       1.0  1.0  0.289474  0.333333       0.0   0.50      0.0\n",
       "..      ...  ...       ...       ...       ...    ...      ...\n",
       "413     1.0  0.0  0.315789  0.333333       0.0   0.00      1.0\n",
       "414     0.0  1.0  0.513158  1.000000       0.5   1.00      1.0\n",
       "415     1.0  0.0  0.500000  0.000000       0.0   0.00      1.0\n",
       "416     1.0  0.0  0.315789  0.333333       0.0   0.00      1.0\n",
       "417     1.0  0.0  0.315789  0.666667       0.5   0.75      0.0\n",
       "\n",
       "[418 rows x 7 columns]"
      ]
     },
     "execution_count": 46,
     "metadata": {},
     "output_type": "execute_result"
    }
   ],
   "source": [
    "df_test"
   ]
  },
  {
   "cell_type": "code",
   "execution_count": 47,
   "id": "f3d6ca4a-2537-4896-8638-9546a7b2ceee",
   "metadata": {},
   "outputs": [
    {
     "name": "stderr",
     "output_type": "stream",
     "text": [
      "C:\\ProgramData\\Anaconda3\\lib\\site-packages\\sklearn\\base.py:443: UserWarning: X has feature names, but MLPClassifier was fitted without feature names\n",
      "  warnings.warn(\n"
     ]
    }
   ],
   "source": [
    " df_test['Survived'] = classifier.predict(df_test)"
   ]
  },
  {
   "cell_type": "code",
   "execution_count": 48,
   "id": "0ad749d9-4e97-4f1e-a25e-66d92ea8f94d",
   "metadata": {},
   "outputs": [
    {
     "data": {
      "text/html": [
       "<div><div id=2d9c3909-9f60-4f32-9016-3f8fd4a7b319 style=\"display:none; background-color:#9D6CFF; color:white; width:200px; height:30px; padding-left:5px; border-radius:4px; flex-direction:row; justify-content:space-around; align-items:center;\" onmouseover=\"this.style.backgroundColor='#BA9BF8'\" onmouseout=\"this.style.backgroundColor='#9D6CFF'\" onclick=\"window.commands?.execute('create-mitosheet-from-dataframe-output');\">See Full Dataframe in Mito</div> <script> if (window.commands?.hasCommand('create-mitosheet-from-dataframe-output')) document.getElementById('2d9c3909-9f60-4f32-9016-3f8fd4a7b319').style.display = 'flex' </script> <table border=\"1\" class=\"dataframe\">\n",
       "  <thead>\n",
       "    <tr style=\"text-align: right;\">\n",
       "      <th></th>\n",
       "      <th>Pclass</th>\n",
       "      <th>Sex</th>\n",
       "      <th>Age</th>\n",
       "      <th>Fare</th>\n",
       "      <th>Embarked</th>\n",
       "      <th>Title</th>\n",
       "      <th>IsAlone</th>\n",
       "      <th>Survived</th>\n",
       "    </tr>\n",
       "  </thead>\n",
       "  <tbody>\n",
       "    <tr>\n",
       "      <th>0</th>\n",
       "      <td>1.0</td>\n",
       "      <td>0.0</td>\n",
       "      <td>0.447368</td>\n",
       "      <td>0.000000</td>\n",
       "      <td>1.0</td>\n",
       "      <td>0.00</td>\n",
       "      <td>1.0</td>\n",
       "      <td>0.0</td>\n",
       "    </tr>\n",
       "    <tr>\n",
       "      <th>1</th>\n",
       "      <td>1.0</td>\n",
       "      <td>1.0</td>\n",
       "      <td>0.618421</td>\n",
       "      <td>0.000000</td>\n",
       "      <td>0.0</td>\n",
       "      <td>0.50</td>\n",
       "      <td>0.0</td>\n",
       "      <td>0.0</td>\n",
       "    </tr>\n",
       "    <tr>\n",
       "      <th>2</th>\n",
       "      <td>0.5</td>\n",
       "      <td>0.0</td>\n",
       "      <td>0.815789</td>\n",
       "      <td>0.333333</td>\n",
       "      <td>1.0</td>\n",
       "      <td>0.00</td>\n",
       "      <td>1.0</td>\n",
       "      <td>0.0</td>\n",
       "    </tr>\n",
       "    <tr>\n",
       "      <th>3</th>\n",
       "      <td>1.0</td>\n",
       "      <td>0.0</td>\n",
       "      <td>0.355263</td>\n",
       "      <td>0.333333</td>\n",
       "      <td>0.0</td>\n",
       "      <td>0.00</td>\n",
       "      <td>1.0</td>\n",
       "      <td>0.0</td>\n",
       "    </tr>\n",
       "    <tr>\n",
       "      <th>4</th>\n",
       "      <td>1.0</td>\n",
       "      <td>1.0</td>\n",
       "      <td>0.289474</td>\n",
       "      <td>0.333333</td>\n",
       "      <td>0.0</td>\n",
       "      <td>0.50</td>\n",
       "      <td>0.0</td>\n",
       "      <td>1.0</td>\n",
       "    </tr>\n",
       "    <tr>\n",
       "      <th>...</th>\n",
       "      <td>...</td>\n",
       "      <td>...</td>\n",
       "      <td>...</td>\n",
       "      <td>...</td>\n",
       "      <td>...</td>\n",
       "      <td>...</td>\n",
       "      <td>...</td>\n",
       "      <td>...</td>\n",
       "    </tr>\n",
       "    <tr>\n",
       "      <th>413</th>\n",
       "      <td>1.0</td>\n",
       "      <td>0.0</td>\n",
       "      <td>0.315789</td>\n",
       "      <td>0.333333</td>\n",
       "      <td>0.0</td>\n",
       "      <td>0.00</td>\n",
       "      <td>1.0</td>\n",
       "      <td>0.0</td>\n",
       "    </tr>\n",
       "    <tr>\n",
       "      <th>414</th>\n",
       "      <td>0.0</td>\n",
       "      <td>1.0</td>\n",
       "      <td>0.513158</td>\n",
       "      <td>1.000000</td>\n",
       "      <td>0.5</td>\n",
       "      <td>1.00</td>\n",
       "      <td>1.0</td>\n",
       "      <td>1.0</td>\n",
       "    </tr>\n",
       "    <tr>\n",
       "      <th>415</th>\n",
       "      <td>1.0</td>\n",
       "      <td>0.0</td>\n",
       "      <td>0.500000</td>\n",
       "      <td>0.000000</td>\n",
       "      <td>0.0</td>\n",
       "      <td>0.00</td>\n",
       "      <td>1.0</td>\n",
       "      <td>0.0</td>\n",
       "    </tr>\n",
       "    <tr>\n",
       "      <th>416</th>\n",
       "      <td>1.0</td>\n",
       "      <td>0.0</td>\n",
       "      <td>0.315789</td>\n",
       "      <td>0.333333</td>\n",
       "      <td>0.0</td>\n",
       "      <td>0.00</td>\n",
       "      <td>1.0</td>\n",
       "      <td>0.0</td>\n",
       "    </tr>\n",
       "    <tr>\n",
       "      <th>417</th>\n",
       "      <td>1.0</td>\n",
       "      <td>0.0</td>\n",
       "      <td>0.315789</td>\n",
       "      <td>0.666667</td>\n",
       "      <td>0.5</td>\n",
       "      <td>0.75</td>\n",
       "      <td>0.0</td>\n",
       "      <td>1.0</td>\n",
       "    </tr>\n",
       "  </tbody>\n",
       "</table></div>"
      ],
      "text/plain": [
       "     Pclass  Sex       Age      Fare  Embarked  Title  IsAlone  Survived\n",
       "0       1.0  0.0  0.447368  0.000000       1.0   0.00      1.0       0.0\n",
       "1       1.0  1.0  0.618421  0.000000       0.0   0.50      0.0       0.0\n",
       "2       0.5  0.0  0.815789  0.333333       1.0   0.00      1.0       0.0\n",
       "3       1.0  0.0  0.355263  0.333333       0.0   0.00      1.0       0.0\n",
       "4       1.0  1.0  0.289474  0.333333       0.0   0.50      0.0       1.0\n",
       "..      ...  ...       ...       ...       ...    ...      ...       ...\n",
       "413     1.0  0.0  0.315789  0.333333       0.0   0.00      1.0       0.0\n",
       "414     0.0  1.0  0.513158  1.000000       0.5   1.00      1.0       1.0\n",
       "415     1.0  0.0  0.500000  0.000000       0.0   0.00      1.0       0.0\n",
       "416     1.0  0.0  0.315789  0.333333       0.0   0.00      1.0       0.0\n",
       "417     1.0  0.0  0.315789  0.666667       0.5   0.75      0.0       1.0\n",
       "\n",
       "[418 rows x 8 columns]"
      ]
     },
     "execution_count": 48,
     "metadata": {},
     "output_type": "execute_result"
    }
   ],
   "source": [
    "df_test"
   ]
  }
 ],
 "metadata": {
  "kernelspec": {
   "display_name": "Python 3 (ipykernel)",
   "language": "python",
   "name": "python3"
  },
  "language_info": {
   "codemirror_mode": {
    "name": "ipython",
    "version": 3
   },
   "file_extension": ".py",
   "mimetype": "text/x-python",
   "name": "python",
   "nbconvert_exporter": "python",
   "pygments_lexer": "ipython3",
   "version": "3.9.7"
  }
 },
 "nbformat": 4,
 "nbformat_minor": 5
}
