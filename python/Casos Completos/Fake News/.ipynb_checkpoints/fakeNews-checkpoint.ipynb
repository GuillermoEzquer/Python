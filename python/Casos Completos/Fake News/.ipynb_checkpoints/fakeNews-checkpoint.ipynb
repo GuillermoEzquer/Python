{
 "cells": [
  {
   "cell_type": "markdown",
   "id": "dff9414f",
   "metadata": {},
   "source": [
    "# Trabajo final diplomatura Data Science"
   ]
  },
  {
   "cell_type": "markdown",
   "id": "5fa3ed6c",
   "metadata": {},
   "source": [
    "## Fake News en Español"
   ]
  },
  {
   "cell_type": "markdown",
   "id": "ef59ce0f",
   "metadata": {},
   "source": [
    "### Nos proponemos realizar un analisis sobre noticias falsas usando bases de datos ya confeccionadas, realizando el analisis exploratorio necesario para conseguir un dataframe suficientemente grande y consistente para luego poder aplicar los distintos modelos de aprendizaje supervizado que hemos aprendido.\n",
    "### Una vez realizado los distintos modelos realizaremos webscraping a distintas paginas de noticias para probar los mismos y ver que modelo de los entrenados nos entrega mejores resultados"
   ]
  },
  {
   "cell_type": "markdown",
   "id": "ae96c68d",
   "metadata": {},
   "source": [
    "### Importamos las librerias necesarias para el analisis exploratorio"
   ]
  },
  {
   "cell_type": "code",
   "execution_count": 20,
   "id": "2373b042",
   "metadata": {},
   "outputs": [],
   "source": [
    "from pandas_profiling import ProfileReport\n",
    "import numpy as np\n",
    "import matplotlib.pyplot as plt\n",
    "import seaborn as sn\n",
    "import mitosheet\n",
    "import pandas as pd\n",
    "import pydotplus\n",
    "import string\n",
    "import nltk\n",
    "from six import StringIO\n",
    "from IPython.display import Image\n",
    "from pydotplus import graph_from_dot_data\n",
    "from nltk.corpus import stopwords\n",
    "from string import punctuation"
   ]
  },
  {
   "cell_type": "markdown",
   "id": "87e2337d",
   "metadata": {},
   "source": [
    "### Importamos el dataset a nuestro dataframe\n",
    "#### Nuestros datos se encuentran en un archivo txt y los valores estan separados por tabulaciones, tambien necesitamos especificar la codificacion para no tener problemas con los acentos y ñ por ejemplo"
   ]
  },
  {
   "cell_type": "code",
   "execution_count": 2,
   "id": "af425239",
   "metadata": {},
   "outputs": [],
   "source": [
    "df = pd.read_csv('dataset/fakeNews.txt',encoding='latin-1',delimiter='\\t')\n"
   ]
  },
  {
   "cell_type": "markdown",
   "id": "9359e5ad",
   "metadata": {},
   "source": [
    "### Realizaremos un analisis exploratorio para entender el dataset"
   ]
  },
  {
   "cell_type": "markdown",
   "id": "cf2f17c3",
   "metadata": {},
   "source": [
    "#### Imprimimos las keys para saber cuales son las dimensiones"
   ]
  },
  {
   "cell_type": "code",
   "execution_count": 3,
   "id": "5d32c8b4",
   "metadata": {},
   "outputs": [
    {
     "data": {
      "text/plain": [
       "Index(['Class', 'Text'], dtype='object')"
      ]
     },
     "execution_count": 3,
     "metadata": {},
     "output_type": "execute_result"
    }
   ],
   "source": [
    "df.keys()"
   ]
  },
  {
   "cell_type": "markdown",
   "id": "a0aad274",
   "metadata": {},
   "source": [
    "#### Imprimimos las primeras filas del dataframe"
   ]
  },
  {
   "cell_type": "code",
   "execution_count": 4,
   "id": "e7aa4489",
   "metadata": {},
   "outputs": [
    {
     "data": {
      "text/html": [
       "<div><div id=dfc9a3ce-7bb3-43c0-a93c-8432f74b9e52 style=\"display:none; background-color:#9D6CFF; color:white; width:200px; height:30px; padding-left:5px; border-radius:4px; flex-direction:row; justify-content:space-around; align-items:center;\" onmouseover=\"this.style.backgroundColor='#BA9BF8'\" onmouseout=\"this.style.backgroundColor='#9D6CFF'\" onclick=\"window.commands?.execute('create-mitosheet-from-dataframe-output');\">See Full Dataframe in Mito</div> <script> if (window.commands?.hasCommand('create-mitosheet-from-dataframe-output')) document.getElementById('dfc9a3ce-7bb3-43c0-a93c-8432f74b9e52').style.display = 'flex' </script> <table border=\"1\" class=\"dataframe\">\n",
       "  <thead>\n",
       "    <tr style=\"text-align: right;\">\n",
       "      <th></th>\n",
       "      <th>Class</th>\n",
       "      <th>Text</th>\n",
       "    </tr>\n",
       "  </thead>\n",
       "  <tbody>\n",
       "    <tr>\n",
       "      <th>0</th>\n",
       "      <td>True</td>\n",
       "      <td>Algunas de las voces extremistas más conocidas de EE.UU., cuentas asociadas con al movimiento de la conocida como alt-right o ligadas a grupos antisemitas o xenófobos , han sido eliminadas de un plumazo de la redes sociales Facebook e Instagram. Se trat</td>\n",
       "    </tr>\n",
       "    <tr>\n",
       "      <th>1</th>\n",
       "      <td>True</td>\n",
       "      <td>Después de casi dos años y medio de luchas políticas y judiciales, Donald Trump ha presentado hoy su proyecto de inmigración para Estados Unidos . Es un proyecto elaborado por el yerno y asesor de Donald Trump, Jared Kushner, que sólo concreta una cosa:</td>\n",
       "    </tr>\n",
       "    <tr>\n",
       "      <th>2</th>\n",
       "      <td>True</td>\n",
       "      <td>Dos periodistas birmanos de la agencia Reuters fueron liberados este martes al recibir un perdón del presidente de su país tras pasar año y medio en prisión por revelar una matanza del Ejército contra la minoría musulmana rohingya. Wa Lone y Kyaw Soe Oo</td>\n",
       "    </tr>\n",
       "    <tr>\n",
       "      <th>3</th>\n",
       "      <td>True</td>\n",
       "      <td>El Cuerpo Nacional de Policía ha detenido a cuatro personas acusadas de formar parte de un grupo criminal dedicado al tráfico de seres humanos en la frontera francoespañola de Irún (Gipuzkoa). Esta célula captaba extranjeros llegados en pateras y les of</td>\n",
       "    </tr>\n",
       "    <tr>\n",
       "      <th>4</th>\n",
       "      <td>True</td>\n",
       "      <td>El desfile de la firma en Roma se convierte en una oda a la libertad de las mujeres para decidir sobre sus propios cuerpos. Los Museos Capitolinos de Roma se transformaron la noche del martes en escenario sobre el que presentar la colección crucero 202</td>\n",
       "    </tr>\n",
       "  </tbody>\n",
       "</table></div>"
      ],
      "text/plain": [
       "   Class                                               Text\n",
       "0   True  Algunas de las voces extremistas más conocidas...\n",
       "1   True  Después de casi dos años y medio de luchas pol...\n",
       "2   True  Dos periodistas birmanos de la agencia Reuters...\n",
       "3   True  El Cuerpo Nacional de Policía ha detenido a cu...\n",
       "4   True  El desfile de la firma en Roma se convierte en..."
      ]
     },
     "execution_count": 4,
     "metadata": {},
     "output_type": "execute_result"
    }
   ],
   "source": [
    "df.head()"
   ]
  },
  {
   "cell_type": "markdown",
   "id": "4d3369e8",
   "metadata": {},
   "source": [
    "#### Imprimimos los ultimos registros del DF"
   ]
  },
  {
   "cell_type": "code",
   "execution_count": 5,
   "id": "f76485e8",
   "metadata": {},
   "outputs": [
    {
     "data": {
      "text/html": [
       "<div><div id=804f9bb9-e80e-4af3-b250-728ae05cf3a3 style=\"display:none; background-color:#9D6CFF; color:white; width:200px; height:30px; padding-left:5px; border-radius:4px; flex-direction:row; justify-content:space-around; align-items:center;\" onmouseover=\"this.style.backgroundColor='#BA9BF8'\" onmouseout=\"this.style.backgroundColor='#9D6CFF'\" onclick=\"window.commands?.execute('create-mitosheet-from-dataframe-output');\">See Full Dataframe in Mito</div> <script> if (window.commands?.hasCommand('create-mitosheet-from-dataframe-output')) document.getElementById('804f9bb9-e80e-4af3-b250-728ae05cf3a3').style.display = 'flex' </script> <table border=\"1\" class=\"dataframe\">\n",
       "  <thead>\n",
       "    <tr style=\"text-align: right;\">\n",
       "      <th></th>\n",
       "      <th>Class</th>\n",
       "      <th>Text</th>\n",
       "    </tr>\n",
       "  </thead>\n",
       "  <tbody>\n",
       "    <tr>\n",
       "      <th>3563</th>\n",
       "      <td>True</td>\n",
       "      <td>Meryl Streep disfrutó unos premios Oscar tan mexicanos ¡que se vino a México!. Streep va de ser 'directora' del Washington Post a la de 'Runway' a compradora de artesanías en Guanajuato.. La multipremiada actriz estadounidense Meryl Streep, que ya ha ganado el premio como Mejor actriz por la Academia cinematográfica de su país, parece que el número de Coco y las dos pasadas por el escenario de Guillermo del Toro la inspiraron a volver a México.. Por medio de redes sociales, dos jóvenes de San Miguel de Allende, Guanajuato, que trabajan en las tiendas de artesanías locales tuvieron un encuentro con la famosa actriz mientras paseaba por la ciudad.. HuffPost México contactó al joven que volvió viral la presencia de Streep, \"la señora es muy amable y fue muy receptiva, yo me emocioné mucho cuando la reconocí y la abracé y ella a mi\", relata Alex.. El joven de *NUMBER* años que trabaja en la tienda de ropa ubicada en San Francisco *NUMBER*, en la Plaza Principal en el centro de San Miguel de Allende comentó \"venía acompañada de otras dos mujeres a las que no reconocí, ella estaba de prisa, pero fue muy linda en tomarse unas fotos\".. La experiencia duró apenas unos minutos, suficientes para poder saludar a una de sus actrices predilectas y dejarlo inmortalizado con algunas fotografías.. Los jóvenes compartieron fotos con Streep durante su visita, en las fotos se le vio contenta y muy relajada, llevando un bolso y un sombrero de ala muy ancha.. A este par de chavos que identificó a la actriz les dejó un grato recuerdo de haber conocido a la que encarnó a la directora del Washington Post, que le valió su más reciente nominación al Oscar este *NUMBER*.. Aunque la actriz ya había sido detectada, ella pidió que se le permitiera descansar y disfrutar de la popular localidad guanajuatense, dio a conocer el reportero De Jesús Aguado.</td>\n",
       "    </tr>\n",
       "    <tr>\n",
       "      <th>3564</th>\n",
       "      <td>False</td>\n",
       "      <td>EL PLAGIO DE LANA DEL REY A RADIOHEAD FUE ACORDADO ENTRE AMBOS. Lana del Rey anunció el *NUMBER* de enero a través de la red social Twitter que la banda británica Radiohead planeaba demandarla por plagiar su más célebre canción, \"Creep\" en su tema \"Get Free\". Recientemente se ha descubierto que esta es una estrategia de marketing para generar ruido y promoción gratuita.. It's true about the lawsuit. Although I know my song wasn't inspired by Creep, Radiohead feel it was and want *NUMBER*% of the publishing  I offered up to *NUMBER* over the last few months but they will only accept *NUMBER*. Their lawyers have been relentless, so we will deal with it in court..  Lana Del Rey (@LanaDelRey) January *NUMBER*, *NUMBER*. Lana del Rey quiere reproducciones. Radiohead está en decadencia. Lana del Rey, con su estilo flojo y a veces deprimente, a veces tiene problemas para lograr el impacto que pueden lograr otras estrellas del pop como por ejemplo Demi Lovato, Taylor Swift o Ariana Grande.. Por su parte, Radiohead, a pesar de ser una banda mítica y con una trayectoria enorme, tiene tiempo sin aparecer sere mainstream y necesita un impulso a sus reproducciones en plataformas como Spotify.. lana del rey vs radiohead creep vs get free. De este modo, ambos artistas han acordado que Del Rey hiciera pequeños \"guiños\" a la canción de la banda de Thom Yorke, que casualmente es la más famosa del grupo, y así dar mucho de qué hablar a través de las redes sociales.. Por upuesto, esto ha despertado trending topics, titulares en medios generalistas y especializados, así como una gran cantidad de búsquedas y reproducciones de ambos temas en YouTube, Spotify y Apple Music.</td>\n",
       "    </tr>\n",
       "    <tr>\n",
       "      <th>3565</th>\n",
       "      <td>True</td>\n",
       "      <td>Ricardo Arjona lanza una serie documental por YouTube. 'A solas con el Circo Soledad' está compuesto de ocho capítulos sobre su último trabajo discográfico.. El cantautor guatemalteco lanzó mundialmente 'A solas con el Circo Soledad', una serie documental catalogada por el mismo Arjona como \"el trabajo más importante de toda su carrera\". En ocho capítulos el material recorre la construcción de su último álbum Circo Soledad, en donde por primera vez un disco suyo habita en un lugar donde viven personajes, historias y anécdotas.. A través del canal de YouTube/Vevo del artista se transmitirá un capítulo por semana (el primero fue el viernes *NUMBER* de junio).</td>\n",
       "    </tr>\n",
       "    <tr>\n",
       "      <th>3566</th>\n",
       "      <td>True</td>\n",
       "      <td>Raúl Araiza sorprende a Andrea Legarreta con beso en la boca. \"No me vayas a pegar, no me vayas a pegar fue de amor de *NUMBER* años\", dijo el conductor. Raúl Araiza sorprendió a Andrea Legareta con un beso en la boca durante la transmisión de ayer del programa \"Hoy\".. El conductor se disponía a hacerle una pregunta a Legarreta como parte de un juego, sin embargo, se acercó a ella y le dijo \"¿Qué no te gusta? ¿Qué traes?\", y de manera sorpresiva le plantó un beso en la boca.. Inmediatamente después, y con una pícara sonrisa, Araiza justificó así lo que acababa de pasar:. \"No me vayas a pegar, no me vayas a pegar fue de amor de *NUMBER* años",
       " Oye si en las novelas me lo daba",
       "\".. Legarreta, con sonrisa nervioasa, se acercó a Araiza y le dio un abrazo.. Para muchos esto significó \"las pases\" entre ambos, pues se dijo que los conductores estaban distanciados y que no se hablaban detrás de cámaras tras un reciente incidente en el programa.</td>\n",
       "    </tr>\n",
       "    <tr>\n",
       "      <th>3567</th>\n",
       "      <td>False</td>\n",
       "      <td>Adal Ramones protagonizará el remake de El Chavo del Ocho. El Chavo del Ocho, la famosa comedia que escribiera y protagonizara Roberto Gómez Bolaños \"Chespirito\" regresará a la pantalla chica en los próximos meses. Y esta vez no se trata de retransmisiones ni de la serie animada, sino de una nueva versión con conocidos actores.. El papel del Chavo será para Adal Ramones, quien pasó por un riguroso casting para esta producción de Pedro Torres en la que requirieron a un actor maduro para el personaje de niño de *NUMBER* años. \"Creemos que la edad de Chespirito fue un factor importante en el éxito de la serie\", declaró Torres para El.. El resto del elenco es el siguiente:. Israel Jaitovich será Quico.. Ninel Conde hará el doble papel de doña Florinda y La Popis.. Jesús Ochoa será el profesor Jirafales.. Omar Chaparro será don Ramón.. Adrián Uribe como Godinez.. Lucía Méndez como doña Clotilde.. Héctor Suárez Gomís como el señor Barriga y Ñoño en versión políticamente correcta.. Jorge Ortiz de Pinedo regresará a Televisa para interpretar el papel del señor Hurtado.. Y Martha Higareda como La Chilindrina..  La primera temporada contará con *NUMBER* capítulos de media hora, y serán lanzados en exclusiva por Blim. Un par de días después comenzarán a ser transmitidos por el canal *NUMBER* de Televisa.</td>\n",
       "    </tr>\n",
       "  </tbody>\n",
       "</table></div>"
      ],
      "text/plain": [
       "      Class                                               Text\n",
       "3563   True  Meryl Streep disfrutó unos premios Oscar tan m...\n",
       "3564  False  EL PLAGIO DE LANA DEL REY A RADIOHEAD FUE ACOR...\n",
       "3565   True  Ricardo Arjona lanza una serie documental por ...\n",
       "3566   True  Raúl Araiza sorprende a Andrea Legarreta con b...\n",
       "3567  False  Adal Ramones protagonizará el remake de El Cha..."
      ]
     },
     "execution_count": 5,
     "metadata": {},
     "output_type": "execute_result"
    }
   ],
   "source": [
    "df.tail()"
   ]
  },
  {
   "cell_type": "markdown",
   "id": "2929a3e2",
   "metadata": {},
   "source": [
    "#### Imprimimos la informacion general del DF, de aqui podemos saber cuantos registros tenemos, que clase de datos son, si tenemos nulls, etc"
   ]
  },
  {
   "cell_type": "code",
   "execution_count": 6,
   "id": "eb6ca2d5",
   "metadata": {},
   "outputs": [
    {
     "name": "stdout",
     "output_type": "stream",
     "text": [
      "<class 'pandas.core.frame.DataFrame'>\n",
      "RangeIndex: 3568 entries, 0 to 3567\n",
      "Data columns (total 2 columns):\n",
      " #   Column  Non-Null Count  Dtype \n",
      "---  ------  --------------  ----- \n",
      " 0   Class   3568 non-null   bool  \n",
      " 1   Text    3568 non-null   object\n",
      "dtypes: bool(1), object(1)\n",
      "memory usage: 31.5+ KB\n"
     ]
    }
   ],
   "source": [
    "df.info()"
   ]
  },
  {
   "cell_type": "markdown",
   "id": "982bfd1f",
   "metadata": {},
   "source": [
    "#### Imprimimos la informacion de los datos categoricos y aqui vemos por primera vez que tenemos datos dupicados"
   ]
  },
  {
   "cell_type": "code",
   "execution_count": 7,
   "id": "8647e8b7",
   "metadata": {},
   "outputs": [
    {
     "data": {
      "text/html": [
       "<div><div id=9ea48cdc-561f-4851-958f-589638f6fca3 style=\"display:none; background-color:#9D6CFF; color:white; width:200px; height:30px; padding-left:5px; border-radius:4px; flex-direction:row; justify-content:space-around; align-items:center;\" onmouseover=\"this.style.backgroundColor='#BA9BF8'\" onmouseout=\"this.style.backgroundColor='#9D6CFF'\" onclick=\"window.commands?.execute('create-mitosheet-from-dataframe-output');\">See Full Dataframe in Mito</div> <script> if (window.commands?.hasCommand('create-mitosheet-from-dataframe-output')) document.getElementById('9ea48cdc-561f-4851-958f-589638f6fca3').style.display = 'flex' </script> <table border=\"1\" class=\"dataframe\">\n",
       "  <thead>\n",
       "    <tr style=\"text-align: right;\">\n",
       "      <th></th>\n",
       "      <th>Text</th>\n",
       "    </tr>\n",
       "  </thead>\n",
       "  <tbody>\n",
       "    <tr>\n",
       "      <th>count</th>\n",
       "      <td>3568</td>\n",
       "    </tr>\n",
       "    <tr>\n",
       "      <th>unique</th>\n",
       "      <td>3518</td>\n",
       "    </tr>\n",
       "    <tr>\n",
       "      <th>top</th>\n",
       "      <td>Las autoridades suecas creen que con un día laboral más corto, los trabajadores se sentirán mejor física y mentalmente. Esta reducción horaria busca aumentar la eficiencia del trabajo, ahorrar fondos estatales y abrir nuevas oportunidades laborales. Si</td>\n",
       "    </tr>\n",
       "    <tr>\n",
       "      <th>freq</th>\n",
       "      <td>3</td>\n",
       "    </tr>\n",
       "  </tbody>\n",
       "</table></div>"
      ],
      "text/plain": [
       "                                                     Text\n",
       "count                                                3568\n",
       "unique                                               3518\n",
       "top     Las autoridades suecas creen que con un día la...\n",
       "freq                                                    3"
      ]
     },
     "execution_count": 7,
     "metadata": {},
     "output_type": "execute_result"
    }
   ],
   "source": [
    "df.describe(include=['O'])"
   ]
  },
  {
   "cell_type": "markdown",
   "id": "1118f2c4",
   "metadata": {},
   "source": [
    "#### Usamos la herramienta Profile Report para seguir entendiendo mas a nuestros datos"
   ]
  },
  {
   "cell_type": "code",
   "execution_count": 8,
   "id": "62fec131",
   "metadata": {},
   "outputs": [],
   "source": [
    "prof = ProfileReport(df) \n",
    "prof.to_file('fakeNews.html')"
   ]
  },
  {
   "cell_type": "markdown",
   "id": "b59a3e62",
   "metadata": {},
   "source": [
    "### Una vez que ya vimos y entendimos el dataframe, empezamos a realizar la limpieza y transformacion del mismo"
   ]
  },
  {
   "cell_type": "markdown",
   "id": "36a32bb4",
   "metadata": {},
   "source": [
    "#### Borramos los registros dupicados"
   ]
  },
  {
   "cell_type": "code",
   "execution_count": 9,
   "id": "2b21d9d1",
   "metadata": {},
   "outputs": [],
   "source": [
    "df = df.drop_duplicates('Text')"
   ]
  },
  {
   "cell_type": "markdown",
   "id": "16c91817",
   "metadata": {},
   "source": [
    "#### Limpiamos los textos de todas las palabras innecesarias"
   ]
  },
  {
   "cell_type": "code",
   "execution_count": 18,
   "id": "1f82679a",
   "metadata": {},
   "outputs": [
    {
     "name": "stdout",
     "output_type": "stream",
     "text": [
      "showing info https://raw.githubusercontent.com/nltk/nltk_data/gh-pages/index.xml\n"
     ]
    },
    {
     "data": {
      "text/plain": [
       "True"
      ]
     },
     "execution_count": 18,
     "metadata": {},
     "output_type": "execute_result"
    }
   ],
   "source": [
    "nltk.download()"
   ]
  },
  {
   "cell_type": "code",
   "execution_count": 21,
   "id": "3819db24",
   "metadata": {},
   "outputs": [],
   "source": [
    "stop = set(stopwords.words('spanish'))\n",
    "punctuation = list(string.punctuation)\n",
    "stop.update(punctuation)"
   ]
  },
  {
   "cell_type": "code",
   "execution_count": null,
   "id": "f300d117",
   "metadata": {},
   "outputs": [],
   "source": []
  },
  {
   "cell_type": "code",
   "execution_count": 10,
   "id": "dc528208",
   "metadata": {},
   "outputs": [
    {
     "name": "stdout",
     "output_type": "stream",
     "text": [
      "<class 'pandas.core.frame.DataFrame'>\n",
      "Int64Index: 3518 entries, 0 to 3567\n",
      "Data columns (total 2 columns):\n",
      " #   Column  Non-Null Count  Dtype \n",
      "---  ------  --------------  ----- \n",
      " 0   Class   3518 non-null   bool  \n",
      " 1   Text    3518 non-null   object\n",
      "dtypes: bool(1), object(1)\n",
      "memory usage: 58.4+ KB\n"
     ]
    }
   ],
   "source": [
    "df.info()"
   ]
  },
  {
   "cell_type": "code",
   "execution_count": 11,
   "id": "1c170818",
   "metadata": {},
   "outputs": [],
   "source": [
    "prof = ProfileReport(df) \n",
    "prof.to_file('fakeNewsClean.html')"
   ]
  }
 ],
 "metadata": {
  "kernelspec": {
   "display_name": "Python 3 (ipykernel)",
   "language": "python",
   "name": "python3"
  },
  "language_info": {
   "codemirror_mode": {
    "name": "ipython",
    "version": 3
   },
   "file_extension": ".py",
   "mimetype": "text/x-python",
   "name": "python",
   "nbconvert_exporter": "python",
   "pygments_lexer": "ipython3",
   "version": "3.9.7"
  }
 },
 "nbformat": 4,
 "nbformat_minor": 5
}
