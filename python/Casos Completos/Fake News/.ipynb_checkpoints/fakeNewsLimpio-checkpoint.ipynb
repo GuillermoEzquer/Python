{
 "cells": [
  {
   "cell_type": "markdown",
   "id": "4c5667a3",
   "metadata": {
    "id": "4c5667a3"
   },
   "source": [
    "# Trabajo final diplomatura Data Science"
   ]
  },
  {
   "cell_type": "markdown",
   "id": "60ca90b5",
   "metadata": {
    "id": "60ca90b5"
   },
   "source": [
    "## Fake News en Español"
   ]
  },
  {
   "cell_type": "markdown",
   "id": "80ea41a7",
   "metadata": {
    "id": "80ea41a7"
   },
   "source": [
    "### En este notebook a diferencia del anterior nos enfocaremos en resolver el problema de manera mas eficiente que catedratica y no usaremos herramientas que no sean necesarias, para asi conseguir un codigo mas limpio y eficiente."
   ]
  },
  {
   "cell_type": "markdown",
   "id": "be41bf80",
   "metadata": {
    "id": "be41bf80"
   },
   "source": [
    "### Importamos las librerias necesarias para el preprocesamiento de los datos ya que no sera necesario para este dataset realizar analisis exploratorio"
   ]
  },
  {
   "cell_type": "code",
   "execution_count": 1,
   "id": "AR1Fz60jjuJ7",
   "metadata": {
    "colab": {
     "base_uri": "https://localhost:8080/"
    },
    "id": "AR1Fz60jjuJ7",
    "outputId": "c1344345-3202-4654-9fe4-be592485b38a"
   },
   "outputs": [
    {
     "name": "stdout",
     "output_type": "stream",
     "text": [
      "Requirement already satisfied: mtbpy in c:\\programdata\\anaconda3\\lib\\site-packages (1.0.0.post1)\n",
      "Requirement already satisfied: protobuf>=3.8.0 in c:\\programdata\\anaconda3\\lib\\site-packages (from mtbpy) (4.21.11)\n",
      "Requirement already satisfied: grpcio>=1.26.0 in c:\\programdata\\anaconda3\\lib\\site-packages (from mtbpy) (1.51.1)\n",
      "Note: you may need to restart the kernel to use updated packages.\n"
     ]
    }
   ],
   "source": [
    "pip install mtbpy"
   ]
  },
  {
   "cell_type": "code",
   "execution_count": 2,
   "id": "xpHMTAHlnK7A",
   "metadata": {
    "colab": {
     "base_uri": "https://localhost:8080/"
    },
    "id": "xpHMTAHlnK7A",
    "outputId": "d640f447-e5bc-497f-f1ea-362a7c09589b"
   },
   "outputs": [
    {
     "name": "stderr",
     "output_type": "stream",
     "text": [
      "[nltk_data] Downloading collection 'all'\n",
      "[nltk_data]    | \n",
      "[nltk_data]    | Downloading package abc to\n",
      "[nltk_data]    |     C:\\Users\\USUARIO\\AppData\\Roaming\\nltk_data...\n",
      "[nltk_data]    |   Package abc is already up-to-date!\n",
      "[nltk_data]    | Downloading package alpino to\n",
      "[nltk_data]    |     C:\\Users\\USUARIO\\AppData\\Roaming\\nltk_data...\n",
      "[nltk_data]    |   Package alpino is already up-to-date!\n",
      "[nltk_data]    | Downloading package averaged_perceptron_tagger to\n",
      "[nltk_data]    |     C:\\Users\\USUARIO\\AppData\\Roaming\\nltk_data...\n",
      "[nltk_data]    |   Package averaged_perceptron_tagger is already up-\n",
      "[nltk_data]    |       to-date!\n",
      "[nltk_data]    | Downloading package averaged_perceptron_tagger_ru to\n",
      "[nltk_data]    |     C:\\Users\\USUARIO\\AppData\\Roaming\\nltk_data...\n",
      "[nltk_data]    |   Package averaged_perceptron_tagger_ru is already\n",
      "[nltk_data]    |       up-to-date!\n",
      "[nltk_data]    | Downloading package basque_grammars to\n",
      "[nltk_data]    |     C:\\Users\\USUARIO\\AppData\\Roaming\\nltk_data...\n",
      "[nltk_data]    |   Package basque_grammars is already up-to-date!\n",
      "[nltk_data]    | Downloading package bcp47 to\n",
      "[nltk_data]    |     C:\\Users\\USUARIO\\AppData\\Roaming\\nltk_data...\n",
      "[nltk_data]    |   Package bcp47 is already up-to-date!\n",
      "[nltk_data]    | Downloading package biocreative_ppi to\n",
      "[nltk_data]    |     C:\\Users\\USUARIO\\AppData\\Roaming\\nltk_data...\n",
      "[nltk_data]    |   Package biocreative_ppi is already up-to-date!\n",
      "[nltk_data]    | Downloading package bllip_wsj_no_aux to\n",
      "[nltk_data]    |     C:\\Users\\USUARIO\\AppData\\Roaming\\nltk_data...\n",
      "[nltk_data]    |   Package bllip_wsj_no_aux is already up-to-date!\n",
      "[nltk_data]    | Downloading package book_grammars to\n",
      "[nltk_data]    |     C:\\Users\\USUARIO\\AppData\\Roaming\\nltk_data...\n",
      "[nltk_data]    |   Package book_grammars is already up-to-date!\n",
      "[nltk_data]    | Downloading package brown to\n",
      "[nltk_data]    |     C:\\Users\\USUARIO\\AppData\\Roaming\\nltk_data...\n",
      "[nltk_data]    |   Package brown is already up-to-date!\n",
      "[nltk_data]    | Downloading package brown_tei to\n",
      "[nltk_data]    |     C:\\Users\\USUARIO\\AppData\\Roaming\\nltk_data...\n",
      "[nltk_data]    |   Package brown_tei is already up-to-date!\n",
      "[nltk_data]    | Downloading package cess_cat to\n",
      "[nltk_data]    |     C:\\Users\\USUARIO\\AppData\\Roaming\\nltk_data...\n",
      "[nltk_data]    |   Package cess_cat is already up-to-date!\n",
      "[nltk_data]    | Downloading package cess_esp to\n",
      "[nltk_data]    |     C:\\Users\\USUARIO\\AppData\\Roaming\\nltk_data...\n",
      "[nltk_data]    |   Package cess_esp is already up-to-date!\n",
      "[nltk_data]    | Downloading package chat80 to\n",
      "[nltk_data]    |     C:\\Users\\USUARIO\\AppData\\Roaming\\nltk_data...\n",
      "[nltk_data]    |   Package chat80 is already up-to-date!\n",
      "[nltk_data]    | Downloading package city_database to\n",
      "[nltk_data]    |     C:\\Users\\USUARIO\\AppData\\Roaming\\nltk_data...\n",
      "[nltk_data]    |   Package city_database is already up-to-date!\n",
      "[nltk_data]    | Downloading package cmudict to\n",
      "[nltk_data]    |     C:\\Users\\USUARIO\\AppData\\Roaming\\nltk_data...\n",
      "[nltk_data]    |   Package cmudict is already up-to-date!\n",
      "[nltk_data]    | Downloading package comparative_sentences to\n",
      "[nltk_data]    |     C:\\Users\\USUARIO\\AppData\\Roaming\\nltk_data...\n",
      "[nltk_data]    |   Package comparative_sentences is already up-to-\n",
      "[nltk_data]    |       date!\n",
      "[nltk_data]    | Downloading package comtrans to\n",
      "[nltk_data]    |     C:\\Users\\USUARIO\\AppData\\Roaming\\nltk_data...\n",
      "[nltk_data]    |   Package comtrans is already up-to-date!\n",
      "[nltk_data]    | Downloading package conll2000 to\n",
      "[nltk_data]    |     C:\\Users\\USUARIO\\AppData\\Roaming\\nltk_data...\n",
      "[nltk_data]    |   Package conll2000 is already up-to-date!\n",
      "[nltk_data]    | Downloading package conll2002 to\n",
      "[nltk_data]    |     C:\\Users\\USUARIO\\AppData\\Roaming\\nltk_data...\n",
      "[nltk_data]    |   Package conll2002 is already up-to-date!\n",
      "[nltk_data]    | Downloading package conll2007 to\n",
      "[nltk_data]    |     C:\\Users\\USUARIO\\AppData\\Roaming\\nltk_data...\n",
      "[nltk_data]    |   Package conll2007 is already up-to-date!\n",
      "[nltk_data]    | Downloading package crubadan to\n",
      "[nltk_data]    |     C:\\Users\\USUARIO\\AppData\\Roaming\\nltk_data...\n",
      "[nltk_data]    |   Package crubadan is already up-to-date!\n",
      "[nltk_data]    | Downloading package dependency_treebank to\n",
      "[nltk_data]    |     C:\\Users\\USUARIO\\AppData\\Roaming\\nltk_data...\n",
      "[nltk_data]    |   Package dependency_treebank is already up-to-date!\n",
      "[nltk_data]    | Downloading package dolch to\n",
      "[nltk_data]    |     C:\\Users\\USUARIO\\AppData\\Roaming\\nltk_data...\n",
      "[nltk_data]    |   Package dolch is already up-to-date!\n",
      "[nltk_data]    | Downloading package europarl_raw to\n",
      "[nltk_data]    |     C:\\Users\\USUARIO\\AppData\\Roaming\\nltk_data...\n",
      "[nltk_data]    |   Package europarl_raw is already up-to-date!\n",
      "[nltk_data]    | Downloading package extended_omw to\n",
      "[nltk_data]    |     C:\\Users\\USUARIO\\AppData\\Roaming\\nltk_data...\n",
      "[nltk_data]    |   Package extended_omw is already up-to-date!\n",
      "[nltk_data]    | Downloading package floresta to\n",
      "[nltk_data]    |     C:\\Users\\USUARIO\\AppData\\Roaming\\nltk_data...\n",
      "[nltk_data]    |   Package floresta is already up-to-date!\n",
      "[nltk_data]    | Downloading package framenet_v15 to\n",
      "[nltk_data]    |     C:\\Users\\USUARIO\\AppData\\Roaming\\nltk_data...\n",
      "[nltk_data]    |   Package framenet_v15 is already up-to-date!\n",
      "[nltk_data]    | Downloading package framenet_v17 to\n",
      "[nltk_data]    |     C:\\Users\\USUARIO\\AppData\\Roaming\\nltk_data...\n",
      "[nltk_data]    |   Package framenet_v17 is already up-to-date!\n",
      "[nltk_data]    | Downloading package gazetteers to\n",
      "[nltk_data]    |     C:\\Users\\USUARIO\\AppData\\Roaming\\nltk_data...\n",
      "[nltk_data]    |   Package gazetteers is already up-to-date!\n",
      "[nltk_data]    | Downloading package genesis to\n",
      "[nltk_data]    |     C:\\Users\\USUARIO\\AppData\\Roaming\\nltk_data...\n",
      "[nltk_data]    |   Package genesis is already up-to-date!\n",
      "[nltk_data]    | Downloading package gutenberg to\n",
      "[nltk_data]    |     C:\\Users\\USUARIO\\AppData\\Roaming\\nltk_data...\n",
      "[nltk_data]    |   Package gutenberg is already up-to-date!\n",
      "[nltk_data]    | Downloading package ieer to\n",
      "[nltk_data]    |     C:\\Users\\USUARIO\\AppData\\Roaming\\nltk_data...\n",
      "[nltk_data]    |   Package ieer is already up-to-date!\n",
      "[nltk_data]    | Downloading package inaugural to\n",
      "[nltk_data]    |     C:\\Users\\USUARIO\\AppData\\Roaming\\nltk_data...\n",
      "[nltk_data]    |   Package inaugural is already up-to-date!\n",
      "[nltk_data]    | Downloading package indian to\n",
      "[nltk_data]    |     C:\\Users\\USUARIO\\AppData\\Roaming\\nltk_data...\n",
      "[nltk_data]    |   Package indian is already up-to-date!\n",
      "[nltk_data]    | Downloading package jeita to\n",
      "[nltk_data]    |     C:\\Users\\USUARIO\\AppData\\Roaming\\nltk_data...\n",
      "[nltk_data]    |   Package jeita is already up-to-date!\n",
      "[nltk_data]    | Downloading package kimmo to\n",
      "[nltk_data]    |     C:\\Users\\USUARIO\\AppData\\Roaming\\nltk_data...\n",
      "[nltk_data]    |   Package kimmo is already up-to-date!\n",
      "[nltk_data]    | Downloading package knbc to\n",
      "[nltk_data]    |     C:\\Users\\USUARIO\\AppData\\Roaming\\nltk_data...\n",
      "[nltk_data]    |   Package knbc is already up-to-date!\n",
      "[nltk_data]    | Downloading package large_grammars to\n",
      "[nltk_data]    |     C:\\Users\\USUARIO\\AppData\\Roaming\\nltk_data...\n",
      "[nltk_data]    |   Package large_grammars is already up-to-date!\n",
      "[nltk_data]    | Downloading package lin_thesaurus to\n",
      "[nltk_data]    |     C:\\Users\\USUARIO\\AppData\\Roaming\\nltk_data...\n",
      "[nltk_data]    |   Package lin_thesaurus is already up-to-date!\n",
      "[nltk_data]    | Downloading package mac_morpho to\n",
      "[nltk_data]    |     C:\\Users\\USUARIO\\AppData\\Roaming\\nltk_data...\n",
      "[nltk_data]    |   Package mac_morpho is already up-to-date!\n",
      "[nltk_data]    | Downloading package machado to\n",
      "[nltk_data]    |     C:\\Users\\USUARIO\\AppData\\Roaming\\nltk_data...\n",
      "[nltk_data]    |   Package machado is already up-to-date!\n",
      "[nltk_data]    | Downloading package masc_tagged to\n",
      "[nltk_data]    |     C:\\Users\\USUARIO\\AppData\\Roaming\\nltk_data...\n",
      "[nltk_data]    |   Package masc_tagged is already up-to-date!\n",
      "[nltk_data]    | Downloading package maxent_ne_chunker to\n",
      "[nltk_data]    |     C:\\Users\\USUARIO\\AppData\\Roaming\\nltk_data...\n",
      "[nltk_data]    |   Package maxent_ne_chunker is already up-to-date!\n",
      "[nltk_data]    | Downloading package maxent_treebank_pos_tagger to\n",
      "[nltk_data]    |     C:\\Users\\USUARIO\\AppData\\Roaming\\nltk_data...\n",
      "[nltk_data]    |   Package maxent_treebank_pos_tagger is already up-\n",
      "[nltk_data]    |       to-date!\n",
      "[nltk_data]    | Downloading package moses_sample to\n",
      "[nltk_data]    |     C:\\Users\\USUARIO\\AppData\\Roaming\\nltk_data...\n",
      "[nltk_data]    |   Package moses_sample is already up-to-date!\n",
      "[nltk_data]    | Downloading package movie_reviews to\n",
      "[nltk_data]    |     C:\\Users\\USUARIO\\AppData\\Roaming\\nltk_data...\n"
     ]
    },
    {
     "name": "stderr",
     "output_type": "stream",
     "text": [
      "[nltk_data]    |   Package movie_reviews is already up-to-date!\n",
      "[nltk_data]    | Downloading package mte_teip5 to\n",
      "[nltk_data]    |     C:\\Users\\USUARIO\\AppData\\Roaming\\nltk_data...\n",
      "[nltk_data]    |   Package mte_teip5 is already up-to-date!\n",
      "[nltk_data]    | Downloading package mwa_ppdb to\n",
      "[nltk_data]    |     C:\\Users\\USUARIO\\AppData\\Roaming\\nltk_data...\n",
      "[nltk_data]    |   Package mwa_ppdb is already up-to-date!\n",
      "[nltk_data]    | Downloading package names to\n",
      "[nltk_data]    |     C:\\Users\\USUARIO\\AppData\\Roaming\\nltk_data...\n",
      "[nltk_data]    |   Package names is already up-to-date!\n",
      "[nltk_data]    | Downloading package nombank.1.0 to\n",
      "[nltk_data]    |     C:\\Users\\USUARIO\\AppData\\Roaming\\nltk_data...\n",
      "[nltk_data]    |   Package nombank.1.0 is already up-to-date!\n",
      "[nltk_data]    | Downloading package nonbreaking_prefixes to\n",
      "[nltk_data]    |     C:\\Users\\USUARIO\\AppData\\Roaming\\nltk_data...\n",
      "[nltk_data]    |   Package nonbreaking_prefixes is already up-to-date!\n",
      "[nltk_data]    | Downloading package nps_chat to\n",
      "[nltk_data]    |     C:\\Users\\USUARIO\\AppData\\Roaming\\nltk_data...\n",
      "[nltk_data]    |   Package nps_chat is already up-to-date!\n",
      "[nltk_data]    | Downloading package omw to\n",
      "[nltk_data]    |     C:\\Users\\USUARIO\\AppData\\Roaming\\nltk_data...\n",
      "[nltk_data]    |   Package omw is already up-to-date!\n",
      "[nltk_data]    | Downloading package omw-1.4 to\n",
      "[nltk_data]    |     C:\\Users\\USUARIO\\AppData\\Roaming\\nltk_data...\n",
      "[nltk_data]    |   Package omw-1.4 is already up-to-date!\n",
      "[nltk_data]    | Downloading package opinion_lexicon to\n",
      "[nltk_data]    |     C:\\Users\\USUARIO\\AppData\\Roaming\\nltk_data...\n",
      "[nltk_data]    |   Package opinion_lexicon is already up-to-date!\n",
      "[nltk_data]    | Downloading package panlex_swadesh to\n",
      "[nltk_data]    |     C:\\Users\\USUARIO\\AppData\\Roaming\\nltk_data...\n",
      "[nltk_data]    |   Package panlex_swadesh is already up-to-date!\n",
      "[nltk_data]    | Downloading package paradigms to\n",
      "[nltk_data]    |     C:\\Users\\USUARIO\\AppData\\Roaming\\nltk_data...\n",
      "[nltk_data]    |   Package paradigms is already up-to-date!\n",
      "[nltk_data]    | Downloading package pe08 to\n",
      "[nltk_data]    |     C:\\Users\\USUARIO\\AppData\\Roaming\\nltk_data...\n",
      "[nltk_data]    |   Package pe08 is already up-to-date!\n",
      "[nltk_data]    | Downloading package perluniprops to\n",
      "[nltk_data]    |     C:\\Users\\USUARIO\\AppData\\Roaming\\nltk_data...\n",
      "[nltk_data]    |   Package perluniprops is already up-to-date!\n",
      "[nltk_data]    | Downloading package pil to\n",
      "[nltk_data]    |     C:\\Users\\USUARIO\\AppData\\Roaming\\nltk_data...\n",
      "[nltk_data]    |   Package pil is already up-to-date!\n",
      "[nltk_data]    | Downloading package pl196x to\n",
      "[nltk_data]    |     C:\\Users\\USUARIO\\AppData\\Roaming\\nltk_data...\n",
      "[nltk_data]    |   Package pl196x is already up-to-date!\n",
      "[nltk_data]    | Downloading package porter_test to\n",
      "[nltk_data]    |     C:\\Users\\USUARIO\\AppData\\Roaming\\nltk_data...\n",
      "[nltk_data]    |   Package porter_test is already up-to-date!\n",
      "[nltk_data]    | Downloading package ppattach to\n",
      "[nltk_data]    |     C:\\Users\\USUARIO\\AppData\\Roaming\\nltk_data...\n",
      "[nltk_data]    |   Package ppattach is already up-to-date!\n",
      "[nltk_data]    | Downloading package problem_reports to\n",
      "[nltk_data]    |     C:\\Users\\USUARIO\\AppData\\Roaming\\nltk_data...\n",
      "[nltk_data]    |   Package problem_reports is already up-to-date!\n",
      "[nltk_data]    | Downloading package product_reviews_1 to\n",
      "[nltk_data]    |     C:\\Users\\USUARIO\\AppData\\Roaming\\nltk_data...\n",
      "[nltk_data]    |   Package product_reviews_1 is already up-to-date!\n",
      "[nltk_data]    | Downloading package product_reviews_2 to\n",
      "[nltk_data]    |     C:\\Users\\USUARIO\\AppData\\Roaming\\nltk_data...\n",
      "[nltk_data]    |   Package product_reviews_2 is already up-to-date!\n",
      "[nltk_data]    | Downloading package propbank to\n",
      "[nltk_data]    |     C:\\Users\\USUARIO\\AppData\\Roaming\\nltk_data...\n",
      "[nltk_data]    |   Package propbank is already up-to-date!\n",
      "[nltk_data]    | Downloading package pros_cons to\n",
      "[nltk_data]    |     C:\\Users\\USUARIO\\AppData\\Roaming\\nltk_data...\n",
      "[nltk_data]    |   Package pros_cons is already up-to-date!\n",
      "[nltk_data]    | Downloading package ptb to\n",
      "[nltk_data]    |     C:\\Users\\USUARIO\\AppData\\Roaming\\nltk_data...\n",
      "[nltk_data]    |   Package ptb is already up-to-date!\n",
      "[nltk_data]    | Downloading package punkt to\n",
      "[nltk_data]    |     C:\\Users\\USUARIO\\AppData\\Roaming\\nltk_data...\n",
      "[nltk_data]    |   Package punkt is already up-to-date!\n",
      "[nltk_data]    | Downloading package qc to\n",
      "[nltk_data]    |     C:\\Users\\USUARIO\\AppData\\Roaming\\nltk_data...\n",
      "[nltk_data]    |   Package qc is already up-to-date!\n",
      "[nltk_data]    | Downloading package reuters to\n",
      "[nltk_data]    |     C:\\Users\\USUARIO\\AppData\\Roaming\\nltk_data...\n",
      "[nltk_data]    |   Package reuters is already up-to-date!\n",
      "[nltk_data]    | Downloading package rslp to\n",
      "[nltk_data]    |     C:\\Users\\USUARIO\\AppData\\Roaming\\nltk_data...\n",
      "[nltk_data]    |   Package rslp is already up-to-date!\n",
      "[nltk_data]    | Downloading package rte to\n",
      "[nltk_data]    |     C:\\Users\\USUARIO\\AppData\\Roaming\\nltk_data...\n",
      "[nltk_data]    |   Package rte is already up-to-date!\n",
      "[nltk_data]    | Downloading package sample_grammars to\n",
      "[nltk_data]    |     C:\\Users\\USUARIO\\AppData\\Roaming\\nltk_data...\n",
      "[nltk_data]    |   Package sample_grammars is already up-to-date!\n",
      "[nltk_data]    | Downloading package semcor to\n",
      "[nltk_data]    |     C:\\Users\\USUARIO\\AppData\\Roaming\\nltk_data...\n",
      "[nltk_data]    |   Package semcor is already up-to-date!\n",
      "[nltk_data]    | Downloading package senseval to\n",
      "[nltk_data]    |     C:\\Users\\USUARIO\\AppData\\Roaming\\nltk_data...\n",
      "[nltk_data]    |   Package senseval is already up-to-date!\n",
      "[nltk_data]    | Downloading package sentence_polarity to\n",
      "[nltk_data]    |     C:\\Users\\USUARIO\\AppData\\Roaming\\nltk_data...\n",
      "[nltk_data]    |   Package sentence_polarity is already up-to-date!\n",
      "[nltk_data]    | Downloading package sentiwordnet to\n",
      "[nltk_data]    |     C:\\Users\\USUARIO\\AppData\\Roaming\\nltk_data...\n",
      "[nltk_data]    |   Package sentiwordnet is already up-to-date!\n",
      "[nltk_data]    | Downloading package shakespeare to\n",
      "[nltk_data]    |     C:\\Users\\USUARIO\\AppData\\Roaming\\nltk_data...\n",
      "[nltk_data]    |   Package shakespeare is already up-to-date!\n",
      "[nltk_data]    | Downloading package sinica_treebank to\n",
      "[nltk_data]    |     C:\\Users\\USUARIO\\AppData\\Roaming\\nltk_data...\n",
      "[nltk_data]    |   Package sinica_treebank is already up-to-date!\n",
      "[nltk_data]    | Downloading package smultron to\n",
      "[nltk_data]    |     C:\\Users\\USUARIO\\AppData\\Roaming\\nltk_data...\n",
      "[nltk_data]    |   Package smultron is already up-to-date!\n",
      "[nltk_data]    | Downloading package snowball_data to\n",
      "[nltk_data]    |     C:\\Users\\USUARIO\\AppData\\Roaming\\nltk_data...\n",
      "[nltk_data]    |   Package snowball_data is already up-to-date!\n",
      "[nltk_data]    | Downloading package spanish_grammars to\n",
      "[nltk_data]    |     C:\\Users\\USUARIO\\AppData\\Roaming\\nltk_data...\n",
      "[nltk_data]    |   Package spanish_grammars is already up-to-date!\n",
      "[nltk_data]    | Downloading package state_union to\n",
      "[nltk_data]    |     C:\\Users\\USUARIO\\AppData\\Roaming\\nltk_data...\n",
      "[nltk_data]    |   Package state_union is already up-to-date!\n",
      "[nltk_data]    | Downloading package stopwords to\n",
      "[nltk_data]    |     C:\\Users\\USUARIO\\AppData\\Roaming\\nltk_data...\n",
      "[nltk_data]    |   Package stopwords is already up-to-date!\n",
      "[nltk_data]    | Downloading package subjectivity to\n",
      "[nltk_data]    |     C:\\Users\\USUARIO\\AppData\\Roaming\\nltk_data...\n",
      "[nltk_data]    |   Package subjectivity is already up-to-date!\n",
      "[nltk_data]    | Downloading package swadesh to\n",
      "[nltk_data]    |     C:\\Users\\USUARIO\\AppData\\Roaming\\nltk_data...\n",
      "[nltk_data]    |   Package swadesh is already up-to-date!\n",
      "[nltk_data]    | Downloading package switchboard to\n",
      "[nltk_data]    |     C:\\Users\\USUARIO\\AppData\\Roaming\\nltk_data...\n",
      "[nltk_data]    |   Package switchboard is already up-to-date!\n",
      "[nltk_data]    | Downloading package tagsets to\n",
      "[nltk_data]    |     C:\\Users\\USUARIO\\AppData\\Roaming\\nltk_data...\n",
      "[nltk_data]    |   Package tagsets is already up-to-date!\n",
      "[nltk_data]    | Downloading package timit to\n",
      "[nltk_data]    |     C:\\Users\\USUARIO\\AppData\\Roaming\\nltk_data...\n",
      "[nltk_data]    |   Package timit is already up-to-date!\n",
      "[nltk_data]    | Downloading package toolbox to\n",
      "[nltk_data]    |     C:\\Users\\USUARIO\\AppData\\Roaming\\nltk_data...\n",
      "[nltk_data]    |   Package toolbox is already up-to-date!\n",
      "[nltk_data]    | Downloading package treebank to\n",
      "[nltk_data]    |     C:\\Users\\USUARIO\\AppData\\Roaming\\nltk_data...\n"
     ]
    },
    {
     "name": "stderr",
     "output_type": "stream",
     "text": [
      "[nltk_data]    |   Package treebank is already up-to-date!\n",
      "[nltk_data]    | Downloading package twitter_samples to\n",
      "[nltk_data]    |     C:\\Users\\USUARIO\\AppData\\Roaming\\nltk_data...\n",
      "[nltk_data]    |   Package twitter_samples is already up-to-date!\n",
      "[nltk_data]    | Downloading package udhr to\n",
      "[nltk_data]    |     C:\\Users\\USUARIO\\AppData\\Roaming\\nltk_data...\n",
      "[nltk_data]    |   Package udhr is already up-to-date!\n",
      "[nltk_data]    | Downloading package udhr2 to\n",
      "[nltk_data]    |     C:\\Users\\USUARIO\\AppData\\Roaming\\nltk_data...\n",
      "[nltk_data]    |   Package udhr2 is already up-to-date!\n",
      "[nltk_data]    | Downloading package unicode_samples to\n",
      "[nltk_data]    |     C:\\Users\\USUARIO\\AppData\\Roaming\\nltk_data...\n",
      "[nltk_data]    |   Package unicode_samples is already up-to-date!\n",
      "[nltk_data]    | Downloading package universal_tagset to\n",
      "[nltk_data]    |     C:\\Users\\USUARIO\\AppData\\Roaming\\nltk_data...\n",
      "[nltk_data]    |   Package universal_tagset is already up-to-date!\n",
      "[nltk_data]    | Downloading package universal_treebanks_v20 to\n",
      "[nltk_data]    |     C:\\Users\\USUARIO\\AppData\\Roaming\\nltk_data...\n",
      "[nltk_data]    |   Package universal_treebanks_v20 is already up-to-\n",
      "[nltk_data]    |       date!\n",
      "[nltk_data]    | Downloading package vader_lexicon to\n",
      "[nltk_data]    |     C:\\Users\\USUARIO\\AppData\\Roaming\\nltk_data...\n",
      "[nltk_data]    |   Package vader_lexicon is already up-to-date!\n",
      "[nltk_data]    | Downloading package verbnet to\n",
      "[nltk_data]    |     C:\\Users\\USUARIO\\AppData\\Roaming\\nltk_data...\n",
      "[nltk_data]    |   Package verbnet is already up-to-date!\n",
      "[nltk_data]    | Downloading package verbnet3 to\n",
      "[nltk_data]    |     C:\\Users\\USUARIO\\AppData\\Roaming\\nltk_data...\n",
      "[nltk_data]    |   Package verbnet3 is already up-to-date!\n",
      "[nltk_data]    | Downloading package webtext to\n",
      "[nltk_data]    |     C:\\Users\\USUARIO\\AppData\\Roaming\\nltk_data...\n",
      "[nltk_data]    |   Package webtext is already up-to-date!\n",
      "[nltk_data]    | Downloading package wmt15_eval to\n",
      "[nltk_data]    |     C:\\Users\\USUARIO\\AppData\\Roaming\\nltk_data...\n",
      "[nltk_data]    |   Package wmt15_eval is already up-to-date!\n",
      "[nltk_data]    | Downloading package word2vec_sample to\n",
      "[nltk_data]    |     C:\\Users\\USUARIO\\AppData\\Roaming\\nltk_data...\n",
      "[nltk_data]    |   Package word2vec_sample is already up-to-date!\n",
      "[nltk_data]    | Downloading package wordnet to\n",
      "[nltk_data]    |     C:\\Users\\USUARIO\\AppData\\Roaming\\nltk_data...\n",
      "[nltk_data]    |   Package wordnet is already up-to-date!\n",
      "[nltk_data]    | Downloading package wordnet2021 to\n",
      "[nltk_data]    |     C:\\Users\\USUARIO\\AppData\\Roaming\\nltk_data...\n",
      "[nltk_data]    |   Package wordnet2021 is already up-to-date!\n",
      "[nltk_data]    | Downloading package wordnet31 to\n",
      "[nltk_data]    |     C:\\Users\\USUARIO\\AppData\\Roaming\\nltk_data...\n",
      "[nltk_data]    |   Package wordnet31 is already up-to-date!\n",
      "[nltk_data]    | Downloading package wordnet_ic to\n",
      "[nltk_data]    |     C:\\Users\\USUARIO\\AppData\\Roaming\\nltk_data...\n",
      "[nltk_data]    |   Package wordnet_ic is already up-to-date!\n",
      "[nltk_data]    | Downloading package words to\n",
      "[nltk_data]    |     C:\\Users\\USUARIO\\AppData\\Roaming\\nltk_data...\n",
      "[nltk_data]    |   Package words is already up-to-date!\n",
      "[nltk_data]    | Downloading package ycoe to\n",
      "[nltk_data]    |     C:\\Users\\USUARIO\\AppData\\Roaming\\nltk_data...\n",
      "[nltk_data]    |   Package ycoe is already up-to-date!\n",
      "[nltk_data]    | \n",
      "[nltk_data]  Done downloading collection all\n"
     ]
    },
    {
     "data": {
      "text/plain": [
       "True"
      ]
     },
     "execution_count": 2,
     "metadata": {},
     "output_type": "execute_result"
    }
   ],
   "source": [
    "import nltk\n",
    "nltk.download('all')"
   ]
  },
  {
   "cell_type": "code",
   "execution_count": 3,
   "id": "js8pFuggjzC3",
   "metadata": {
    "colab": {
     "base_uri": "https://localhost:8080/"
    },
    "id": "js8pFuggjzC3",
    "outputId": "f9b33aec-3f9c-4f71-bc06-52568ade262d"
   },
   "outputs": [],
   "source": [
    "#from google.colab import drive\n",
    "#drive.mount('/content/drive')"
   ]
  },
  {
   "cell_type": "code",
   "execution_count": 4,
   "id": "80c1e70b",
   "metadata": {
    "id": "80c1e70b"
   },
   "outputs": [],
   "source": [
    "import numpy as np\n",
    "import matplotlib.pyplot as plt\n",
    "import seaborn as sn\n",
    "import pandas as pd\n",
    "import pydotplus\n",
    "import string\n",
    "from six import StringIO\n",
    "from IPython.display import Image\n",
    "from pydotplus import graph_from_dot_data\n",
    "from nltk.corpus import stopwords, wordnet\n",
    "from nltk.tokenize.toktok import ToktokTokenizer\n",
    "from nltk.stem import PorterStemmer,WordNetLemmatizer,SnowballStemmer\n",
    "from nltk.probability import FreqDist\n",
    "from string import punctuation\n",
    "import mtbpy\n",
    "from wordcloud import WordCloud\n",
    "import re\n",
    "from pandas_profiling import ProfileReport\n",
    "%matplotlib inline"
   ]
  },
  {
   "cell_type": "markdown",
   "id": "f22715bb",
   "metadata": {
    "id": "f22715bb"
   },
   "source": [
    "### Importamos el dataset a nuestro dataframe\n",
    "#### Nuestros datos se encuentran en un archivo txt y los valores estan separados por tabulaciones, tambien necesitamos especificar la codificacion para no tener problemas con los acentos y ñ por ejemplo"
   ]
  },
  {
   "cell_type": "code",
   "execution_count": 5,
   "id": "187c6658",
   "metadata": {
    "id": "187c6658"
   },
   "outputs": [],
   "source": [
    "#df = pd.read_csv('/content/drive/MyDrive/fakeNews/fakeNews.txt',encoding='latin-1',delimiter='\\t')\n",
    "df = pd.read_csv('Dataset/fakeNews.txt',encoding='latin-1',delimiter='\\t')"
   ]
  },
  {
   "cell_type": "markdown",
   "id": "c0e38d95",
   "metadata": {
    "id": "c0e38d95"
   },
   "source": [
    "### Empezamos el preprocesamiento de os datos para obtener un dataset apto para el modelado"
   ]
  },
  {
   "cell_type": "markdown",
   "id": "9332a1d4",
   "metadata": {
    "id": "9332a1d4"
   },
   "source": [
    "#### Borramos los registros dupicados"
   ]
  },
  {
   "cell_type": "code",
   "execution_count": 6,
   "id": "3bd99a37",
   "metadata": {
    "id": "3bd99a37"
   },
   "outputs": [],
   "source": [
    "df = df.drop_duplicates('Text')"
   ]
  },
  {
   "cell_type": "markdown",
   "id": "181ff48a",
   "metadata": {
    "id": "181ff48a"
   },
   "source": [
    "#### Para limpiar y tokenizar a mismo tiempo podemos usar esta funcion"
   ]
  },
  {
   "cell_type": "code",
   "execution_count": 7,
   "id": "d8113997",
   "metadata": {
    "id": "d8113997"
   },
   "outputs": [],
   "source": [
    "def limpiar_tokenizar(texto):\n",
    "    # Se convierte todo el texto a minúsculas\n",
    "    nuevo_texto = texto.lower()\n",
    "    # Eliminación de páginas web (palabras que empiezan por \"http\")\n",
    "    nuevo_texto = re.sub('http\\S+', ' ', nuevo_texto)\n",
    "    # Eliminación de signos de puntuación\n",
    "    regex = '[\\\\?\\\\!\\\\¡\\\\\"\\\\#\\\\$\\\\%\\\\&\\\\\\'\\\\(\\\\)\\\\*\\\\+\\\\,\\\\-\\\\.\\\\/\\\\:\\\\;\\\\<\\\\=\\\\>\\\\?\\\\@\\\\[\\\\\\\\\\\\]\\\\^_\\\\`\\\\{\\\\|\\\\}\\\\~]'\n",
    "    nuevo_texto = re.sub(regex , ' ', nuevo_texto)\n",
    "    # Eliminación de números\n",
    "    nuevo_texto = re.sub(\"\\d+\", ' ', nuevo_texto)\n",
    "    # Eliminación de espacios en blanco múltiples\n",
    "    nuevo_texto = re.sub(\"\\\\s+\", ' ', nuevo_texto)\n",
    "    # Tokenización por palabras individuales\n",
    "    nuevo_texto = nuevo_texto.split(sep = ' ')\n",
    "    # Eliminación de tokens con una longitud < 2\n",
    "    nuevo_texto = [token for token in nuevo_texto if len(token) > 1]\n",
    "    \n",
    "    return(nuevo_texto)"
   ]
  },
  {
   "cell_type": "code",
   "execution_count": 8,
   "id": "96bede89",
   "metadata": {
    "id": "96bede89"
   },
   "outputs": [],
   "source": [
    "df['Text'] = df['Text'].apply(lambda x: limpiar_tokenizar(x))"
   ]
  },
  {
   "cell_type": "code",
   "execution_count": 9,
   "id": "1eaef581",
   "metadata": {
    "colab": {
     "base_uri": "https://localhost:8080/",
     "height": 206
    },
    "id": "1eaef581",
    "outputId": "68582b3c-0c0e-4ce1-bc2f-f23110128806"
   },
   "outputs": [
    {
     "data": {
      "text/html": [
       "<div><div id=fb19be45-a06b-4743-8623-c496f95aa10f style=\"display:none; background-color:#9D6CFF; color:white; width:200px; height:30px; padding-left:5px; border-radius:4px; flex-direction:row; justify-content:space-around; align-items:center;\" onmouseover=\"this.style.backgroundColor='#BA9BF8'\" onmouseout=\"this.style.backgroundColor='#9D6CFF'\" onclick=\"window.commands?.execute('create-mitosheet-from-dataframe-output');\">See Full Dataframe in Mito</div> <script> if (window.commands?.hasCommand('create-mitosheet-from-dataframe-output')) document.getElementById('fb19be45-a06b-4743-8623-c496f95aa10f').style.display = 'flex' </script> <table border=\"1\" class=\"dataframe\">\n",
       "  <thead>\n",
       "    <tr style=\"text-align: right;\">\n",
       "      <th></th>\n",
       "      <th>Class</th>\n",
       "      <th>Text</th>\n",
       "    </tr>\n",
       "  </thead>\n",
       "  <tbody>\n",
       "    <tr>\n",
       "      <th>0</th>\n",
       "      <td>True</td>\n",
       "      <td>[algunas, de, las, voces, extremistas, más, conocidas, de, ee, uu, cuentas, asociadas, con, al, movimiento, de, la, conocida, como, alt, right, ligadas, grupos, antisemitas, xenófobos, han, sido, eliminadas, de, un, plumazo, de, la, redes, sociales, facebook, instagram, se, trat]</td>\n",
       "    </tr>\n",
       "    <tr>\n",
       "      <th>1</th>\n",
       "      <td>True</td>\n",
       "      <td>[después, de, casi, dos, años, medio, de, luchas, políticas, judiciales, donald, trump, ha, presentado, hoy, su, proyecto, de, inmigración, para, estados, unidos, es, un, proyecto, elaborado, por, el, yerno, asesor, de, donald, trump, jared, kushner, que, sólo, concreta, una, cosa]</td>\n",
       "    </tr>\n",
       "    <tr>\n",
       "      <th>2</th>\n",
       "      <td>True</td>\n",
       "      <td>[dos, periodistas, birmanos, de, la, agencia, reuters, fueron, liberados, este, martes, al, recibir, un, perdón, del, presidente, de, su, país, tras, pasar, año, medio, en, prisión, por, revelar, una, matanza, del, ejército, contra, la, minoría, musulmana, rohingya, wa, lone, kyaw, soe, oo]</td>\n",
       "    </tr>\n",
       "    <tr>\n",
       "      <th>3</th>\n",
       "      <td>True</td>\n",
       "      <td>[el, cuerpo, nacional, de, policía, ha, detenido, cuatro, personas, acusadas, de, formar, parte, de, un, grupo, criminal, dedicado, al, tráfico, de, seres, humanos, en, la, frontera, francoespañola, de, irún, gipuzkoa, esta, célula, captaba, extranjeros, llegados, en, pateras, les, of]</td>\n",
       "    </tr>\n",
       "    <tr>\n",
       "      <th>4</th>\n",
       "      <td>True</td>\n",
       "      <td>[el, desfile, de, la, firma, en, roma, se, convierte, en, una, oda, la, libertad, de, las, mujeres, para, decidir, sobre, sus, propios, cuerpos, los, museos, capitolinos, de, roma, se, transformaron, la, noche, del, martes, en, escenario, sobre, el, que, presentar, la, colección, crucero]</td>\n",
       "    </tr>\n",
       "  </tbody>\n",
       "</table></div>"
      ],
      "text/plain": [
       "   Class                                               Text\n",
       "0   True  [algunas, de, las, voces, extremistas, más, co...\n",
       "1   True  [después, de, casi, dos, años, medio, de, luch...\n",
       "2   True  [dos, periodistas, birmanos, de, la, agencia, ...\n",
       "3   True  [el, cuerpo, nacional, de, policía, ha, deteni...\n",
       "4   True  [el, desfile, de, la, firma, en, roma, se, con..."
      ]
     },
     "execution_count": 9,
     "metadata": {},
     "output_type": "execute_result"
    }
   ],
   "source": [
    "df.head()"
   ]
  },
  {
   "cell_type": "markdown",
   "id": "f4b2283a",
   "metadata": {
    "id": "f4b2283a"
   },
   "source": [
    "### Limpiamos nuestros datos de las stopword"
   ]
  },
  {
   "cell_type": "markdown",
   "id": "deca3d08",
   "metadata": {
    "id": "deca3d08"
   },
   "source": [
    "#### Armamos nuestro listado de stop word "
   ]
  },
  {
   "cell_type": "code",
   "execution_count": 10,
   "id": "5d3ebe16",
   "metadata": {
    "id": "5d3ebe16"
   },
   "outputs": [],
   "source": [
    "stop = list(stopwords.words('spanish'))\n",
    "stop.append('number')"
   ]
  },
  {
   "cell_type": "code",
   "execution_count": 11,
   "id": "9cdc60fb",
   "metadata": {
    "colab": {
     "base_uri": "https://localhost:8080/"
    },
    "id": "9cdc60fb",
    "outputId": "2392c092-1d9d-43c3-fccb-e2aa53a7762b"
   },
   "outputs": [
    {
     "data": {
      "text/plain": [
       "['de',\n",
       " 'la',\n",
       " 'que',\n",
       " 'el',\n",
       " 'en',\n",
       " 'y',\n",
       " 'a',\n",
       " 'los',\n",
       " 'del',\n",
       " 'se',\n",
       " 'las',\n",
       " 'por',\n",
       " 'un',\n",
       " 'para',\n",
       " 'con',\n",
       " 'no',\n",
       " 'una',\n",
       " 'su',\n",
       " 'al',\n",
       " 'lo',\n",
       " 'como',\n",
       " 'más',\n",
       " 'pero',\n",
       " 'sus',\n",
       " 'le',\n",
       " 'ya',\n",
       " 'o',\n",
       " 'este',\n",
       " 'sí',\n",
       " 'porque',\n",
       " 'esta',\n",
       " 'entre',\n",
       " 'cuando',\n",
       " 'muy',\n",
       " 'sin',\n",
       " 'sobre',\n",
       " 'también',\n",
       " 'me',\n",
       " 'hasta',\n",
       " 'hay',\n",
       " 'donde',\n",
       " 'quien',\n",
       " 'desde',\n",
       " 'todo',\n",
       " 'nos',\n",
       " 'durante',\n",
       " 'todos',\n",
       " 'uno',\n",
       " 'les',\n",
       " 'ni',\n",
       " 'contra',\n",
       " 'otros',\n",
       " 'ese',\n",
       " 'eso',\n",
       " 'ante',\n",
       " 'ellos',\n",
       " 'e',\n",
       " 'esto',\n",
       " 'mí',\n",
       " 'antes',\n",
       " 'algunos',\n",
       " 'qué',\n",
       " 'unos',\n",
       " 'yo',\n",
       " 'otro',\n",
       " 'otras',\n",
       " 'otra',\n",
       " 'él',\n",
       " 'tanto',\n",
       " 'esa',\n",
       " 'estos',\n",
       " 'mucho',\n",
       " 'quienes',\n",
       " 'nada',\n",
       " 'muchos',\n",
       " 'cual',\n",
       " 'poco',\n",
       " 'ella',\n",
       " 'estar',\n",
       " 'estas',\n",
       " 'algunas',\n",
       " 'algo',\n",
       " 'nosotros',\n",
       " 'mi',\n",
       " 'mis',\n",
       " 'tú',\n",
       " 'te',\n",
       " 'ti',\n",
       " 'tu',\n",
       " 'tus',\n",
       " 'ellas',\n",
       " 'nosotras',\n",
       " 'vosotros',\n",
       " 'vosotras',\n",
       " 'os',\n",
       " 'mío',\n",
       " 'mía',\n",
       " 'míos',\n",
       " 'mías',\n",
       " 'tuyo',\n",
       " 'tuya',\n",
       " 'tuyos',\n",
       " 'tuyas',\n",
       " 'suyo',\n",
       " 'suya',\n",
       " 'suyos',\n",
       " 'suyas',\n",
       " 'nuestro',\n",
       " 'nuestra',\n",
       " 'nuestros',\n",
       " 'nuestras',\n",
       " 'vuestro',\n",
       " 'vuestra',\n",
       " 'vuestros',\n",
       " 'vuestras',\n",
       " 'esos',\n",
       " 'esas',\n",
       " 'estoy',\n",
       " 'estás',\n",
       " 'está',\n",
       " 'estamos',\n",
       " 'estáis',\n",
       " 'están',\n",
       " 'esté',\n",
       " 'estés',\n",
       " 'estemos',\n",
       " 'estéis',\n",
       " 'estén',\n",
       " 'estaré',\n",
       " 'estarás',\n",
       " 'estará',\n",
       " 'estaremos',\n",
       " 'estaréis',\n",
       " 'estarán',\n",
       " 'estaría',\n",
       " 'estarías',\n",
       " 'estaríamos',\n",
       " 'estaríais',\n",
       " 'estarían',\n",
       " 'estaba',\n",
       " 'estabas',\n",
       " 'estábamos',\n",
       " 'estabais',\n",
       " 'estaban',\n",
       " 'estuve',\n",
       " 'estuviste',\n",
       " 'estuvo',\n",
       " 'estuvimos',\n",
       " 'estuvisteis',\n",
       " 'estuvieron',\n",
       " 'estuviera',\n",
       " 'estuvieras',\n",
       " 'estuviéramos',\n",
       " 'estuvierais',\n",
       " 'estuvieran',\n",
       " 'estuviese',\n",
       " 'estuvieses',\n",
       " 'estuviésemos',\n",
       " 'estuvieseis',\n",
       " 'estuviesen',\n",
       " 'estando',\n",
       " 'estado',\n",
       " 'estada',\n",
       " 'estados',\n",
       " 'estadas',\n",
       " 'estad',\n",
       " 'he',\n",
       " 'has',\n",
       " 'ha',\n",
       " 'hemos',\n",
       " 'habéis',\n",
       " 'han',\n",
       " 'haya',\n",
       " 'hayas',\n",
       " 'hayamos',\n",
       " 'hayáis',\n",
       " 'hayan',\n",
       " 'habré',\n",
       " 'habrás',\n",
       " 'habrá',\n",
       " 'habremos',\n",
       " 'habréis',\n",
       " 'habrán',\n",
       " 'habría',\n",
       " 'habrías',\n",
       " 'habríamos',\n",
       " 'habríais',\n",
       " 'habrían',\n",
       " 'había',\n",
       " 'habías',\n",
       " 'habíamos',\n",
       " 'habíais',\n",
       " 'habían',\n",
       " 'hube',\n",
       " 'hubiste',\n",
       " 'hubo',\n",
       " 'hubimos',\n",
       " 'hubisteis',\n",
       " 'hubieron',\n",
       " 'hubiera',\n",
       " 'hubieras',\n",
       " 'hubiéramos',\n",
       " 'hubierais',\n",
       " 'hubieran',\n",
       " 'hubiese',\n",
       " 'hubieses',\n",
       " 'hubiésemos',\n",
       " 'hubieseis',\n",
       " 'hubiesen',\n",
       " 'habiendo',\n",
       " 'habido',\n",
       " 'habida',\n",
       " 'habidos',\n",
       " 'habidas',\n",
       " 'soy',\n",
       " 'eres',\n",
       " 'es',\n",
       " 'somos',\n",
       " 'sois',\n",
       " 'son',\n",
       " 'sea',\n",
       " 'seas',\n",
       " 'seamos',\n",
       " 'seáis',\n",
       " 'sean',\n",
       " 'seré',\n",
       " 'serás',\n",
       " 'será',\n",
       " 'seremos',\n",
       " 'seréis',\n",
       " 'serán',\n",
       " 'sería',\n",
       " 'serías',\n",
       " 'seríamos',\n",
       " 'seríais',\n",
       " 'serían',\n",
       " 'era',\n",
       " 'eras',\n",
       " 'éramos',\n",
       " 'erais',\n",
       " 'eran',\n",
       " 'fui',\n",
       " 'fuiste',\n",
       " 'fue',\n",
       " 'fuimos',\n",
       " 'fuisteis',\n",
       " 'fueron',\n",
       " 'fuera',\n",
       " 'fueras',\n",
       " 'fuéramos',\n",
       " 'fuerais',\n",
       " 'fueran',\n",
       " 'fuese',\n",
       " 'fueses',\n",
       " 'fuésemos',\n",
       " 'fueseis',\n",
       " 'fuesen',\n",
       " 'sintiendo',\n",
       " 'sentido',\n",
       " 'sentida',\n",
       " 'sentidos',\n",
       " 'sentidas',\n",
       " 'siente',\n",
       " 'sentid',\n",
       " 'tengo',\n",
       " 'tienes',\n",
       " 'tiene',\n",
       " 'tenemos',\n",
       " 'tenéis',\n",
       " 'tienen',\n",
       " 'tenga',\n",
       " 'tengas',\n",
       " 'tengamos',\n",
       " 'tengáis',\n",
       " 'tengan',\n",
       " 'tendré',\n",
       " 'tendrás',\n",
       " 'tendrá',\n",
       " 'tendremos',\n",
       " 'tendréis',\n",
       " 'tendrán',\n",
       " 'tendría',\n",
       " 'tendrías',\n",
       " 'tendríamos',\n",
       " 'tendríais',\n",
       " 'tendrían',\n",
       " 'tenía',\n",
       " 'tenías',\n",
       " 'teníamos',\n",
       " 'teníais',\n",
       " 'tenían',\n",
       " 'tuve',\n",
       " 'tuviste',\n",
       " 'tuvo',\n",
       " 'tuvimos',\n",
       " 'tuvisteis',\n",
       " 'tuvieron',\n",
       " 'tuviera',\n",
       " 'tuvieras',\n",
       " 'tuviéramos',\n",
       " 'tuvierais',\n",
       " 'tuvieran',\n",
       " 'tuviese',\n",
       " 'tuvieses',\n",
       " 'tuviésemos',\n",
       " 'tuvieseis',\n",
       " 'tuviesen',\n",
       " 'teniendo',\n",
       " 'tenido',\n",
       " 'tenida',\n",
       " 'tenidos',\n",
       " 'tenidas',\n",
       " 'tened',\n",
       " 'number']"
      ]
     },
     "execution_count": 11,
     "metadata": {},
     "output_type": "execute_result"
    }
   ],
   "source": [
    "stop"
   ]
  },
  {
   "cell_type": "markdown",
   "id": "79da48e3",
   "metadata": {
    "id": "79da48e3"
   },
   "source": [
    "#### Sacamos todas las palabras de stop word de nuestras noticias "
   ]
  },
  {
   "cell_type": "code",
   "execution_count": 12,
   "id": "c14b97ec",
   "metadata": {
    "id": "c14b97ec"
   },
   "outputs": [],
   "source": [
    "def stop_word(text):\n",
    "    tokens_filtrados = []\n",
    "    for t in text:\n",
    "        if t not in stop:\n",
    "            tokens_filtrados.append(t)\n",
    "    return tokens_filtrados "
   ]
  },
  {
   "cell_type": "code",
   "execution_count": 13,
   "id": "3ec40f81",
   "metadata": {
    "id": "3ec40f81"
   },
   "outputs": [],
   "source": [
    "df.Text = df.Text.apply(stop_word)"
   ]
  },
  {
   "cell_type": "code",
   "execution_count": 14,
   "id": "6H5cSjRmLhOc",
   "metadata": {
    "colab": {
     "base_uri": "https://localhost:8080/",
     "height": 206
    },
    "id": "6H5cSjRmLhOc",
    "outputId": "bcc0da91-54d1-4c97-d172-d1b7b1445090"
   },
   "outputs": [],
   "source": [
    "df['clean_text'] = df['Text'].astype('str')\n",
    "df['Class'] = df['Class'].astype('int')"
   ]
  },
  {
   "cell_type": "code",
   "execution_count": 15,
   "id": "70168f37",
   "metadata": {
    "colab": {
     "base_uri": "https://localhost:8080/",
     "height": 206
    },
    "id": "70168f37",
    "outputId": "4d2748d8-fb21-40b3-aebc-f03d3a168846",
    "scrolled": true
   },
   "outputs": [
    {
     "data": {
      "text/html": [
       "<div><div id=0af0e202-40fc-4601-acc9-cd9ca3379974 style=\"display:none; background-color:#9D6CFF; color:white; width:200px; height:30px; padding-left:5px; border-radius:4px; flex-direction:row; justify-content:space-around; align-items:center;\" onmouseover=\"this.style.backgroundColor='#BA9BF8'\" onmouseout=\"this.style.backgroundColor='#9D6CFF'\" onclick=\"window.commands?.execute('create-mitosheet-from-dataframe-output');\">See Full Dataframe in Mito</div> <script> if (window.commands?.hasCommand('create-mitosheet-from-dataframe-output')) document.getElementById('0af0e202-40fc-4601-acc9-cd9ca3379974').style.display = 'flex' </script> <table border=\"1\" class=\"dataframe\">\n",
       "  <thead>\n",
       "    <tr style=\"text-align: right;\">\n",
       "      <th></th>\n",
       "      <th>Class</th>\n",
       "      <th>Text</th>\n",
       "      <th>clean_text</th>\n",
       "    </tr>\n",
       "  </thead>\n",
       "  <tbody>\n",
       "    <tr>\n",
       "      <th>0</th>\n",
       "      <td>1</td>\n",
       "      <td>[voces, extremistas, conocidas, ee, uu, cuentas, asociadas, movimiento, conocida, alt, right, ligadas, grupos, antisemitas, xenófobos, sido, eliminadas, plumazo, redes, sociales, facebook, instagram, trat]</td>\n",
       "      <td>['voces', 'extremistas', 'conocidas', 'ee', 'uu', 'cuentas', 'asociadas', 'movimiento', 'conocida', 'alt', 'right', 'ligadas', 'grupos', 'antisemitas', 'xenófobos', 'sido', 'eliminadas', 'plumazo', 'redes', 'sociales', 'facebook', 'instagram', 'trat']</td>\n",
       "    </tr>\n",
       "    <tr>\n",
       "      <th>1</th>\n",
       "      <td>1</td>\n",
       "      <td>[después, casi, dos, años, medio, luchas, políticas, judiciales, donald, trump, presentado, hoy, proyecto, inmigración, unidos, proyecto, elaborado, yerno, asesor, donald, trump, jared, kushner, sólo, concreta, cosa]</td>\n",
       "      <td>['después', 'casi', 'dos', 'años', 'medio', 'luchas', 'políticas', 'judiciales', 'donald', 'trump', 'presentado', 'hoy', 'proyecto', 'inmigración', 'unidos', 'proyecto', 'elaborado', 'yerno', 'asesor', 'donald', 'trump', 'jared', 'kushner', 'sólo', 'concreta', 'cosa']</td>\n",
       "    </tr>\n",
       "    <tr>\n",
       "      <th>2</th>\n",
       "      <td>1</td>\n",
       "      <td>[dos, periodistas, birmanos, agencia, reuters, liberados, martes, recibir, perdón, presidente, país, tras, pasar, año, medio, prisión, revelar, matanza, ejército, minoría, musulmana, rohingya, wa, lone, kyaw, soe, oo]</td>\n",
       "      <td>['dos', 'periodistas', 'birmanos', 'agencia', 'reuters', 'liberados', 'martes', 'recibir', 'perdón', 'presidente', 'país', 'tras', 'pasar', 'año', 'medio', 'prisión', 'revelar', 'matanza', 'ejército', 'minoría', 'musulmana', 'rohingya', 'wa', 'lone', 'kyaw', 'soe', 'oo']</td>\n",
       "    </tr>\n",
       "    <tr>\n",
       "      <th>3</th>\n",
       "      <td>1</td>\n",
       "      <td>[cuerpo, nacional, policía, detenido, cuatro, personas, acusadas, formar, parte, grupo, criminal, dedicado, tráfico, seres, humanos, frontera, francoespañola, irún, gipuzkoa, célula, captaba, extranjeros, llegados, pateras, of]</td>\n",
       "      <td>['cuerpo', 'nacional', 'policía', 'detenido', 'cuatro', 'personas', 'acusadas', 'formar', 'parte', 'grupo', 'criminal', 'dedicado', 'tráfico', 'seres', 'humanos', 'frontera', 'francoespañola', 'irún', 'gipuzkoa', 'célula', 'captaba', 'extranjeros', 'llegados', 'pateras', 'of']</td>\n",
       "    </tr>\n",
       "    <tr>\n",
       "      <th>4</th>\n",
       "      <td>1</td>\n",
       "      <td>[desfile, firma, roma, convierte, oda, libertad, mujeres, decidir, propios, cuerpos, museos, capitolinos, roma, transformaron, noche, martes, escenario, presentar, colección, crucero]</td>\n",
       "      <td>['desfile', 'firma', 'roma', 'convierte', 'oda', 'libertad', 'mujeres', 'decidir', 'propios', 'cuerpos', 'museos', 'capitolinos', 'roma', 'transformaron', 'noche', 'martes', 'escenario', 'presentar', 'colección', 'crucero']</td>\n",
       "    </tr>\n",
       "  </tbody>\n",
       "</table></div>"
      ],
      "text/plain": [
       "   Class                                               Text  \\\n",
       "0      1  [voces, extremistas, conocidas, ee, uu, cuenta...   \n",
       "1      1  [después, casi, dos, años, medio, luchas, polí...   \n",
       "2      1  [dos, periodistas, birmanos, agencia, reuters,...   \n",
       "3      1  [cuerpo, nacional, policía, detenido, cuatro, ...   \n",
       "4      1  [desfile, firma, roma, convierte, oda, liberta...   \n",
       "\n",
       "                                          clean_text  \n",
       "0  ['voces', 'extremistas', 'conocidas', 'ee', 'u...  \n",
       "1  ['después', 'casi', 'dos', 'años', 'medio', 'l...  \n",
       "2  ['dos', 'periodistas', 'birmanos', 'agencia', ...  \n",
       "3  ['cuerpo', 'nacional', 'policía', 'detenido', ...  \n",
       "4  ['desfile', 'firma', 'roma', 'convierte', 'oda...  "
      ]
     },
     "execution_count": 15,
     "metadata": {},
     "output_type": "execute_result"
    }
   ],
   "source": [
    "df.head()"
   ]
  },
  {
   "cell_type": "markdown",
   "id": "1a1f15bb",
   "metadata": {
    "id": "1a1f15bb"
   },
   "source": [
    "### Aplicacion de stemmer"
   ]
  },
  {
   "cell_type": "markdown",
   "id": "fb8229ba",
   "metadata": {
    "id": "fb8229ba"
   },
   "source": [
    "#### La aplicacion del stemmer la hemos dejado comentada ya que hemos obtenido mejores resultados sin su aplicacion pero iguamente nos parece una herramienta que debe ser evaluada "
   ]
  },
  {
   "cell_type": "code",
   "execution_count": 16,
   "id": "b25ed7f1",
   "metadata": {
    "id": "b25ed7f1"
   },
   "outputs": [],
   "source": [
    "#stemmer = SnowballStemmer('spanish')\n",
    "#def stem_text(text):\n",
    "#    final_text = []\n",
    "#    for i in text.split(' '):\n",
    "#        word = stemmer.stem(i.strip())\n",
    "#        final_text.append(word)\n",
    "#    return \" \".join(final_text) "
   ]
  },
  {
   "cell_type": "code",
   "execution_count": 17,
   "id": "e7d1605a",
   "metadata": {
    "id": "e7d1605a"
   },
   "outputs": [],
   "source": [
    "#df['Text2'] = df.Text_string.apply(stem_text)"
   ]
  },
  {
   "cell_type": "code",
   "execution_count": 18,
   "id": "bd977de4",
   "metadata": {
    "colab": {
     "base_uri": "https://localhost:8080/",
     "height": 206
    },
    "id": "bd977de4",
    "outputId": "3e3f7583-2c97-404c-f6ba-1d973e94a3f8"
   },
   "outputs": [
    {
     "data": {
      "text/html": [
       "<div><div id=ab1d325a-6169-46fe-9926-19d7d82fd4ca style=\"display:none; background-color:#9D6CFF; color:white; width:200px; height:30px; padding-left:5px; border-radius:4px; flex-direction:row; justify-content:space-around; align-items:center;\" onmouseover=\"this.style.backgroundColor='#BA9BF8'\" onmouseout=\"this.style.backgroundColor='#9D6CFF'\" onclick=\"window.commands?.execute('create-mitosheet-from-dataframe-output');\">See Full Dataframe in Mito</div> <script> if (window.commands?.hasCommand('create-mitosheet-from-dataframe-output')) document.getElementById('ab1d325a-6169-46fe-9926-19d7d82fd4ca').style.display = 'flex' </script> <table border=\"1\" class=\"dataframe\">\n",
       "  <thead>\n",
       "    <tr style=\"text-align: right;\">\n",
       "      <th></th>\n",
       "      <th>Class</th>\n",
       "      <th>Text</th>\n",
       "      <th>clean_text</th>\n",
       "    </tr>\n",
       "  </thead>\n",
       "  <tbody>\n",
       "    <tr>\n",
       "      <th>0</th>\n",
       "      <td>1</td>\n",
       "      <td>[voces, extremistas, conocidas, ee, uu, cuentas, asociadas, movimiento, conocida, alt, right, ligadas, grupos, antisemitas, xenófobos, sido, eliminadas, plumazo, redes, sociales, facebook, instagram, trat]</td>\n",
       "      <td>['voces', 'extremistas', 'conocidas', 'ee', 'uu', 'cuentas', 'asociadas', 'movimiento', 'conocida', 'alt', 'right', 'ligadas', 'grupos', 'antisemitas', 'xenófobos', 'sido', 'eliminadas', 'plumazo', 'redes', 'sociales', 'facebook', 'instagram', 'trat']</td>\n",
       "    </tr>\n",
       "    <tr>\n",
       "      <th>1</th>\n",
       "      <td>1</td>\n",
       "      <td>[después, casi, dos, años, medio, luchas, políticas, judiciales, donald, trump, presentado, hoy, proyecto, inmigración, unidos, proyecto, elaborado, yerno, asesor, donald, trump, jared, kushner, sólo, concreta, cosa]</td>\n",
       "      <td>['después', 'casi', 'dos', 'años', 'medio', 'luchas', 'políticas', 'judiciales', 'donald', 'trump', 'presentado', 'hoy', 'proyecto', 'inmigración', 'unidos', 'proyecto', 'elaborado', 'yerno', 'asesor', 'donald', 'trump', 'jared', 'kushner', 'sólo', 'concreta', 'cosa']</td>\n",
       "    </tr>\n",
       "    <tr>\n",
       "      <th>2</th>\n",
       "      <td>1</td>\n",
       "      <td>[dos, periodistas, birmanos, agencia, reuters, liberados, martes, recibir, perdón, presidente, país, tras, pasar, año, medio, prisión, revelar, matanza, ejército, minoría, musulmana, rohingya, wa, lone, kyaw, soe, oo]</td>\n",
       "      <td>['dos', 'periodistas', 'birmanos', 'agencia', 'reuters', 'liberados', 'martes', 'recibir', 'perdón', 'presidente', 'país', 'tras', 'pasar', 'año', 'medio', 'prisión', 'revelar', 'matanza', 'ejército', 'minoría', 'musulmana', 'rohingya', 'wa', 'lone', 'kyaw', 'soe', 'oo']</td>\n",
       "    </tr>\n",
       "    <tr>\n",
       "      <th>3</th>\n",
       "      <td>1</td>\n",
       "      <td>[cuerpo, nacional, policía, detenido, cuatro, personas, acusadas, formar, parte, grupo, criminal, dedicado, tráfico, seres, humanos, frontera, francoespañola, irún, gipuzkoa, célula, captaba, extranjeros, llegados, pateras, of]</td>\n",
       "      <td>['cuerpo', 'nacional', 'policía', 'detenido', 'cuatro', 'personas', 'acusadas', 'formar', 'parte', 'grupo', 'criminal', 'dedicado', 'tráfico', 'seres', 'humanos', 'frontera', 'francoespañola', 'irún', 'gipuzkoa', 'célula', 'captaba', 'extranjeros', 'llegados', 'pateras', 'of']</td>\n",
       "    </tr>\n",
       "    <tr>\n",
       "      <th>4</th>\n",
       "      <td>1</td>\n",
       "      <td>[desfile, firma, roma, convierte, oda, libertad, mujeres, decidir, propios, cuerpos, museos, capitolinos, roma, transformaron, noche, martes, escenario, presentar, colección, crucero]</td>\n",
       "      <td>['desfile', 'firma', 'roma', 'convierte', 'oda', 'libertad', 'mujeres', 'decidir', 'propios', 'cuerpos', 'museos', 'capitolinos', 'roma', 'transformaron', 'noche', 'martes', 'escenario', 'presentar', 'colección', 'crucero']</td>\n",
       "    </tr>\n",
       "  </tbody>\n",
       "</table></div>"
      ],
      "text/plain": [
       "   Class                                               Text  \\\n",
       "0      1  [voces, extremistas, conocidas, ee, uu, cuenta...   \n",
       "1      1  [después, casi, dos, años, medio, luchas, polí...   \n",
       "2      1  [dos, periodistas, birmanos, agencia, reuters,...   \n",
       "3      1  [cuerpo, nacional, policía, detenido, cuatro, ...   \n",
       "4      1  [desfile, firma, roma, convierte, oda, liberta...   \n",
       "\n",
       "                                          clean_text  \n",
       "0  ['voces', 'extremistas', 'conocidas', 'ee', 'u...  \n",
       "1  ['después', 'casi', 'dos', 'años', 'medio', 'l...  \n",
       "2  ['dos', 'periodistas', 'birmanos', 'agencia', ...  \n",
       "3  ['cuerpo', 'nacional', 'policía', 'detenido', ...  \n",
       "4  ['desfile', 'firma', 'roma', 'convierte', 'oda...  "
      ]
     },
     "execution_count": 18,
     "metadata": {},
     "output_type": "execute_result"
    }
   ],
   "source": [
    "df.head()"
   ]
  },
  {
   "cell_type": "markdown",
   "id": "f2031aee",
   "metadata": {
    "id": "f2031aee"
   },
   "source": [
    "#### Analizamos si los datos estan balanceados"
   ]
  },
  {
   "cell_type": "code",
   "execution_count": 19,
   "id": "07c64576",
   "metadata": {
    "colab": {
     "base_uri": "https://localhost:8080/"
    },
    "id": "07c64576",
    "outputId": "aece246e-7e95-420d-b691-9928db9b073a"
   },
   "outputs": [
    {
     "data": {
      "text/plain": [
       "0.5164866401364412"
      ]
     },
     "execution_count": 19,
     "metadata": {},
     "output_type": "execute_result"
    }
   ],
   "source": [
    "df.Class.sum() / len(df.Class)"
   ]
  },
  {
   "cell_type": "markdown",
   "id": "ba1221fe",
   "metadata": {
    "id": "ba1221fe"
   },
   "source": [
    "### Exportamos el dataset terminado a un archivo para poder realizar el modelado sin tener que ejecutar los pasos anteriores si tenemos que reiniciar el kernel"
   ]
  },
  {
   "cell_type": "code",
   "execution_count": 20,
   "id": "bc29d8d3",
   "metadata": {
    "id": "bc29d8d3"
   },
   "outputs": [],
   "source": [
    "df.to_csv('fakeNewsPractico.csv', index=False)"
   ]
  },
  {
   "cell_type": "markdown",
   "id": "8bfb71a0",
   "metadata": {
    "id": "8bfb71a0"
   },
   "source": [
    "### Importamos el dataset a modelar"
   ]
  },
  {
   "cell_type": "code",
   "execution_count": 21,
   "id": "34da09ed",
   "metadata": {
    "id": "34da09ed"
   },
   "outputs": [],
   "source": [
    "df_modelo = pd.read_csv('fakeNewsPractico.csv')"
   ]
  },
  {
   "cell_type": "code",
   "execution_count": 22,
   "id": "5c8be211",
   "metadata": {
    "colab": {
     "base_uri": "https://localhost:8080/",
     "height": 206
    },
    "id": "5c8be211",
    "outputId": "dc3f416c-b2ea-4f65-ccb5-d1eba0d527d7",
    "scrolled": true
   },
   "outputs": [
    {
     "data": {
      "text/html": [
       "<div><div id=2a1aa624-1c1d-4e95-b992-22a4bedfda16 style=\"display:none; background-color:#9D6CFF; color:white; width:200px; height:30px; padding-left:5px; border-radius:4px; flex-direction:row; justify-content:space-around; align-items:center;\" onmouseover=\"this.style.backgroundColor='#BA9BF8'\" onmouseout=\"this.style.backgroundColor='#9D6CFF'\" onclick=\"window.commands?.execute('create-mitosheet-from-dataframe-output');\">See Full Dataframe in Mito</div> <script> if (window.commands?.hasCommand('create-mitosheet-from-dataframe-output')) document.getElementById('2a1aa624-1c1d-4e95-b992-22a4bedfda16').style.display = 'flex' </script> <table border=\"1\" class=\"dataframe\">\n",
       "  <thead>\n",
       "    <tr style=\"text-align: right;\">\n",
       "      <th></th>\n",
       "      <th>Class</th>\n",
       "      <th>Text</th>\n",
       "      <th>clean_text</th>\n",
       "    </tr>\n",
       "  </thead>\n",
       "  <tbody>\n",
       "    <tr>\n",
       "      <th>0</th>\n",
       "      <td>1</td>\n",
       "      <td>['voces', 'extremistas', 'conocidas', 'ee', 'uu', 'cuentas', 'asociadas', 'movimiento', 'conocida', 'alt', 'right', 'ligadas', 'grupos', 'antisemitas', 'xenófobos', 'sido', 'eliminadas', 'plumazo', 'redes', 'sociales', 'facebook', 'instagram', 'trat']</td>\n",
       "      <td>['voces', 'extremistas', 'conocidas', 'ee', 'uu', 'cuentas', 'asociadas', 'movimiento', 'conocida', 'alt', 'right', 'ligadas', 'grupos', 'antisemitas', 'xenófobos', 'sido', 'eliminadas', 'plumazo', 'redes', 'sociales', 'facebook', 'instagram', 'trat']</td>\n",
       "    </tr>\n",
       "    <tr>\n",
       "      <th>1</th>\n",
       "      <td>1</td>\n",
       "      <td>['después', 'casi', 'dos', 'años', 'medio', 'luchas', 'políticas', 'judiciales', 'donald', 'trump', 'presentado', 'hoy', 'proyecto', 'inmigración', 'unidos', 'proyecto', 'elaborado', 'yerno', 'asesor', 'donald', 'trump', 'jared', 'kushner', 'sólo', 'concreta', 'cosa']</td>\n",
       "      <td>['después', 'casi', 'dos', 'años', 'medio', 'luchas', 'políticas', 'judiciales', 'donald', 'trump', 'presentado', 'hoy', 'proyecto', 'inmigración', 'unidos', 'proyecto', 'elaborado', 'yerno', 'asesor', 'donald', 'trump', 'jared', 'kushner', 'sólo', 'concreta', 'cosa']</td>\n",
       "    </tr>\n",
       "    <tr>\n",
       "      <th>2</th>\n",
       "      <td>1</td>\n",
       "      <td>['dos', 'periodistas', 'birmanos', 'agencia', 'reuters', 'liberados', 'martes', 'recibir', 'perdón', 'presidente', 'país', 'tras', 'pasar', 'año', 'medio', 'prisión', 'revelar', 'matanza', 'ejército', 'minoría', 'musulmana', 'rohingya', 'wa', 'lone', 'kyaw', 'soe', 'oo']</td>\n",
       "      <td>['dos', 'periodistas', 'birmanos', 'agencia', 'reuters', 'liberados', 'martes', 'recibir', 'perdón', 'presidente', 'país', 'tras', 'pasar', 'año', 'medio', 'prisión', 'revelar', 'matanza', 'ejército', 'minoría', 'musulmana', 'rohingya', 'wa', 'lone', 'kyaw', 'soe', 'oo']</td>\n",
       "    </tr>\n",
       "    <tr>\n",
       "      <th>3</th>\n",
       "      <td>1</td>\n",
       "      <td>['cuerpo', 'nacional', 'policía', 'detenido', 'cuatro', 'personas', 'acusadas', 'formar', 'parte', 'grupo', 'criminal', 'dedicado', 'tráfico', 'seres', 'humanos', 'frontera', 'francoespañola', 'irún', 'gipuzkoa', 'célula', 'captaba', 'extranjeros', 'llegados', 'pateras', 'of']</td>\n",
       "      <td>['cuerpo', 'nacional', 'policía', 'detenido', 'cuatro', 'personas', 'acusadas', 'formar', 'parte', 'grupo', 'criminal', 'dedicado', 'tráfico', 'seres', 'humanos', 'frontera', 'francoespañola', 'irún', 'gipuzkoa', 'célula', 'captaba', 'extranjeros', 'llegados', 'pateras', 'of']</td>\n",
       "    </tr>\n",
       "    <tr>\n",
       "      <th>4</th>\n",
       "      <td>1</td>\n",
       "      <td>['desfile', 'firma', 'roma', 'convierte', 'oda', 'libertad', 'mujeres', 'decidir', 'propios', 'cuerpos', 'museos', 'capitolinos', 'roma', 'transformaron', 'noche', 'martes', 'escenario', 'presentar', 'colección', 'crucero']</td>\n",
       "      <td>['desfile', 'firma', 'roma', 'convierte', 'oda', 'libertad', 'mujeres', 'decidir', 'propios', 'cuerpos', 'museos', 'capitolinos', 'roma', 'transformaron', 'noche', 'martes', 'escenario', 'presentar', 'colección', 'crucero']</td>\n",
       "    </tr>\n",
       "  </tbody>\n",
       "</table></div>"
      ],
      "text/plain": [
       "   Class                                               Text  \\\n",
       "0      1  ['voces', 'extremistas', 'conocidas', 'ee', 'u...   \n",
       "1      1  ['después', 'casi', 'dos', 'años', 'medio', 'l...   \n",
       "2      1  ['dos', 'periodistas', 'birmanos', 'agencia', ...   \n",
       "3      1  ['cuerpo', 'nacional', 'policía', 'detenido', ...   \n",
       "4      1  ['desfile', 'firma', 'roma', 'convierte', 'oda...   \n",
       "\n",
       "                                          clean_text  \n",
       "0  ['voces', 'extremistas', 'conocidas', 'ee', 'u...  \n",
       "1  ['después', 'casi', 'dos', 'años', 'medio', 'l...  \n",
       "2  ['dos', 'periodistas', 'birmanos', 'agencia', ...  \n",
       "3  ['cuerpo', 'nacional', 'policía', 'detenido', ...  \n",
       "4  ['desfile', 'firma', 'roma', 'convierte', 'oda...  "
      ]
     },
     "execution_count": 22,
     "metadata": {},
     "output_type": "execute_result"
    }
   ],
   "source": [
    "df_modelo.head()"
   ]
  },
  {
   "cell_type": "markdown",
   "id": "9e4a0011",
   "metadata": {
    "id": "9e4a0011"
   },
   "source": [
    "### En esta etapa ya solo usaremos las columnas Class y clean_text por lo que dropearemos el resto"
   ]
  },
  {
   "cell_type": "code",
   "execution_count": 24,
   "id": "f34ab105",
   "metadata": {
    "colab": {
     "base_uri": "https://localhost:8080/",
     "height": 424
    },
    "id": "f34ab105",
    "outputId": "b2efd5ee-094b-42d2-9564-80546cd2a3c4"
   },
   "outputs": [
    {
     "data": {
      "text/html": [
       "<div><div id=95a397c2-8176-4882-979e-a8061437dcf1 style=\"display:none; background-color:#9D6CFF; color:white; width:200px; height:30px; padding-left:5px; border-radius:4px; flex-direction:row; justify-content:space-around; align-items:center;\" onmouseover=\"this.style.backgroundColor='#BA9BF8'\" onmouseout=\"this.style.backgroundColor='#9D6CFF'\" onclick=\"window.commands?.execute('create-mitosheet-from-dataframe-output');\">See Full Dataframe in Mito</div> <script> if (window.commands?.hasCommand('create-mitosheet-from-dataframe-output')) document.getElementById('95a397c2-8176-4882-979e-a8061437dcf1').style.display = 'flex' </script> <table border=\"1\" class=\"dataframe\">\n",
       "  <thead>\n",
       "    <tr style=\"text-align: right;\">\n",
       "      <th></th>\n",
       "      <th>Class</th>\n",
       "      <th>clean_text</th>\n",
       "    </tr>\n",
       "  </thead>\n",
       "  <tbody>\n",
       "    <tr>\n",
       "      <th>0</th>\n",
       "      <td>1</td>\n",
       "      <td>['voces', 'extremistas', 'conocidas', 'ee', 'uu', 'cuentas', 'asociadas', 'movimiento', 'conocida', 'alt', 'right', 'ligadas', 'grupos', 'antisemitas', 'xenófobos', 'sido', 'eliminadas', 'plumazo', 'redes', 'sociales', 'facebook', 'instagram', 'trat']</td>\n",
       "    </tr>\n",
       "    <tr>\n",
       "      <th>1</th>\n",
       "      <td>1</td>\n",
       "      <td>['después', 'casi', 'dos', 'años', 'medio', 'luchas', 'políticas', 'judiciales', 'donald', 'trump', 'presentado', 'hoy', 'proyecto', 'inmigración', 'unidos', 'proyecto', 'elaborado', 'yerno', 'asesor', 'donald', 'trump', 'jared', 'kushner', 'sólo', 'concreta', 'cosa']</td>\n",
       "    </tr>\n",
       "    <tr>\n",
       "      <th>2</th>\n",
       "      <td>1</td>\n",
       "      <td>['dos', 'periodistas', 'birmanos', 'agencia', 'reuters', 'liberados', 'martes', 'recibir', 'perdón', 'presidente', 'país', 'tras', 'pasar', 'año', 'medio', 'prisión', 'revelar', 'matanza', 'ejército', 'minoría', 'musulmana', 'rohingya', 'wa', 'lone', 'kyaw', 'soe', 'oo']</td>\n",
       "    </tr>\n",
       "    <tr>\n",
       "      <th>3</th>\n",
       "      <td>1</td>\n",
       "      <td>['cuerpo', 'nacional', 'policía', 'detenido', 'cuatro', 'personas', 'acusadas', 'formar', 'parte', 'grupo', 'criminal', 'dedicado', 'tráfico', 'seres', 'humanos', 'frontera', 'francoespañola', 'irún', 'gipuzkoa', 'célula', 'captaba', 'extranjeros', 'llegados', 'pateras', 'of']</td>\n",
       "    </tr>\n",
       "    <tr>\n",
       "      <th>4</th>\n",
       "      <td>1</td>\n",
       "      <td>['desfile', 'firma', 'roma', 'convierte', 'oda', 'libertad', 'mujeres', 'decidir', 'propios', 'cuerpos', 'museos', 'capitolinos', 'roma', 'transformaron', 'noche', 'martes', 'escenario', 'presentar', 'colección', 'crucero']</td>\n",
       "    </tr>\n",
       "    <tr>\n",
       "      <th>...</th>\n",
       "      <td>...</td>\n",
       "      <td>...</td>\n",
       "    </tr>\n",
       "    <tr>\n",
       "      <th>3513</th>\n",
       "      <td>1</td>\n",
       "      <td>['meryl', 'streep', 'disfrutó', 'premios', 'oscar', 'tan', 'mexicanos', 'vino', 'méxico', 'streep', 'va', 'ser', 'directora', 'washington', 'post', 'runway', 'compradora', 'artesanías', 'guanajuato', 'multipremiada', 'actriz', 'estadounidense', 'meryl', 'streep', 'ganado', 'premio', 'mejor', 'actriz', 'academia', 'cinematográfica', 'país', 'parece', 'número', 'coco', 'dos', 'pasadas', 'escenario', 'guillermo', 'toro', 'inspiraron', 'volver', 'méxico', 'medio', 'redes', 'sociales', 'dos', 'jóvenes', 'san', 'miguel', 'allende', 'guanajuato', 'trabajan', 'tiendas', 'artesanías', 'locales', 'encuentro', 'famosa', 'actriz', 'mientras', 'paseaba', 'ciudad', 'huffpost', 'méxico', 'contactó', 'joven', 'volvió', 'viral', 'presencia', 'streep', 'señora', 'amable', 'receptiva', 'emocioné', 'reconocí', 'abracé', 'relata', 'alex', 'joven', 'años', 'trabaja', 'tienda', 'ropa', 'ubicada', 'san', 'francisco', 'plaza', 'principal', 'centro', 'san', 'miguel', 'allende', 'comentó', 'venía', 'acompañada', 'dos', 'mujeres', 'reconocí', 'prisa', 'linda', 'tomarse', 'unas', 'fotos', 'experiencia', 'duró', 'apenas', 'minutos', 'suficientes', 'poder', 'saludar', 'actrices', 'predilectas', 'dejarlo', 'inmortalizado', 'fotografías', 'jóvenes', 'compartieron', 'fotos', 'streep', 'visita', 'fotos', 'vio', 'contenta', 'relajada', 'llevando', 'bolso', 'sombrero', 'ala', 'ancha', 'par', 'chavos', 'identificó', 'actriz', 'dejó', 'grato', 'recuerdo', 'haber', 'conocido', 'encarnó', 'directora', 'washington', 'post', 'valió', 'reciente', 'nominación', 'oscar', 'aunque', 'actriz', 'sido', 'detectada', 'pidió', 'permitiera', 'descansar', 'disfrutar', 'popular', 'localidad', 'guanajuatense', 'dio', 'conocer', 'reportero', 'jesús', 'aguado']</td>\n",
       "    </tr>\n",
       "    <tr>\n",
       "      <th>3514</th>\n",
       "      <td>0</td>\n",
       "      <td>['plagio', 'lana', 'rey', 'radiohead', 'acordado', 'ambos', 'lana', 'rey', 'anunció', 'enero', 'través', 'red', 'social', 'twitter', 'banda', 'británica', 'radiohead', 'planeaba', 'demandarla', 'plagiar', 'célebre', 'canción', 'creep', 'tema', 'get', 'free', 'recientemente', 'descubierto', 'estrategia', 'marketing', 'generar', 'ruido', 'promoción', 'gratuita', 'it', 'true', 'about', 'the', 'lawsuit', 'although', 'know', 'my', 'song', 'wasn', 'inspired', 'by', 'creep', 'radiohead', 'feel', 'it', 'was', 'and', 'want', 'of', 'the', 'publishing', 'offered', 'up', 'to', 'over', 'the', 'last', 'few', 'months', 'but', 'they', 'will', 'only', 'accept', 'their', 'lawyers', 'have', 'been', 'relentless', 'so', 'we', 'will', 'deal', 'with', 'it', 'in', 'court', 'lana', 'rey', 'lanadelrey', 'january', 'lana', 'rey', 'quiere', 'reproducciones', 'radiohead', 'decadencia', 'lana', 'rey', 'estilo', 'flojo', 'veces', 'deprimente', 'veces', 'problemas', 'lograr', 'impacto', 'pueden', 'lograr', 'estrellas', 'pop', 'ejemplo', 'demi', 'lovato', 'taylor', 'swift', 'ariana', 'grande', 'parte', 'radiohead', 'pesar', 'ser', 'banda', 'mítica', 'trayectoria', 'enorme', 'tiempo', 'aparecer', 'sere', 'mainstream', 'necesita', 'impulso', 'reproducciones', 'plataformas', 'spotify', 'lana', 'rey', 'vs', 'radiohead', 'creep', 'vs', 'get', 'free', 'modo', 'ambos', 'artistas', 'acordado', 'rey', 'hiciera', 'pequeños', 'guiños', 'canción', 'banda', 'thom', 'yorke', 'casualmente', 'famosa', 'grupo', 'así', 'dar', 'hablar', 'través', 'redes', 'sociales', 'upuesto', 'despertado', 'trending', 'topics', 'titulares', 'medios', 'generalistas', 'especializados', 'así', 'gran', 'cantidad', 'búsquedas', 'reproducciones', 'ambos', 'temas', 'youtube', 'spotify', 'apple', 'music']</td>\n",
       "    </tr>\n",
       "    <tr>\n",
       "      <th>3515</th>\n",
       "      <td>1</td>\n",
       "      <td>['ricardo', 'arjona', 'lanza', 'serie', 'documental', 'youtube', 'solas', 'circo', 'soledad', 'compuesto', 'ocho', 'capítulos', 'último', 'trabajo', 'discográfico', 'cantautor', 'guatemalteco', 'lanzó', 'mundialmente', 'solas', 'circo', 'soledad', 'serie', 'documental', 'catalogada', 'mismo', 'arjona', 'trabajo', 'importante', 'toda', 'carrera', 'ocho', 'capítulos', 'material', 'recorre', 'construcción', 'último', 'álbum', 'circo', 'soledad', 'primera', 'vez', 'disco', 'habita', 'lugar', 'viven', 'personajes', 'historias', 'anécdotas', 'través', 'canal', 'youtube', 'vevo', 'artista', 'transmitirá', 'capítulo', 'semana', 'primero', 'viernes', 'junio']</td>\n",
       "    </tr>\n",
       "    <tr>\n",
       "      <th>3516</th>\n",
       "      <td>1</td>\n",
       "      <td>['raúl', 'araiza', 'sorprende', 'andrea', 'legarreta', 'beso', 'boca', 'vayas', 'pegar', 'vayas', 'pegar', 'amor', 'años', 'dijo', 'conductor', 'raúl', 'araiza', 'sorprendió', 'andrea', 'legareta', 'beso', 'boca', 'transmisión', 'ayer', 'programa', 'hoy', 'conductor', 'disponía', 'hacerle', 'pregunta', 'legarreta', 'parte', 'juego', 'embargo', 'acercó', 'dijo', '¿qué', 'gusta', '¿qué', 'traes', 'manera', 'sorpresiva', 'plantó', 'beso', 'boca', 'inmediatamente', 'después', 'pícara', 'sonrisa', 'araiza', 'justificó', 'así', 'acababa', 'pasar', 'vayas', 'pegar', 'vayas', 'pegar', 'amor', 'años', 'oye', 'si', 'novelas', 'daba', 'legarreta', 'sonrisa', 'nervioasa', 'acercó', 'araiza', 'dio', 'abrazo', 'significó', 'pases', 'ambos', 'pues', 'dijo', 'conductores', 'distanciados', 'hablaban', 'detrás', 'cámaras', 'tras', 'reciente', 'incidente', 'programa']</td>\n",
       "    </tr>\n",
       "    <tr>\n",
       "      <th>3517</th>\n",
       "      <td>0</td>\n",
       "      <td>['adal', 'ramones', 'protagonizará', 'remake', 'chavo', 'ocho', 'chavo', 'ocho', 'famosa', 'comedia', 'escribiera', 'protagonizara', 'roberto', 'gómez', 'bolaños', 'chespirito', 'regresará', 'pantalla', 'chica', 'próximos', 'meses', 'vez', 'trata', 'retransmisiones', 'serie', 'animada', 'sino', 'nueva', 'versión', 'conocidos', 'actores', 'papel', 'chavo', 'adal', 'ramones', 'pasó', 'riguroso', 'casting', 'producción', 'pedro', 'torres', 'requirieron', 'actor', 'maduro', 'personaje', 'niño', 'años', 'creemos', 'edad', 'chespirito', 'factor', 'importante', 'éxito', 'serie', 'declaró', 'torres', 'resto', 'elenco', 'siguiente', 'israel', 'jaitovich', 'quico', 'ninel', 'conde', 'hará', 'doble', 'papel', 'doña', 'florinda', 'popis', 'jesús', 'ochoa', 'profesor', 'jirafales', 'omar', 'chaparro', 'don', 'ramón', 'adrián', 'uribe', 'godinez', 'lucía', 'méndez', 'doña', 'clotilde', 'héctor', 'suárez', 'gomís', 'señor', 'barriga', 'ñoño', 'versión', 'políticamente', 'correcta', 'jorge', 'ortiz', 'pinedo', 'regresará', 'televisa', 'interpretar', 'papel', 'señor', 'hurtado', 'martha', 'higareda', 'chilindrina', 'primera', 'temporada', 'contará', 'capítulos', 'media', 'hora', 'lanzados', 'exclusiva', 'blim', 'par', 'días', 'después', 'comenzarán', 'ser', 'transmitidos', 'canal', 'televisa']</td>\n",
       "    </tr>\n",
       "  </tbody>\n",
       "</table></div>"
      ],
      "text/plain": [
       "      Class                                         clean_text\n",
       "0         1  ['voces', 'extremistas', 'conocidas', 'ee', 'u...\n",
       "1         1  ['después', 'casi', 'dos', 'años', 'medio', 'l...\n",
       "2         1  ['dos', 'periodistas', 'birmanos', 'agencia', ...\n",
       "3         1  ['cuerpo', 'nacional', 'policía', 'detenido', ...\n",
       "4         1  ['desfile', 'firma', 'roma', 'convierte', 'oda...\n",
       "...     ...                                                ...\n",
       "3513      1  ['meryl', 'streep', 'disfrutó', 'premios', 'os...\n",
       "3514      0  ['plagio', 'lana', 'rey', 'radiohead', 'acorda...\n",
       "3515      1  ['ricardo', 'arjona', 'lanza', 'serie', 'docum...\n",
       "3516      1  ['raúl', 'araiza', 'sorprende', 'andrea', 'leg...\n",
       "3517      0  ['adal', 'ramones', 'protagonizará', 'remake',...\n",
       "\n",
       "[3518 rows x 2 columns]"
      ]
     },
     "execution_count": 24,
     "metadata": {},
     "output_type": "execute_result"
    }
   ],
   "source": [
    "df_modelo.drop(['Text'], axis=1)"
   ]
  },
  {
   "cell_type": "markdown",
   "id": "30995994",
   "metadata": {
    "id": "30995994"
   },
   "source": [
    "### Importamos las librerias para el modelado y el analisis de metricas"
   ]
  },
  {
   "cell_type": "code",
   "execution_count": 25,
   "id": "faa986fc",
   "metadata": {
    "id": "faa986fc"
   },
   "outputs": [],
   "source": [
    "import sklearn\n",
    "from sklearn.model_selection import train_test_split\n",
    "from sklearn.neural_network import MLPClassifier\n",
    "from sklearn.linear_model import LogisticRegression\n",
    "from sklearn.ensemble import RandomForestClassifier\n",
    "from sklearn.naive_bayes import GaussianNB,MultinomialNB\n",
    "from sklearn.feature_extraction.text import TfidfVectorizer\n",
    "from sklearn import tree\n",
    "from sklearn.tree import DecisionTreeClassifier\n",
    "from sklearn.tree import export_graphviz\n",
    "from sklearn.model_selection import GridSearchCV\n",
    "from sklearn.metrics import confusion_matrix\n",
    "from sklearn.metrics import accuracy_score\n",
    "from sklearn.metrics import recall_score\n",
    "from sklearn.metrics import precision_score\n",
    "from sklearn.metrics import f1_score \n",
    "from sklearn.metrics import classification_report\n",
    "from sklearn.metrics import matthews_corrcoef\n",
    "from sklearn.metrics import roc_auc_score,roc_curve, auc, plot_roc_curve, classification_report"
   ]
  },
  {
   "cell_type": "markdown",
   "id": "f2bcda1e",
   "metadata": {
    "id": "f2bcda1e"
   },
   "source": [
    "### Definiremos una funcion para evaluar nuestros modelos"
   ]
  },
  {
   "cell_type": "code",
   "execution_count": 79,
   "id": "48c058b9",
   "metadata": {
    "id": "48c058b9"
   },
   "outputs": [],
   "source": [
    "def evaluate_model(model, X_train, y_train, X_test, y_test):\n",
    "    y_pred_train = model.predict(X_train)\n",
    "    y_pred_test = model.predict(X_test)\n",
    "    y_prob_train = model.predict_proba(X_train)[:, 1]\n",
    "    y_prob_test = model.predict_proba(X_test)[:, 1]\n",
    "\n",
    "    metrics = {\n",
    "        'Precision': [\n",
    "            precision_score(y_train, y_pred_train, pos_label=1),\n",
    "            precision_score(y_test, y_pred_test, pos_label=1)\n",
    "        ],\n",
    "        'Recall': [\n",
    "            recall_score(y_train, y_pred_train, pos_label=1),\n",
    "            recall_score(y_test, y_pred_test, pos_label=1)\n",
    "        ],\n",
    "        'F1': [\n",
    "            f1_score(y_train, y_pred_train, pos_label=1),\n",
    "            f1_score(y_test, y_pred_test, pos_label=1)\n",
    "        ],\n",
    "        'Accuracy': [\n",
    "            accuracy_score(y_train, y_pred_train),\n",
    "            accuracy_score(y_test, y_pred_test)\n",
    "        ],\n",
    "        'MCC': [\n",
    "            matthews_corrcoef(y_train, y_pred_train),\n",
    "            matthews_corrcoef(y_test, y_pred_test)\n",
    "        ],\n",
    "        'Roc-Auc': [\n",
    "            roc_auc_score(y_train, y_prob_train),\n",
    "            roc_auc_score(y_test, y_prob_test)\n",
    "        ]\n",
    "    }\n",
    "\n",
    "    display(pd.DataFrame(metrics, index=['Train set', 'Test set']))\n",
    "\n",
    "    cf_matrix = confusion_matrix(y_test, y_pred_test)\n",
    "\n",
    "    categories = ['Negative', 'Positive']\n",
    "    group_names = ['True Neg', 'False Pos', 'False Neg', 'True Pos']\n",
    "    group_percentages = [\n",
    "        '{0:.2%}'.format(value)\n",
    "        for value in cf_matrix.flatten() / np.sum(cf_matrix)\n",
    "    ]\n",
    "\n",
    "    labels = [f'{v1}\\n{v2}' for v1, v2 in zip(group_names, group_percentages)]\n",
    "    labels = np.asarray(labels).reshape(2, 2)\n",
    "\n",
    "    fpr_train, tpr_train, _ = roc_curve(y_train, y_prob_train, pos_label=1)\n",
    "    roc_auc_train = auc(fpr_train, tpr_train)\n",
    "\n",
    "    fpr_val, tpr_val, _ = roc_curve(y_test, y_prob_test, pos_label=1)\n",
    "    roc_auc_val = auc(fpr_val, tpr_val)\n",
    "\n",
    "    fig, ax = plt.subplots(1, 2, figsize=(20, 5))\n",
    "    \n",
    "   \n",
    "    sn.heatmap(cf_matrix,\n",
    "                annot=labels,\n",
    "                cmap='Reds',\n",
    "                fmt='',\n",
    "                xticklabels=categories,\n",
    "                yticklabels=categories,\n",
    "                ax=ax[0])\n",
    "\n",
    "    ax[0].set_xlabel(\"Predicted values\", fontdict={'size': 12}, labelpad=10)\n",
    "    ax[0].set_ylabel(\"Actual values\", fontdict={'size': 12}, labelpad=10)\n",
    "    ax[0].set_title(\"Confusion Matrix\", fontdict={'size': 16}, pad=20)\n",
    "\n",
    "    ax[1].plot(fpr_train,\n",
    "               tpr_train,\n",
    "               color='red',\n",
    "               label='ROC curve Train (area = %0.3f)' % roc_auc_train)\n",
    "    ax[1].plot(fpr_val,\n",
    "               tpr_val,\n",
    "               color='blue',\n",
    "               label='ROC curve Test (area = %0.3f)' % roc_auc_val)\n",
    "    ax[1].plot([0, 1], [0, 1], color='black', lw=2, linestyle='--')\n",
    "    ax[1].set_xlabel('False Positive Rate', fontdict={'size': 12}, labelpad=10)\n",
    "    ax[1].set_ylabel('True Positive Rate', fontdict={'size': 12}, labelpad=10)\n",
    "    ax[1].set_xlim([0, 1])\n",
    "    ax[1].set_ylim([0, 1])\n",
    "    ax[1].set_title('ROC Curve', fontdict={'size': 16}, pad=20)\n",
    "    ax[1].legend(loc=\"lower right\")\n",
    "    ax[1].grid()\n",
    "\n",
    "    plt.show()\n",
    "    return cf_matrix"
   ]
  },
  {
   "cell_type": "markdown",
   "id": "d29db1e0",
   "metadata": {},
   "source": [
    "### Definimos el modelo de negocio: se supone que los medios publicaran solo aquellas noticias que el modelo prediga como verdaderos pero dependiendo el tipo de medio en el que estemos le daran distinto valores a los errores del modelo"
   ]
  },
  {
   "cell_type": "code",
   "execution_count": 145,
   "id": "c993dcc6",
   "metadata": {},
   "outputs": [],
   "source": [
    "evaluacion_negocio = pd.DataFrame()\n",
    "evaluacion_negocio['Modelo'] = ['Perfecto']\n",
    "evaluacion_negocio['Cronica'] = [(df['Class'].count())*500]\n",
    "evaluacion_negocio['Chequeado'] = [(df['Class'].count())*500]"
   ]
  },
  {
   "cell_type": "code",
   "execution_count": 146,
   "id": "8c3f0440",
   "metadata": {},
   "outputs": [
    {
     "data": {
      "text/html": [
       "<div><div id=cb08de02-161b-4a99-afa4-5a0332aa6c1a style=\"display:none; background-color:#9D6CFF; color:white; width:200px; height:30px; padding-left:5px; border-radius:4px; flex-direction:row; justify-content:space-around; align-items:center;\" onmouseover=\"this.style.backgroundColor='#BA9BF8'\" onmouseout=\"this.style.backgroundColor='#9D6CFF'\" onclick=\"window.commands?.execute('create-mitosheet-from-dataframe-output');\">See Full Dataframe in Mito</div> <script> if (window.commands?.hasCommand('create-mitosheet-from-dataframe-output')) document.getElementById('cb08de02-161b-4a99-afa4-5a0332aa6c1a').style.display = 'flex' </script> <table border=\"1\" class=\"dataframe\">\n",
       "  <thead>\n",
       "    <tr style=\"text-align: right;\">\n",
       "      <th></th>\n",
       "      <th>Modelo</th>\n",
       "      <th>Cronica</th>\n",
       "      <th>Chequeado</th>\n",
       "    </tr>\n",
       "  </thead>\n",
       "  <tbody>\n",
       "    <tr>\n",
       "      <th>0</th>\n",
       "      <td>Perfecto</td>\n",
       "      <td>1759000</td>\n",
       "      <td>1759000</td>\n",
       "    </tr>\n",
       "  </tbody>\n",
       "</table></div>"
      ],
      "text/plain": [
       "     Modelo  Cronica  Chequeado\n",
       "0  Perfecto  1759000    1759000"
      ]
     },
     "execution_count": 146,
     "metadata": {},
     "output_type": "execute_result"
    }
   ],
   "source": [
    "evaluacion_negocio"
   ]
  },
  {
   "cell_type": "code",
   "execution_count": 148,
   "id": "0968a66d",
   "metadata": {},
   "outputs": [],
   "source": [
    "def eval_negocio(model,cf_matrix):\n",
    "    # Los aciertos seran valorados igualmente por ambos medios\n",
    "    aciertos=500\n",
    "    # Medio de comunicacion sensacionalista\n",
    "    # falso positivo no tendra mucha importancia ya que de por si no tienen mucha credibilidad\n",
    "    cronica_fp=-250\n",
    "    # verdadero negativo tendra mucha importancia por que significa la perdida de la primicia\n",
    "    cronica_vn=-1000\n",
    "    # Medio de comunicacion \"Serio\"\n",
    "    # falso positivo tendra mucha importancia por que significa la perdida de credibilidad\n",
    "    chequeado_fp=-1000\n",
    "    # verdadero negativo no tendra mucha importancia por que siginifica la perdida de la primicia pero no pone en riesgo la credibiidad\n",
    "    chequeado_vn=-250\n",
    "    cronica_evaluacion_modelo=cf_matrix[0][0]*aciertos+cf_matrix[1][1]*aciertos+cf_matrix[0][1]*cronica_fp+cf_matrix[1][0]*cronica_vn\n",
    "    chequeado_evaluacion_modelo=cf_matrix[0][0]*aciertos+cf_matrix[1][1]*aciertos+cf_matrix[0][1]*chequeado_fp+cf_matrix[1][0]*chequeado_vn\n",
    "    evaluacion={'Modelo':model,'Cronica':cronica_evaluacion_modelo,'Chequeado':chequeado_evaluacion_modelo}\n",
    "    \n",
    "    return evaluacion"
   ]
  },
  {
   "cell_type": "markdown",
   "id": "e2abbfaf",
   "metadata": {
    "id": "e2abbfaf"
   },
   "source": [
    "### Seleccionamos nuestra variable independiente y nuestro target"
   ]
  },
  {
   "cell_type": "code",
   "execution_count": 149,
   "id": "414cd4eb",
   "metadata": {
    "id": "414cd4eb"
   },
   "outputs": [],
   "source": [
    "x = df.clean_text\n",
    "y = df.Class"
   ]
  },
  {
   "cell_type": "markdown",
   "id": "c139f9b4",
   "metadata": {
    "id": "c139f9b4"
   },
   "source": [
    "### Dividimos nuestro dataset en train y test"
   ]
  },
  {
   "cell_type": "code",
   "execution_count": 28,
   "id": "b3859ea6",
   "metadata": {
    "id": "b3859ea6"
   },
   "outputs": [],
   "source": [
    "x_train, x_test, y_train, y_test = train_test_split(x, y, test_size=0.2)"
   ]
  },
  {
   "cell_type": "markdown",
   "id": "d16a15ee",
   "metadata": {
    "id": "d16a15ee"
   },
   "source": [
    "### Vectorizamos nuestros textos"
   ]
  },
  {
   "cell_type": "code",
   "execution_count": 29,
   "id": "8a20b4b1",
   "metadata": {
    "id": "8a20b4b1"
   },
   "outputs": [],
   "source": [
    "vectorization = TfidfVectorizer()\n",
    "xv_train = vectorization.fit_transform(x_train)\n",
    "xv_test = vectorization.transform(x_test)"
   ]
  },
  {
   "cell_type": "markdown",
   "id": "a38d8bd7",
   "metadata": {
    "id": "a38d8bd7"
   },
   "source": [
    "### Entrenaremos los modelos primero de la manera mas simple posible y luego usando la funcion gridSearch para ver si conseguimos alguna mejora en los rendimientos"
   ]
  },
  {
   "cell_type": "markdown",
   "id": "8d833112",
   "metadata": {
    "id": "8d833112"
   },
   "source": [
    "### Regresion logistica"
   ]
  },
  {
   "cell_type": "markdown",
   "id": "51c5bd9c",
   "metadata": {
    "id": "51c5bd9c"
   },
   "source": [
    "#### Sin gridSearch"
   ]
  },
  {
   "cell_type": "code",
   "execution_count": 150,
   "id": "97907092",
   "metadata": {
    "colab": {
     "base_uri": "https://localhost:8080/",
     "height": 470
    },
    "id": "97907092",
    "outputId": "e19fd980-93ba-4546-d09f-ed791379c6c1"
   },
   "outputs": [
    {
     "data": {
      "text/html": [
       "<div><div id=64516eb9-5d13-4abe-aaed-1fb8943932cc style=\"display:none; background-color:#9D6CFF; color:white; width:200px; height:30px; padding-left:5px; border-radius:4px; flex-direction:row; justify-content:space-around; align-items:center;\" onmouseover=\"this.style.backgroundColor='#BA9BF8'\" onmouseout=\"this.style.backgroundColor='#9D6CFF'\" onclick=\"window.commands?.execute('create-mitosheet-from-dataframe-output');\">See Full Dataframe in Mito</div> <script> if (window.commands?.hasCommand('create-mitosheet-from-dataframe-output')) document.getElementById('64516eb9-5d13-4abe-aaed-1fb8943932cc').style.display = 'flex' </script> <table border=\"1\" class=\"dataframe\">\n",
       "  <thead>\n",
       "    <tr style=\"text-align: right;\">\n",
       "      <th></th>\n",
       "      <th>Precision</th>\n",
       "      <th>Recall</th>\n",
       "      <th>F1</th>\n",
       "      <th>Accuracy</th>\n",
       "      <th>MCC</th>\n",
       "      <th>Roc-Auc</th>\n",
       "    </tr>\n",
       "  </thead>\n",
       "  <tbody>\n",
       "    <tr>\n",
       "      <th>Train set</th>\n",
       "      <td>0.970588</td>\n",
       "      <td>0.982007</td>\n",
       "      <td>0.976264</td>\n",
       "      <td>0.975480</td>\n",
       "      <td>0.950977</td>\n",
       "      <td>0.995628</td>\n",
       "    </tr>\n",
       "    <tr>\n",
       "      <th>Test set</th>\n",
       "      <td>0.798408</td>\n",
       "      <td>0.809140</td>\n",
       "      <td>0.803738</td>\n",
       "      <td>0.791193</td>\n",
       "      <td>0.580753</td>\n",
       "      <td>0.872069</td>\n",
       "    </tr>\n",
       "  </tbody>\n",
       "</table></div>"
      ],
      "text/plain": [
       "           Precision    Recall        F1  Accuracy       MCC   Roc-Auc\n",
       "Train set   0.970588  0.982007  0.976264  0.975480  0.950977  0.995628\n",
       "Test set    0.798408  0.809140  0.803738  0.791193  0.580753  0.872069"
      ]
     },
     "metadata": {},
     "output_type": "display_data"
    },
    {
     "data": {
      "image/png": "[encoded data removed]",
      "text/plain": [
       "<Figure size 1440x360 with 3 Axes>"
      ]
     },
     "metadata": {
      "needs_background": "light"
     },
     "output_type": "display_data"
    }
   ],
   "source": [
    "LR = LogisticRegression()\n",
    "LR.fit(xv_train,y_train)\n",
    "matrix=evaluate_model(LR, xv_train, y_train, xv_test, y_test)\n",
    "evaluacion_negocio=evaluacion_negocio.append(pd.Series(eval_negocio('Regresion Logistica',matrix), index=evaluacion_negocio.columns),ignore_index=True)"
   ]
  },
  {
   "cell_type": "markdown",
   "id": "704d4736",
   "metadata": {
    "id": "704d4736"
   },
   "source": [
    "#### Con GridSearch"
   ]
  },
  {
   "cell_type": "code",
   "execution_count": 152,
   "id": "2609398a",
   "metadata": {
    "colab": {
     "base_uri": "https://localhost:8080/",
     "height": 487
    },
    "id": "2609398a",
    "outputId": "fb838d22-c87a-402d-fba0-e33d0b9353e8"
   },
   "outputs": [
    {
     "name": "stdout",
     "output_type": "stream",
     "text": [
      "Los mejores parametros encontrados son: {'C': 10.0, 'fit_intercept': True, 'penalty': 'l2', 'solver': 'liblinear'}\n"
     ]
    },
    {
     "data": {
      "text/html": [
       "<div><div id=ca2d31f4-9d29-4815-afb4-37bb7f815085 style=\"display:none; background-color:#9D6CFF; color:white; width:200px; height:30px; padding-left:5px; border-radius:4px; flex-direction:row; justify-content:space-around; align-items:center;\" onmouseover=\"this.style.backgroundColor='#BA9BF8'\" onmouseout=\"this.style.backgroundColor='#9D6CFF'\" onclick=\"window.commands?.execute('create-mitosheet-from-dataframe-output');\">See Full Dataframe in Mito</div> <script> if (window.commands?.hasCommand('create-mitosheet-from-dataframe-output')) document.getElementById('ca2d31f4-9d29-4815-afb4-37bb7f815085').style.display = 'flex' </script> <table border=\"1\" class=\"dataframe\">\n",
       "  <thead>\n",
       "    <tr style=\"text-align: right;\">\n",
       "      <th></th>\n",
       "      <th>Precision</th>\n",
       "      <th>Recall</th>\n",
       "      <th>F1</th>\n",
       "      <th>Accuracy</th>\n",
       "      <th>MCC</th>\n",
       "      <th>Roc-Auc</th>\n",
       "    </tr>\n",
       "  </thead>\n",
       "  <tbody>\n",
       "    <tr>\n",
       "      <th>Train set</th>\n",
       "      <td>1.000000</td>\n",
       "      <td>1.000000</td>\n",
       "      <td>1.000000</td>\n",
       "      <td>1.000000</td>\n",
       "      <td>1.000000</td>\n",
       "      <td>1.000000</td>\n",
       "    </tr>\n",
       "    <tr>\n",
       "      <th>Test set</th>\n",
       "      <td>0.807163</td>\n",
       "      <td>0.787634</td>\n",
       "      <td>0.797279</td>\n",
       "      <td>0.788352</td>\n",
       "      <td>0.576141</td>\n",
       "      <td>0.876603</td>\n",
       "    </tr>\n",
       "  </tbody>\n",
       "</table></div>"
      ],
      "text/plain": [
       "           Precision    Recall        F1  Accuracy       MCC   Roc-Auc\n",
       "Train set   1.000000  1.000000  1.000000  1.000000  1.000000  1.000000\n",
       "Test set    0.807163  0.787634  0.797279  0.788352  0.576141  0.876603"
      ]
     },
     "metadata": {},
     "output_type": "display_data"
    },
    {
     "data": {
      "image/png": "[encoded data removed]",
      "text/plain": [
       "<Figure size 1440x360 with 3 Axes>"
      ]
     },
     "metadata": {
      "needs_background": "light"
     },
     "output_type": "display_data"
    }
   ],
   "source": [
    "import warnings\n",
    "warnings.filterwarnings('ignore')\n",
    "parametros={\n",
    "    'solver':['newton-cg', 'lbfgs', 'liblinear'],\n",
    "    'fit_intercept':[True, False],\n",
    "    'C':np.logspace(-3,3,7),\n",
    "    'penalty':['none', 'l1', 'l2', 'elasticnet']\n",
    "}\n",
    "LR = GridSearchCV(LogisticRegression(),parametros, cv=None)\n",
    "LR.fit(xv_train, y_train)\n",
    "print('Los mejores parametros encontrados son:',LR.best_params_)\n",
    "matrix=evaluate_model(LR, xv_train, y_train, xv_test, y_test)\n",
    "#evaluacion_negocio.append(eval_negocio('Regresion Logistica GS',matrix))\n",
    "evaluacion_negocio=evaluacion_negocio.append(pd.Series(eval_negocio('Regresion Logistica GS',matrix), index=evaluacion_negocio.columns),ignore_index=True)"
   ]
  },
  {
   "cell_type": "markdown",
   "id": "980784a1",
   "metadata": {
    "id": "980784a1"
   },
   "source": [
    "### Arbol de desicion"
   ]
  },
  {
   "cell_type": "code",
   "execution_count": 153,
   "id": "cddc11b5",
   "metadata": {
    "colab": {
     "base_uri": "https://localhost:8080/",
     "height": 487
    },
    "id": "cddc11b5",
    "outputId": "496cf9e5-1f78-4bcb-fe63-c65678a09129"
   },
   "outputs": [
    {
     "name": "stdout",
     "output_type": "stream",
     "text": [
      "Los mejores parametros encontrados son: {'criterion': 'entropy', 'max_depth': 120}\n"
     ]
    },
    {
     "data": {
      "text/html": [
       "<div><div id=11bd2908-7398-41f1-ae3b-fe7c990ad04c style=\"display:none; background-color:#9D6CFF; color:white; width:200px; height:30px; padding-left:5px; border-radius:4px; flex-direction:row; justify-content:space-around; align-items:center;\" onmouseover=\"this.style.backgroundColor='#BA9BF8'\" onmouseout=\"this.style.backgroundColor='#9D6CFF'\" onclick=\"window.commands?.execute('create-mitosheet-from-dataframe-output');\">See Full Dataframe in Mito</div> <script> if (window.commands?.hasCommand('create-mitosheet-from-dataframe-output')) document.getElementById('11bd2908-7398-41f1-ae3b-fe7c990ad04c').style.display = 'flex' </script> <table border=\"1\" class=\"dataframe\">\n",
       "  <thead>\n",
       "    <tr style=\"text-align: right;\">\n",
       "      <th></th>\n",
       "      <th>Precision</th>\n",
       "      <th>Recall</th>\n",
       "      <th>F1</th>\n",
       "      <th>Accuracy</th>\n",
       "      <th>MCC</th>\n",
       "      <th>Roc-Auc</th>\n",
       "    </tr>\n",
       "  </thead>\n",
       "  <tbody>\n",
       "    <tr>\n",
       "      <th>Train set</th>\n",
       "      <td>1.000000</td>\n",
       "      <td>0.885121</td>\n",
       "      <td>0.939060</td>\n",
       "      <td>0.941009</td>\n",
       "      <td>0.888483</td>\n",
       "      <td>0.988839</td>\n",
       "    </tr>\n",
       "    <tr>\n",
       "      <th>Test set</th>\n",
       "      <td>0.687307</td>\n",
       "      <td>0.596774</td>\n",
       "      <td>0.638849</td>\n",
       "      <td>0.643466</td>\n",
       "      <td>0.293081</td>\n",
       "      <td>0.661327</td>\n",
       "    </tr>\n",
       "  </tbody>\n",
       "</table></div>"
      ],
      "text/plain": [
       "           Precision    Recall        F1  Accuracy       MCC   Roc-Auc\n",
       "Train set   1.000000  0.885121  0.939060  0.941009  0.888483  0.988839\n",
       "Test set    0.687307  0.596774  0.638849  0.643466  0.293081  0.661327"
      ]
     },
     "metadata": {},
     "output_type": "display_data"
    },
    {
     "data": {
      "image/png": "[encoded data removed]",
      "text/plain": [
       "<Figure size 1440x360 with 3 Axes>"
      ]
     },
     "metadata": {
      "needs_background": "light"
     },
     "output_type": "display_data"
    }
   ],
   "source": [
    "parametros = {\n",
    "    'criterion':['gini','entropy'],\n",
    "    'max_depth':[1,2,3,4,5,6,7,8,9,10,11,12,15,20,30,40,50,70,90,120,150]\n",
    "}\n",
    "DT = GridSearchCV(DecisionTreeClassifier(), parametros, cv=None)\n",
    "DT.fit(xv_train, y_train)\n",
    "print('Los mejores parametros encontrados son:',DT.best_params_)\n",
    "matrix=evaluate_model(DT, xv_train, y_train, xv_test, y_test)\n",
    "#evaluacion_negocio.append(eval_negocio('Arbol de desicion GS',matrix))\n",
    "evaluacion_negocio=evaluacion_negocio.append(pd.Series(eval_negocio('Arbol de desicion GS',matrix), index=evaluacion_negocio.columns),ignore_index=True)"
   ]
  },
  {
   "cell_type": "markdown",
   "id": "b42f5428",
   "metadata": {
    "id": "b42f5428"
   },
   "source": [
    "### Random Forest"
   ]
  },
  {
   "cell_type": "markdown",
   "id": "835d16c8",
   "metadata": {
    "id": "835d16c8"
   },
   "source": [
    "#### Sin GridSearch"
   ]
  },
  {
   "cell_type": "code",
   "execution_count": 154,
   "id": "7d420b19",
   "metadata": {
    "colab": {
     "base_uri": "https://localhost:8080/",
     "height": 470
    },
    "id": "7d420b19",
    "outputId": "b4c11f78-9dc1-4e19-809f-424b1627e477"
   },
   "outputs": [
    {
     "data": {
      "text/html": [
       "<div><div id=812c0f1c-b1ca-4ba0-903a-54c2e6a8e965 style=\"display:none; background-color:#9D6CFF; color:white; width:200px; height:30px; padding-left:5px; border-radius:4px; flex-direction:row; justify-content:space-around; align-items:center;\" onmouseover=\"this.style.backgroundColor='#BA9BF8'\" onmouseout=\"this.style.backgroundColor='#9D6CFF'\" onclick=\"window.commands?.execute('create-mitosheet-from-dataframe-output');\">See Full Dataframe in Mito</div> <script> if (window.commands?.hasCommand('create-mitosheet-from-dataframe-output')) document.getElementById('812c0f1c-b1ca-4ba0-903a-54c2e6a8e965').style.display = 'flex' </script> <table border=\"1\" class=\"dataframe\">\n",
       "  <thead>\n",
       "    <tr style=\"text-align: right;\">\n",
       "      <th></th>\n",
       "      <th>Precision</th>\n",
       "      <th>Recall</th>\n",
       "      <th>F1</th>\n",
       "      <th>Accuracy</th>\n",
       "      <th>MCC</th>\n",
       "      <th>Roc-Auc</th>\n",
       "    </tr>\n",
       "  </thead>\n",
       "  <tbody>\n",
       "    <tr>\n",
       "      <th>Train set</th>\n",
       "      <td>1.000000</td>\n",
       "      <td>1.00000</td>\n",
       "      <td>1.000000</td>\n",
       "      <td>1.000000</td>\n",
       "      <td>1.000000</td>\n",
       "      <td>1.000000</td>\n",
       "    </tr>\n",
       "    <tr>\n",
       "      <th>Test set</th>\n",
       "      <td>0.802395</td>\n",
       "      <td>0.72043</td>\n",
       "      <td>0.759207</td>\n",
       "      <td>0.758523</td>\n",
       "      <td>0.521475</td>\n",
       "      <td>0.841778</td>\n",
       "    </tr>\n",
       "  </tbody>\n",
       "</table></div>"
      ],
      "text/plain": [
       "           Precision   Recall        F1  Accuracy       MCC   Roc-Auc\n",
       "Train set   1.000000  1.00000  1.000000  1.000000  1.000000  1.000000\n",
       "Test set    0.802395  0.72043  0.759207  0.758523  0.521475  0.841778"
      ]
     },
     "metadata": {},
     "output_type": "display_data"
    },
    {
     "data": {
      "image/png": "[encoded data removed]",
      "text/plain": [
       "<Figure size 1440x360 with 3 Axes>"
      ]
     },
     "metadata": {
      "needs_background": "light"
     },
     "output_type": "display_data"
    }
   ],
   "source": [
    "RFC = RandomForestClassifier(random_state=0)\n",
    "RFC.fit(xv_train, y_train)\n",
    "matrix=evaluate_model(RFC, xv_train, y_train, xv_test, y_test)\n",
    "#evaluacion_negocio.append(eval_negocio('Random Forest',matrix))\n",
    "evaluacion_negocio=evaluacion_negocio.append(pd.Series(eval_negocio('Random Forest',matrix), index=evaluacion_negocio.columns),ignore_index=True)"
   ]
  },
  {
   "cell_type": "markdown",
   "id": "2e8c4377",
   "metadata": {
    "id": "2e8c4377"
   },
   "source": [
    "#### Con GridSearch"
   ]
  },
  {
   "cell_type": "code",
   "execution_count": 155,
   "id": "be83bf23",
   "metadata": {
    "colab": {
     "base_uri": "https://localhost:8080/",
     "height": 487
    },
    "id": "be83bf23",
    "outputId": "96ae5a0e-b82c-4092-ff0c-76587642d27c"
   },
   "outputs": [
    {
     "name": "stdout",
     "output_type": "stream",
     "text": [
      "Los mejores parametros encontrados son: {'criterion': 'gini', 'max_depth': 8, 'max_features': 'auto', 'n_estimators': 500}\n"
     ]
    },
    {
     "data": {
      "text/html": [
       "<div><div id=2c4d4e0b-3fd9-43c6-905f-91a6682864d4 style=\"display:none; background-color:#9D6CFF; color:white; width:200px; height:30px; padding-left:5px; border-radius:4px; flex-direction:row; justify-content:space-around; align-items:center;\" onmouseover=\"this.style.backgroundColor='#BA9BF8'\" onmouseout=\"this.style.backgroundColor='#9D6CFF'\" onclick=\"window.commands?.execute('create-mitosheet-from-dataframe-output');\">See Full Dataframe in Mito</div> <script> if (window.commands?.hasCommand('create-mitosheet-from-dataframe-output')) document.getElementById('2c4d4e0b-3fd9-43c6-905f-91a6682864d4').style.display = 'flex' </script> <table border=\"1\" class=\"dataframe\">\n",
       "  <thead>\n",
       "    <tr style=\"text-align: right;\">\n",
       "      <th></th>\n",
       "      <th>Precision</th>\n",
       "      <th>Recall</th>\n",
       "      <th>F1</th>\n",
       "      <th>Accuracy</th>\n",
       "      <th>MCC</th>\n",
       "      <th>Roc-Auc</th>\n",
       "    </tr>\n",
       "  </thead>\n",
       "  <tbody>\n",
       "    <tr>\n",
       "      <th>Train set</th>\n",
       "      <td>0.749196</td>\n",
       "      <td>0.967474</td>\n",
       "      <td>0.844458</td>\n",
       "      <td>0.816986</td>\n",
       "      <td>0.661585</td>\n",
       "      <td>0.952724</td>\n",
       "    </tr>\n",
       "    <tr>\n",
       "      <th>Test set</th>\n",
       "      <td>0.689362</td>\n",
       "      <td>0.870968</td>\n",
       "      <td>0.769596</td>\n",
       "      <td>0.724432</td>\n",
       "      <td>0.456953</td>\n",
       "      <td>0.836094</td>\n",
       "    </tr>\n",
       "  </tbody>\n",
       "</table></div>"
      ],
      "text/plain": [
       "           Precision    Recall        F1  Accuracy       MCC   Roc-Auc\n",
       "Train set   0.749196  0.967474  0.844458  0.816986  0.661585  0.952724\n",
       "Test set    0.689362  0.870968  0.769596  0.724432  0.456953  0.836094"
      ]
     },
     "metadata": {},
     "output_type": "display_data"
    },
    {
     "data": {
      "image/png": "[encoded data removed]",
      "text/plain": [
       "<Figure size 1440x360 with 3 Axes>"
      ]
     },
     "metadata": {
      "needs_background": "light"
     },
     "output_type": "display_data"
    }
   ],
   "source": [
    "parametros = { \n",
    "    'n_estimators': [200, 500],\n",
    "    'max_features': ['auto', 'sqrt', 'log2'],\n",
    "    'max_depth' : [4,5,6,7,8],\n",
    "    'criterion' :['gini', 'entropy']\n",
    "}\n",
    "RF = GridSearchCV(RandomForestClassifier(), parametros, cv=None)\n",
    "RF.fit(xv_train, y_train)\n",
    "print('Los mejores parametros encontrados son:',RF.best_params_)\n",
    "matrix=evaluate_model(RF, xv_train, y_train, xv_test, y_test)\n",
    "#evaluacion_negocio.append(eval_negocio('Random Forest',matrix))\n",
    "evaluacion_negocio=evaluacion_negocio.append(pd.Series(eval_negocio('Random Forest GS',matrix), index=evaluacion_negocio.columns),ignore_index=True)"
   ]
  },
  {
   "cell_type": "markdown",
   "id": "a112419c",
   "metadata": {
    "id": "a112419c"
   },
   "source": [
    "### Bayes ingenuo"
   ]
  },
  {
   "cell_type": "markdown",
   "id": "c4d6feed",
   "metadata": {
    "id": "c4d6feed"
   },
   "source": [
    "### Sin GridSearch"
   ]
  },
  {
   "cell_type": "code",
   "execution_count": 156,
   "id": "551462e8",
   "metadata": {
    "colab": {
     "base_uri": "https://localhost:8080/",
     "height": 470
    },
    "id": "551462e8",
    "outputId": "baf81dcb-8ce2-4f28-fe55-0bdc5408c9b7"
   },
   "outputs": [
    {
     "data": {
      "text/html": [
       "<div><div id=b0766c1b-80ac-496b-b4e0-230416e1a056 style=\"display:none; background-color:#9D6CFF; color:white; width:200px; height:30px; padding-left:5px; border-radius:4px; flex-direction:row; justify-content:space-around; align-items:center;\" onmouseover=\"this.style.backgroundColor='#BA9BF8'\" onmouseout=\"this.style.backgroundColor='#9D6CFF'\" onclick=\"window.commands?.execute('create-mitosheet-from-dataframe-output');\">See Full Dataframe in Mito</div> <script> if (window.commands?.hasCommand('create-mitosheet-from-dataframe-output')) document.getElementById('b0766c1b-80ac-496b-b4e0-230416e1a056').style.display = 'flex' </script> <table border=\"1\" class=\"dataframe\">\n",
       "  <thead>\n",
       "    <tr style=\"text-align: right;\">\n",
       "      <th></th>\n",
       "      <th>Precision</th>\n",
       "      <th>Recall</th>\n",
       "      <th>F1</th>\n",
       "      <th>Accuracy</th>\n",
       "      <th>MCC</th>\n",
       "      <th>Roc-Auc</th>\n",
       "    </tr>\n",
       "  </thead>\n",
       "  <tbody>\n",
       "    <tr>\n",
       "      <th>Train set</th>\n",
       "      <td>0.942725</td>\n",
       "      <td>0.991003</td>\n",
       "      <td>0.966262</td>\n",
       "      <td>0.964463</td>\n",
       "      <td>0.930066</td>\n",
       "      <td>0.995786</td>\n",
       "    </tr>\n",
       "    <tr>\n",
       "      <th>Test set</th>\n",
       "      <td>0.752315</td>\n",
       "      <td>0.873656</td>\n",
       "      <td>0.808458</td>\n",
       "      <td>0.781250</td>\n",
       "      <td>0.565268</td>\n",
       "      <td>0.883801</td>\n",
       "    </tr>\n",
       "  </tbody>\n",
       "</table></div>"
      ],
      "text/plain": [
       "           Precision    Recall        F1  Accuracy       MCC   Roc-Auc\n",
       "Train set   0.942725  0.991003  0.966262  0.964463  0.930066  0.995786\n",
       "Test set    0.752315  0.873656  0.808458  0.781250  0.565268  0.883801"
      ]
     },
     "metadata": {},
     "output_type": "display_data"
    },
    {
     "data": {
      "image/png": "[encoded data removed]",
      "text/plain": [
       "<Figure size 1440x360 with 3 Axes>"
      ]
     },
     "metadata": {
      "needs_background": "light"
     },
     "output_type": "display_data"
    }
   ],
   "source": [
    "NB = MultinomialNB()\n",
    "NB.fit(xv_train, y_train)\n",
    "matrix = evaluate_model(NB, xv_train, y_train, xv_test, y_test)\n",
    "evaluacion_negocio=evaluacion_negocio.append(pd.Series(eval_negocio('Bayes Ingenuo',matrix), index=evaluacion_negocio.columns),ignore_index=True)"
   ]
  },
  {
   "cell_type": "markdown",
   "id": "5bd27aef",
   "metadata": {},
   "source": [
    "#### Con Grid Search"
   ]
  },
  {
   "cell_type": "code",
   "execution_count": 172,
   "id": "bc3e76ef",
   "metadata": {
    "colab": {
     "base_uri": "https://localhost:8080/",
     "height": 487
    },
    "id": "bc3e76ef",
    "outputId": "c9ebc051-915d-49ae-8ea9-d49d69b9aaaa"
   },
   "outputs": [
    {
     "name": "stdout",
     "output_type": "stream",
     "text": [
      "Los mejores parametros encontrados son: {'activation': 'relu', 'alpha': 0.0001, 'hidden_layer_sizes': (10, 30, 10), 'learning_rate': 'constant', 'solver': 'adam'}\n"
     ]
    },
    {
     "data": {
      "text/html": [
       "<div><div id=a2e524b3-2348-41ea-b32c-ae4b182b1cd5 style=\"display:none; background-color:#9D6CFF; color:white; width:200px; height:30px; padding-left:5px; border-radius:4px; flex-direction:row; justify-content:space-around; align-items:center;\" onmouseover=\"this.style.backgroundColor='#BA9BF8'\" onmouseout=\"this.style.backgroundColor='#9D6CFF'\" onclick=\"window.commands?.execute('create-mitosheet-from-dataframe-output');\">See Full Dataframe in Mito</div> <script> if (window.commands?.hasCommand('create-mitosheet-from-dataframe-output')) document.getElementById('a2e524b3-2348-41ea-b32c-ae4b182b1cd5').style.display = 'flex' </script> <table border=\"1\" class=\"dataframe\">\n",
       "  <thead>\n",
       "    <tr style=\"text-align: right;\">\n",
       "      <th></th>\n",
       "      <th>Precision</th>\n",
       "      <th>Recall</th>\n",
       "      <th>F1</th>\n",
       "      <th>Accuracy</th>\n",
       "      <th>MCC</th>\n",
       "      <th>Roc-Auc</th>\n",
       "    </tr>\n",
       "  </thead>\n",
       "  <tbody>\n",
       "    <tr>\n",
       "      <th>Train set</th>\n",
       "      <td>0.990371</td>\n",
       "      <td>0.996540</td>\n",
       "      <td>0.993446</td>\n",
       "      <td>0.993248</td>\n",
       "      <td>0.986504</td>\n",
       "      <td>0.999852</td>\n",
       "    </tr>\n",
       "    <tr>\n",
       "      <th>Test set</th>\n",
       "      <td>0.792839</td>\n",
       "      <td>0.833333</td>\n",
       "      <td>0.812582</td>\n",
       "      <td>0.796875</td>\n",
       "      <td>0.592050</td>\n",
       "      <td>0.885526</td>\n",
       "    </tr>\n",
       "  </tbody>\n",
       "</table></div>"
      ],
      "text/plain": [
       "           Precision    Recall        F1  Accuracy       MCC   Roc-Auc\n",
       "Train set   0.990371  0.996540  0.993446  0.993248  0.986504  0.999852\n",
       "Test set    0.792839  0.833333  0.812582  0.796875  0.592050  0.885526"
      ]
     },
     "metadata": {},
     "output_type": "display_data"
    },
    {
     "data": {
      "image/png": "[encoded data removed]",
      "text/plain": [
       "<Figure size 1440x360 with 3 Axes>"
      ]
     },
     "metadata": {
      "needs_background": "light"
     },
     "output_type": "display_data"
    }
   ],
   "source": [
    "parametros = {'fit_prior': (True, False),\n",
    "              'alpha': (1, 0.1, 0.01, 0.001, 0.0001, 0.00001)\n",
    "             }\n",
    "NB = GridSearchCV(MultinomialNB(), parametros, cv= None)\n",
    "NB.fit(xv_train, y_train)\n",
    "print('Los mejores parametros encontrados son:',RN.best_params_)\n",
    "matrix = evaluate_model(NB, xv_train, y_train, xv_test, y_test)\n",
    "evaluacion_negocio=evaluacion_negocio.append(pd.Series(eval_negocio('Bayes Ingenuo GS',matrix), index=evaluacion_negocio.columns),ignore_index=True)"
   ]
  },
  {
   "cell_type": "markdown",
   "id": "2d272f01",
   "metadata": {
    "id": "2d272f01"
   },
   "source": [
    "### Redes neuronales"
   ]
  },
  {
   "cell_type": "markdown",
   "id": "b812e84e",
   "metadata": {},
   "source": [
    "#### Sin Grid Search"
   ]
  },
  {
   "cell_type": "code",
   "execution_count": 158,
   "id": "1db088ad",
   "metadata": {
    "colab": {
     "base_uri": "https://localhost:8080/",
     "height": 470
    },
    "id": "1db088ad",
    "outputId": "986cb468-a625-4bf4-d05b-b88ec990678e"
   },
   "outputs": [
    {
     "data": {
      "text/html": [
       "<div><div id=afa82d8d-6c5f-41b2-8ce9-816cd129e0a2 style=\"display:none; background-color:#9D6CFF; color:white; width:200px; height:30px; padding-left:5px; border-radius:4px; flex-direction:row; justify-content:space-around; align-items:center;\" onmouseover=\"this.style.backgroundColor='#BA9BF8'\" onmouseout=\"this.style.backgroundColor='#9D6CFF'\" onclick=\"window.commands?.execute('create-mitosheet-from-dataframe-output');\">See Full Dataframe in Mito</div> <script> if (window.commands?.hasCommand('create-mitosheet-from-dataframe-output')) document.getElementById('afa82d8d-6c5f-41b2-8ce9-816cd129e0a2').style.display = 'flex' </script> <table border=\"1\" class=\"dataframe\">\n",
       "  <thead>\n",
       "    <tr style=\"text-align: right;\">\n",
       "      <th></th>\n",
       "      <th>Precision</th>\n",
       "      <th>Recall</th>\n",
       "      <th>F1</th>\n",
       "      <th>Accuracy</th>\n",
       "      <th>MCC</th>\n",
       "      <th>Roc-Auc</th>\n",
       "    </tr>\n",
       "  </thead>\n",
       "  <tbody>\n",
       "    <tr>\n",
       "      <th>Train set</th>\n",
       "      <td>1.000000</td>\n",
       "      <td>1.000000</td>\n",
       "      <td>1.000000</td>\n",
       "      <td>1.000000</td>\n",
       "      <td>1.000000</td>\n",
       "      <td>1.000000</td>\n",
       "    </tr>\n",
       "    <tr>\n",
       "      <th>Test set</th>\n",
       "      <td>0.794805</td>\n",
       "      <td>0.822581</td>\n",
       "      <td>0.808454</td>\n",
       "      <td>0.794034</td>\n",
       "      <td>0.586266</td>\n",
       "      <td>0.886765</td>\n",
       "    </tr>\n",
       "  </tbody>\n",
       "</table></div>"
      ],
      "text/plain": [
       "           Precision    Recall        F1  Accuracy       MCC   Roc-Auc\n",
       "Train set   1.000000  1.000000  1.000000  1.000000  1.000000  1.000000\n",
       "Test set    0.794805  0.822581  0.808454  0.794034  0.586266  0.886765"
      ]
     },
     "metadata": {},
     "output_type": "display_data"
    },
    {
     "data": {
      "image/png": "[encoded data removed]",
      "text/plain": [
       "<Figure size 1440x360 with 3 Axes>"
      ]
     },
     "metadata": {
      "needs_background": "light"
     },
     "output_type": "display_data"
    }
   ],
   "source": [
    "RN = MLPClassifier(hidden_layer_sizes=(150,100,50), max_iter=300,activation = 'relu',solver='adam',random_state=1)\n",
    "RN.fit(xv_train, y_train)\n",
    "matrix = evaluate_model(RN, xv_train, y_train, xv_test, y_test)\n",
    "evaluacion_negocio=evaluacion_negocio.append(pd.Series(eval_negocio('Redes Neuronales',matrix), index=evaluacion_negocio.columns),ignore_index=True)"
   ]
  },
  {
   "cell_type": "markdown",
   "id": "e56f119f",
   "metadata": {},
   "source": [
    "#### con Grid Search"
   ]
  },
  {
   "cell_type": "code",
   "execution_count": 159,
   "id": "39d92b93",
   "metadata": {
    "colab": {
     "base_uri": "https://localhost:8080/",
     "height": 507
    },
    "id": "39d92b93",
    "outputId": "572cbf5b-e1df-495c-8124-1715af023c7e"
   },
   "outputs": [
    {
     "name": "stdout",
     "output_type": "stream",
     "text": [
      "Los mejores parametros encontrados son: {'activation': 'relu', 'alpha': 0.0001, 'hidden_layer_sizes': (10, 30, 10), 'learning_rate': 'constant', 'solver': 'adam'}\n"
     ]
    },
    {
     "data": {
      "text/html": [
       "<div><div id=a3743991-5030-47f5-b448-b2543f79f2ad style=\"display:none; background-color:#9D6CFF; color:white; width:200px; height:30px; padding-left:5px; border-radius:4px; flex-direction:row; justify-content:space-around; align-items:center;\" onmouseover=\"this.style.backgroundColor='#BA9BF8'\" onmouseout=\"this.style.backgroundColor='#9D6CFF'\" onclick=\"window.commands?.execute('create-mitosheet-from-dataframe-output');\">See Full Dataframe in Mito</div> <script> if (window.commands?.hasCommand('create-mitosheet-from-dataframe-output')) document.getElementById('a3743991-5030-47f5-b448-b2543f79f2ad').style.display = 'flex' </script> <table border=\"1\" class=\"dataframe\">\n",
       "  <thead>\n",
       "    <tr style=\"text-align: right;\">\n",
       "      <th></th>\n",
       "      <th>Precision</th>\n",
       "      <th>Recall</th>\n",
       "      <th>F1</th>\n",
       "      <th>Accuracy</th>\n",
       "      <th>MCC</th>\n",
       "      <th>Roc-Auc</th>\n",
       "    </tr>\n",
       "  </thead>\n",
       "  <tbody>\n",
       "    <tr>\n",
       "      <th>Train set</th>\n",
       "      <td>1.000000</td>\n",
       "      <td>1.00000</td>\n",
       "      <td>1.000000</td>\n",
       "      <td>1.000000</td>\n",
       "      <td>1.00000</td>\n",
       "      <td>1.000000</td>\n",
       "    </tr>\n",
       "    <tr>\n",
       "      <th>Test set</th>\n",
       "      <td>0.819209</td>\n",
       "      <td>0.77957</td>\n",
       "      <td>0.798898</td>\n",
       "      <td>0.792614</td>\n",
       "      <td>0.58586</td>\n",
       "      <td>0.887348</td>\n",
       "    </tr>\n",
       "  </tbody>\n",
       "</table></div>"
      ],
      "text/plain": [
       "           Precision   Recall        F1  Accuracy      MCC   Roc-Auc\n",
       "Train set   1.000000  1.00000  1.000000  1.000000  1.00000  1.000000\n",
       "Test set    0.819209  0.77957  0.798898  0.792614  0.58586  0.887348"
      ]
     },
     "metadata": {},
     "output_type": "display_data"
    },
    {
     "data": {
      "image/png": "[encoded data removed]",
      "text/plain": [
       "<Figure size 1440x360 with 3 Axes>"
      ]
     },
     "metadata": {
      "needs_background": "light"
     },
     "output_type": "display_data"
    }
   ],
   "source": [
    "parametros = {\n",
    "    'hidden_layer_sizes': [(10,30,10),(20,)],\n",
    "    'activation': ['tanh', 'relu'],\n",
    "    'solver': ['sgd', 'adam'],\n",
    "    'alpha': [0.0001, 0.05],\n",
    "    'learning_rate': ['constant','adaptive'],\n",
    "}\n",
    "RN = GridSearchCV(MLPClassifier(), parametros, cv=None)\n",
    "RN.fit(xv_train, y_train)\n",
    "print('Los mejores parametros encontrados son:',RN.best_params_)\n",
    "matrix = evaluate_model(RN, xv_train, y_train, xv_test, y_test)\n",
    "evaluacion_negocio=evaluacion_negocio.append(pd.Series(eval_negocio('Redes Neuronales GS',matrix), index=evaluacion_negocio.columns),ignore_index=True)"
   ]
  },
  {
   "cell_type": "code",
   "execution_count": 161,
   "id": "32959c54",
   "metadata": {},
   "outputs": [
    {
     "data": {
      "text/html": [
       "<div><div id=17707582-d3fc-4eee-896f-3e1129ad86b2 style=\"display:none; background-color:#9D6CFF; color:white; width:200px; height:30px; padding-left:5px; border-radius:4px; flex-direction:row; justify-content:space-around; align-items:center;\" onmouseover=\"this.style.backgroundColor='#BA9BF8'\" onmouseout=\"this.style.backgroundColor='#9D6CFF'\" onclick=\"window.commands?.execute('create-mitosheet-from-dataframe-output');\">See Full Dataframe in Mito</div> <script> if (window.commands?.hasCommand('create-mitosheet-from-dataframe-output')) document.getElementById('17707582-d3fc-4eee-896f-3e1129ad86b2').style.display = 'flex' </script> <table border=\"1\" class=\"dataframe\">\n",
       "  <thead>\n",
       "    <tr style=\"text-align: right;\">\n",
       "      <th></th>\n",
       "      <th>Modelo</th>\n",
       "      <th>Cronica</th>\n",
       "      <th>Chequeado</th>\n",
       "    </tr>\n",
       "  </thead>\n",
       "  <tbody>\n",
       "    <tr>\n",
       "      <th>0</th>\n",
       "      <td>Perfecto</td>\n",
       "      <td>1759000</td>\n",
       "      <td>1759000</td>\n",
       "    </tr>\n",
       "    <tr>\n",
       "      <th>1</th>\n",
       "      <td>Regresion Logistica</td>\n",
       "      <td>188500</td>\n",
       "      <td>184750</td>\n",
       "    </tr>\n",
       "    <tr>\n",
       "      <th>2</th>\n",
       "      <td>Regresion Logistica GS</td>\n",
       "      <td>181000</td>\n",
       "      <td>187750</td>\n",
       "    </tr>\n",
       "    <tr>\n",
       "      <th>3</th>\n",
       "      <td>Arbol de desicion GS</td>\n",
       "      <td>51250</td>\n",
       "      <td>88000</td>\n",
       "    </tr>\n",
       "    <tr>\n",
       "      <th>4</th>\n",
       "      <td>Random Forest</td>\n",
       "      <td>146500</td>\n",
       "      <td>175000</td>\n",
       "    </tr>\n",
       "    <tr>\n",
       "      <th>5</th>\n",
       "      <td>Random Forest GS</td>\n",
       "      <td>170500</td>\n",
       "      <td>97000</td>\n",
       "    </tr>\n",
       "    <tr>\n",
       "      <th>6</th>\n",
       "      <td>Bayes Ingenuo</td>\n",
       "      <td>201250</td>\n",
       "      <td>156250</td>\n",
       "    </tr>\n",
       "    <tr>\n",
       "      <th>7</th>\n",
       "      <td>Bayes Ingenuo GS</td>\n",
       "      <td>198250</td>\n",
       "      <td>184000</td>\n",
       "    </tr>\n",
       "    <tr>\n",
       "      <th>8</th>\n",
       "      <td>Redes Neuronales</td>\n",
       "      <td>193750</td>\n",
       "      <td>184000</td>\n",
       "    </tr>\n",
       "    <tr>\n",
       "      <th>9</th>\n",
       "      <td>Redes Neuronales GS</td>\n",
       "      <td>181000</td>\n",
       "      <td>194500</td>\n",
       "    </tr>\n",
       "  </tbody>\n",
       "</table></div>"
      ],
      "text/plain": [
       "                   Modelo  Cronica  Chequeado\n",
       "0                Perfecto  1759000    1759000\n",
       "1     Regresion Logistica   188500     184750\n",
       "2  Regresion Logistica GS   181000     187750\n",
       "3    Arbol de desicion GS    51250      88000\n",
       "4           Random Forest   146500     175000\n",
       "5        Random Forest GS   170500      97000\n",
       "6           Bayes Ingenuo   201250     156250\n",
       "7        Bayes Ingenuo GS   198250     184000\n",
       "8        Redes Neuronales   193750     184000\n",
       "9     Redes Neuronales GS   181000     194500"
      ]
     },
     "execution_count": 161,
     "metadata": {},
     "output_type": "execute_result"
    }
   ],
   "source": [
    "evaluacion_negocio"
   ]
  },
  {
   "cell_type": "markdown",
   "id": "0fad3820",
   "metadata": {},
   "source": [
    "#### Gracias a a funcion creada ahora podemos ver que para un medio sensacionalista el mejor modelo sera Bayes inguenuo"
   ]
  },
  {
   "cell_type": "code",
   "execution_count": 167,
   "id": "dc4876bc",
   "metadata": {},
   "outputs": [
    {
     "data": {
      "text/html": [
       "<div><div id=fd2d638a-0a83-49af-8ea2-0c2ae825e8dc style=\"display:none; background-color:#9D6CFF; color:white; width:200px; height:30px; padding-left:5px; border-radius:4px; flex-direction:row; justify-content:space-around; align-items:center;\" onmouseover=\"this.style.backgroundColor='#BA9BF8'\" onmouseout=\"this.style.backgroundColor='#9D6CFF'\" onclick=\"window.commands?.execute('create-mitosheet-from-dataframe-output');\">See Full Dataframe in Mito</div> <script> if (window.commands?.hasCommand('create-mitosheet-from-dataframe-output')) document.getElementById('fd2d638a-0a83-49af-8ea2-0c2ae825e8dc').style.display = 'flex' </script> <table border=\"1\" class=\"dataframe\">\n",
       "  <thead>\n",
       "    <tr style=\"text-align: right;\">\n",
       "      <th></th>\n",
       "      <th>Modelo</th>\n",
       "      <th>Cronica</th>\n",
       "      <th>Chequeado</th>\n",
       "    </tr>\n",
       "  </thead>\n",
       "  <tbody>\n",
       "    <tr>\n",
       "      <th>0</th>\n",
       "      <td>Perfecto</td>\n",
       "      <td>1759000</td>\n",
       "      <td>1759000</td>\n",
       "    </tr>\n",
       "    <tr>\n",
       "      <th>6</th>\n",
       "      <td>Bayes Ingenuo</td>\n",
       "      <td>201250</td>\n",
       "      <td>156250</td>\n",
       "    </tr>\n",
       "    <tr>\n",
       "      <th>7</th>\n",
       "      <td>Bayes Ingenuo GS</td>\n",
       "      <td>198250</td>\n",
       "      <td>184000</td>\n",
       "    </tr>\n",
       "    <tr>\n",
       "      <th>8</th>\n",
       "      <td>Redes Neuronales</td>\n",
       "      <td>193750</td>\n",
       "      <td>184000</td>\n",
       "    </tr>\n",
       "    <tr>\n",
       "      <th>1</th>\n",
       "      <td>Regresion Logistica</td>\n",
       "      <td>188500</td>\n",
       "      <td>184750</td>\n",
       "    </tr>\n",
       "    <tr>\n",
       "      <th>2</th>\n",
       "      <td>Regresion Logistica GS</td>\n",
       "      <td>181000</td>\n",
       "      <td>187750</td>\n",
       "    </tr>\n",
       "    <tr>\n",
       "      <th>9</th>\n",
       "      <td>Redes Neuronales GS</td>\n",
       "      <td>181000</td>\n",
       "      <td>194500</td>\n",
       "    </tr>\n",
       "    <tr>\n",
       "      <th>5</th>\n",
       "      <td>Random Forest GS</td>\n",
       "      <td>170500</td>\n",
       "      <td>97000</td>\n",
       "    </tr>\n",
       "    <tr>\n",
       "      <th>4</th>\n",
       "      <td>Random Forest</td>\n",
       "      <td>146500</td>\n",
       "      <td>175000</td>\n",
       "    </tr>\n",
       "    <tr>\n",
       "      <th>3</th>\n",
       "      <td>Arbol de desicion GS</td>\n",
       "      <td>51250</td>\n",
       "      <td>88000</td>\n",
       "    </tr>\n",
       "  </tbody>\n",
       "</table></div>"
      ],
      "text/plain": [
       "                   Modelo  Cronica  Chequeado\n",
       "0                Perfecto  1759000    1759000\n",
       "6           Bayes Ingenuo   201250     156250\n",
       "7        Bayes Ingenuo GS   198250     184000\n",
       "8        Redes Neuronales   193750     184000\n",
       "1     Regresion Logistica   188500     184750\n",
       "2  Regresion Logistica GS   181000     187750\n",
       "9     Redes Neuronales GS   181000     194500\n",
       "5        Random Forest GS   170500      97000\n",
       "4           Random Forest   146500     175000\n",
       "3    Arbol de desicion GS    51250      88000"
      ]
     },
     "execution_count": 167,
     "metadata": {},
     "output_type": "execute_result"
    }
   ],
   "source": [
    "evaluacion_negocio.sort_values('Cronica',ascending = False )"
   ]
  },
  {
   "cell_type": "markdown",
   "id": "99a48682",
   "metadata": {},
   "source": [
    "#### Y para un medio serio el mejor modelo seria redes neuronaes con grid search"
   ]
  },
  {
   "cell_type": "code",
   "execution_count": 178,
   "id": "4b544606",
   "metadata": {},
   "outputs": [
    {
     "data": {
      "text/html": [
       "<div><div id=13e52c2c-bad5-42fb-9252-306dda5ff539 style=\"display:none; background-color:#9D6CFF; color:white; width:200px; height:30px; padding-left:5px; border-radius:4px; flex-direction:row; justify-content:space-around; align-items:center;\" onmouseover=\"this.style.backgroundColor='#BA9BF8'\" onmouseout=\"this.style.backgroundColor='#9D6CFF'\" onclick=\"window.commands?.execute('create-mitosheet-from-dataframe-output');\">See Full Dataframe in Mito</div> <script> if (window.commands?.hasCommand('create-mitosheet-from-dataframe-output')) document.getElementById('13e52c2c-bad5-42fb-9252-306dda5ff539').style.display = 'flex' </script> <table border=\"1\" class=\"dataframe\">\n",
       "  <thead>\n",
       "    <tr style=\"text-align: right;\">\n",
       "      <th></th>\n",
       "      <th>Modelo</th>\n",
       "      <th>Cronica</th>\n",
       "      <th>Chequeado</th>\n",
       "    </tr>\n",
       "  </thead>\n",
       "  <tbody>\n",
       "    <tr>\n",
       "      <th>0</th>\n",
       "      <td>Perfecto</td>\n",
       "      <td>1759000</td>\n",
       "      <td>1759000</td>\n",
       "    </tr>\n",
       "    <tr>\n",
       "      <th>9</th>\n",
       "      <td>Redes Neuronales GS</td>\n",
       "      <td>181000</td>\n",
       "      <td>194500</td>\n",
       "    </tr>\n",
       "    <tr>\n",
       "      <th>2</th>\n",
       "      <td>Regresion Logistica GS</td>\n",
       "      <td>181000</td>\n",
       "      <td>187750</td>\n",
       "    </tr>\n",
       "    <tr>\n",
       "      <th>1</th>\n",
       "      <td>Regresion Logistica</td>\n",
       "      <td>188500</td>\n",
       "      <td>184750</td>\n",
       "    </tr>\n",
       "    <tr>\n",
       "      <th>7</th>\n",
       "      <td>Bayes Ingenuo GS</td>\n",
       "      <td>198250</td>\n",
       "      <td>184000</td>\n",
       "    </tr>\n",
       "    <tr>\n",
       "      <th>...</th>\n",
       "      <td>...</td>\n",
       "      <td>...</td>\n",
       "      <td>...</td>\n",
       "    </tr>\n",
       "    <tr>\n",
       "      <th>12</th>\n",
       "      <td>Bayes Ingenuo GS</td>\n",
       "      <td>198250</td>\n",
       "      <td>184000</td>\n",
       "    </tr>\n",
       "    <tr>\n",
       "      <th>4</th>\n",
       "      <td>Random Forest</td>\n",
       "      <td>146500</td>\n",
       "      <td>175000</td>\n",
       "    </tr>\n",
       "    <tr>\n",
       "      <th>6</th>\n",
       "      <td>Bayes Ingenuo</td>\n",
       "      <td>201250</td>\n",
       "      <td>156250</td>\n",
       "    </tr>\n",
       "    <tr>\n",
       "      <th>5</th>\n",
       "      <td>Random Forest GS</td>\n",
       "      <td>170500</td>\n",
       "      <td>97000</td>\n",
       "    </tr>\n",
       "    <tr>\n",
       "      <th>3</th>\n",
       "      <td>Arbol de desicion GS</td>\n",
       "      <td>51250</td>\n",
       "      <td>88000</td>\n",
       "    </tr>\n",
       "  </tbody>\n",
       "</table></div>"
      ],
      "text/plain": [
       "                    Modelo  Cronica  Chequeado\n",
       "0                 Perfecto  1759000    1759000\n",
       "9      Redes Neuronales GS   181000     194500\n",
       "2   Regresion Logistica GS   181000     187750\n",
       "1      Regresion Logistica   188500     184750\n",
       "7         Bayes Ingenuo GS   198250     184000\n",
       "8         Redes Neuronales   193750     184000\n",
       "10        Bayes Ingenuo GS   198250     184000\n",
       "11        Bayes Ingenuo GS   198250     184000\n",
       "12        Bayes Ingenuo GS   198250     184000\n",
       "4            Random Forest   146500     175000\n",
       "6            Bayes Ingenuo   201250     156250\n",
       "5         Random Forest GS   170500      97000\n",
       "3     Arbol de desicion GS    51250      88000"
      ]
     },
     "execution_count": 178,
     "metadata": {},
     "output_type": "execute_result"
    }
   ],
   "source": [
    "evaluacion_negocio.sort_values('Chequeado',ascending = False )"
   ]
  }
 ],
 "metadata": {
  "accelerator": "GPU",
  "colab": {
   "provenance": []
  },
  "gpuClass": "standard",
  "kernelspec": {
   "display_name": "Python 3 (ipykernel)",
   "language": "python",
   "name": "python3"
  },
  "language_info": {
   "codemirror_mode": {
    "name": "ipython",
    "version": 3
   },
   "file_extension": ".py",
   "mimetype": "text/x-python",
   "name": "python",
   "nbconvert_exporter": "python",
   "pygments_lexer": "ipython3",
   "version": "3.9.7"
  }
 },
 "nbformat": 4,
 "nbformat_minor": 5
}
