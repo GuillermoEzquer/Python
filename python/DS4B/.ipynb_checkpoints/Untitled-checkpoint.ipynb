{
 "cells": [
  {
   "cell_type": "markdown",
   "id": "0b746f4f",
   "metadata": {},
   "source": [
    "# Ejercicio DS4B codigo personal"
   ]
  },
  {
   "cell_type": "markdown",
   "id": "342dba1b",
   "metadata": {},
   "source": [
    "### Importamos las librerias necesarias"
   ]
  },
  {
   "cell_type": "code",
   "execution_count": 88,
   "id": "606c5e05",
   "metadata": {},
   "outputs": [],
   "source": [
    "import numpy as np\n",
    "import pandas as pd\n",
    "import matplotlib.pyplot as plt\n",
    "import seaborn as sn\n",
    "from pandas_profiling import ProfileReport\n",
    "from sklearn import preprocessing"
   ]
  },
  {
   "cell_type": "markdown",
   "id": "1553af4a",
   "metadata": {},
   "source": [
    "### Importamos el dataset para poder analizarlo"
   ]
  },
  {
   "cell_type": "code",
   "execution_count": 50,
   "id": "bd6be527",
   "metadata": {},
   "outputs": [],
   "source": [
    "df = pd.read_csv('Dataset/AbandonoEmpleados.csv', sep = ';', index_col= 'id', na_values='#N/D')"
   ]
  },
  {
   "cell_type": "markdown",
   "id": "562c3fd5",
   "metadata": {},
   "source": [
    "### Empezamos el analisis exploratorio"
   ]
  },
  {
   "cell_type": "markdown",
   "id": "26a21447",
   "metadata": {},
   "source": [
    "#### Imprimimos cuales son las dimensiones"
   ]
  },
  {
   "cell_type": "code",
   "execution_count": 55,
   "id": "c892ccfa",
   "metadata": {},
   "outputs": [
    {
     "data": {
      "text/plain": [
       "Index(['edad', 'abandono', 'viajes', 'departamento', 'distancia_casa',\n",
       "       'educacion', 'carrera', 'empleados', 'satisfaccion_entorno', 'sexo',\n",
       "       'implicacion', 'nivel_laboral', 'puesto', 'satisfaccion_trabajo',\n",
       "       'estado_civil', 'salario_mes', 'num_empresas_anteriores', 'mayor_edad',\n",
       "       'horas_extra', 'incremento_salario_porc', 'evaluacion',\n",
       "       'satisfaccion_companeros', 'horas_quincena', 'nivel_acciones',\n",
       "       'anos_experiencia', 'num_formaciones_ult_ano', 'conciliacion',\n",
       "       'anos_compania', 'anos_en_puesto', 'anos_desde_ult_promocion',\n",
       "       'anos_con_manager_actual'],\n",
       "      dtype='object')"
      ]
     },
     "execution_count": 55,
     "metadata": {},
     "output_type": "execute_result"
    }
   ],
   "source": [
    "df.keys()"
   ]
  },
  {
   "cell_type": "markdown",
   "id": "4872f402",
   "metadata": {},
   "source": [
    "#### Imprimimos el Head"
   ]
  },
  {
   "cell_type": "code",
   "execution_count": 33,
   "id": "da27516b",
   "metadata": {},
   "outputs": [
    {
     "data": {
      "text/html": [
       "<div><div id=353e8612-0afe-4b2b-98eb-fff8d7980a20 style=\"display:none; background-color:#9D6CFF; color:white; width:200px; height:30px; padding-left:5px; border-radius:4px; flex-direction:row; justify-content:space-around; align-items:center;\" onmouseover=\"this.style.backgroundColor='#BA9BF8'\" onmouseout=\"this.style.backgroundColor='#9D6CFF'\" onclick=\"window.commands?.execute('create-mitosheet-from-dataframe-output');\">See Full Dataframe in Mito</div> <script> if (window.commands?.hasCommand('create-mitosheet-from-dataframe-output')) document.getElementById('353e8612-0afe-4b2b-98eb-fff8d7980a20').style.display = 'flex' </script> <table border=\"1\" class=\"dataframe\">\n",
       "  <thead>\n",
       "    <tr style=\"text-align: right;\">\n",
       "      <th></th>\n",
       "      <th>edad</th>\n",
       "      <th>abandono</th>\n",
       "      <th>viajes</th>\n",
       "      <th>departamento</th>\n",
       "      <th>distancia_casa</th>\n",
       "      <th>educacion</th>\n",
       "      <th>carrera</th>\n",
       "      <th>empleados</th>\n",
       "      <th>satisfaccion_entorno</th>\n",
       "      <th>sexo</th>\n",
       "      <th>...</th>\n",
       "      <th>satisfaccion_companeros</th>\n",
       "      <th>horas_quincena</th>\n",
       "      <th>nivel_acciones</th>\n",
       "      <th>anos_experiencia</th>\n",
       "      <th>num_formaciones_ult_ano</th>\n",
       "      <th>conciliacion</th>\n",
       "      <th>anos_compania</th>\n",
       "      <th>anos_en_puesto</th>\n",
       "      <th>anos_desde_ult_promocion</th>\n",
       "      <th>anos_con_manager_actual</th>\n",
       "    </tr>\n",
       "    <tr>\n",
       "      <th>id</th>\n",
       "      <th></th>\n",
       "      <th></th>\n",
       "      <th></th>\n",
       "      <th></th>\n",
       "      <th></th>\n",
       "      <th></th>\n",
       "      <th></th>\n",
       "      <th></th>\n",
       "      <th></th>\n",
       "      <th></th>\n",
       "      <th></th>\n",
       "      <th></th>\n",
       "      <th></th>\n",
       "      <th></th>\n",
       "      <th></th>\n",
       "      <th></th>\n",
       "      <th></th>\n",
       "      <th></th>\n",
       "      <th></th>\n",
       "      <th></th>\n",
       "      <th></th>\n",
       "    </tr>\n",
       "  </thead>\n",
       "  <tbody>\n",
       "    <tr>\n",
       "      <th>1</th>\n",
       "      <td>41</td>\n",
       "      <td>Yes</td>\n",
       "      <td>Travel_Rarely</td>\n",
       "      <td>Sales</td>\n",
       "      <td>1</td>\n",
       "      <td>Universitaria</td>\n",
       "      <td>Life Sciences</td>\n",
       "      <td>1</td>\n",
       "      <td>Media</td>\n",
       "      <td>3.0</td>\n",
       "      <td>...</td>\n",
       "      <td>Baja</td>\n",
       "      <td>80</td>\n",
       "      <td>0</td>\n",
       "      <td>8</td>\n",
       "      <td>0</td>\n",
       "      <td>NaN</td>\n",
       "      <td>6</td>\n",
       "      <td>NaN</td>\n",
       "      <td>0</td>\n",
       "      <td>5</td>\n",
       "    </tr>\n",
       "    <tr>\n",
       "      <th>2</th>\n",
       "      <td>49</td>\n",
       "      <td>No</td>\n",
       "      <td>Travel_Frequently</td>\n",
       "      <td>Research &amp; Development</td>\n",
       "      <td>8</td>\n",
       "      <td>Secundaria</td>\n",
       "      <td>Life Sciences</td>\n",
       "      <td>1</td>\n",
       "      <td>Alta</td>\n",
       "      <td>2.0</td>\n",
       "      <td>...</td>\n",
       "      <td>Muy_Alta</td>\n",
       "      <td>80</td>\n",
       "      <td>1</td>\n",
       "      <td>10</td>\n",
       "      <td>3</td>\n",
       "      <td>NaN</td>\n",
       "      <td>10</td>\n",
       "      <td>NaN</td>\n",
       "      <td>1</td>\n",
       "      <td>7</td>\n",
       "    </tr>\n",
       "    <tr>\n",
       "      <th>4</th>\n",
       "      <td>37</td>\n",
       "      <td>Yes</td>\n",
       "      <td>Travel_Rarely</td>\n",
       "      <td>Research &amp; Development</td>\n",
       "      <td>2</td>\n",
       "      <td>Secundaria</td>\n",
       "      <td>Other</td>\n",
       "      <td>1</td>\n",
       "      <td>Muy_Alta</td>\n",
       "      <td>2.0</td>\n",
       "      <td>...</td>\n",
       "      <td>Media</td>\n",
       "      <td>80</td>\n",
       "      <td>0</td>\n",
       "      <td>7</td>\n",
       "      <td>3</td>\n",
       "      <td>NaN</td>\n",
       "      <td>0</td>\n",
       "      <td>2.0</td>\n",
       "      <td>0</td>\n",
       "      <td>0</td>\n",
       "    </tr>\n",
       "    <tr>\n",
       "      <th>5</th>\n",
       "      <td>33</td>\n",
       "      <td>No</td>\n",
       "      <td>Travel_Frequently</td>\n",
       "      <td>Research &amp; Development</td>\n",
       "      <td>3</td>\n",
       "      <td>Universitaria</td>\n",
       "      <td>Life Sciences</td>\n",
       "      <td>1</td>\n",
       "      <td>Muy_Alta</td>\n",
       "      <td>3.0</td>\n",
       "      <td>...</td>\n",
       "      <td>Alta</td>\n",
       "      <td>80</td>\n",
       "      <td>0</td>\n",
       "      <td>8</td>\n",
       "      <td>3</td>\n",
       "      <td>NaN</td>\n",
       "      <td>8</td>\n",
       "      <td>3.0</td>\n",
       "      <td>3</td>\n",
       "      <td>0</td>\n",
       "    </tr>\n",
       "    <tr>\n",
       "      <th>7</th>\n",
       "      <td>27</td>\n",
       "      <td>No</td>\n",
       "      <td>Travel_Rarely</td>\n",
       "      <td>Research &amp; Development</td>\n",
       "      <td>2</td>\n",
       "      <td>Universitaria</td>\n",
       "      <td>Medical</td>\n",
       "      <td>1</td>\n",
       "      <td>Baja</td>\n",
       "      <td>3.0</td>\n",
       "      <td>...</td>\n",
       "      <td>Muy_Alta</td>\n",
       "      <td>80</td>\n",
       "      <td>1</td>\n",
       "      <td>6</td>\n",
       "      <td>3</td>\n",
       "      <td>NaN</td>\n",
       "      <td>2</td>\n",
       "      <td>NaN</td>\n",
       "      <td>2</td>\n",
       "      <td>2</td>\n",
       "    </tr>\n",
       "    <tr>\n",
       "      <th>8</th>\n",
       "      <td>32</td>\n",
       "      <td>No</td>\n",
       "      <td>Travel_Frequently</td>\n",
       "      <td>Research &amp; Development</td>\n",
       "      <td>2</td>\n",
       "      <td>Universitaria</td>\n",
       "      <td>Life Sciences</td>\n",
       "      <td>1</td>\n",
       "      <td>Muy_Alta</td>\n",
       "      <td>3.0</td>\n",
       "      <td>...</td>\n",
       "      <td>Alta</td>\n",
       "      <td>80</td>\n",
       "      <td>0</td>\n",
       "      <td>8</td>\n",
       "      <td>2</td>\n",
       "      <td>NaN</td>\n",
       "      <td>7</td>\n",
       "      <td>NaN</td>\n",
       "      <td>3</td>\n",
       "      <td>6</td>\n",
       "    </tr>\n",
       "    <tr>\n",
       "      <th>10</th>\n",
       "      <td>59</td>\n",
       "      <td>No</td>\n",
       "      <td>Travel_Rarely</td>\n",
       "      <td>Research &amp; Development</td>\n",
       "      <td>3</td>\n",
       "      <td>Master</td>\n",
       "      <td>Medical</td>\n",
       "      <td>1</td>\n",
       "      <td>Alta</td>\n",
       "      <td>4.0</td>\n",
       "      <td>...</td>\n",
       "      <td>Baja</td>\n",
       "      <td>80</td>\n",
       "      <td>3</td>\n",
       "      <td>12</td>\n",
       "      <td>3</td>\n",
       "      <td>Muy_Alta</td>\n",
       "      <td>1</td>\n",
       "      <td>NaN</td>\n",
       "      <td>0</td>\n",
       "      <td>0</td>\n",
       "    </tr>\n",
       "    <tr>\n",
       "      <th>11</th>\n",
       "      <td>30</td>\n",
       "      <td>No</td>\n",
       "      <td>Travel_Rarely</td>\n",
       "      <td>Research &amp; Development</td>\n",
       "      <td>24</td>\n",
       "      <td>Universitaria</td>\n",
       "      <td>Life Sciences</td>\n",
       "      <td>1</td>\n",
       "      <td>Muy_Alta</td>\n",
       "      <td>3.0</td>\n",
       "      <td>...</td>\n",
       "      <td>Media</td>\n",
       "      <td>80</td>\n",
       "      <td>1</td>\n",
       "      <td>1</td>\n",
       "      <td>2</td>\n",
       "      <td>NaN</td>\n",
       "      <td>1</td>\n",
       "      <td>NaN</td>\n",
       "      <td>0</td>\n",
       "      <td>0</td>\n",
       "    </tr>\n",
       "    <tr>\n",
       "      <th>12</th>\n",
       "      <td>38</td>\n",
       "      <td>No</td>\n",
       "      <td>Travel_Frequently</td>\n",
       "      <td>Research &amp; Development</td>\n",
       "      <td>23</td>\n",
       "      <td>Secundaria</td>\n",
       "      <td>Life Sciences</td>\n",
       "      <td>1</td>\n",
       "      <td>Muy_Alta</td>\n",
       "      <td>2.0</td>\n",
       "      <td>...</td>\n",
       "      <td>Media</td>\n",
       "      <td>80</td>\n",
       "      <td>0</td>\n",
       "      <td>10</td>\n",
       "      <td>2</td>\n",
       "      <td>NaN</td>\n",
       "      <td>9</td>\n",
       "      <td>NaN</td>\n",
       "      <td>1</td>\n",
       "      <td>8</td>\n",
       "    </tr>\n",
       "    <tr>\n",
       "      <th>13</th>\n",
       "      <td>36</td>\n",
       "      <td>No</td>\n",
       "      <td>Travel_Rarely</td>\n",
       "      <td>Research &amp; Development</td>\n",
       "      <td>27</td>\n",
       "      <td>Universitaria</td>\n",
       "      <td>Medical</td>\n",
       "      <td>1</td>\n",
       "      <td>Alta</td>\n",
       "      <td>3.0</td>\n",
       "      <td>...</td>\n",
       "      <td>Media</td>\n",
       "      <td>80</td>\n",
       "      <td>2</td>\n",
       "      <td>17</td>\n",
       "      <td>3</td>\n",
       "      <td>Alta</td>\n",
       "      <td>7</td>\n",
       "      <td>NaN</td>\n",
       "      <td>7</td>\n",
       "      <td>7</td>\n",
       "    </tr>\n",
       "  </tbody>\n",
       "</table></div>"
      ],
      "text/plain": [
       "    edad abandono             viajes            departamento  distancia_casa  \\\n",
       "id                                                                             \n",
       "1     41      Yes      Travel_Rarely                   Sales               1   \n",
       "2     49       No  Travel_Frequently  Research & Development               8   \n",
       "4     37      Yes      Travel_Rarely  Research & Development               2   \n",
       "5     33       No  Travel_Frequently  Research & Development               3   \n",
       "7     27       No      Travel_Rarely  Research & Development               2   \n",
       "8     32       No  Travel_Frequently  Research & Development               2   \n",
       "10    59       No      Travel_Rarely  Research & Development               3   \n",
       "11    30       No      Travel_Rarely  Research & Development              24   \n",
       "12    38       No  Travel_Frequently  Research & Development              23   \n",
       "13    36       No      Travel_Rarely  Research & Development              27   \n",
       "\n",
       "        educacion        carrera  empleados satisfaccion_entorno  sexo  ...  \\\n",
       "id                                                                      ...   \n",
       "1   Universitaria  Life Sciences          1                Media   3.0  ...   \n",
       "2      Secundaria  Life Sciences          1                 Alta   2.0  ...   \n",
       "4      Secundaria          Other          1             Muy_Alta   2.0  ...   \n",
       "5   Universitaria  Life Sciences          1             Muy_Alta   3.0  ...   \n",
       "7   Universitaria        Medical          1                 Baja   3.0  ...   \n",
       "8   Universitaria  Life Sciences          1             Muy_Alta   3.0  ...   \n",
       "10         Master        Medical          1                 Alta   4.0  ...   \n",
       "11  Universitaria  Life Sciences          1             Muy_Alta   3.0  ...   \n",
       "12     Secundaria  Life Sciences          1             Muy_Alta   2.0  ...   \n",
       "13  Universitaria        Medical          1                 Alta   3.0  ...   \n",
       "\n",
       "   satisfaccion_companeros  horas_quincena nivel_acciones anos_experiencia  \\\n",
       "id                                                                           \n",
       "1                     Baja              80              0                8   \n",
       "2                 Muy_Alta              80              1               10   \n",
       "4                    Media              80              0                7   \n",
       "5                     Alta              80              0                8   \n",
       "7                 Muy_Alta              80              1                6   \n",
       "8                     Alta              80              0                8   \n",
       "10                    Baja              80              3               12   \n",
       "11                   Media              80              1                1   \n",
       "12                   Media              80              0               10   \n",
       "13                   Media              80              2               17   \n",
       "\n",
       "   num_formaciones_ult_ano  conciliacion  anos_compania anos_en_puesto  \\\n",
       "id                                                                       \n",
       "1                        0           NaN              6            NaN   \n",
       "2                        3           NaN             10            NaN   \n",
       "4                        3           NaN              0            2.0   \n",
       "5                        3           NaN              8            3.0   \n",
       "7                        3           NaN              2            NaN   \n",
       "8                        2           NaN              7            NaN   \n",
       "10                       3      Muy_Alta              1            NaN   \n",
       "11                       2           NaN              1            NaN   \n",
       "12                       2           NaN              9            NaN   \n",
       "13                       3          Alta              7            NaN   \n",
       "\n",
       "   anos_desde_ult_promocion  anos_con_manager_actual  \n",
       "id                                                    \n",
       "1                         0                        5  \n",
       "2                         1                        7  \n",
       "4                         0                        0  \n",
       "5                         3                        0  \n",
       "7                         2                        2  \n",
       "8                         3                        6  \n",
       "10                        0                        0  \n",
       "11                        0                        0  \n",
       "12                        1                        8  \n",
       "13                        7                        7  \n",
       "\n",
       "[10 rows x 31 columns]"
      ]
     },
     "execution_count": 33,
     "metadata": {},
     "output_type": "execute_result"
    }
   ],
   "source": [
    "df.head(10)"
   ]
  },
  {
   "cell_type": "markdown",
   "id": "f8ed518e",
   "metadata": {},
   "source": [
    "#### Imprimimos el Tail"
   ]
  },
  {
   "cell_type": "code",
   "execution_count": 34,
   "id": "8a4284a9",
   "metadata": {},
   "outputs": [
    {
     "data": {
      "text/html": [
       "<div><div id=24f69051-3248-48d0-b9b2-dd551e66e3d2 style=\"display:none; background-color:#9D6CFF; color:white; width:200px; height:30px; padding-left:5px; border-radius:4px; flex-direction:row; justify-content:space-around; align-items:center;\" onmouseover=\"this.style.backgroundColor='#BA9BF8'\" onmouseout=\"this.style.backgroundColor='#9D6CFF'\" onclick=\"window.commands?.execute('create-mitosheet-from-dataframe-output');\">See Full Dataframe in Mito</div> <script> if (window.commands?.hasCommand('create-mitosheet-from-dataframe-output')) document.getElementById('24f69051-3248-48d0-b9b2-dd551e66e3d2').style.display = 'flex' </script> <table border=\"1\" class=\"dataframe\">\n",
       "  <thead>\n",
       "    <tr style=\"text-align: right;\">\n",
       "      <th></th>\n",
       "      <th>edad</th>\n",
       "      <th>abandono</th>\n",
       "      <th>viajes</th>\n",
       "      <th>departamento</th>\n",
       "      <th>distancia_casa</th>\n",
       "      <th>educacion</th>\n",
       "      <th>carrera</th>\n",
       "      <th>empleados</th>\n",
       "      <th>satisfaccion_entorno</th>\n",
       "      <th>sexo</th>\n",
       "      <th>...</th>\n",
       "      <th>satisfaccion_companeros</th>\n",
       "      <th>horas_quincena</th>\n",
       "      <th>nivel_acciones</th>\n",
       "      <th>anos_experiencia</th>\n",
       "      <th>num_formaciones_ult_ano</th>\n",
       "      <th>conciliacion</th>\n",
       "      <th>anos_compania</th>\n",
       "      <th>anos_en_puesto</th>\n",
       "      <th>anos_desde_ult_promocion</th>\n",
       "      <th>anos_con_manager_actual</th>\n",
       "    </tr>\n",
       "    <tr>\n",
       "      <th>id</th>\n",
       "      <th></th>\n",
       "      <th></th>\n",
       "      <th></th>\n",
       "      <th></th>\n",
       "      <th></th>\n",
       "      <th></th>\n",
       "      <th></th>\n",
       "      <th></th>\n",
       "      <th></th>\n",
       "      <th></th>\n",
       "      <th></th>\n",
       "      <th></th>\n",
       "      <th></th>\n",
       "      <th></th>\n",
       "      <th></th>\n",
       "      <th></th>\n",
       "      <th></th>\n",
       "      <th></th>\n",
       "      <th></th>\n",
       "      <th></th>\n",
       "      <th></th>\n",
       "    </tr>\n",
       "  </thead>\n",
       "  <tbody>\n",
       "    <tr>\n",
       "      <th>2061</th>\n",
       "      <td>36</td>\n",
       "      <td>No</td>\n",
       "      <td>Travel_Frequently</td>\n",
       "      <td>Research &amp; Development</td>\n",
       "      <td>23</td>\n",
       "      <td>Master</td>\n",
       "      <td>Medical</td>\n",
       "      <td>1</td>\n",
       "      <td>Alta</td>\n",
       "      <td>4.0</td>\n",
       "      <td>...</td>\n",
       "      <td>Alta</td>\n",
       "      <td>80</td>\n",
       "      <td>1</td>\n",
       "      <td>17</td>\n",
       "      <td>3</td>\n",
       "      <td>NaN</td>\n",
       "      <td>5</td>\n",
       "      <td>4.0</td>\n",
       "      <td>0</td>\n",
       "      <td>3</td>\n",
       "    </tr>\n",
       "    <tr>\n",
       "      <th>2062</th>\n",
       "      <td>39</td>\n",
       "      <td>No</td>\n",
       "      <td>Travel_Rarely</td>\n",
       "      <td>Research &amp; Development</td>\n",
       "      <td>6</td>\n",
       "      <td>Secundaria</td>\n",
       "      <td>Medical</td>\n",
       "      <td>1</td>\n",
       "      <td>Muy_Alta</td>\n",
       "      <td>2.0</td>\n",
       "      <td>...</td>\n",
       "      <td>Baja</td>\n",
       "      <td>80</td>\n",
       "      <td>1</td>\n",
       "      <td>9</td>\n",
       "      <td>5</td>\n",
       "      <td>NaN</td>\n",
       "      <td>7</td>\n",
       "      <td>NaN</td>\n",
       "      <td>1</td>\n",
       "      <td>7</td>\n",
       "    </tr>\n",
       "    <tr>\n",
       "      <th>2064</th>\n",
       "      <td>27</td>\n",
       "      <td>No</td>\n",
       "      <td>Travel_Rarely</td>\n",
       "      <td>Research &amp; Development</td>\n",
       "      <td>4</td>\n",
       "      <td>Master</td>\n",
       "      <td>Life Sciences</td>\n",
       "      <td>1</td>\n",
       "      <td>Media</td>\n",
       "      <td>4.0</td>\n",
       "      <td>...</td>\n",
       "      <td>Media</td>\n",
       "      <td>80</td>\n",
       "      <td>1</td>\n",
       "      <td>6</td>\n",
       "      <td>0</td>\n",
       "      <td>NaN</td>\n",
       "      <td>6</td>\n",
       "      <td>NaN</td>\n",
       "      <td>0</td>\n",
       "      <td>3</td>\n",
       "    </tr>\n",
       "    <tr>\n",
       "      <th>2065</th>\n",
       "      <td>49</td>\n",
       "      <td>No</td>\n",
       "      <td>Travel_Frequently</td>\n",
       "      <td>Sales</td>\n",
       "      <td>2</td>\n",
       "      <td>Secundaria</td>\n",
       "      <td>Medical</td>\n",
       "      <td>1</td>\n",
       "      <td>Muy_Alta</td>\n",
       "      <td>NaN</td>\n",
       "      <td>...</td>\n",
       "      <td>Muy_Alta</td>\n",
       "      <td>80</td>\n",
       "      <td>0</td>\n",
       "      <td>17</td>\n",
       "      <td>3</td>\n",
       "      <td>NaN</td>\n",
       "      <td>9</td>\n",
       "      <td>NaN</td>\n",
       "      <td>0</td>\n",
       "      <td>8</td>\n",
       "    </tr>\n",
       "    <tr>\n",
       "      <th>2068</th>\n",
       "      <td>34</td>\n",
       "      <td>No</td>\n",
       "      <td>Travel_Rarely</td>\n",
       "      <td>Research &amp; Development</td>\n",
       "      <td>8</td>\n",
       "      <td>NaN</td>\n",
       "      <td>Medical</td>\n",
       "      <td>1</td>\n",
       "      <td>Media</td>\n",
       "      <td>4.0</td>\n",
       "      <td>...</td>\n",
       "      <td>Baja</td>\n",
       "      <td>80</td>\n",
       "      <td>0</td>\n",
       "      <td>6</td>\n",
       "      <td>3</td>\n",
       "      <td>Muy_Alta</td>\n",
       "      <td>4</td>\n",
       "      <td>NaN</td>\n",
       "      <td>1</td>\n",
       "      <td>2</td>\n",
       "    </tr>\n",
       "  </tbody>\n",
       "</table></div>"
      ],
      "text/plain": [
       "      edad abandono             viajes            departamento  \\\n",
       "id                                                               \n",
       "2061    36       No  Travel_Frequently  Research & Development   \n",
       "2062    39       No      Travel_Rarely  Research & Development   \n",
       "2064    27       No      Travel_Rarely  Research & Development   \n",
       "2065    49       No  Travel_Frequently                   Sales   \n",
       "2068    34       No      Travel_Rarely  Research & Development   \n",
       "\n",
       "      distancia_casa   educacion        carrera  empleados  \\\n",
       "id                                                           \n",
       "2061              23      Master        Medical          1   \n",
       "2062               6  Secundaria        Medical          1   \n",
       "2064               4      Master  Life Sciences          1   \n",
       "2065               2  Secundaria        Medical          1   \n",
       "2068               8         NaN        Medical          1   \n",
       "\n",
       "     satisfaccion_entorno  sexo  ... satisfaccion_companeros  horas_quincena  \\\n",
       "id                               ...                                           \n",
       "2061                 Alta   4.0  ...                    Alta              80   \n",
       "2062             Muy_Alta   2.0  ...                    Baja              80   \n",
       "2064                Media   4.0  ...                   Media              80   \n",
       "2065             Muy_Alta   NaN  ...                Muy_Alta              80   \n",
       "2068                Media   4.0  ...                    Baja              80   \n",
       "\n",
       "     nivel_acciones anos_experiencia num_formaciones_ult_ano  conciliacion  \\\n",
       "id                                                                           \n",
       "2061              1               17                       3           NaN   \n",
       "2062              1                9                       5           NaN   \n",
       "2064              1                6                       0           NaN   \n",
       "2065              0               17                       3           NaN   \n",
       "2068              0                6                       3      Muy_Alta   \n",
       "\n",
       "      anos_compania anos_en_puesto anos_desde_ult_promocion  \\\n",
       "id                                                            \n",
       "2061              5            4.0                        0   \n",
       "2062              7            NaN                        1   \n",
       "2064              6            NaN                        0   \n",
       "2065              9            NaN                        0   \n",
       "2068              4            NaN                        1   \n",
       "\n",
       "      anos_con_manager_actual  \n",
       "id                             \n",
       "2061                        3  \n",
       "2062                        7  \n",
       "2064                        3  \n",
       "2065                        8  \n",
       "2068                        2  \n",
       "\n",
       "[5 rows x 31 columns]"
      ]
     },
     "execution_count": 34,
     "metadata": {},
     "output_type": "execute_result"
    }
   ],
   "source": [
    "df.tail()"
   ]
  },
  {
   "cell_type": "markdown",
   "id": "3623a347",
   "metadata": {},
   "source": [
    "#### Imprimimos la informacion general del dataset"
   ]
  },
  {
   "cell_type": "code",
   "execution_count": 56,
   "id": "4b452293",
   "metadata": {},
   "outputs": [
    {
     "name": "stdout",
     "output_type": "stream",
     "text": [
      "<class 'pandas.core.frame.DataFrame'>\n",
      "Int64Index: 1470 entries, 1 to 2068\n",
      "Data columns (total 31 columns):\n",
      " #   Column                    Non-Null Count  Dtype  \n",
      "---  ------                    --------------  -----  \n",
      " 0   edad                      1470 non-null   int64  \n",
      " 1   abandono                  1470 non-null   object \n",
      " 2   viajes                    1470 non-null   object \n",
      " 3   departamento              1470 non-null   object \n",
      " 4   distancia_casa            1470 non-null   int64  \n",
      " 5   educacion                 1369 non-null   object \n",
      " 6   carrera                   1470 non-null   object \n",
      " 7   empleados                 1470 non-null   int64  \n",
      " 8   satisfaccion_entorno      1470 non-null   object \n",
      " 9   sexo                      1470 non-null   float64\n",
      " 10  implicacion               1452 non-null   object \n",
      " 11  nivel_laboral             1470 non-null   int64  \n",
      " 12  puesto                    1470 non-null   object \n",
      " 13  satisfaccion_trabajo      1394 non-null   object \n",
      " 14  estado_civil              1470 non-null   object \n",
      " 15  salario_mes               1470 non-null   int64  \n",
      " 16  num_empresas_anteriores   1470 non-null   int64  \n",
      " 17  mayor_edad                1470 non-null   object \n",
      " 18  horas_extra               1470 non-null   object \n",
      " 19  incremento_salario_porc   1470 non-null   int64  \n",
      " 20  evaluacion                1470 non-null   object \n",
      " 21  satisfaccion_companeros   1470 non-null   object \n",
      " 22  horas_quincena            1470 non-null   int64  \n",
      " 23  nivel_acciones            1470 non-null   int64  \n",
      " 24  anos_experiencia          1470 non-null   int64  \n",
      " 25  num_formaciones_ult_ano   1470 non-null   int64  \n",
      " 26  conciliacion              459 non-null    object \n",
      " 27  anos_compania             1470 non-null   int64  \n",
      " 28  anos_en_puesto            232 non-null    float64\n",
      " 29  anos_desde_ult_promocion  1470 non-null   int64  \n",
      " 30  anos_con_manager_actual   1470 non-null   int64  \n",
      "dtypes: float64(2), int64(14), object(15)\n",
      "memory usage: 367.5+ KB\n"
     ]
    }
   ],
   "source": [
    "df.info()"
   ]
  },
  {
   "cell_type": "markdown",
   "id": "3bc11b87",
   "metadata": {},
   "source": [
    "#### Vemos cual es la descripcion de las variables numericas"
   ]
  },
  {
   "cell_type": "code",
   "execution_count": 57,
   "id": "711abaec",
   "metadata": {},
   "outputs": [
    {
     "data": {
      "text/html": [
       "<div><div id=05c19377-0546-45bc-b472-0bad763cf918 style=\"display:none; background-color:#9D6CFF; color:white; width:200px; height:30px; padding-left:5px; border-radius:4px; flex-direction:row; justify-content:space-around; align-items:center;\" onmouseover=\"this.style.backgroundColor='#BA9BF8'\" onmouseout=\"this.style.backgroundColor='#9D6CFF'\" onclick=\"window.commands?.execute('create-mitosheet-from-dataframe-output');\">See Full Dataframe in Mito</div> <script> if (window.commands?.hasCommand('create-mitosheet-from-dataframe-output')) document.getElementById('05c19377-0546-45bc-b472-0bad763cf918').style.display = 'flex' </script> <table border=\"1\" class=\"dataframe\">\n",
       "  <thead>\n",
       "    <tr style=\"text-align: right;\">\n",
       "      <th></th>\n",
       "      <th>edad</th>\n",
       "      <th>distancia_casa</th>\n",
       "      <th>empleados</th>\n",
       "      <th>sexo</th>\n",
       "      <th>nivel_laboral</th>\n",
       "      <th>salario_mes</th>\n",
       "      <th>num_empresas_anteriores</th>\n",
       "      <th>incremento_salario_porc</th>\n",
       "      <th>horas_quincena</th>\n",
       "      <th>nivel_acciones</th>\n",
       "      <th>anos_experiencia</th>\n",
       "      <th>num_formaciones_ult_ano</th>\n",
       "      <th>anos_compania</th>\n",
       "      <th>anos_en_puesto</th>\n",
       "      <th>anos_desde_ult_promocion</th>\n",
       "      <th>anos_con_manager_actual</th>\n",
       "    </tr>\n",
       "  </thead>\n",
       "  <tbody>\n",
       "    <tr>\n",
       "      <th>count</th>\n",
       "      <td>1470.000000</td>\n",
       "      <td>1470.000000</td>\n",
       "      <td>1470.0</td>\n",
       "      <td>1470.000000</td>\n",
       "      <td>1470.000000</td>\n",
       "      <td>1470.000000</td>\n",
       "      <td>1470.000000</td>\n",
       "      <td>1470.000000</td>\n",
       "      <td>1470.0</td>\n",
       "      <td>1470.000000</td>\n",
       "      <td>1470.000000</td>\n",
       "      <td>1470.000000</td>\n",
       "      <td>1470.000000</td>\n",
       "      <td>232.000000</td>\n",
       "      <td>1470.000000</td>\n",
       "      <td>1470.000000</td>\n",
       "    </tr>\n",
       "    <tr>\n",
       "      <th>mean</th>\n",
       "      <td>36.923810</td>\n",
       "      <td>9.192517</td>\n",
       "      <td>1.0</td>\n",
       "      <td>2.764626</td>\n",
       "      <td>2.063946</td>\n",
       "      <td>6502.931293</td>\n",
       "      <td>2.693197</td>\n",
       "      <td>15.209524</td>\n",
       "      <td>80.0</td>\n",
       "      <td>0.793878</td>\n",
       "      <td>11.279592</td>\n",
       "      <td>2.799320</td>\n",
       "      <td>7.008163</td>\n",
       "      <td>2.771552</td>\n",
       "      <td>2.187755</td>\n",
       "      <td>4.123129</td>\n",
       "    </tr>\n",
       "    <tr>\n",
       "      <th>std</th>\n",
       "      <td>9.135373</td>\n",
       "      <td>8.106864</td>\n",
       "      <td>0.0</td>\n",
       "      <td>0.676636</td>\n",
       "      <td>1.106940</td>\n",
       "      <td>4707.956783</td>\n",
       "      <td>2.498009</td>\n",
       "      <td>3.659938</td>\n",
       "      <td>0.0</td>\n",
       "      <td>0.852077</td>\n",
       "      <td>7.780782</td>\n",
       "      <td>1.289271</td>\n",
       "      <td>6.126525</td>\n",
       "      <td>0.705244</td>\n",
       "      <td>3.222430</td>\n",
       "      <td>3.568136</td>\n",
       "    </tr>\n",
       "    <tr>\n",
       "      <th>min</th>\n",
       "      <td>18.000000</td>\n",
       "      <td>1.000000</td>\n",
       "      <td>1.0</td>\n",
       "      <td>1.000000</td>\n",
       "      <td>1.000000</td>\n",
       "      <td>1009.000000</td>\n",
       "      <td>0.000000</td>\n",
       "      <td>11.000000</td>\n",
       "      <td>80.0</td>\n",
       "      <td>0.000000</td>\n",
       "      <td>0.000000</td>\n",
       "      <td>0.000000</td>\n",
       "      <td>0.000000</td>\n",
       "      <td>1.000000</td>\n",
       "      <td>0.000000</td>\n",
       "      <td>0.000000</td>\n",
       "    </tr>\n",
       "    <tr>\n",
       "      <th>25%</th>\n",
       "      <td>30.000000</td>\n",
       "      <td>2.000000</td>\n",
       "      <td>1.0</td>\n",
       "      <td>2.000000</td>\n",
       "      <td>1.000000</td>\n",
       "      <td>2911.000000</td>\n",
       "      <td>1.000000</td>\n",
       "      <td>12.000000</td>\n",
       "      <td>80.0</td>\n",
       "      <td>0.000000</td>\n",
       "      <td>6.000000</td>\n",
       "      <td>2.000000</td>\n",
       "      <td>3.000000</td>\n",
       "      <td>2.000000</td>\n",
       "      <td>0.000000</td>\n",
       "      <td>2.000000</td>\n",
       "    </tr>\n",
       "    <tr>\n",
       "      <th>50%</th>\n",
       "      <td>36.000000</td>\n",
       "      <td>7.000000</td>\n",
       "      <td>1.0</td>\n",
       "      <td>3.000000</td>\n",
       "      <td>2.000000</td>\n",
       "      <td>4919.000000</td>\n",
       "      <td>2.000000</td>\n",
       "      <td>14.000000</td>\n",
       "      <td>80.0</td>\n",
       "      <td>1.000000</td>\n",
       "      <td>10.000000</td>\n",
       "      <td>3.000000</td>\n",
       "      <td>5.000000</td>\n",
       "      <td>3.000000</td>\n",
       "      <td>1.000000</td>\n",
       "      <td>3.000000</td>\n",
       "    </tr>\n",
       "    <tr>\n",
       "      <th>75%</th>\n",
       "      <td>43.000000</td>\n",
       "      <td>14.000000</td>\n",
       "      <td>1.0</td>\n",
       "      <td>3.000000</td>\n",
       "      <td>3.000000</td>\n",
       "      <td>8379.000000</td>\n",
       "      <td>4.000000</td>\n",
       "      <td>18.000000</td>\n",
       "      <td>80.0</td>\n",
       "      <td>1.000000</td>\n",
       "      <td>15.000000</td>\n",
       "      <td>3.000000</td>\n",
       "      <td>9.000000</td>\n",
       "      <td>3.000000</td>\n",
       "      <td>3.000000</td>\n",
       "      <td>7.000000</td>\n",
       "    </tr>\n",
       "    <tr>\n",
       "      <th>max</th>\n",
       "      <td>60.000000</td>\n",
       "      <td>29.000000</td>\n",
       "      <td>1.0</td>\n",
       "      <td>4.000000</td>\n",
       "      <td>5.000000</td>\n",
       "      <td>19999.000000</td>\n",
       "      <td>9.000000</td>\n",
       "      <td>25.000000</td>\n",
       "      <td>80.0</td>\n",
       "      <td>3.000000</td>\n",
       "      <td>40.000000</td>\n",
       "      <td>6.000000</td>\n",
       "      <td>40.000000</td>\n",
       "      <td>4.000000</td>\n",
       "      <td>15.000000</td>\n",
       "      <td>17.000000</td>\n",
       "    </tr>\n",
       "  </tbody>\n",
       "</table></div>"
      ],
      "text/plain": [
       "              edad  distancia_casa  empleados         sexo  nivel_laboral  \\\n",
       "count  1470.000000     1470.000000     1470.0  1470.000000    1470.000000   \n",
       "mean     36.923810        9.192517        1.0     2.764626       2.063946   \n",
       "std       9.135373        8.106864        0.0     0.676636       1.106940   \n",
       "min      18.000000        1.000000        1.0     1.000000       1.000000   \n",
       "25%      30.000000        2.000000        1.0     2.000000       1.000000   \n",
       "50%      36.000000        7.000000        1.0     3.000000       2.000000   \n",
       "75%      43.000000       14.000000        1.0     3.000000       3.000000   \n",
       "max      60.000000       29.000000        1.0     4.000000       5.000000   \n",
       "\n",
       "        salario_mes  num_empresas_anteriores  incremento_salario_porc  \\\n",
       "count   1470.000000              1470.000000              1470.000000   \n",
       "mean    6502.931293                 2.693197                15.209524   \n",
       "std     4707.956783                 2.498009                 3.659938   \n",
       "min     1009.000000                 0.000000                11.000000   \n",
       "25%     2911.000000                 1.000000                12.000000   \n",
       "50%     4919.000000                 2.000000                14.000000   \n",
       "75%     8379.000000                 4.000000                18.000000   \n",
       "max    19999.000000                 9.000000                25.000000   \n",
       "\n",
       "       horas_quincena  nivel_acciones  anos_experiencia  \\\n",
       "count          1470.0     1470.000000       1470.000000   \n",
       "mean             80.0        0.793878         11.279592   \n",
       "std               0.0        0.852077          7.780782   \n",
       "min              80.0        0.000000          0.000000   \n",
       "25%              80.0        0.000000          6.000000   \n",
       "50%              80.0        1.000000         10.000000   \n",
       "75%              80.0        1.000000         15.000000   \n",
       "max              80.0        3.000000         40.000000   \n",
       "\n",
       "       num_formaciones_ult_ano  anos_compania  anos_en_puesto  \\\n",
       "count              1470.000000    1470.000000      232.000000   \n",
       "mean                  2.799320       7.008163        2.771552   \n",
       "std                   1.289271       6.126525        0.705244   \n",
       "min                   0.000000       0.000000        1.000000   \n",
       "25%                   2.000000       3.000000        2.000000   \n",
       "50%                   3.000000       5.000000        3.000000   \n",
       "75%                   3.000000       9.000000        3.000000   \n",
       "max                   6.000000      40.000000        4.000000   \n",
       "\n",
       "       anos_desde_ult_promocion  anos_con_manager_actual  \n",
       "count               1470.000000              1470.000000  \n",
       "mean                   2.187755                 4.123129  \n",
       "std                    3.222430                 3.568136  \n",
       "min                    0.000000                 0.000000  \n",
       "25%                    0.000000                 2.000000  \n",
       "50%                    1.000000                 3.000000  \n",
       "75%                    3.000000                 7.000000  \n",
       "max                   15.000000                17.000000  "
      ]
     },
     "execution_count": 57,
     "metadata": {},
     "output_type": "execute_result"
    }
   ],
   "source": [
    "df.describe()"
   ]
  },
  {
   "cell_type": "markdown",
   "id": "8a9921a6",
   "metadata": {},
   "source": [
    "#### Vemos la descripcion de las variables categoricas"
   ]
  },
  {
   "cell_type": "code",
   "execution_count": 58,
   "id": "c96ff843",
   "metadata": {},
   "outputs": [
    {
     "data": {
      "text/html": [
       "<div><div id=22fce701-4c2d-4dfe-bdca-9f161790d2e4 style=\"display:none; background-color:#9D6CFF; color:white; width:200px; height:30px; padding-left:5px; border-radius:4px; flex-direction:row; justify-content:space-around; align-items:center;\" onmouseover=\"this.style.backgroundColor='#BA9BF8'\" onmouseout=\"this.style.backgroundColor='#9D6CFF'\" onclick=\"window.commands?.execute('create-mitosheet-from-dataframe-output');\">See Full Dataframe in Mito</div> <script> if (window.commands?.hasCommand('create-mitosheet-from-dataframe-output')) document.getElementById('22fce701-4c2d-4dfe-bdca-9f161790d2e4').style.display = 'flex' </script> <table border=\"1\" class=\"dataframe\">\n",
       "  <thead>\n",
       "    <tr style=\"text-align: right;\">\n",
       "      <th></th>\n",
       "      <th>abandono</th>\n",
       "      <th>viajes</th>\n",
       "      <th>departamento</th>\n",
       "      <th>educacion</th>\n",
       "      <th>carrera</th>\n",
       "      <th>satisfaccion_entorno</th>\n",
       "      <th>implicacion</th>\n",
       "      <th>puesto</th>\n",
       "      <th>satisfaccion_trabajo</th>\n",
       "      <th>estado_civil</th>\n",
       "      <th>mayor_edad</th>\n",
       "      <th>horas_extra</th>\n",
       "      <th>evaluacion</th>\n",
       "      <th>satisfaccion_companeros</th>\n",
       "      <th>conciliacion</th>\n",
       "    </tr>\n",
       "  </thead>\n",
       "  <tbody>\n",
       "    <tr>\n",
       "      <th>count</th>\n",
       "      <td>1470</td>\n",
       "      <td>1470</td>\n",
       "      <td>1470</td>\n",
       "      <td>1369</td>\n",
       "      <td>1470</td>\n",
       "      <td>1470</td>\n",
       "      <td>1452</td>\n",
       "      <td>1470</td>\n",
       "      <td>1394</td>\n",
       "      <td>1470</td>\n",
       "      <td>1470</td>\n",
       "      <td>1470</td>\n",
       "      <td>1470</td>\n",
       "      <td>1470</td>\n",
       "      <td>459</td>\n",
       "    </tr>\n",
       "    <tr>\n",
       "      <th>unique</th>\n",
       "      <td>2</td>\n",
       "      <td>3</td>\n",
       "      <td>3</td>\n",
       "      <td>4</td>\n",
       "      <td>6</td>\n",
       "      <td>4</td>\n",
       "      <td>4</td>\n",
       "      <td>9</td>\n",
       "      <td>4</td>\n",
       "      <td>3</td>\n",
       "      <td>1</td>\n",
       "      <td>2</td>\n",
       "      <td>2</td>\n",
       "      <td>4</td>\n",
       "      <td>4</td>\n",
       "    </tr>\n",
       "    <tr>\n",
       "      <th>top</th>\n",
       "      <td>No</td>\n",
       "      <td>Travel_Rarely</td>\n",
       "      <td>Research &amp; Development</td>\n",
       "      <td>Universitaria</td>\n",
       "      <td>Life Sciences</td>\n",
       "      <td>Alta</td>\n",
       "      <td>Alta</td>\n",
       "      <td>Sales Executive</td>\n",
       "      <td>Alta</td>\n",
       "      <td>Married</td>\n",
       "      <td>Y</td>\n",
       "      <td>No</td>\n",
       "      <td>Alta</td>\n",
       "      <td>Alta</td>\n",
       "      <td>Alta</td>\n",
       "    </tr>\n",
       "    <tr>\n",
       "      <th>freq</th>\n",
       "      <td>1233</td>\n",
       "      <td>1043</td>\n",
       "      <td>961</td>\n",
       "      <td>814</td>\n",
       "      <td>606</td>\n",
       "      <td>453</td>\n",
       "      <td>857</td>\n",
       "      <td>326</td>\n",
       "      <td>828</td>\n",
       "      <td>673</td>\n",
       "      <td>1470</td>\n",
       "      <td>1054</td>\n",
       "      <td>1244</td>\n",
       "      <td>459</td>\n",
       "      <td>257</td>\n",
       "    </tr>\n",
       "  </tbody>\n",
       "</table></div>"
      ],
      "text/plain": [
       "       abandono         viajes            departamento      educacion  \\\n",
       "count      1470           1470                    1470           1369   \n",
       "unique        2              3                       3              4   \n",
       "top          No  Travel_Rarely  Research & Development  Universitaria   \n",
       "freq       1233           1043                     961            814   \n",
       "\n",
       "              carrera satisfaccion_entorno implicacion           puesto  \\\n",
       "count            1470                 1470        1452             1470   \n",
       "unique              6                    4           4                9   \n",
       "top     Life Sciences                 Alta        Alta  Sales Executive   \n",
       "freq              606                  453         857              326   \n",
       "\n",
       "       satisfaccion_trabajo estado_civil mayor_edad horas_extra evaluacion  \\\n",
       "count                  1394         1470       1470        1470       1470   \n",
       "unique                    4            3          1           2          2   \n",
       "top                    Alta      Married          Y          No       Alta   \n",
       "freq                    828          673       1470        1054       1244   \n",
       "\n",
       "       satisfaccion_companeros conciliacion  \n",
       "count                     1470          459  \n",
       "unique                       4            4  \n",
       "top                       Alta         Alta  \n",
       "freq                       459          257  "
      ]
     },
     "execution_count": 58,
     "metadata": {},
     "output_type": "execute_result"
    }
   ],
   "source": [
    "df.describe(include=['O'])"
   ]
  },
  {
   "cell_type": "markdown",
   "id": "aed61813",
   "metadata": {},
   "source": [
    "#### Usamos librerias como profiling para hacer un analisis exploratorio antes de realizar cambios en el data set para seguir entendiendolo mejor"
   ]
  },
  {
   "cell_type": "code",
   "execution_count": 59,
   "id": "6f8f52da",
   "metadata": {},
   "outputs": [],
   "source": [
    "prof = ProfileReport(df) \n",
    "prof.to_file('dataset_original.html')"
   ]
  },
  {
   "cell_type": "markdown",
   "id": "3491cf12",
   "metadata": {},
   "source": [
    "#### Entendido un poco mejor el dataset empezaremos la limpieza analizando los null"
   ]
  },
  {
   "cell_type": "code",
   "execution_count": 60,
   "id": "30f839a4",
   "metadata": {},
   "outputs": [
    {
     "data": {
      "text/plain": [
       "anos_en_puesto              1238\n",
       "conciliacion                1011\n",
       "educacion                    101\n",
       "satisfaccion_trabajo          76\n",
       "implicacion                   18\n",
       "edad                           0\n",
       "incremento_salario_porc        0\n",
       "evaluacion                     0\n",
       "satisfaccion_companeros        0\n",
       "horas_quincena                 0\n",
       "anos_experiencia               0\n",
       "nivel_acciones                 0\n",
       "mayor_edad                     0\n",
       "num_formaciones_ult_ano        0\n",
       "anos_compania                  0\n",
       "anos_desde_ult_promocion       0\n",
       "horas_extra                    0\n",
       "salario_mes                    0\n",
       "num_empresas_anteriores        0\n",
       "abandono                       0\n",
       "estado_civil                   0\n",
       "puesto                         0\n",
       "nivel_laboral                  0\n",
       "sexo                           0\n",
       "satisfaccion_entorno           0\n",
       "empleados                      0\n",
       "carrera                        0\n",
       "distancia_casa                 0\n",
       "departamento                   0\n",
       "viajes                         0\n",
       "anos_con_manager_actual        0\n",
       "dtype: int64"
      ]
     },
     "execution_count": 60,
     "metadata": {},
     "output_type": "execute_result"
    }
   ],
   "source": [
    "df.isna().sum().sort_values(ascending = False)"
   ]
  },
  {
   "cell_type": "markdown",
   "id": "42bd305a",
   "metadata": {},
   "source": [
    "#### Tomamos la desicion de borrar las columnas anos_en_el_puesto y conciliacion por la gran falta de datos"
   ]
  },
  {
   "cell_type": "code",
   "execution_count": 61,
   "id": "899d3a56",
   "metadata": {},
   "outputs": [],
   "source": [
    "df.drop(columns = ['anos_en_puesto','conciliacion'], inplace = True)"
   ]
  },
  {
   "cell_type": "markdown",
   "id": "51727870",
   "metadata": {},
   "source": [
    "#### Analizamos la columna sexo"
   ]
  },
  {
   "cell_type": "code",
   "execution_count": 62,
   "id": "88fea315",
   "metadata": {},
   "outputs": [
    {
     "data": {
      "text/plain": [
       "array([3., 2., 4., 1.])"
      ]
     },
     "execution_count": 62,
     "metadata": {},
     "output_type": "execute_result"
    }
   ],
   "source": [
    "df['sexo'].unique()"
   ]
  },
  {
   "cell_type": "code",
   "execution_count": 63,
   "id": "f091293e",
   "metadata": {},
   "outputs": [
    {
     "data": {
      "text/plain": [
       "sexo\n",
       "3.0    938\n",
       "2.0    328\n",
       "4.0    130\n",
       "1.0     74\n",
       "dtype: int64"
      ]
     },
     "execution_count": 63,
     "metadata": {},
     "output_type": "execute_result"
    }
   ],
   "source": [
    "df.pivot_table(index = ['sexo'], aggfunc ='size').sort_values(ascending = False)"
   ]
  },
  {
   "cell_type": "markdown",
   "id": "265ca329",
   "metadata": {},
   "source": [
    "#### Viendo que el sexo con mas frecuencia es el 3.0 tomaremos la desicion de llenar los null con este valor "
   ]
  },
  {
   "cell_type": "code",
   "execution_count": 64,
   "id": "11fb1e7a",
   "metadata": {},
   "outputs": [],
   "source": [
    "df.sexo=df.sexo.fillna(3.0)"
   ]
  },
  {
   "cell_type": "markdown",
   "id": "4ca23c92",
   "metadata": {},
   "source": [
    "#### Ya que estamos con esta columna la convertimos en Int ya qu no tiene sentido que sea float"
   ]
  },
  {
   "cell_type": "code",
   "execution_count": 65,
   "id": "fd2721a2",
   "metadata": {},
   "outputs": [],
   "source": [
    "df.sexo = df.sexo.astype(int)"
   ]
  },
  {
   "cell_type": "markdown",
   "id": "50ae6bf9",
   "metadata": {},
   "source": [
    "#### La siguiente dimension a analizar es Educacion"
   ]
  },
  {
   "cell_type": "code",
   "execution_count": 68,
   "id": "ddfa46e6",
   "metadata": {},
   "outputs": [
    {
     "data": {
      "text/plain": [
       "array(['Universitaria', 'Secundaria', 'Master', 'Primaria', nan],\n",
       "      dtype=object)"
      ]
     },
     "execution_count": 68,
     "metadata": {},
     "output_type": "execute_result"
    }
   ],
   "source": [
    "df['educacion'].unique()"
   ]
  },
  {
   "cell_type": "code",
   "execution_count": 69,
   "id": "e5387e0d",
   "metadata": {},
   "outputs": [
    {
     "data": {
      "text/plain": [
       "educacion\n",
       "Universitaria    814\n",
       "Secundaria       348\n",
       "Master           130\n",
       "Primaria          77\n",
       "dtype: int64"
      ]
     },
     "execution_count": 69,
     "metadata": {},
     "output_type": "execute_result"
    }
   ],
   "source": [
    "df.pivot_table(index = ['educacion'], aggfunc ='size').sort_values(ascending = False)"
   ]
  },
  {
   "cell_type": "markdown",
   "id": "1bb52a17",
   "metadata": {},
   "source": [
    "#### Con el mismo criterio llenaremos los null con el valor mas frecuente"
   ]
  },
  {
   "cell_type": "code",
   "execution_count": 70,
   "id": "eb39a276",
   "metadata": {},
   "outputs": [],
   "source": [
    "df.educacion=df.educacion.fillna('Universitaria')"
   ]
  },
  {
   "cell_type": "markdown",
   "id": "d509c7a5",
   "metadata": {},
   "source": [
    "#### La siguiente dimension es satisfaccion_trabajo"
   ]
  },
  {
   "cell_type": "code",
   "execution_count": 72,
   "id": "15e9a264",
   "metadata": {},
   "outputs": [
    {
     "data": {
      "text/plain": [
       "array(['Alta', 'Media', 'Muy_Alta', nan, 'Baja'], dtype=object)"
      ]
     },
     "execution_count": 72,
     "metadata": {},
     "output_type": "execute_result"
    }
   ],
   "source": [
    "df['satisfaccion_trabajo'].unique()"
   ]
  },
  {
   "cell_type": "code",
   "execution_count": 73,
   "id": "5e781ac6",
   "metadata": {},
   "outputs": [
    {
     "data": {
      "text/plain": [
       "satisfaccion_trabajo\n",
       "Alta        828\n",
       "Media       354\n",
       "Muy_Alta    136\n",
       "Baja         76\n",
       "dtype: int64"
      ]
     },
     "execution_count": 73,
     "metadata": {},
     "output_type": "execute_result"
    }
   ],
   "source": [
    "df.pivot_table(index = ['satisfaccion_trabajo'], aggfunc ='size').sort_values(ascending = False)"
   ]
  },
  {
   "cell_type": "markdown",
   "id": "0dd73f61",
   "metadata": {},
   "source": [
    "#### Al no tener referencias para completar los null de otra manera seguimos con el criterio mas sencillo"
   ]
  },
  {
   "cell_type": "code",
   "execution_count": 75,
   "id": "b74de273",
   "metadata": {},
   "outputs": [],
   "source": [
    "df.satisfaccion_trabajo=df.satisfaccion_trabajo.fillna('Alta')"
   ]
  },
  {
   "cell_type": "markdown",
   "id": "60ac2423",
   "metadata": {},
   "source": [
    "#### La ultima dimension a analizar es implicacion"
   ]
  },
  {
   "cell_type": "code",
   "execution_count": 78,
   "id": "e9a95ee6",
   "metadata": {},
   "outputs": [
    {
     "data": {
      "text/plain": [
       "array(['Alta', 'Media', 'Muy_Alta', 'Baja', nan], dtype=object)"
      ]
     },
     "execution_count": 78,
     "metadata": {},
     "output_type": "execute_result"
    }
   ],
   "source": [
    "df['implicacion'].unique()"
   ]
  },
  {
   "cell_type": "code",
   "execution_count": 79,
   "id": "3c488a81",
   "metadata": {},
   "outputs": [
    {
     "data": {
      "text/plain": [
       "implicacion\n",
       "Alta        857\n",
       "Media       368\n",
       "Muy_Alta    144\n",
       "Baja         83\n",
       "dtype: int64"
      ]
     },
     "execution_count": 79,
     "metadata": {},
     "output_type": "execute_result"
    }
   ],
   "source": [
    "df.pivot_table(index = ['implicacion'], aggfunc ='size').sort_values(ascending = False)"
   ]
  },
  {
   "cell_type": "code",
   "execution_count": 80,
   "id": "0550fb59",
   "metadata": {},
   "outputs": [],
   "source": [
    "df.implicacion=df.implicacion.fillna('Alta')"
   ]
  },
  {
   "cell_type": "markdown",
   "id": "86827c1c",
   "metadata": {},
   "source": [
    "#### Realizamos la grafica de frecuencia para cada una de las dimensiones\n"
   ]
  },
  {
   "cell_type": "code",
   "execution_count": 123,
   "id": "5320fd1b",
   "metadata": {},
   "outputs": [],
   "source": [
    "def graficos_frecuencia_categoricos(variables_categoricas):\n",
    "    \n",
    "    #Calculamos el número de filas que necesitamos\n",
    "    from math import ceil\n",
    "    filas = ceil(variables_categoricas.shape[1] / 2)\n",
    "\n",
    "    #Definimos el gráfico\n",
    "    f, ax = plt.subplots(nrows = filas, ncols = 2, figsize = (16, filas * 6))\n",
    "\n",
    "    #Aplanamos para iterar por el gráfico como si fuera de 1 dimensión en lugar de 2\n",
    "    ax = ax.flat \n",
    "\n",
    "    #Creamos el bucle que va añadiendo gráficos\n",
    "    for cada, variable in enumerate(variables_categoricas):\n",
    "        variables_categoricas[variable].value_counts().plot.barh(ax = ax[cada])\n",
    "        ax[cada].set_title(variable, fontsize = 10, fontweight = \"bold\")\n",
    "        ax[cada].tick_params(labelsize = 10)"
   ]
  },
  {
   "cell_type": "code",
   "execution_count": 128,
   "id": "fd77d1cd",
   "metadata": {},
   "outputs": [],
   "source": [
    "def graficos_frecuencia_numericos(cat):\n",
    "    \n",
    "    #Calculamos el número de filas que necesitamos\n",
    "    from math import ceil\n",
    "    filas = ceil(cat.shape[1] / 2)\n",
    "\n",
    "    #Definimos el gráfico\n",
    "    f, ax = plt.subplots(nrows = filas, ncols = 2, figsize = (16, filas * 6))\n",
    "\n",
    "    #Aplanamos para iterar por el gráfico como si fuera de 1 dimensión en lugar de 2\n",
    "    ax = ax.flat \n",
    "\n",
    "    #Creamos el bucle que va añadiendo gráficos\n",
    "    for cada, variable in enumerate(cat):\n",
    "        cat[variable].value_counts().plot.barh(ax = ax[cada])\n",
    "        ax[cada].set_title(variable, fontsize = 10, fontweight = \"bold\")\n",
    "        ax[cada].tick_params(labelsize = 10)"
   ]
  },
  {
   "cell_type": "code",
   "execution_count": 124,
   "id": "57295af8",
   "metadata": {},
   "outputs": [
    {
     "data": {
      "image/png": "[encoded data removed]",
      "text/plain": [
       "<Figure size 1152x2592 with 12 Axes>"
      ]
     },
     "metadata": {},
     "output_type": "display_data"
    }
   ],
   "source": [
    "graficos_frecuencia_categoricos(df.select_dtypes('O'))"
   ]
  },
  {
   "cell_type": "code",
   "execution_count": 129,
   "id": "b145087f",
   "metadata": {},
   "outputs": [
    {
     "data": {
      "image/png": "[encoded data removed]",
      "text/plain": [
       "<Figure size 1152x3456 with 16 Axes>"
      ]
     },
     "metadata": {},
     "output_type": "display_data"
    }
   ],
   "source": [
    "graficos_frecuencia_numericos(df.select_dtypes(exclude='O'))"
   ]
  },
  {
   "cell_type": "markdown",
   "id": "2bdd4be5",
   "metadata": {},
   "source": [
    "#### Con este grafico de frecuencia notamos que la dimension mayor_edad tiene solo un valor por lo que podemos eliminarla"
   ]
  },
  {
   "cell_type": "code",
   "execution_count": 85,
   "id": "5714ddb9",
   "metadata": {},
   "outputs": [],
   "source": [
    "df.drop(columns = ['mayor_edad'], inplace = True)"
   ]
  },
  {
   "cell_type": "code",
   "execution_count": null,
   "id": "7490949f",
   "metadata": {},
   "outputs": [],
   "source": [
    "def graficos_correlacion_categoricos(cat):\n",
    "    \n",
    "    #Calculamos el número de filas que necesitamos\n",
    "    from math import ceil\n",
    "    filas = ceil(cat.shape[1] / 2)\n",
    "\n",
    "    #Definimos el gráfico\n",
    "    f, ax = plt.subplots(nrows = filas, ncols = 2, figsize = (16, filas * 6))\n",
    "\n",
    "    #Aplanamos para iterar por el gráfico como si fuera de 1 dimensión en lugar de 2\n",
    "    ax = ax.flat \n",
    "\n",
    "    #Creamos el bucle que va añadiendo gráficos\n",
    "    for cada, variable in enumerate(cat):\n",
    "        cat[variable].value_counts().plot.barh(ax = ax[cada])\n",
    "        ax[cada].set_title(variable, fontsize = 12, fontweight = \"bold\")\n",
    "        ax[cada].tick_params(labelsize = 12)"
   ]
  },
  {
   "cell_type": "code",
   "execution_count": null,
   "id": "af954f7a",
   "metadata": {},
   "outputs": [],
   "source": [
    "graficos_frecuencia_categoricos(df.select_dtypes('O'))"
   ]
  },
  {
   "cell_type": "code",
   "execution_count": 96,
   "id": "0dd5add1",
   "metadata": {},
   "outputs": [
    {
     "data": {
      "image/png": "[encoded data removed]",
      "text/plain": [
       "<Figure size 576x396 with 1 Axes>"
      ]
     },
     "metadata": {},
     "output_type": "display_data"
    }
   ],
   "source": [
    "temp = df.groupby('estado_civil').abandono.mean().sort_values(ascending = False) * 100\n",
    "temp.plot.bar();"
   ]
  },
  {
   "cell_type": "code",
   "execution_count": 86,
   "id": "17819e0d",
   "metadata": {},
   "outputs": [
    {
     "data": {
      "text/plain": [
       "edad                        0\n",
       "abandono                    0\n",
       "anos_desde_ult_promocion    0\n",
       "anos_compania               0\n",
       "num_formaciones_ult_ano     0\n",
       "anos_experiencia            0\n",
       "nivel_acciones              0\n",
       "horas_quincena              0\n",
       "satisfaccion_companeros     0\n",
       "evaluacion                  0\n",
       "incremento_salario_porc     0\n",
       "horas_extra                 0\n",
       "num_empresas_anteriores     0\n",
       "salario_mes                 0\n",
       "estado_civil                0\n",
       "satisfaccion_trabajo        0\n",
       "puesto                      0\n",
       "nivel_laboral               0\n",
       "implicacion                 0\n",
       "sexo                        0\n",
       "satisfaccion_entorno        0\n",
       "empleados                   0\n",
       "carrera                     0\n",
       "educacion                   0\n",
       "distancia_casa              0\n",
       "departamento                0\n",
       "viajes                      0\n",
       "anos_con_manager_actual     0\n",
       "dtype: int64"
      ]
     },
     "execution_count": 86,
     "metadata": {},
     "output_type": "execute_result"
    }
   ],
   "source": [
    "df.isna().sum().sort_values(ascending = False)"
   ]
  }
 ],
 "metadata": {
  "kernelspec": {
   "display_name": "Python 3 (ipykernel)",
   "language": "python",
   "name": "python3"
  },
  "language_info": {
   "codemirror_mode": {
    "name": "ipython",
    "version": 3
   },
   "file_extension": ".py",
   "mimetype": "text/x-python",
   "name": "python",
   "nbconvert_exporter": "python",
   "pygments_lexer": "ipython3",
   "version": "3.9.7"
  }
 },
 "nbformat": 4,
 "nbformat_minor": 5
}
