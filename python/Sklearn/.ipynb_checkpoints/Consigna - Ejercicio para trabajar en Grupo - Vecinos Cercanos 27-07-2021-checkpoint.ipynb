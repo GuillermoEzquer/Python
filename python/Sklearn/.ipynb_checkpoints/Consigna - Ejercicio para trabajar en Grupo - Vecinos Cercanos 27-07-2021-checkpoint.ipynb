{
 "cells": [
  {
   "cell_type": "markdown",
   "metadata": {},
   "source": [
    "**Ejercicio para trabajar en Grupo:**\n",
    "\n",
    "Dado el dataset Breast_cancer_data.csv que se encuentra en Vecinos Cercanos (Knn) --> Código Vecinos Cercanos - Clase.\n",
    "Realizar un entrenamiento y predicción con el algoritmo predictivo Vecinos Cercanos, distancia manhattan y obtener las métricas\n"
   ]
  },
  {
   "cell_type": "code",
   "execution_count": null,
   "metadata": {},
   "outputs": [],
   "source": []
  }
 ],
 "metadata": {
  "kernelspec": {
   "display_name": "Python 3 (ipykernel)",
   "language": "python",
   "name": "python3"
  },
  "language_info": {
   "codemirror_mode": {
    "name": "ipython",
    "version": 3
   },
   "file_extension": ".py",
   "mimetype": "text/x-python",
   "name": "python",
   "nbconvert_exporter": "python",
   "pygments_lexer": "ipython3",
   "version": "3.9.7"
  }
 },
 "nbformat": 4,
 "nbformat_minor": 4
}
