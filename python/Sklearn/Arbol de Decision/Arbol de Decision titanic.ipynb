{
 "cells": [
  {
   "cell_type": "markdown",
   "id": "d113fc55-e92f-41df-b2c4-2d336dd6b204",
   "metadata": {},
   "source": [
    "### Importamos las librerias necesarias"
   ]
  },
  {
   "cell_type": "code",
   "execution_count": 1,
   "id": "bb1f62f3-77f7-49f7-9449-ab70617317e0",
   "metadata": {},
   "outputs": [],
   "source": [
    "import numpy as np\n",
    "import matplotlib.pyplot as plt\n",
    "import pandas as pd\n",
    "import seaborn as sn\n",
    "from sklearn.model_selection import train_test_split\n",
    "from sklearn.neighbors import KNeighborsClassifier\n",
    "from sklearn import tree\n",
    "from sklearn.tree import DecisionTreeClassifier\n",
    "from sklearn.tree import export_graphviz\n",
    "from sklearn.metrics import confusion_matrix\n",
    "from sklearn.metrics import accuracy_score\n",
    "from sklearn.metrics import recall_score\n",
    "from sklearn.metrics import precision_score\n",
    "from sklearn.metrics import f1_score \n",
    "from pydotplus import graph_from_dot_data"
   ]
  },
  {
   "cell_type": "markdown",
   "id": "fec0f1e7-907a-4e6b-a51d-f8a43c009424",
   "metadata": {},
   "source": [
    "### Importamos el dataset titanic para el entrenamiento"
   ]
  },
  {
   "cell_type": "code",
   "execution_count": 23,
   "id": "d654b8ec-23db-44c5-9bad-1a55d49d3078",
   "metadata": {},
   "outputs": [],
   "source": [
    "df = pd.read_csv('titanic_train_out.csv')"
   ]
  },
  {
   "cell_type": "markdown",
   "id": "be014fa0-77a4-4681-a572-553f046e11c0",
   "metadata": {},
   "source": [
    "### Seleccionamos las dimenciones para entrenar y el target"
   ]
  },
  {
   "cell_type": "code",
   "execution_count": 3,
   "id": "770a9354-34df-4ef4-beb4-9eab78bd5dda",
   "metadata": {},
   "outputs": [
    {
     "data": {
      "text/plain": [
       "Index(['Survived', 'Pclass', 'Sex', 'Age', 'Fare', 'Embarked', 'Title',\n",
       "       'IsAlone'],\n",
       "      dtype='object')"
      ]
     },
     "execution_count": 3,
     "metadata": {},
     "output_type": "execute_result"
    }
   ],
   "source": [
    "df.keys()"
   ]
  },
  {
   "cell_type": "code",
   "execution_count": 4,
   "id": "8c48e1e3-b83a-46b9-8f21-95795ffe1101",
   "metadata": {},
   "outputs": [],
   "source": [
    "X = df.iloc[:, [1,2,3,4,5,6,7]].values\n",
    "y = df.Survived"
   ]
  },
  {
   "cell_type": "markdown",
   "id": "d985d107-0e32-402f-99f5-8eb6da44a250",
   "metadata": {},
   "source": [
    "### Separamos y_train y_test x_train y x_test"
   ]
  },
  {
   "cell_type": "code",
   "execution_count": 5,
   "id": "f2e92a62-bcf8-438b-bed7-91ea522e5376",
   "metadata": {},
   "outputs": [],
   "source": [
    "X_train, X_test, y_train, y_test = train_test_split(X, y, test_size=0.2)"
   ]
  },
  {
   "cell_type": "markdown",
   "id": "1d5c44ca-1e1a-4e62-b451-ff86fd95fa51",
   "metadata": {},
   "source": [
    "### Para saber que profundidad de arbol nos da un mejor resultado entrenamos el modelo para varias profundidades y comparamos"
   ]
  },
  {
   "cell_type": "code",
   "execution_count": 15,
   "id": "737a0ecf-d991-4dd5-aeb7-30b09ae7181d",
   "metadata": {},
   "outputs": [
    {
     "name": "stdout",
     "output_type": "stream",
     "text": [
      "Matriz de Confusión para Profundidad 1\n"
     ]
    },
    {
     "data": {
      "image/png": "[encoded data removed]",
      "text/plain": [
       "<Figure size 432x288 with 2 Axes>"
      ]
     },
     "metadata": {
      "needs_background": "light"
     },
     "output_type": "display_data"
    },
    {
     "name": "stdout",
     "output_type": "stream",
     "text": [
      "acuracy: 0.7877094972067039\n",
      "precision: 0.7307692307692307\n",
      "recall 0.7702702702702703\n",
      "f1 0.75\n",
      "Matriz de Confusión para Profundidad 2\n"
     ]
    },
    {
     "data": {
      "image/png": "[encoded data removed]",
      "text/plain": [
       "<Figure size 432x288 with 2 Axes>"
      ]
     },
     "metadata": {
      "needs_background": "light"
     },
     "output_type": "display_data"
    },
    {
     "name": "stdout",
     "output_type": "stream",
     "text": [
      "acuracy: 0.7877094972067039\n",
      "precision: 0.8913043478260869\n",
      "recall 0.5540540540540541\n",
      "f1 0.6833333333333333\n",
      "Matriz de Confusión para Profundidad 3\n"
     ]
    },
    {
     "data": {
      "image/png": "[encoded data removed]",
      "text/plain": [
       "<Figure size 432x288 with 2 Axes>"
      ]
     },
     "metadata": {
      "needs_background": "light"
     },
     "output_type": "display_data"
    },
    {
     "name": "stdout",
     "output_type": "stream",
     "text": [
      "acuracy: 0.7541899441340782\n",
      "precision: 0.734375\n",
      "recall 0.6351351351351351\n",
      "f1 0.681159420289855\n",
      "Matriz de Confusión para Profundidad 4\n"
     ]
    },
    {
     "data": {
      "image/png": "[encoded data removed]",
      "text/plain": [
       "<Figure size 432x288 with 2 Axes>"
      ]
     },
     "metadata": {
      "needs_background": "light"
     },
     "output_type": "display_data"
    },
    {
     "name": "stdout",
     "output_type": "stream",
     "text": [
      "acuracy: 0.776536312849162\n",
      "precision: 0.7741935483870968\n",
      "recall 0.6486486486486487\n",
      "f1 0.7058823529411764\n",
      "Matriz de Confusión para Profundidad 5\n"
     ]
    },
    {
     "data": {
      "image/png": "[encoded data removed]",
      "text/plain": [
       "<Figure size 432x288 with 2 Axes>"
      ]
     },
     "metadata": {
      "needs_background": "light"
     },
     "output_type": "display_data"
    },
    {
     "name": "stdout",
     "output_type": "stream",
     "text": [
      "acuracy: 0.776536312849162\n",
      "precision: 0.7741935483870968\n",
      "recall 0.6486486486486487\n",
      "f1 0.7058823529411764\n"
     ]
    }
   ],
   "source": [
    "max_depth_range = list(range(1, 6))\n",
    "accuracy = []\n",
    "for depth in max_depth_range:\n",
    "    classifier = DecisionTreeClassifier(max_depth = depth,random_state = 0)\n",
    "    classifier.fit(X_train, y_train)    \n",
    "    y_pred = classifier.predict(X_test)\n",
    "    matriz = confusion_matrix(y_test, y_pred)\n",
    "    print('Matriz de Confusión para Profundidad',depth)\n",
    "    sn.heatmap(matriz, annot=True)\n",
    "    plt.show()\n",
    "    #accuracy\n",
    "    print(\"acuracy:\",accuracy_score(y_test, y_pred))\n",
    "    #precision score\n",
    "    print(\"precision:\",precision_score(y_test, y_pred))\n",
    "    #recall score\n",
    "    print(\"recall\" ,recall_score(y_test,y_pred))\n",
    "    #F1 score\n",
    "    print(\"f1\" ,f1_score(y_test, y_pred))\n"
   ]
  },
  {
   "cell_type": "markdown",
   "id": "a1789bc3-cfdb-488f-83c2-d938fb0af8d7",
   "metadata": {},
   "source": [
    "### Suponiendo que el mejor resultado es el deprofundidad 4, podemos imprimir el arbol de varias maneras"
   ]
  },
  {
   "cell_type": "code",
   "execution_count": 21,
   "id": "798b22fc-636d-436c-96c0-d5c9af5c24a2",
   "metadata": {},
   "outputs": [
    {
     "data": {
      "text/html": [
       "<style>#sk-container-id-4 {color: black;background-color: white;}#sk-container-id-4 pre{padding: 0;}#sk-container-id-4 div.sk-toggleable {background-color: white;}#sk-container-id-4 label.sk-toggleable__label {cursor: pointer;display: block;width: 100%;margin-bottom: 0;padding: 0.3em;box-sizing: border-box;text-align: center;}#sk-container-id-4 label.sk-toggleable__label-arrow:before {content: \"▸\";float: left;margin-right: 0.25em;color: #696969;}#sk-container-id-4 label.sk-toggleable__label-arrow:hover:before {color: black;}#sk-container-id-4 div.sk-estimator:hover label.sk-toggleable__label-arrow:before {color: black;}#sk-container-id-4 div.sk-toggleable__content {max-height: 0;max-width: 0;overflow: hidden;text-align: left;background-color: #f0f8ff;}#sk-container-id-4 div.sk-toggleable__content pre {margin: 0.2em;color: black;border-radius: 0.25em;background-color: #f0f8ff;}#sk-container-id-4 input.sk-toggleable__control:checked~div.sk-toggleable__content {max-height: 200px;max-width: 100%;overflow: auto;}#sk-container-id-4 input.sk-toggleable__control:checked~label.sk-toggleable__label-arrow:before {content: \"▾\";}#sk-container-id-4 div.sk-estimator input.sk-toggleable__control:checked~label.sk-toggleable__label {background-color: #d4ebff;}#sk-container-id-4 div.sk-label input.sk-toggleable__control:checked~label.sk-toggleable__label {background-color: #d4ebff;}#sk-container-id-4 input.sk-hidden--visually {border: 0;clip: rect(1px 1px 1px 1px);clip: rect(1px, 1px, 1px, 1px);height: 1px;margin: -1px;overflow: hidden;padding: 0;position: absolute;width: 1px;}#sk-container-id-4 div.sk-estimator {font-family: monospace;background-color: #f0f8ff;border: 1px dotted black;border-radius: 0.25em;box-sizing: border-box;margin-bottom: 0.5em;}#sk-container-id-4 div.sk-estimator:hover {background-color: #d4ebff;}#sk-container-id-4 div.sk-parallel-item::after {content: \"\";width: 100%;border-bottom: 1px solid gray;flex-grow: 1;}#sk-container-id-4 div.sk-label:hover label.sk-toggleable__label {background-color: #d4ebff;}#sk-container-id-4 div.sk-serial::before {content: \"\";position: absolute;border-left: 1px solid gray;box-sizing: border-box;top: 0;bottom: 0;left: 50%;z-index: 0;}#sk-container-id-4 div.sk-serial {display: flex;flex-direction: column;align-items: center;background-color: white;padding-right: 0.2em;padding-left: 0.2em;position: relative;}#sk-container-id-4 div.sk-item {position: relative;z-index: 1;}#sk-container-id-4 div.sk-parallel {display: flex;align-items: stretch;justify-content: center;background-color: white;position: relative;}#sk-container-id-4 div.sk-item::before, #sk-container-id-4 div.sk-parallel-item::before {content: \"\";position: absolute;border-left: 1px solid gray;box-sizing: border-box;top: 0;bottom: 0;left: 50%;z-index: -1;}#sk-container-id-4 div.sk-parallel-item {display: flex;flex-direction: column;z-index: 1;position: relative;background-color: white;}#sk-container-id-4 div.sk-parallel-item:first-child::after {align-self: flex-end;width: 50%;}#sk-container-id-4 div.sk-parallel-item:last-child::after {align-self: flex-start;width: 50%;}#sk-container-id-4 div.sk-parallel-item:only-child::after {width: 0;}#sk-container-id-4 div.sk-dashed-wrapped {border: 1px dashed gray;margin: 0 0.4em 0.5em 0.4em;box-sizing: border-box;padding-bottom: 0.4em;background-color: white;}#sk-container-id-4 div.sk-label label {font-family: monospace;font-weight: bold;display: inline-block;line-height: 1.2em;}#sk-container-id-4 div.sk-label-container {text-align: center;}#sk-container-id-4 div.sk-container {/* jupyter's `normalize.less` sets `[hidden] { display: none; }` but bootstrap.min.css set `[hidden] { display: none !important; }` so we also need the `!important` here to be able to override the default hidden behavior on the sphinx rendered scikit-learn.org. See: https://github.com/scikit-learn/scikit-learn/issues/21755 */display: inline-block !important;position: relative;}#sk-container-id-4 div.sk-text-repr-fallback {display: none;}</style><div id=\"sk-container-id-4\" class=\"sk-top-container\"><div class=\"sk-text-repr-fallback\"><pre>DecisionTreeClassifier(max_depth=4, random_state=0)</pre><b>In a Jupyter environment, please rerun this cell to show the HTML representation or trust the notebook. <br />On GitHub, the HTML representation is unable to render, please try loading this page with nbviewer.org.</b></div><div class=\"sk-container\" hidden><div class=\"sk-item\"><div class=\"sk-estimator sk-toggleable\"><input class=\"sk-toggleable__control sk-hidden--visually\" id=\"sk-estimator-id-4\" type=\"checkbox\" checked><label for=\"sk-estimator-id-4\" class=\"sk-toggleable__label sk-toggleable__label-arrow\">DecisionTreeClassifier</label><div class=\"sk-toggleable__content\"><pre>DecisionTreeClassifier(max_depth=4, random_state=0)</pre></div></div></div></div></div>"
      ],
      "text/plain": [
       "DecisionTreeClassifier(max_depth=4, random_state=0)"
      ]
     },
     "execution_count": 21,
     "metadata": {},
     "output_type": "execute_result"
    }
   ],
   "source": [
    "classifier = DecisionTreeClassifier(max_depth = 4,random_state = 0)\n",
    "classifier.fit(X_train, y_train)   "
   ]
  },
  {
   "cell_type": "code",
   "execution_count": 20,
   "id": "cf712f41-3b12-4400-8ce1-611906373904",
   "metadata": {},
   "outputs": [
    {
     "data": {
      "text/plain": [
       "[Text(0.5089285714285714, 0.9166666666666666, 'X[5] <= 1.5\\ngini = 0.469\\nsamples = 712\\nvalue = [444, 268]'),\n",
       " Text(0.27232142857142855, 0.75, 'X[0] <= 1.5\\ngini = 0.26\\nsamples = 416\\nvalue = [352, 64]'),\n",
       " Text(0.14285714285714285, 0.5833333333333334, 'X[2] <= 36.5\\ngini = 0.454\\nsamples = 86\\nvalue = [56, 30]'),\n",
       " Text(0.07142857142857142, 0.4166666666666667, 'X[3] <= 2.5\\ngini = 0.471\\nsamples = 29\\nvalue = [11, 18]'),\n",
       " Text(0.03571428571428571, 0.25, 'X[4] <= 0.5\\ngini = 0.198\\nsamples = 9\\nvalue = [1, 8]'),\n",
       " Text(0.017857142857142856, 0.08333333333333333, 'gini = 0.0\\nsamples = 6\\nvalue = [0, 6]'),\n",
       " Text(0.05357142857142857, 0.08333333333333333, 'gini = 0.444\\nsamples = 3\\nvalue = [1, 2]'),\n",
       " Text(0.10714285714285714, 0.25, 'X[2] <= 18.0\\ngini = 0.5\\nsamples = 20\\nvalue = [10, 10]'),\n",
       " Text(0.08928571428571429, 0.08333333333333333, 'gini = 0.0\\nsamples = 1\\nvalue = [0, 1]'),\n",
       " Text(0.125, 0.08333333333333333, 'gini = 0.499\\nsamples = 19\\nvalue = [10, 9]'),\n",
       " Text(0.21428571428571427, 0.4166666666666667, 'X[2] <= 49.5\\ngini = 0.332\\nsamples = 57\\nvalue = [45, 12]'),\n",
       " Text(0.17857142857142858, 0.25, 'X[2] <= 47.5\\ngini = 0.411\\nsamples = 38\\nvalue = [27, 11]'),\n",
       " Text(0.16071428571428573, 0.08333333333333333, 'gini = 0.36\\nsamples = 34\\nvalue = [26, 8]'),\n",
       " Text(0.19642857142857142, 0.08333333333333333, 'gini = 0.375\\nsamples = 4\\nvalue = [1, 3]'),\n",
       " Text(0.25, 0.25, 'X[2] <= 75.5\\ngini = 0.1\\nsamples = 19\\nvalue = [18, 1]'),\n",
       " Text(0.23214285714285715, 0.08333333333333333, 'gini = 0.0\\nsamples = 18\\nvalue = [18, 0]'),\n",
       " Text(0.26785714285714285, 0.08333333333333333, 'gini = 0.0\\nsamples = 1\\nvalue = [0, 1]'),\n",
       " Text(0.4017857142857143, 0.5833333333333334, 'X[3] <= 2.5\\ngini = 0.185\\nsamples = 330\\nvalue = [296, 34]'),\n",
       " Text(0.35714285714285715, 0.4166666666666667, 'X[3] <= 0.5\\ngini = 0.17\\nsamples = 309\\nvalue = [280, 29]'),\n",
       " Text(0.32142857142857145, 0.25, 'X[4] <= 0.5\\ngini = 0.119\\nsamples = 142\\nvalue = [133, 9]'),\n",
       " Text(0.30357142857142855, 0.08333333333333333, 'gini = 0.064\\nsamples = 91\\nvalue = [88, 3]'),\n",
       " Text(0.3392857142857143, 0.08333333333333333, 'gini = 0.208\\nsamples = 51\\nvalue = [45, 6]'),\n",
       " Text(0.39285714285714285, 0.25, 'X[0] <= 2.5\\ngini = 0.211\\nsamples = 167\\nvalue = [147, 20]'),\n",
       " Text(0.375, 0.08333333333333333, 'gini = 0.124\\nsamples = 60\\nvalue = [56, 4]'),\n",
       " Text(0.4107142857142857, 0.08333333333333333, 'gini = 0.254\\nsamples = 107\\nvalue = [91, 16]'),\n",
       " Text(0.44642857142857145, 0.4166666666666667, 'X[6] <= 0.5\\ngini = 0.363\\nsamples = 21\\nvalue = [16, 5]'),\n",
       " Text(0.42857142857142855, 0.25, 'gini = 0.0\\nsamples = 12\\nvalue = [12, 0]'),\n",
       " Text(0.4642857142857143, 0.25, 'X[2] <= 23.0\\ngini = 0.494\\nsamples = 9\\nvalue = [4, 5]'),\n",
       " Text(0.44642857142857145, 0.08333333333333333, 'gini = 0.0\\nsamples = 2\\nvalue = [2, 0]'),\n",
       " Text(0.48214285714285715, 0.08333333333333333, 'gini = 0.408\\nsamples = 7\\nvalue = [2, 5]'),\n",
       " Text(0.7455357142857143, 0.75, 'X[0] <= 2.5\\ngini = 0.428\\nsamples = 296\\nvalue = [92, 204]'),\n",
       " Text(0.6339285714285714, 0.5833333333333334, 'X[5] <= 4.5\\ngini = 0.214\\nsamples = 156\\nvalue = [19, 137]'),\n",
       " Text(0.5714285714285714, 0.4166666666666667, 'X[2] <= 43.5\\ngini = 0.084\\nsamples = 137\\nvalue = [6, 131]'),\n",
       " Text(0.5357142857142857, 0.25, 'X[2] <= 25.5\\ngini = 0.052\\nsamples = 113\\nvalue = [3, 110]'),\n",
       " Text(0.5178571428571429, 0.08333333333333333, 'gini = 0.103\\nsamples = 55\\nvalue = [3, 52]'),\n",
       " Text(0.5535714285714286, 0.08333333333333333, 'gini = 0.0\\nsamples = 58\\nvalue = [0, 58]'),\n",
       " Text(0.6071428571428571, 0.25, 'X[3] <= 2.5\\ngini = 0.219\\nsamples = 24\\nvalue = [3, 21]'),\n",
       " Text(0.5892857142857143, 0.08333333333333333, 'gini = 0.397\\nsamples = 11\\nvalue = [3, 8]'),\n",
       " Text(0.625, 0.08333333333333333, 'gini = 0.0\\nsamples = 13\\nvalue = [0, 13]'),\n",
       " Text(0.6964285714285714, 0.4166666666666667, 'X[0] <= 1.5\\ngini = 0.432\\nsamples = 19\\nvalue = [13, 6]'),\n",
       " Text(0.6785714285714286, 0.25, 'X[2] <= 46.0\\ngini = 0.496\\nsamples = 11\\nvalue = [5, 6]'),\n",
       " Text(0.6607142857142857, 0.08333333333333333, 'gini = 0.32\\nsamples = 5\\nvalue = [4, 1]'),\n",
       " Text(0.6964285714285714, 0.08333333333333333, 'gini = 0.278\\nsamples = 6\\nvalue = [1, 5]'),\n",
       " Text(0.7142857142857143, 0.25, 'gini = 0.0\\nsamples = 8\\nvalue = [8, 0]'),\n",
       " Text(0.8571428571428571, 0.5833333333333334, 'X[3] <= 1.5\\ngini = 0.499\\nsamples = 140\\nvalue = [73, 67]'),\n",
       " Text(0.7857142857142857, 0.4166666666666667, 'X[2] <= 27.5\\ngini = 0.454\\nsamples = 66\\nvalue = [23, 43]'),\n",
       " Text(0.75, 0.25, 'X[4] <= 0.5\\ngini = 0.384\\nsamples = 54\\nvalue = [14, 40]'),\n",
       " Text(0.7321428571428571, 0.08333333333333333, 'gini = 0.473\\nsamples = 26\\nvalue = [10, 16]'),\n",
       " Text(0.7678571428571429, 0.08333333333333333, 'gini = 0.245\\nsamples = 28\\nvalue = [4, 24]'),\n",
       " Text(0.8214285714285714, 0.25, 'X[2] <= 54.0\\ngini = 0.375\\nsamples = 12\\nvalue = [9, 3]'),\n",
       " Text(0.8035714285714286, 0.08333333333333333, 'gini = 0.298\\nsamples = 11\\nvalue = [9, 2]'),\n",
       " Text(0.8392857142857143, 0.08333333333333333, 'gini = 0.0\\nsamples = 1\\nvalue = [0, 1]'),\n",
       " Text(0.9285714285714286, 0.4166666666666667, 'X[3] <= 2.5\\ngini = 0.438\\nsamples = 74\\nvalue = [50, 24]'),\n",
       " Text(0.8928571428571429, 0.25, 'X[2] <= 37.5\\ngini = 0.487\\nsamples = 50\\nvalue = [29, 21]'),\n",
       " Text(0.875, 0.08333333333333333, 'gini = 0.498\\nsamples = 45\\nvalue = [24, 21]'),\n",
       " Text(0.9107142857142857, 0.08333333333333333, 'gini = 0.0\\nsamples = 5\\nvalue = [5, 0]'),\n",
       " Text(0.9642857142857143, 0.25, 'X[2] <= 5.5\\ngini = 0.219\\nsamples = 24\\nvalue = [21, 3]'),\n",
       " Text(0.9464285714285714, 0.08333333333333333, 'gini = 0.408\\nsamples = 7\\nvalue = [5, 2]'),\n",
       " Text(0.9821428571428571, 0.08333333333333333, 'gini = 0.111\\nsamples = 17\\nvalue = [16, 1]')]"
      ]
     },
     "execution_count": 20,
     "metadata": {},
     "output_type": "execute_result"
    },
    {
     "data": {
      "image/png": "[encoded data removed]",
      "text/plain": [
       "<Figure size 432x288 with 1 Axes>"
      ]
     },
     "metadata": {
      "needs_background": "light"
     },
     "output_type": "display_data"
    }
   ],
   "source": [
    "tree.plot_tree(classifier)"
   ]
  },
  {
   "cell_type": "code",
   "execution_count": 22,
   "id": "ca2095cc-54d5-407d-9f2f-371de7d80793",
   "metadata": {},
   "outputs": [
    {
     "data": {
      "text/plain": [
       "True"
      ]
     },
     "execution_count": 22,
     "metadata": {},
     "output_type": "execute_result"
    }
   ],
   "source": [
    "dot_data = export_graphviz(classifier,class_names = ['Not Survived', 'Survived'] ,filled = True, rounded = True,special_characters = True)\n",
    "graph = graph_from_dot_data(dot_data)\n",
    "graph.write_png('arbol_profundidad_4.png')"
   ]
  },
  {
   "cell_type": "markdown",
   "id": "287be58d-39fc-4b69-90f3-c2d78b3aaa2d",
   "metadata": {},
   "source": [
    "### Importamos el dataset para predecir "
   ]
  },
  {
   "cell_type": "code",
   "execution_count": 24,
   "id": "afb0cafd-004c-4397-8a35-3aff3a354c65",
   "metadata": {},
   "outputs": [],
   "source": [
    "df_test = pd.read_csv('titanic_test_out.csv')"
   ]
  },
  {
   "cell_type": "markdown",
   "id": "50718eed-277d-4986-9c2b-b77778f30be8",
   "metadata": {},
   "source": [
    "### Realizamos la prediccion para un data set sin los target"
   ]
  },
  {
   "cell_type": "code",
   "execution_count": 27,
   "id": "18eaf212-a795-4652-afa0-11b8dd202c02",
   "metadata": {},
   "outputs": [
    {
     "name": "stderr",
     "output_type": "stream",
     "text": [
      "C:\\ProgramData\\Anaconda3\\lib\\site-packages\\sklearn\\base.py:443: UserWarning: X has feature names, but DecisionTreeClassifier was fitted without feature names\n",
      "  warnings.warn(\n"
     ]
    }
   ],
   "source": [
    " df_test['Survived'] = classifier.predict(df_test)"
   ]
  },
  {
   "cell_type": "code",
   "execution_count": 28,
   "id": "503e5dd7-2329-428c-af6d-01212c0f359b",
   "metadata": {},
   "outputs": [
    {
     "data": {
      "text/html": [
       "<div><div id=9cd2b536-0ca4-4129-8f76-adc514dbf49a style=\"display:none; background-color:#9D6CFF; color:white; width:200px; height:30px; padding-left:5px; border-radius:4px; flex-direction:row; justify-content:space-around; align-items:center;\" onmouseover=\"this.style.backgroundColor='#BA9BF8'\" onmouseout=\"this.style.backgroundColor='#9D6CFF'\" onclick=\"window.commands?.execute('create-mitosheet-from-dataframe-output');\">See Full Dataframe in Mito</div> <script> if (window.commands?.hasCommand('create-mitosheet-from-dataframe-output')) document.getElementById('9cd2b536-0ca4-4129-8f76-adc514dbf49a').style.display = 'flex' </script> <table border=\"1\" class=\"dataframe\">\n",
       "  <thead>\n",
       "    <tr style=\"text-align: right;\">\n",
       "      <th></th>\n",
       "      <th>Pclass</th>\n",
       "      <th>Sex</th>\n",
       "      <th>Age</th>\n",
       "      <th>Fare</th>\n",
       "      <th>Embarked</th>\n",
       "      <th>Title</th>\n",
       "      <th>IsAlone</th>\n",
       "      <th>Survived</th>\n",
       "    </tr>\n",
       "  </thead>\n",
       "  <tbody>\n",
       "    <tr>\n",
       "      <th>0</th>\n",
       "      <td>3</td>\n",
       "      <td>0</td>\n",
       "      <td>34</td>\n",
       "      <td>0</td>\n",
       "      <td>2</td>\n",
       "      <td>1</td>\n",
       "      <td>1</td>\n",
       "      <td>0</td>\n",
       "    </tr>\n",
       "    <tr>\n",
       "      <th>1</th>\n",
       "      <td>3</td>\n",
       "      <td>1</td>\n",
       "      <td>47</td>\n",
       "      <td>0</td>\n",
       "      <td>0</td>\n",
       "      <td>3</td>\n",
       "      <td>0</td>\n",
       "      <td>0</td>\n",
       "    </tr>\n",
       "    <tr>\n",
       "      <th>2</th>\n",
       "      <td>2</td>\n",
       "      <td>0</td>\n",
       "      <td>62</td>\n",
       "      <td>1</td>\n",
       "      <td>2</td>\n",
       "      <td>1</td>\n",
       "      <td>1</td>\n",
       "      <td>0</td>\n",
       "    </tr>\n",
       "    <tr>\n",
       "      <th>3</th>\n",
       "      <td>3</td>\n",
       "      <td>0</td>\n",
       "      <td>27</td>\n",
       "      <td>1</td>\n",
       "      <td>0</td>\n",
       "      <td>1</td>\n",
       "      <td>1</td>\n",
       "      <td>0</td>\n",
       "    </tr>\n",
       "    <tr>\n",
       "      <th>4</th>\n",
       "      <td>3</td>\n",
       "      <td>1</td>\n",
       "      <td>22</td>\n",
       "      <td>1</td>\n",
       "      <td>0</td>\n",
       "      <td>3</td>\n",
       "      <td>0</td>\n",
       "      <td>1</td>\n",
       "    </tr>\n",
       "    <tr>\n",
       "      <th>...</th>\n",
       "      <td>...</td>\n",
       "      <td>...</td>\n",
       "      <td>...</td>\n",
       "      <td>...</td>\n",
       "      <td>...</td>\n",
       "      <td>...</td>\n",
       "      <td>...</td>\n",
       "      <td>...</td>\n",
       "    </tr>\n",
       "    <tr>\n",
       "      <th>413</th>\n",
       "      <td>3</td>\n",
       "      <td>0</td>\n",
       "      <td>24</td>\n",
       "      <td>1</td>\n",
       "      <td>0</td>\n",
       "      <td>1</td>\n",
       "      <td>1</td>\n",
       "      <td>0</td>\n",
       "    </tr>\n",
       "    <tr>\n",
       "      <th>414</th>\n",
       "      <td>1</td>\n",
       "      <td>1</td>\n",
       "      <td>39</td>\n",
       "      <td>3</td>\n",
       "      <td>1</td>\n",
       "      <td>5</td>\n",
       "      <td>1</td>\n",
       "      <td>1</td>\n",
       "    </tr>\n",
       "    <tr>\n",
       "      <th>415</th>\n",
       "      <td>3</td>\n",
       "      <td>0</td>\n",
       "      <td>38</td>\n",
       "      <td>0</td>\n",
       "      <td>0</td>\n",
       "      <td>1</td>\n",
       "      <td>1</td>\n",
       "      <td>0</td>\n",
       "    </tr>\n",
       "    <tr>\n",
       "      <th>416</th>\n",
       "      <td>3</td>\n",
       "      <td>0</td>\n",
       "      <td>24</td>\n",
       "      <td>1</td>\n",
       "      <td>0</td>\n",
       "      <td>1</td>\n",
       "      <td>1</td>\n",
       "      <td>0</td>\n",
       "    </tr>\n",
       "    <tr>\n",
       "      <th>417</th>\n",
       "      <td>3</td>\n",
       "      <td>0</td>\n",
       "      <td>24</td>\n",
       "      <td>2</td>\n",
       "      <td>1</td>\n",
       "      <td>4</td>\n",
       "      <td>0</td>\n",
       "      <td>0</td>\n",
       "    </tr>\n",
       "  </tbody>\n",
       "</table></div>"
      ],
      "text/plain": [
       "     Pclass  Sex  Age  Fare  Embarked  Title  IsAlone  Survived\n",
       "0         3    0   34     0         2      1        1         0\n",
       "1         3    1   47     0         0      3        0         0\n",
       "2         2    0   62     1         2      1        1         0\n",
       "3         3    0   27     1         0      1        1         0\n",
       "4         3    1   22     1         0      3        0         1\n",
       "..      ...  ...  ...   ...       ...    ...      ...       ...\n",
       "413       3    0   24     1         0      1        1         0\n",
       "414       1    1   39     3         1      5        1         1\n",
       "415       3    0   38     0         0      1        1         0\n",
       "416       3    0   24     1         0      1        1         0\n",
       "417       3    0   24     2         1      4        0         0\n",
       "\n",
       "[418 rows x 8 columns]"
      ]
     },
     "execution_count": 28,
     "metadata": {},
     "output_type": "execute_result"
    }
   ],
   "source": [
    "df_test"
   ]
  },
  {
   "cell_type": "markdown",
   "id": "cbb4add0-8387-43bc-a2b2-1c87425897a4",
   "metadata": {},
   "source": [
    "### Podemos realizar el entrenamiento con otro algoritmo para comprar las metricas por ejemplo vecinos cercanos"
   ]
  },
  {
   "cell_type": "code",
   "execution_count": 30,
   "id": "10423f1f-2a26-4a9d-b499-e2f10282a7b9",
   "metadata": {},
   "outputs": [
    {
     "data": {
      "text/html": [
       "<style>#sk-container-id-5 {color: black;background-color: white;}#sk-container-id-5 pre{padding: 0;}#sk-container-id-5 div.sk-toggleable {background-color: white;}#sk-container-id-5 label.sk-toggleable__label {cursor: pointer;display: block;width: 100%;margin-bottom: 0;padding: 0.3em;box-sizing: border-box;text-align: center;}#sk-container-id-5 label.sk-toggleable__label-arrow:before {content: \"▸\";float: left;margin-right: 0.25em;color: #696969;}#sk-container-id-5 label.sk-toggleable__label-arrow:hover:before {color: black;}#sk-container-id-5 div.sk-estimator:hover label.sk-toggleable__label-arrow:before {color: black;}#sk-container-id-5 div.sk-toggleable__content {max-height: 0;max-width: 0;overflow: hidden;text-align: left;background-color: #f0f8ff;}#sk-container-id-5 div.sk-toggleable__content pre {margin: 0.2em;color: black;border-radius: 0.25em;background-color: #f0f8ff;}#sk-container-id-5 input.sk-toggleable__control:checked~div.sk-toggleable__content {max-height: 200px;max-width: 100%;overflow: auto;}#sk-container-id-5 input.sk-toggleable__control:checked~label.sk-toggleable__label-arrow:before {content: \"▾\";}#sk-container-id-5 div.sk-estimator input.sk-toggleable__control:checked~label.sk-toggleable__label {background-color: #d4ebff;}#sk-container-id-5 div.sk-label input.sk-toggleable__control:checked~label.sk-toggleable__label {background-color: #d4ebff;}#sk-container-id-5 input.sk-hidden--visually {border: 0;clip: rect(1px 1px 1px 1px);clip: rect(1px, 1px, 1px, 1px);height: 1px;margin: -1px;overflow: hidden;padding: 0;position: absolute;width: 1px;}#sk-container-id-5 div.sk-estimator {font-family: monospace;background-color: #f0f8ff;border: 1px dotted black;border-radius: 0.25em;box-sizing: border-box;margin-bottom: 0.5em;}#sk-container-id-5 div.sk-estimator:hover {background-color: #d4ebff;}#sk-container-id-5 div.sk-parallel-item::after {content: \"\";width: 100%;border-bottom: 1px solid gray;flex-grow: 1;}#sk-container-id-5 div.sk-label:hover label.sk-toggleable__label {background-color: #d4ebff;}#sk-container-id-5 div.sk-serial::before {content: \"\";position: absolute;border-left: 1px solid gray;box-sizing: border-box;top: 0;bottom: 0;left: 50%;z-index: 0;}#sk-container-id-5 div.sk-serial {display: flex;flex-direction: column;align-items: center;background-color: white;padding-right: 0.2em;padding-left: 0.2em;position: relative;}#sk-container-id-5 div.sk-item {position: relative;z-index: 1;}#sk-container-id-5 div.sk-parallel {display: flex;align-items: stretch;justify-content: center;background-color: white;position: relative;}#sk-container-id-5 div.sk-item::before, #sk-container-id-5 div.sk-parallel-item::before {content: \"\";position: absolute;border-left: 1px solid gray;box-sizing: border-box;top: 0;bottom: 0;left: 50%;z-index: -1;}#sk-container-id-5 div.sk-parallel-item {display: flex;flex-direction: column;z-index: 1;position: relative;background-color: white;}#sk-container-id-5 div.sk-parallel-item:first-child::after {align-self: flex-end;width: 50%;}#sk-container-id-5 div.sk-parallel-item:last-child::after {align-self: flex-start;width: 50%;}#sk-container-id-5 div.sk-parallel-item:only-child::after {width: 0;}#sk-container-id-5 div.sk-dashed-wrapped {border: 1px dashed gray;margin: 0 0.4em 0.5em 0.4em;box-sizing: border-box;padding-bottom: 0.4em;background-color: white;}#sk-container-id-5 div.sk-label label {font-family: monospace;font-weight: bold;display: inline-block;line-height: 1.2em;}#sk-container-id-5 div.sk-label-container {text-align: center;}#sk-container-id-5 div.sk-container {/* jupyter's `normalize.less` sets `[hidden] { display: none; }` but bootstrap.min.css set `[hidden] { display: none !important; }` so we also need the `!important` here to be able to override the default hidden behavior on the sphinx rendered scikit-learn.org. See: https://github.com/scikit-learn/scikit-learn/issues/21755 */display: inline-block !important;position: relative;}#sk-container-id-5 div.sk-text-repr-fallback {display: none;}</style><div id=\"sk-container-id-5\" class=\"sk-top-container\"><div class=\"sk-text-repr-fallback\"><pre>KNeighborsClassifier()</pre><b>In a Jupyter environment, please rerun this cell to show the HTML representation or trust the notebook. <br />On GitHub, the HTML representation is unable to render, please try loading this page with nbviewer.org.</b></div><div class=\"sk-container\" hidden><div class=\"sk-item\"><div class=\"sk-estimator sk-toggleable\"><input class=\"sk-toggleable__control sk-hidden--visually\" id=\"sk-estimator-id-5\" type=\"checkbox\" checked><label for=\"sk-estimator-id-5\" class=\"sk-toggleable__label sk-toggleable__label-arrow\">KNeighborsClassifier</label><div class=\"sk-toggleable__content\"><pre>KNeighborsClassifier()</pre></div></div></div></div></div>"
      ],
      "text/plain": [
       "KNeighborsClassifier()"
      ]
     },
     "execution_count": 30,
     "metadata": {},
     "output_type": "execute_result"
    }
   ],
   "source": [
    "classifier = KNeighborsClassifier(n_neighbors = 5)\n",
    "classifier.fit(X_train, y_train)"
   ]
  },
  {
   "cell_type": "code",
   "execution_count": 31,
   "id": "69afb6ca-771d-422e-8e84-238b25c1a5dd",
   "metadata": {},
   "outputs": [],
   "source": [
    "y_pred = classifier.predict(X_test)"
   ]
  },
  {
   "cell_type": "code",
   "execution_count": 32,
   "id": "cc660be6-7464-4376-a29a-c82a47af9beb",
   "metadata": {},
   "outputs": [
    {
     "data": {
      "image/png": "[encoded data removed]",
      "text/plain": [
       "<Figure size 432x288 with 2 Axes>"
      ]
     },
     "metadata": {
      "needs_background": "light"
     },
     "output_type": "display_data"
    }
   ],
   "source": [
    "matriz = confusion_matrix(y_test, y_pred)\n",
    "sn.heatmap(matriz,annot=True)\n",
    "plt.show()"
   ]
  },
  {
   "cell_type": "code",
   "execution_count": 33,
   "id": "0afd2ffa-c933-427b-9adb-b55a7f992e2c",
   "metadata": {},
   "outputs": [
    {
     "data": {
      "text/plain": [
       "0.7318435754189944"
      ]
     },
     "execution_count": 33,
     "metadata": {},
     "output_type": "execute_result"
    }
   ],
   "source": [
    "accuracy_score(y_test, y_pred)"
   ]
  },
  {
   "cell_type": "code",
   "execution_count": 34,
   "id": "ac627da6-1962-4285-951a-6506d1aed14e",
   "metadata": {},
   "outputs": [
    {
     "data": {
      "text/plain": [
       "0.703125"
      ]
     },
     "execution_count": 34,
     "metadata": {},
     "output_type": "execute_result"
    }
   ],
   "source": [
    "precision_score(y_test, y_pred)"
   ]
  },
  {
   "cell_type": "code",
   "execution_count": 35,
   "id": "825392da-5632-45fd-9456-c1817a69d0fd",
   "metadata": {},
   "outputs": [
    {
     "data": {
      "text/plain": [
       "0.6081081081081081"
      ]
     },
     "execution_count": 35,
     "metadata": {},
     "output_type": "execute_result"
    }
   ],
   "source": [
    "recall_score(y_test, y_pred)"
   ]
  },
  {
   "cell_type": "code",
   "execution_count": 36,
   "id": "08fc6c4e-b11b-451c-a780-e6f7f455d4d9",
   "metadata": {},
   "outputs": [
    {
     "data": {
      "text/plain": [
       "0.6521739130434783"
      ]
     },
     "execution_count": 36,
     "metadata": {},
     "output_type": "execute_result"
    }
   ],
   "source": [
    "f1_score(y_test, y_pred)"
   ]
  }
 ],
 "metadata": {
  "kernelspec": {
   "display_name": "Python 3 (ipykernel)",
   "language": "python",
   "name": "python3"
  },
  "language_info": {
   "codemirror_mode": {
    "name": "ipython",
    "version": 3
   },
   "file_extension": ".py",
   "mimetype": "text/x-python",
   "name": "python",
   "nbconvert_exporter": "python",
   "pygments_lexer": "ipython3",
   "version": "3.9.7"
  }
 },
 "nbformat": 4,
 "nbformat_minor": 5
}
