{
 "cells": [
  {
   "cell_type": "markdown",
   "metadata": {},
   "source": [
    "**¿Qué librerías necesitamos?**\n",
    "\n",
    "* Pandas\n",
    "\n",
    "* Matplotlib\n",
    "\n",
    "* Numpy\n",
    "\n",
    "Librería no vista hasta ahora - **Sklearn** dentro de la cual vamos a **scipy cluster hierarchy**"
   ]
  },
  {
   "cell_type": "markdown",
   "metadata": {},
   "source": [
    "https://scikit-learn.org/stable/modules/generated/sklearn.cluster.AgglomerativeClustering.html#sklearn.cluster.AgglomerativeClustering\n",
    "\n",
    "class sklearn.cluster.AgglomerativeClustering(n_clusters=2, *, affinity='euclidean', memory=None, connectivity=None, compute_full_tree='auto', linkage='ward', distance_threshold=None)\n",
    "\n",
    "**Parámetros**\n",
    "\n",
    "* **n_clusters:** int o None, predeterminado = 2\n",
    "El número de agrupaciones que se van a encontrar. Debe ser None si distance_threshold no es None.\n",
    "\n",
    "* **affinity:** str o invocable, predeterminado = \"euclidiano\"\n",
    "Métrica utilizada para calcular el vínculo. Puede ser \"euclidiana\", \"l1\", \"l2\", \"manhattan\", \"coseno\" o \"precalculado\". Si el enlace es \"pupilo\", solo se acepta \"euclidiana\". Si se “calculó previamente”, se necesita una matriz de distancias (en lugar de una matriz de similitud) como entrada para el método de ajuste.\n",
    "\n",
    "* **memory:** str u objeto con la interfaz joblib.Memory, predeterminado = Ninguno\n",
    "Se utiliza para almacenar en caché la salida del cálculo del árbol. De forma predeterminada, no se realiza el almacenamiento en caché. Si se proporciona una cadena, es la ruta al directorio de almacenamiento en caché.\n",
    "\n",
    "* **Connectivity:** similar a una matriz o invocable, predeterminado = Ninguno\n",
    "Matriz de conectividad. Define para cada muestra las muestras vecinas siguiendo una determinada estructura de datos. Esta puede ser una matriz de conectividad en sí misma o un invocable que transforma los datos en una matriz de conectividad, como la derivada de kneighbors_graph. El valor predeterminado es Ninguno, es decir, el algoritmo de agrupamiento jerárquico no está estructurado.\n",
    "\n",
    "* **Compute_full_tree:**‘auto ’or bool, default =’ auto ’\n",
    "Detenga antes la construcción del árbol en n_clusters. Esto es útil para reducir el tiempo de cálculo si el número de conglomerados no es pequeño en comparación con el número de muestras. Esta opción es útil solo cuando se especifica una matriz de conectividad. Tenga en cuenta también que al variar el número de clústeres y utilizar el almacenamiento en caché, puede resultar ventajoso calcular el árbol completo. Debe ser True si distance_threshold no es None. Por defecto, compute_full_tree es \"auto\", que es equivalente a True cuando distance_threshold no es None o que n_clusters es inferior al máximo entre 100 o 0.02 * n_samples. De lo contrario, \"auto\" es equivalente a False.\n",
    "\n",
    "* **linkage:** {“ward”, “complete”, “average”, “single”}, predeterminado = “ward”\n",
    "Qué criterio de vinculación utilizar. El criterio de vinculación determina qué distancia utilizar entre conjuntos de observación. El algoritmo fusionará los pares de clústeres que minimicen este criterio.\n",
    "    + **Ward:** minimiza la variación de los grupos que se fusionan.\n",
    "    + **Average:** promedio utiliza el promedio de las distancias de cada observación de los dos conjuntos.\n",
    "    + **Complete:** completo o máximo utiliza las distancias máximas entre todas las observaciones de los dos conjuntos.\n",
    "    + **Single:** utiliza el mínimo de las distancias entre todas las observaciones de los dos conjuntos.\n",
    "\n",
    "Nuevo en la versión 0.20: se agregó la opción \"single\"\n",
    "\n",
    "* **distance_threshold:** float, predeterminado = Ninguno\n",
    "El umbral de distancia de vinculación por encima del cual no se fusionarán los grupos. Si no es None, n_clusters debe ser None y compute_full_tree debe ser True.\n",
    "\n",
    "Nuevo en la versión 0.21."
   ]
  },
  {
   "cell_type": "code",
   "execution_count": 1,
   "metadata": {},
   "outputs": [
    {
     "name": "stdout",
     "output_type": "stream",
     "text": [
      "C:\\Users\\susan\n",
      "     Age  Incomes (k$)\n",
      "0     19            15\n",
      "1     21            15\n",
      "2     20            16\n",
      "3     23            16\n",
      "4     31            17\n",
      "..   ...           ...\n",
      "195   35           120\n",
      "196   45           126\n",
      "197   32           126\n",
      "198   32           137\n",
      "199   30           137\n",
      "\n",
      "[200 rows x 2 columns]\n"
     ]
    },
    {
     "data": {
      "image/png": "[encoded data removed]",
      "text/plain": [
       "<Figure size 432x288 with 1 Axes>"
      ]
     },
     "metadata": {
      "needs_background": "light"
     },
     "output_type": "display_data"
    }
   ],
   "source": [
    "# Clustering Jerárquico\n",
    "# Importacion de librerias\n",
    "import numpy as np\n",
    "import matplotlib.pyplot as plt\n",
    "import pandas as pd\n",
    "import csv\n",
    "import os\n",
    "print(os.getcwd())\n",
    "\n",
    "# Carga del conjunto de datos\n",
    "clientes = pd.read_csv(\"Mall_Customers2.csv\",delimiter=\";\")\n",
    "print(clientes)\n",
    "\n",
    "# Creamos el dendograma para encontrar el número óptimo de clusters\n",
    "\n",
    "import scipy.cluster.hierarchy as sch\n",
    "dendrogram = sch.dendrogram(sch.linkage(clientes, method = 'ward'))\n",
    "\n",
    "plt.title('Dendograma')\n",
    "plt.xlabel('Clientes')\n",
    "plt.ylabel('Distancias Euclidianas')\n",
    "plt.show()"
   ]
  },
  {
   "cell_type": "code",
   "execution_count": null,
   "metadata": {},
   "outputs": [],
   "source": []
  }
 ],
 "metadata": {
  "kernelspec": {
   "display_name": "Python 3 (ipykernel)",
   "language": "python",
   "name": "python3"
  },
  "language_info": {
   "codemirror_mode": {
    "name": "ipython",
    "version": 3
   },
   "file_extension": ".py",
   "mimetype": "text/x-python",
   "name": "python",
   "nbconvert_exporter": "python",
   "pygments_lexer": "ipython3",
   "version": "3.9.7"
  }
 },
 "nbformat": 4,
 "nbformat_minor": 4
}
